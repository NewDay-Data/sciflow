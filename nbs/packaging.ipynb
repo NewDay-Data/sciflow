{
 "cells": [
  {
   "cell_type": "raw",
   "metadata": {},
   "source": [
    "---\n",
    "description: Package management can be challenging for Data Science workflows. Many\n",
    "  enterprises will not be able to publish all their packages to public repositories\n",
    "  like pypi or conda. Different stages of the Data Science lifecycle require different\n",
    "  capabilities with respect to library management. Early stage research values flexibility\n",
    "  and the ability to add the latest packages on the fly. Production models want reliability\n",
    "  and known, fixed dependencies. This module aims to make it easier to meet these\n",
    "  goals.\n",
    "output-file: packaging.html\n",
    "title: Simplified conda & pip packaging & deployment\n",
    "\n",
    "---\n",
    "\n"
   ]
  },
  {
   "cell_type": "code",
   "execution_count": 2,
   "metadata": {
    "tags": []
   },
   "outputs": [],
   "source": [
    "# | default_exp packaging"
   ]
  },
  {
   "cell_type": "code",
   "execution_count": 3,
   "metadata": {
    "tags": []
   },
   "outputs": [],
   "source": [
    "# | export\n",
    "\n",
    "import os\n",
    "import subprocess\n",
    "import sys\n",
    "from configparser import ConfigParser\n",
    "from pathlib import Path\n",
    "from typing import List\n",
    "from urllib.parse import urlparse\n",
    "\n",
    "import yaml\n",
    "from fastcore.script import call_parse\n",
    "from nbdev.export import get_config"
   ]
  },
  {
   "cell_type": "code",
   "execution_count": 4,
   "metadata": {
    "tags": []
   },
   "outputs": [],
   "source": [
    "%load_ext autoreload\n",
    "%autoreload 2"
   ]
  },
  {
   "cell_type": "code",
   "execution_count": 5,
   "metadata": {
    "tags": []
   },
   "outputs": [],
   "source": [
    "# | export\n",
    "\n",
    "\n",
    "def reqs_file_to_sep_str(pip_reqs_path: Path) -> str:\n",
    "    with open(pip_reqs_path, \"r\") as pip_reqs_file:\n",
    "        lines = pip_reqs_file.readlines()\n",
    "    return reqs_lines_to_sep_str(lines)"
   ]
  },
  {
   "cell_type": "code",
   "execution_count": 6,
   "metadata": {
    "tags": []
   },
   "outputs": [],
   "source": [
    "# | export\n",
    "\n",
    "\n",
    "def run_py_module(command, args, env=None):\n",
    "    output = subprocess.run(\n",
    "        [sys.executable, \"-m\", command, *(str(i).strip() for i in args)],\n",
    "        stderr=subprocess.PIPE,\n",
    "        stdout=subprocess.PIPE,\n",
    "        env=env,\n",
    "        universal_newlines=True,\n",
    "    )\n",
    "\n",
    "    output_code = output.returncode\n",
    "    output.stdout\n",
    "    err = output.stderr\n",
    "\n",
    "    if output_code != 0:\n",
    "        raise EnvironmentError(err)\n",
    "    return output_code"
   ]
  },
  {
   "cell_type": "code",
   "execution_count": 37,
   "metadata": {
    "tags": []
   },
   "outputs": [],
   "source": [
    "# | export\n",
    "\n",
    "\n",
    "def determine_dependencies(\n",
    "    out_dir: Path = None, generated_pip_file_name: str = \"requirements-generated.txt\"\n",
    "):\n",
    "    try:\n",
    "        import pigar\n",
    "    except:\n",
    "        print(\"Pigar dependency is not installed - not able to determine dependencies\")\n",
    "        return\n",
    "    lib_path = get_config().path(\"lib_path\")\n",
    "    if out_dir is None:\n",
    "        out_dir = lib_path.resolve().parent\n",
    "\n",
    "    command = \"pigar\"\n",
    "    args = [\"generate\", \"-f\", str(Path(out_dir, generated_pip_file_name))]\n",
    "\n",
    "    run_py_module(command, args)\n",
    "\n",
    "    return reqs_file_to_sep_str(os.path.join(out_dir, generated_pip_file_name))"
   ]
  },
  {
   "cell_type": "code",
   "execution_count": 38,
   "metadata": {
    "tags": []
   },
   "outputs": [],
   "source": [
    "# | export\n",
    "\n",
    "\n",
    "def reqs_lines_to_sep_str(req_lines: List[str], sep: str = \" \"):\n",
    "    return \" \".join(\n",
    "        [\n",
    "            l.replace(\" \", \"\").strip()\n",
    "            for l in req_lines\n",
    "            if not l.startswith(\"#\") and len(l.strip()) > 0\n",
    "        ]\n",
    "    )"
   ]
  },
  {
   "cell_type": "code",
   "execution_count": 39,
   "metadata": {
    "tags": []
   },
   "outputs": [],
   "source": [
    "test_dir = Path(\"test\").resolve()\n",
    "generated_reqs_path = os.path.join(test_dir, \"requirements-generated.txt\")\n",
    "if os.path.exists(generated_reqs_path):\n",
    "    os.remove(generated_reqs_path)\n",
    "assert not os.path.exists(generated_reqs_path)\n",
    "determine_dependencies(out_dir=test_dir)\n",
    "assert os.path.exists(generated_reqs_path)\n",
    "os.remove(generated_reqs_path)"
   ]
  },
  {
   "cell_type": "markdown",
   "metadata": {},
   "source": [
    "# Requirement.txt Manipulation\n",
    "\n",
    "> Read pip requirements file and convert to a structure that can be used to transform that output to a different format.\n",
    "\n",
    "For more information see here:\n",
    "\n",
    "https://www.python.org/dev/peps/pep-0440/#version-specifiers"
   ]
  },
  {
   "cell_type": "code",
   "execution_count": 40,
   "metadata": {
    "tags": []
   },
   "outputs": [],
   "source": [
    "test_lines = (\n",
    "    \"fastcore == 1.3.19\",\n",
    "    \"\\n\",\n",
    "    \"#\",\n",
    "    \"nbformat >= 5.0.8\",\n",
    "    \"# scidev/nb_lint.py: 10,11,12\",\n",
    "    \"nbqa ~= 0.5.6\",\n",
    "    \"nbqa <=0.5.6\",\n",
    ")"
   ]
  },
  {
   "cell_type": "code",
   "execution_count": 41,
   "metadata": {
    "tags": []
   },
   "outputs": [],
   "source": [
    "assert (\n",
    "    \"fastcore==1.3.19 nbformat>=5.0.8 nbqa~=0.5.6 \"\n",
    "    \"nbqa<=0.5.6\" == reqs_lines_to_sep_str(test_lines)\n",
    ")"
   ]
  },
  {
   "cell_type": "code",
   "execution_count": 42,
   "metadata": {
    "tags": []
   },
   "outputs": [],
   "source": [
    "determine_dependencies(out_dir=test_dir)\n",
    "reqs_str = reqs_file_to_sep_str(generated_reqs_path)\n",
    "os.remove(generated_reqs_path)"
   ]
  },
  {
   "cell_type": "code",
   "execution_count": 43,
   "metadata": {
    "tags": []
   },
   "outputs": [],
   "source": [
    "# | export\n",
    "\n",
    "\n",
    "def update_requirements(\n",
    "    project_dir: Path = None, output_filename: str = \"settings.ini\"\n",
    "):\n",
    "    if project_dir is None:\n",
    "        lib_path = get_config().path(\"lib_path\")\n",
    "        project_dir = lib_path.resolve().parent\n",
    "\n",
    "    config = ConfigParser(delimiters=[\"=\"])\n",
    "    settings_path = os.path.join(project_dir, \"settings.ini\")\n",
    "    config.read(settings_path)\n",
    "\n",
    "    os.path.join(project_dir, \"requirements-generated.txt\")\n",
    "    reqs_str = determine_dependencies(out_dir=project_dir)\n",
    "\n",
    "    out_path = os.path.join(project_dir, output_filename)\n",
    "    config.set(\"DEFAULT\", \"requirements\", reqs_str)\n",
    "\n",
    "    with open(out_path, \"w\") as configfile:\n",
    "        config.write(configfile)"
   ]
  },
  {
   "cell_type": "code",
   "execution_count": 44,
   "metadata": {
    "tags": []
   },
   "outputs": [],
   "source": [
    "determine_dependencies(out_dir=test_dir)\n",
    "update_requirements(test_dir)"
   ]
  },
  {
   "cell_type": "code",
   "execution_count": 45,
   "metadata": {
    "tags": []
   },
   "outputs": [],
   "source": [
    "config = ConfigParser(delimiters=[\"=\"])\n",
    "test_config_file = os.path.join(test_dir, \"settings.ini\")\n",
    "config.read(test_config_file)\n",
    "assert \"nbdev\" in config.get(\"DEFAULT\", \"requirements\")"
   ]
  },
  {
   "cell_type": "code",
   "execution_count": 46,
   "metadata": {
    "tags": []
   },
   "outputs": [],
   "source": [
    "required_keys = (\n",
    "    \"lib_name\",\n",
    "    \"description\",\n",
    "    \"version\",\n",
    "    \"custom_sidebar\",\n",
    "    \"license\",\n",
    "    \"status\",\n",
    "    \"console_scripts\",\n",
    "    \"nbs_path\",\n",
    "    \"lib_path\",\n",
    "    \"title\",\n",
    "    \"tst_flags\",\n",
    ")"
   ]
  },
  {
   "cell_type": "code",
   "execution_count": 47,
   "metadata": {
    "tags": []
   },
   "outputs": [],
   "source": [
    "assert all([config.get(\"DEFAULT\", k) is not None for k in required_keys])"
   ]
  },
  {
   "cell_type": "markdown",
   "metadata": {},
   "source": [
    "# Create conda build file"
   ]
  },
  {
   "cell_type": "code",
   "execution_count": 48,
   "metadata": {
    "tags": []
   },
   "outputs": [],
   "source": [
    "# | export\n",
    "\n",
    "\n",
    "def create_conda_meta_file(project_dir: Path = None, out_file: str = \"meta.yaml\"):\n",
    "    if project_dir is None:\n",
    "        lib_path = get_config().path(\"lib_path\")\n",
    "        project_dir = lib_path.resolve().parent\n",
    "\n",
    "    meta_data = {\n",
    "        \"package\": {\n",
    "            \"name\": get_config().get(\"lib_name\"),\n",
    "            \"version\": get_config().get(\"version\"),\n",
    "        },\n",
    "        \"source\": {\"path\": str(get_config().path(\"lib_path\").resolve().parent)},\n",
    "        \"requirements\": {\n",
    "            \"host\": [\"pip\", \"python\", \"setuptools\"],\n",
    "            \"run\": determine_dependencies(out_dir=project_dir).split(\" \"),\n",
    "        },\n",
    "    }\n",
    "    with open(os.path.join(project_dir, out_file), \"w\") as conda_build_file:\n",
    "        yaml.dump(meta_data, conda_build_file)"
   ]
  },
  {
   "cell_type": "code",
   "execution_count": 49,
   "metadata": {
    "tags": []
   },
   "outputs": [],
   "source": [
    "create_conda_meta_file(Path(\"test\"))"
   ]
  },
  {
   "cell_type": "markdown",
   "metadata": {},
   "source": [
    "# Update All Project Requirements"
   ]
  },
  {
   "cell_type": "code",
   "execution_count": 50,
   "metadata": {
    "tags": []
   },
   "outputs": [],
   "source": [
    "# | export\n",
    "\n",
    "\n",
    "@call_parse\n",
    "def sciflow_update_reqs():\n",
    "    create_conda_meta_file()\n",
    "    update_requirements()\n",
    "    print(\"Updated library requirements for conda & nbdev\")"
   ]
  },
  {
   "cell_type": "markdown",
   "metadata": {},
   "source": [
    "This code does not work as expected the pigar library seems to have limitations in practice for determining all dependencies making this route not viable just yet."
   ]
  },
  {
   "cell_type": "markdown",
   "metadata": {},
   "source": [
    "# Prepare Artifactory Environment\n",
    "\n",
    "> This code should be in projects not here."
   ]
  },
  {
   "cell_type": "code",
   "execution_count": 51,
   "metadata": {
    "tags": []
   },
   "outputs": [],
   "source": [
    "# | export\n",
    "\n",
    "\n",
    "def delete_multiple_element(list_object, indices):\n",
    "    indices = sorted(indices, reverse=True)\n",
    "    for idx in indices:\n",
    "        if idx < len(list_object):\n",
    "            list_object.pop(idx)"
   ]
  },
  {
   "cell_type": "code",
   "execution_count": 52,
   "metadata": {
    "tags": []
   },
   "outputs": [],
   "source": [
    "# | export\n",
    "\n",
    "\n",
    "def read_deploy_vars():\n",
    "    with open(os.path.join(Path.home(), \".condarc\"), \"r\") as conda_rc_file:\n",
    "        conda_rc = yaml.load(conda_rc_file, Loader=yaml.FullLoader)\n",
    "        conda_url = conda_rc[\"channels\"][0]\n",
    "    deployment = {\n",
    "        \"conda_url\": conda_url,\n",
    "        \"artifactory_user\": urlparse(conda_url).netloc.split(\":\")[0],\n",
    "        \"artifactory_token\": urlparse(conda_url).netloc.split(\":\")[1].split(\"@\")[0],\n",
    "        \"artifactory_url\": urlparse(conda_url).netloc.split(\":\")[1].split(\"@\")[1],\n",
    "        \"artifactory_conda_channel\": \"conda-local\",\n",
    "        \"lib_name\": get_config().get(\"lib_name\"),\n",
    "        \"version\": get_config().get(\"version\"),\n",
    "        \"build_number\": 0,\n",
    "    }\n",
    "    return deployment"
   ]
  },
  {
   "cell_type": "code",
   "execution_count": 53,
   "metadata": {
    "tags": []
   },
   "outputs": [],
   "source": [
    "deploy_vars = read_deploy_vars()\n",
    "assert deploy_vars[\"lib_name\"] == \"sciflow\""
   ]
  },
  {
   "cell_type": "code",
   "execution_count": 54,
   "metadata": {
    "tags": []
   },
   "outputs": [],
   "source": [
    "# | export\n",
    "\n",
    "\n",
    "def write_art_conda_envs_to_file():\n",
    "    dep_vars = read_deploy_vars()\n",
    "\n",
    "    with open(os.path.join(Path.home(), \".profile\"), \"r\") as profile_file:\n",
    "        existing_lines = profile_file.readlines()\n",
    "        to_remove = []\n",
    "        for i, line in enumerate(existing_lines):\n",
    "            if (\n",
    "                line.strip().startswith(\"export ARTIFACTORY_\")\n",
    "                or line.strip().startswith(\"export LIB_NAME\")\n",
    "                or line.strip().startswith(\"export VERSION\")\n",
    "                or line.strip().startswith(\"export BUILD_NUMBER\")\n",
    "            ):\n",
    "                to_remove.append(i)\n",
    "            if not line.endswith(\"\\n\"):\n",
    "                existing_lines[i] = line + \"\\n\"\n",
    "        delete_multiple_element(existing_lines, to_remove)\n",
    "\n",
    "    with open(os.path.join(Path.home(), \".profile\"), \"w\") as profile_file:\n",
    "        new_lines = [\n",
    "            \"export ARTIFACTORY_USER={artifactory_user}\\n\".format(**dep_vars),\n",
    "            \"export ARTIFACTORY_PASSWORD={artifactory_token}\\n\".format(**dep_vars),\n",
    "            \"export ARTIFACTORY_URL={artifactory_url}\\n\".format(**dep_vars),\n",
    "            \"export ARTIFACTORY_CONDA_CHANNEL={artifactory_conda_channel}\\n\".format(\n",
    "                **dep_vars\n",
    "            ),\n",
    "            \"export LIB_NAME={lib_name}\\n\".format(**dep_vars),\n",
    "            \"export VERSION={version}\\n\".format(**dep_vars),\n",
    "            \"export BUILD_NUMBER={build_number}\\n\".format(**dep_vars),\n",
    "        ]\n",
    "        existing_lines.extend(new_lines)\n",
    "        profile_file.writelines(existing_lines)\n",
    "    return existing_lines"
   ]
  },
  {
   "cell_type": "code",
   "execution_count": 55,
   "metadata": {
    "tags": []
   },
   "outputs": [],
   "source": [
    "lines = write_art_conda_envs_to_file()"
   ]
  },
  {
   "cell_type": "code",
   "execution_count": 56,
   "metadata": {
    "tags": []
   },
   "outputs": [],
   "source": [
    "assert len(lines) >= 7"
   ]
  },
  {
   "cell_type": "code",
   "execution_count": 57,
   "metadata": {
    "tags": []
   },
   "outputs": [],
   "source": [
    "# | export\n",
    "\n",
    "\n",
    "@call_parse\n",
    "def sciflow_prepare():\n",
    "    dep_vars = read_deploy_vars()\n",
    "\n",
    "    for dep_key in dep_vars.keys():\n",
    "        os.environ[dep_key.upper()] = str(dep_vars[dep_key])"
   ]
  },
  {
   "cell_type": "code",
   "execution_count": 58,
   "metadata": {
    "tags": []
   },
   "outputs": [],
   "source": [
    "if \"ARTIFACTORY_CONDA_CHANNEL\" in os.environ:\n",
    "    del os.environ[\"ARTIFACTORY_CONDA_CHANNEL\"]"
   ]
  },
  {
   "cell_type": "code",
   "execution_count": 59,
   "metadata": {
    "tags": []
   },
   "outputs": [],
   "source": [
    "sciflow_prepare()"
   ]
  },
  {
   "cell_type": "code",
   "execution_count": 60,
   "metadata": {
    "tags": []
   },
   "outputs": [],
   "source": [
    "assert \"conda-local\" == os.environ[\"ARTIFACTORY_CONDA_CHANNEL\"]"
   ]
  },
  {
   "cell_type": "code",
   "execution_count": 61,
   "metadata": {
    "tags": []
   },
   "outputs": [
    {
     "data": {
      "text/plain": [
       "environ{'MAMBA_USER_GID': '57439',\n",
       "        'REGION_NAME': 'eu-west-1',\n",
       "        'HOSTNAME': 'sagemaker-distribution-ml-m5-large-91cc60800b4f728f1fcc6d84329a',\n",
       "        'ENV_NAME': 'base',\n",
       "        'HOME': '/home/sagemaker-user',\n",
       "        'MAMBA_USER': 'sagemaker-user',\n",
       "        'MAMBA_USER_ID': '57439',\n",
       "        'AWS_CONTAINER_CREDENTIALS_RELATIVE_URI': '/_sagemaker-instance-credentials/a0a5b692448469dacfecfb048eeb459258b9a2da6a0b1198bd05313b52eff277',\n",
       "        'PYTHONNOUSERSITE': '0',\n",
       "        'AWS_DEFAULT_REGION': 'eu-west-1',\n",
       "        'PATH': '/opt/conda/bin:/opt/conda/condabin:/usr/local/sbin:/usr/local/bin:/usr/sbin:/usr/bin:/sbin:/bin:/tmp/miniconda3/condabin:/tmp/anaconda3/condabin:/tmp/miniconda2/condabin:/tmp/anaconda2/condabin:/tmp/mambaforge/condabin',\n",
       "        'MAMBA_ROOT_PREFIX': '/opt/conda',\n",
       "        'LANG': 'C.UTF-8',\n",
       "        'AWS_ACCOUNT_ID': '823878111748',\n",
       "        'SHELL': '/bin/bash',\n",
       "        'AWS_REGION': 'eu-west-1',\n",
       "        'AWS_INTERNAL_IMAGE_OWNER': 'Studio',\n",
       "        'MAMBA_EXE': '/bin/micromamba',\n",
       "        'LC_ALL': 'C.UTF-8',\n",
       "        'PWD': '/home/sagemaker-user',\n",
       "        'AWS_SAGEMAKER_PYTHONNOUSERSITE': '0',\n",
       "        'SAGEMAKER_LOG_FILE': '/var/log/studio/kernel_gateway.log',\n",
       "        'SAGEMAKER_INTERNAL_IMAGE_URI': '819792524951.dkr.ecr.eu-west-1.amazonaws.com/sagemaker-distribution-prod@sha256:7c6b7a208f61e208ffee9bf46f4bfa6cad6a8220997b1936250c162c820c912f',\n",
       "        'JUPYTER_PATH': '/opt/conda/share/jupyter/',\n",
       "        'KERNEL_LAUNCH_TIMEOUT': '40',\n",
       "        'PYDEVD_USE_FRAME_EVAL': 'NO',\n",
       "        'KERNEL_WORKING_PATH': 'git/sciflow/nbs',\n",
       "        'KERNEL_GATEWAY': '1',\n",
       "        'JPY_PARENT_PID': '8',\n",
       "        'TERM': 'xterm-color',\n",
       "        'CLICOLOR': '1',\n",
       "        'FORCE_COLOR': '1',\n",
       "        'CLICOLOR_FORCE': '1',\n",
       "        'PAGER': 'cat',\n",
       "        'GIT_PAGER': 'cat',\n",
       "        'MPLBACKEND': 'module://matplotlib_inline.backend_inline',\n",
       "        'CONDA_URL': 'https://nexus_eut_svc:AKCp8hzCxcyh1Uh9s4LMNZKmEHY1V4jwUhfqRsEUvdvMNZKhyncwt8MTtzwaq2rZkhx6dxW3e@ndartifactory.pe.jfrog.io/artifactory/api/conda/conda',\n",
       "        'ARTIFACTORY_USER': 'nexus_eut_svc',\n",
       "        'ARTIFACTORY_TOKEN': 'AKCp8hzCxcyh1Uh9s4LMNZKmEHY1V4jwUhfqRsEUvdvMNZKhyncwt8MTtzwaq2rZkhx6dxW3e',\n",
       "        'ARTIFACTORY_URL': 'ndartifactory.pe.jfrog.io',\n",
       "        'LIB_NAME': 'sciflow',\n",
       "        'VERSION': '0.0.1',\n",
       "        'BUILD_NUMBER': '0',\n",
       "        'ARTIFACTORY_CONDA_CHANNEL': 'conda-local'}"
      ]
     },
     "execution_count": 61,
     "metadata": {},
     "output_type": "execute_result"
    }
   ],
   "source": [
    "os.environ"
   ]
  }
 ],
 "metadata": {
  "availableInstances": [
   {
    "_defaultOrder": 0,
    "_isFastLaunch": true,
    "category": "General purpose",
    "gpuNum": 0,
    "hideHardwareSpecs": false,
    "memoryGiB": 4,
    "name": "ml.t3.medium",
    "vcpuNum": 2
   },
   {
    "_defaultOrder": 1,
    "_isFastLaunch": false,
    "category": "General purpose",
    "gpuNum": 0,
    "hideHardwareSpecs": false,
    "memoryGiB": 8,
    "name": "ml.t3.large",
    "vcpuNum": 2
   },
   {
    "_defaultOrder": 2,
    "_isFastLaunch": false,
    "category": "General purpose",
    "gpuNum": 0,
    "hideHardwareSpecs": false,
    "memoryGiB": 16,
    "name": "ml.t3.xlarge",
    "vcpuNum": 4
   },
   {
    "_defaultOrder": 3,
    "_isFastLaunch": false,
    "category": "General purpose",
    "gpuNum": 0,
    "hideHardwareSpecs": false,
    "memoryGiB": 32,
    "name": "ml.t3.2xlarge",
    "vcpuNum": 8
   },
   {
    "_defaultOrder": 4,
    "_isFastLaunch": true,
    "category": "General purpose",
    "gpuNum": 0,
    "hideHardwareSpecs": false,
    "memoryGiB": 8,
    "name": "ml.m5.large",
    "vcpuNum": 2
   },
   {
    "_defaultOrder": 5,
    "_isFastLaunch": false,
    "category": "General purpose",
    "gpuNum": 0,
    "hideHardwareSpecs": false,
    "memoryGiB": 16,
    "name": "ml.m5.xlarge",
    "vcpuNum": 4
   },
   {
    "_defaultOrder": 6,
    "_isFastLaunch": false,
    "category": "General purpose",
    "gpuNum": 0,
    "hideHardwareSpecs": false,
    "memoryGiB": 32,
    "name": "ml.m5.2xlarge",
    "vcpuNum": 8
   },
   {
    "_defaultOrder": 7,
    "_isFastLaunch": false,
    "category": "General purpose",
    "gpuNum": 0,
    "hideHardwareSpecs": false,
    "memoryGiB": 64,
    "name": "ml.m5.4xlarge",
    "vcpuNum": 16
   },
   {
    "_defaultOrder": 8,
    "_isFastLaunch": false,
    "category": "General purpose",
    "gpuNum": 0,
    "hideHardwareSpecs": false,
    "memoryGiB": 128,
    "name": "ml.m5.8xlarge",
    "vcpuNum": 32
   },
   {
    "_defaultOrder": 9,
    "_isFastLaunch": false,
    "category": "General purpose",
    "gpuNum": 0,
    "hideHardwareSpecs": false,
    "memoryGiB": 192,
    "name": "ml.m5.12xlarge",
    "vcpuNum": 48
   },
   {
    "_defaultOrder": 10,
    "_isFastLaunch": false,
    "category": "General purpose",
    "gpuNum": 0,
    "hideHardwareSpecs": false,
    "memoryGiB": 256,
    "name": "ml.m5.16xlarge",
    "vcpuNum": 64
   },
   {
    "_defaultOrder": 11,
    "_isFastLaunch": false,
    "category": "General purpose",
    "gpuNum": 0,
    "hideHardwareSpecs": false,
    "memoryGiB": 384,
    "name": "ml.m5.24xlarge",
    "vcpuNum": 96
   },
   {
    "_defaultOrder": 12,
    "_isFastLaunch": false,
    "category": "General purpose",
    "gpuNum": 0,
    "hideHardwareSpecs": false,
    "memoryGiB": 8,
    "name": "ml.m5d.large",
    "vcpuNum": 2
   },
   {
    "_defaultOrder": 13,
    "_isFastLaunch": false,
    "category": "General purpose",
    "gpuNum": 0,
    "hideHardwareSpecs": false,
    "memoryGiB": 16,
    "name": "ml.m5d.xlarge",
    "vcpuNum": 4
   },
   {
    "_defaultOrder": 14,
    "_isFastLaunch": false,
    "category": "General purpose",
    "gpuNum": 0,
    "hideHardwareSpecs": false,
    "memoryGiB": 32,
    "name": "ml.m5d.2xlarge",
    "vcpuNum": 8
   },
   {
    "_defaultOrder": 15,
    "_isFastLaunch": false,
    "category": "General purpose",
    "gpuNum": 0,
    "hideHardwareSpecs": false,
    "memoryGiB": 64,
    "name": "ml.m5d.4xlarge",
    "vcpuNum": 16
   },
   {
    "_defaultOrder": 16,
    "_isFastLaunch": false,
    "category": "General purpose",
    "gpuNum": 0,
    "hideHardwareSpecs": false,
    "memoryGiB": 128,
    "name": "ml.m5d.8xlarge",
    "vcpuNum": 32
   },
   {
    "_defaultOrder": 17,
    "_isFastLaunch": false,
    "category": "General purpose",
    "gpuNum": 0,
    "hideHardwareSpecs": false,
    "memoryGiB": 192,
    "name": "ml.m5d.12xlarge",
    "vcpuNum": 48
   },
   {
    "_defaultOrder": 18,
    "_isFastLaunch": false,
    "category": "General purpose",
    "gpuNum": 0,
    "hideHardwareSpecs": false,
    "memoryGiB": 256,
    "name": "ml.m5d.16xlarge",
    "vcpuNum": 64
   },
   {
    "_defaultOrder": 19,
    "_isFastLaunch": false,
    "category": "General purpose",
    "gpuNum": 0,
    "hideHardwareSpecs": false,
    "memoryGiB": 384,
    "name": "ml.m5d.24xlarge",
    "vcpuNum": 96
   },
   {
    "_defaultOrder": 20,
    "_isFastLaunch": false,
    "category": "General purpose",
    "gpuNum": 0,
    "hideHardwareSpecs": true,
    "memoryGiB": 0,
    "name": "ml.geospatial.interactive",
    "supportedImageNames": [
     "sagemaker-geospatial-v1-0"
    ],
    "vcpuNum": 0
   },
   {
    "_defaultOrder": 21,
    "_isFastLaunch": true,
    "category": "Compute optimized",
    "gpuNum": 0,
    "hideHardwareSpecs": false,
    "memoryGiB": 4,
    "name": "ml.c5.large",
    "vcpuNum": 2
   },
   {
    "_defaultOrder": 22,
    "_isFastLaunch": false,
    "category": "Compute optimized",
    "gpuNum": 0,
    "hideHardwareSpecs": false,
    "memoryGiB": 8,
    "name": "ml.c5.xlarge",
    "vcpuNum": 4
   },
   {
    "_defaultOrder": 23,
    "_isFastLaunch": false,
    "category": "Compute optimized",
    "gpuNum": 0,
    "hideHardwareSpecs": false,
    "memoryGiB": 16,
    "name": "ml.c5.2xlarge",
    "vcpuNum": 8
   },
   {
    "_defaultOrder": 24,
    "_isFastLaunch": false,
    "category": "Compute optimized",
    "gpuNum": 0,
    "hideHardwareSpecs": false,
    "memoryGiB": 32,
    "name": "ml.c5.4xlarge",
    "vcpuNum": 16
   },
   {
    "_defaultOrder": 25,
    "_isFastLaunch": false,
    "category": "Compute optimized",
    "gpuNum": 0,
    "hideHardwareSpecs": false,
    "memoryGiB": 72,
    "name": "ml.c5.9xlarge",
    "vcpuNum": 36
   },
   {
    "_defaultOrder": 26,
    "_isFastLaunch": false,
    "category": "Compute optimized",
    "gpuNum": 0,
    "hideHardwareSpecs": false,
    "memoryGiB": 96,
    "name": "ml.c5.12xlarge",
    "vcpuNum": 48
   },
   {
    "_defaultOrder": 27,
    "_isFastLaunch": false,
    "category": "Compute optimized",
    "gpuNum": 0,
    "hideHardwareSpecs": false,
    "memoryGiB": 144,
    "name": "ml.c5.18xlarge",
    "vcpuNum": 72
   },
   {
    "_defaultOrder": 28,
    "_isFastLaunch": false,
    "category": "Compute optimized",
    "gpuNum": 0,
    "hideHardwareSpecs": false,
    "memoryGiB": 192,
    "name": "ml.c5.24xlarge",
    "vcpuNum": 96
   },
   {
    "_defaultOrder": 29,
    "_isFastLaunch": true,
    "category": "Accelerated computing",
    "gpuNum": 1,
    "hideHardwareSpecs": false,
    "memoryGiB": 16,
    "name": "ml.g4dn.xlarge",
    "vcpuNum": 4
   },
   {
    "_defaultOrder": 30,
    "_isFastLaunch": false,
    "category": "Accelerated computing",
    "gpuNum": 1,
    "hideHardwareSpecs": false,
    "memoryGiB": 32,
    "name": "ml.g4dn.2xlarge",
    "vcpuNum": 8
   },
   {
    "_defaultOrder": 31,
    "_isFastLaunch": false,
    "category": "Accelerated computing",
    "gpuNum": 1,
    "hideHardwareSpecs": false,
    "memoryGiB": 64,
    "name": "ml.g4dn.4xlarge",
    "vcpuNum": 16
   },
   {
    "_defaultOrder": 32,
    "_isFastLaunch": false,
    "category": "Accelerated computing",
    "gpuNum": 1,
    "hideHardwareSpecs": false,
    "memoryGiB": 128,
    "name": "ml.g4dn.8xlarge",
    "vcpuNum": 32
   },
   {
    "_defaultOrder": 33,
    "_isFastLaunch": false,
    "category": "Accelerated computing",
    "gpuNum": 4,
    "hideHardwareSpecs": false,
    "memoryGiB": 192,
    "name": "ml.g4dn.12xlarge",
    "vcpuNum": 48
   },
   {
    "_defaultOrder": 34,
    "_isFastLaunch": false,
    "category": "Accelerated computing",
    "gpuNum": 1,
    "hideHardwareSpecs": false,
    "memoryGiB": 256,
    "name": "ml.g4dn.16xlarge",
    "vcpuNum": 64
   },
   {
    "_defaultOrder": 35,
    "_isFastLaunch": false,
    "category": "Accelerated computing",
    "gpuNum": 1,
    "hideHardwareSpecs": false,
    "memoryGiB": 61,
    "name": "ml.p3.2xlarge",
    "vcpuNum": 8
   },
   {
    "_defaultOrder": 36,
    "_isFastLaunch": false,
    "category": "Accelerated computing",
    "gpuNum": 4,
    "hideHardwareSpecs": false,
    "memoryGiB": 244,
    "name": "ml.p3.8xlarge",
    "vcpuNum": 32
   },
   {
    "_defaultOrder": 37,
    "_isFastLaunch": false,
    "category": "Accelerated computing",
    "gpuNum": 8,
    "hideHardwareSpecs": false,
    "memoryGiB": 488,
    "name": "ml.p3.16xlarge",
    "vcpuNum": 64
   },
   {
    "_defaultOrder": 38,
    "_isFastLaunch": false,
    "category": "Accelerated computing",
    "gpuNum": 8,
    "hideHardwareSpecs": false,
    "memoryGiB": 768,
    "name": "ml.p3dn.24xlarge",
    "vcpuNum": 96
   },
   {
    "_defaultOrder": 39,
    "_isFastLaunch": false,
    "category": "Memory Optimized",
    "gpuNum": 0,
    "hideHardwareSpecs": false,
    "memoryGiB": 16,
    "name": "ml.r5.large",
    "vcpuNum": 2
   },
   {
    "_defaultOrder": 40,
    "_isFastLaunch": false,
    "category": "Memory Optimized",
    "gpuNum": 0,
    "hideHardwareSpecs": false,
    "memoryGiB": 32,
    "name": "ml.r5.xlarge",
    "vcpuNum": 4
   },
   {
    "_defaultOrder": 41,
    "_isFastLaunch": false,
    "category": "Memory Optimized",
    "gpuNum": 0,
    "hideHardwareSpecs": false,
    "memoryGiB": 64,
    "name": "ml.r5.2xlarge",
    "vcpuNum": 8
   },
   {
    "_defaultOrder": 42,
    "_isFastLaunch": false,
    "category": "Memory Optimized",
    "gpuNum": 0,
    "hideHardwareSpecs": false,
    "memoryGiB": 128,
    "name": "ml.r5.4xlarge",
    "vcpuNum": 16
   },
   {
    "_defaultOrder": 43,
    "_isFastLaunch": false,
    "category": "Memory Optimized",
    "gpuNum": 0,
    "hideHardwareSpecs": false,
    "memoryGiB": 256,
    "name": "ml.r5.8xlarge",
    "vcpuNum": 32
   },
   {
    "_defaultOrder": 44,
    "_isFastLaunch": false,
    "category": "Memory Optimized",
    "gpuNum": 0,
    "hideHardwareSpecs": false,
    "memoryGiB": 384,
    "name": "ml.r5.12xlarge",
    "vcpuNum": 48
   },
   {
    "_defaultOrder": 45,
    "_isFastLaunch": false,
    "category": "Memory Optimized",
    "gpuNum": 0,
    "hideHardwareSpecs": false,
    "memoryGiB": 512,
    "name": "ml.r5.16xlarge",
    "vcpuNum": 64
   },
   {
    "_defaultOrder": 46,
    "_isFastLaunch": false,
    "category": "Memory Optimized",
    "gpuNum": 0,
    "hideHardwareSpecs": false,
    "memoryGiB": 768,
    "name": "ml.r5.24xlarge",
    "vcpuNum": 96
   },
   {
    "_defaultOrder": 47,
    "_isFastLaunch": false,
    "category": "Accelerated computing",
    "gpuNum": 1,
    "hideHardwareSpecs": false,
    "memoryGiB": 16,
    "name": "ml.g5.xlarge",
    "vcpuNum": 4
   },
   {
    "_defaultOrder": 48,
    "_isFastLaunch": false,
    "category": "Accelerated computing",
    "gpuNum": 1,
    "hideHardwareSpecs": false,
    "memoryGiB": 32,
    "name": "ml.g5.2xlarge",
    "vcpuNum": 8
   },
   {
    "_defaultOrder": 49,
    "_isFastLaunch": false,
    "category": "Accelerated computing",
    "gpuNum": 1,
    "hideHardwareSpecs": false,
    "memoryGiB": 64,
    "name": "ml.g5.4xlarge",
    "vcpuNum": 16
   },
   {
    "_defaultOrder": 50,
    "_isFastLaunch": false,
    "category": "Accelerated computing",
    "gpuNum": 1,
    "hideHardwareSpecs": false,
    "memoryGiB": 128,
    "name": "ml.g5.8xlarge",
    "vcpuNum": 32
   },
   {
    "_defaultOrder": 51,
    "_isFastLaunch": false,
    "category": "Accelerated computing",
    "gpuNum": 1,
    "hideHardwareSpecs": false,
    "memoryGiB": 256,
    "name": "ml.g5.16xlarge",
    "vcpuNum": 64
   },
   {
    "_defaultOrder": 52,
    "_isFastLaunch": false,
    "category": "Accelerated computing",
    "gpuNum": 4,
    "hideHardwareSpecs": false,
    "memoryGiB": 192,
    "name": "ml.g5.12xlarge",
    "vcpuNum": 48
   },
   {
    "_defaultOrder": 53,
    "_isFastLaunch": false,
    "category": "Accelerated computing",
    "gpuNum": 4,
    "hideHardwareSpecs": false,
    "memoryGiB": 384,
    "name": "ml.g5.24xlarge",
    "vcpuNum": 96
   },
   {
    "_defaultOrder": 54,
    "_isFastLaunch": false,
    "category": "Accelerated computing",
    "gpuNum": 8,
    "hideHardwareSpecs": false,
    "memoryGiB": 768,
    "name": "ml.g5.48xlarge",
    "vcpuNum": 192
   },
   {
    "_defaultOrder": 55,
    "_isFastLaunch": false,
    "category": "Accelerated computing",
    "gpuNum": 8,
    "hideHardwareSpecs": false,
    "memoryGiB": 1152,
    "name": "ml.p4d.24xlarge",
    "vcpuNum": 96
   },
   {
    "_defaultOrder": 56,
    "_isFastLaunch": false,
    "category": "Accelerated computing",
    "gpuNum": 8,
    "hideHardwareSpecs": false,
    "memoryGiB": 1152,
    "name": "ml.p4de.24xlarge",
    "vcpuNum": 96
   }
  ],
  "instance_type": "ml.m5.large",
  "kernelspec": {
   "display_name": "Python 3 (SageMaker Distribution v0 CPU)",
   "language": "python",
   "name": "python3__SAGEMAKER_INTERNAL__arn:aws:sagemaker:eu-west-1:819792524951:image/sagemaker-distribution-cpu-v0"
  },
  "language_info": {
   "codemirror_mode": {
    "name": "ipython",
    "version": 3
   },
   "file_extension": ".py",
   "mimetype": "text/x-python",
   "name": "python",
   "nbconvert_exporter": "python",
   "pygments_lexer": "ipython3",
   "version": "3.8.17"
  }
 },
 "nbformat": 4,
 "nbformat_minor": 4
}
