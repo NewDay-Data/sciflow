{
 "cells": [
  {
   "cell_type": "code",
   "execution_count": 1,
   "metadata": {},
   "outputs": [],
   "source": [
    "# default_exp packaging"
   ]
  },
  {
   "cell_type": "markdown",
   "metadata": {},
   "source": [
    "# Simplified conda & pip packaging & deployment\n"
   ]
  },
  {
   "cell_type": "markdown",
   "metadata": {},
   "source": [
    "# Determine minimal dependencies\n",
    "\n",
    "* pipreqs: `pipreqs scidev --use-local`\n",
    "* [pigar](https://github.com/damnever/pigar): `pigar scidev`\n",
    "* TODO: add utility for conda\n",
    "\n",
    "Additions to `Makefile`\n",
    "```\n",
    "local_release: local_pip_release local_conda_release\n",
    "\tnbdev_bump_version\n",
    "    \n",
    "local_pip_release: clean\n",
    "    python setup.py bdist_wheel upload -r local\n",
    "    \n",
    "local_conda_release:\n",
    "    curl -4 -XPUT -u\"${ARTIFACTORY_USER}\":\"${ARTIFACTORY_PASSWORD}\" \"${bamboo_artifactory_url}/${CHANNEL}/linux-64/\" -T \"${OUTPUT_PATH}\"\n",
    "```"
   ]
  },
  {
   "cell_type": "markdown",
   "metadata": {},
   "source": [
    "# Artifactory Environment Variables for conda\n",
    "\n",
    "* export ARTIFACTORY_USER=..\n",
    "* export ARTIFACTORY_PASSWORD=..\n",
    "* export ARTIFACTORY_URL=ndartifactory.jfrog.io\n",
    "* export ARTIFACTORY_CONDA_CHANNEL=conda-local"
   ]
  },
  {
   "cell_type": "code",
   "execution_count": 45,
   "metadata": {},
   "outputs": [],
   "source": [
    "# export\n",
    "\n",
    "import os\n",
    "import subprocess\n",
    "import sys\n",
    "from pathlib import Path\n",
    "from typing import List\n",
    "\n",
    "from nbdev.export import Config"
   ]
  },
  {
   "cell_type": "code",
   "execution_count": null,
   "metadata": {},
   "outputs": [],
   "source": [
    "%load_ext autoreload\n",
    "%autoreload 2"
   ]
  },
  {
   "cell_type": "code",
   "execution_count": 4,
   "metadata": {},
   "outputs": [],
   "source": [
    "# Need to generate meta.yaml from settings.ini"
   ]
  },
  {
   "cell_type": "code",
   "execution_count": 24,
   "metadata": {},
   "outputs": [],
   "source": [
    "# export\n",
    "\n",
    "\n",
    "def determine_dependencies(generated_pip_file_name: str = \"requirements-generated.txt\"):\n",
    "    try:\n",
    "        pass\n",
    "    except:\n",
    "        print(\"Pigar dependency is not installed - not able to determine dependencies\")\n",
    "        return\n",
    "    lib_path = Config().path(\"lib_path\")\n",
    "    project_root = lib_path.resolve().parent\n",
    "    command = \"pigar\"\n",
    "    args = [\"-p\", generated_pip_file_name, \"-P\", lib_path]\n",
    "\n",
    "    output = subprocess.run(\n",
    "        [sys.executable, \"-m\", command, *(str(i).strip() for i in args)],\n",
    "        stderr=subprocess.PIPE,\n",
    "        stdout=subprocess.PIPE,\n",
    "        cwd=project_root,\n",
    "        env=None,\n",
    "        universal_newlines=True,\n",
    "    )\n",
    "\n",
    "    output_code = output.returncode\n",
    "\n",
    "    output.stdout\n",
    "    err = output.stderr\n",
    "\n",
    "    if output_code != 0:\n",
    "        raise (EnvironmentError(err))"
   ]
  },
  {
   "cell_type": "code",
   "execution_count": 27,
   "metadata": {},
   "outputs": [],
   "source": [
    "generated_reqs_path = os.path.join(\n",
    "    Path(\".\").resolve().parent, \"requirements-generated.txt\"\n",
    ")\n",
    "if os.path.exists(generated_reqs_path):\n",
    "    os.remove(generated_reqs_path)\n",
    "assert not os.path.exists(generated_reqs_path)\n",
    "determine_dependencies()\n",
    "assert os.path.exists(generated_reqs_path)\n",
    "os.remove(generated_reqs_path)"
   ]
  },
  {
   "cell_type": "markdown",
   "metadata": {},
   "source": [
    "# Requirement.txt Manipulation\n",
    "\n",
    "> Read pip requirements file and convert to a structure that can be used to transform that output to a different format.\n",
    "\n",
    "For more information see here:\n",
    "\n",
    "https://www.python.org/dev/peps/pep-0440/#version-specifiers"
   ]
  },
  {
   "cell_type": "code",
   "execution_count": 66,
   "metadata": {},
   "outputs": [],
   "source": [
    "test_lines = (\n",
    "    \"fastcore == 1.3.19\",\n",
    "    \"\\n\",\n",
    "    \"#\",\n",
    "    \"nbformat >= 5.0.8\",\n",
    "    \"# scidev/nb_lint.py: 10,11,12\",\n",
    "    \"nbqa ~= 0.5.6\",\n",
    "    \"nbqa <=0.5.6\",\n",
    ")"
   ]
  },
  {
   "cell_type": "code",
   "execution_count": 76,
   "metadata": {},
   "outputs": [],
   "source": [
    "def reqs_lines_to_sep_str(req_lines: List[str], sep: str = \" \"):\n",
    "    return \" \".join(\n",
    "        [\n",
    "            l.replace(\" \", \"\").strip()\n",
    "            for l in req_lines\n",
    "            if not l.startswith(\"#\") and len(l.strip()) > 0\n",
    "        ]\n",
    "    )"
   ]
  },
  {
   "cell_type": "code",
   "execution_count": 77,
   "metadata": {},
   "outputs": [],
   "source": [
    "assert (\n",
    "    \"fastcore==1.3.19 nbformat>=5.0.8 nbqa~=0.5.6 \"\n",
    "    \"nbqa<=0.5.6\" == reqs_lines_to_sep_str(test_lines)\n",
    ")"
   ]
  },
  {
   "cell_type": "code",
   "execution_count": 78,
   "metadata": {},
   "outputs": [],
   "source": [
    "def reqs_file_to_sep_str(pip_reqs_path: Path) -> str:\n",
    "    with open(pip_reqs_path, \"r\") as pip_reqs_file:\n",
    "        lines = pip_reqs_file.readlines()\n",
    "    return reqs_lines_to_sep_str(lines)"
   ]
  },
  {
   "cell_type": "code",
   "execution_count": 79,
   "metadata": {},
   "outputs": [],
   "source": [
    "determine_dependencies()\n",
    "reqs_str = reqs_file_to_sep_str(generated_reqs_path)\n",
    "os.remove(generated_reqs_path)"
   ]
  },
  {
   "cell_type": "code",
   "execution_count": 80,
   "metadata": {},
   "outputs": [
    {
     "data": {
      "text/plain": [
       "'fastcore==1.3.19 nbdev==1.1.12 nbformat==5.0.8 nbqa==0.5.6'"
      ]
     },
     "execution_count": 80,
     "metadata": {},
     "output_type": "execute_result"
    }
   ],
   "source": [
    "reqs_str"
   ]
  },
  {
   "cell_type": "code",
   "execution_count": 82,
   "metadata": {},
   "outputs": [],
   "source": [
    "def update_requirements(output_filename: str = \"settings-generated.ini\"):\n",
    "    config = ConfigParser(delimiters=[\"=\"])\n",
    "    settings_path = os.path.join(Config().path(\"lib_path\"), \"settings.ini\")\n",
    "    config.read(settings_path)\n",
    "\n",
    "    generated_reqs_path = os.path.join(\n",
    "        Path(\".\").resolve().parent, \"requirements-generated.txt\"\n",
    "    )\n",
    "    determine_dependencies()\n",
    "    reqs_str = reqs_file_to_sep_str(generated_reqs_path)\n",
    "    os.remove(generated_reqs_path)\n",
    "\n",
    "    os.path.join(Path(\".\").resolve().parent, output_filename)\n",
    "    config.set(\"DEFAULT\", \"requirements\", reqs_str)\n",
    "\n",
    "    with open(new_settings_path, \"w\") as configfile:\n",
    "        config.write(configfile)"
   ]
  },
  {
   "cell_type": "code",
   "execution_count": null,
   "metadata": {},
   "outputs": [],
   "source": []
  },
  {
   "cell_type": "code",
   "execution_count": 24,
   "metadata": {},
   "outputs": [],
   "source": [
    "# Writing our configuration file to 'example.ini'"
   ]
  },
  {
   "cell_type": "code",
   "execution_count": null,
   "metadata": {},
   "outputs": [],
   "source": [
    "# Populate requirements in settings.ini\n",
    "# requirements ="
   ]
  },
  {
   "cell_type": "code",
   "execution_count": null,
   "metadata": {},
   "outputs": [],
   "source": [
    "# curl -U nexus_eut_svc:AKCp8hzCxcyh1Uh9s4LMNZKmEHY1V4jwUhfqRsEUvdvMNZKhyncwt8MTtzwaq2rZkhx6dxW3e -T ~/envs/discovery/conda-bld/linux-64/scidev-0.0.1-0.tar.bz2 \"https://ndartifactory.jfrog.io/artifactory/ra_conda_dev/linux-64\"\n",
    "\n",
    "# curl -4 -XPUT\n",
    "# curl -4 -XPUT \"https://nexus_eut_svc:AKCp8hzCxcyh1Uh9s4LMNZKmEHY1V4jwUhfqRsEUvdvMNZKhyncwt8MTtzwaq2rZkhx6dxW3e@ndartifactory.jfrog.io/artifactory/ra_conda_dev/linux-64/\" -T /home/jovyan/envs/discovery/conda-bld/linux-64/scidev-0.0.1-0.tar.bz2"
   ]
  },
  {
   "cell_type": "markdown",
   "metadata": {},
   "source": [
    "1. Add minimal requires to settings.ini\n",
    "2. Test local_release_pip\n",
    "3. Create meta.yaml from settings.ini\n",
    "4. Test local_conda_release\n",
    "5. Test release"
   ]
  },
  {
   "cell_type": "code",
   "execution_count": null,
   "metadata": {},
   "outputs": [],
   "source": []
  }
 ],
 "metadata": {
  "kernelspec": {
   "display_name": "Python [conda env:jovyan-discovery]",
   "language": "python",
   "name": "conda-env-jovyan-discovery-py"
  },
  "language_info": {
   "codemirror_mode": {
    "name": "ipython",
    "version": 3
   },
   "file_extension": ".py",
   "mimetype": "text/x-python",
   "name": "python",
   "nbconvert_exporter": "python",
   "pygments_lexer": "ipython3",
   "version": "3.7.10"
  }
 },
 "nbformat": 4,
 "nbformat_minor": 4
}
