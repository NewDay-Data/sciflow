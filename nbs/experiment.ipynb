{
 "cells": [
  {
   "cell_type": "code",
   "execution_count": 1,
   "metadata": {},
   "outputs": [],
   "source": [
    "# default_exp experiment"
   ]
  },
  {
   "cell_type": "markdown",
   "metadata": {},
   "source": [
    "# Experiments"
   ]
  },
  {
   "cell_type": "code",
   "execution_count": 12,
   "metadata": {},
   "outputs": [],
   "source": [
    "%load_ext autoreload\n",
    "%autoreload 2"
   ]
  },
  {
   "cell_type": "code",
   "execution_count": 13,
   "metadata": {},
   "outputs": [],
   "source": [
    "from pathlib import Path\n",
    "\n",
    "from sacred import Experiment\n",
    "from sacred.run import Run\n",
    "from sacred.observers import S3Observer\n",
    "\n",
    "from nbdev.export import Config\n",
    "from sciflow.lake_observer import AWSLakeObserver"
   ]
  },
  {
   "cell_type": "code",
   "execution_count": 17,
   "metadata": {},
   "outputs": [],
   "source": [
    "bucket = Config().get('bucket')\n",
    "# 's3bawspprwe1chatbotunpub01'\n",
    "region = 'eu-west-1'\n",
    "exp_name = 'sacred_sciflow'\n",
    "lib_name = Config().get('lib_name')"
   ]
  },
  {
   "cell_type": "code",
   "execution_count": 22,
   "metadata": {},
   "outputs": [],
   "source": [
    "exp = Experiment(exp_name, interactive=True)\n",
    "obs = AWSLakeObserver(bucket_name=bucket, \n",
    "                   experiment_dir=f'experiments/{lib_name}/{exp_name}',\n",
    "                   region=region)\n",
    "exp.observers.append(obs)"
   ]
  },
  {
   "cell_type": "code",
   "execution_count": 32,
   "metadata": {},
   "outputs": [],
   "source": [
    "# parameters\n",
    "alpha = 1\n",
    "input_path = ''\n",
    "model_path = ''"
   ]
  },
  {
   "cell_type": "code",
   "execution_count": 33,
   "metadata": {},
   "outputs": [],
   "source": [
    "@exp.config\n",
    "def my_config():\n",
    "    alpha = 0.1"
   ]
  },
  {
   "cell_type": "code",
   "execution_count": 34,
   "metadata": {},
   "outputs": [],
   "source": [
    "def preprocess(input_data):\n",
    "    pass"
   ]
  },
  {
   "cell_type": "code",
   "execution_count": 35,
   "metadata": {},
   "outputs": [],
   "source": [
    "def train(train_data, alpha):\n",
    "    pass"
   ]
  },
  {
   "cell_type": "code",
   "execution_count": 36,
   "metadata": {},
   "outputs": [],
   "source": [
    "def evaluate(model, test_data):\n",
    "    pass"
   ]
  },
  {
   "cell_type": "code",
   "execution_count": 24,
   "metadata": {},
   "outputs": [],
   "source": [
    "\n",
    "\n",
    "@exp.main\n",
    "def my_main(message, _run: Run):\n",
    "    _run.add_artifact(Path('test/requirements-generated.txt'))\n",
    "    _run.add_artifact(Path('test/dataframe_artifact.csv'))\n",
    "    _run.log_scalar('mae', 1.79, 0)\n",
    "    _run.log_scalar('mae', 3.12, 1)\n",
    "    _run.log_scalar('another one', 9.12, 0)\n",
    "    print(message)"
   ]
  },
  {
   "cell_type": "code",
   "execution_count": 26,
   "metadata": {},
   "outputs": [
    {
     "name": "stderr",
     "output_type": "stream",
     "text": [
      "INFO:sacred_sciflow:Running command 'my_main'\n",
      "INFO:sacred_sciflow:Started run with ID \"1\"\n",
      "INFO:sacred_sciflow:Completed after 0:00:01\n"
     ]
    },
    {
     "name": "stdout",
     "output_type": "stream",
     "text": [
      "Hello sciflow!\n"
     ]
    }
   ],
   "source": [
    "run = exp.run(config_updates={'recipient': 'sciflow'})"
   ]
  },
  {
   "cell_type": "code",
   "execution_count": 43,
   "metadata": {},
   "outputs": [],
   "source": [
    "from typing import Callable, Optional, Sequence"
   ]
  },
  {
   "cell_type": "code",
   "execution_count": 44,
   "metadata": {},
   "outputs": [],
   "source": [
    "def create_exp(experiment_name: str, train_eval_func: Callable):\n",
    "    ex = Experiment(experiment_name)\n",
    "\n",
    "    @ex.config\n",
    "    def training_config():\n",
    "        X_path = None\n",
    "        y_path = None\n",
    "        model = None\n",
    "        train_params = {}\n",
    "        tags = None\n",
    "\n",
    "    @ex.capture\n",
    "    def train_eval(X_path, y_path, model, train_params, tags):\n",
    "        return train_eval_func(X_path, y_path, model, train_params, tags)\n",
    "\n",
    "    @ex.automain\n",
    "    def main_experiment(_run: Run):\n",
    "        results = train_eval()\n",
    "\n",
    "        # Log metrics of importance.\n",
    "        log_metrics(_run, results)\n",
    "\n",
    "        # Add files to the experiment DB\n",
    "        add_artifacts(_run, results)\n",
    "\n",
    "        return float(min(results[\"test_mae\"]))\n",
    "\n",
    "    def add_artifacts(_run, results):\n",
    "        _run.add_artifact(\"/tmp/useful_feats.csv\")\n",
    "\n",
    "    def log_metrics(_run, results):\n",
    "        _run.log_scalar(\"name\", os.environ[\"USER\"])\n",
    "    return ex\n",
    "\n",
    "\n",
    "def experiment(\n",
    "    X: pd.DataFrame,\n",
    "    y: pd.Series,\n",
    "    config_params: dict,\n",
    "    train_and_eval_func: Callable,\n",
    "    exp_name: str = \"hof_prediction\",\n",
    "    tags: Optional[Sequence[str]] = None,\n",
    "    use_mongo: bool = True,\n",
    "):\n",
    "    \"\"\"\n",
    "    This function is the driver for running experiments in notebooks or scripts.\n",
    "    :param X:\n",
    "    :param y:\n",
    "    :param config_params: Must be one of the variables defined in @ex.config\n",
    "    :param train_and_eval_func: a function which performs training and evaluation. It\n",
    "    must have the same signature as the one in @ex.capture\n",
    "    :param exp_name: A name to identify the experiment\n",
    "    :param tags: any tags which will be stored in DB and can be viewed in UI\n",
    "    :param use_mongo: use of the approved sacred database is highly recommended\n",
    "    :return:\n",
    "    \"\"\"\n",
    "    ex = create_regression_exp(exp_name, train_and_eval_func)\n",
    "\n",
    "    X_path, y_path = write_data(X, y)\n",
    "    config_params.update({\"X_path\": X_path, \"y_path\": y_path})\n",
    "    if tags is not None:\n",
    "        config_params.update({\"tags\": tags})\n",
    "    run = ex.run(config_updates=config_params)\n",
    "    return run"
   ]
  },
  {
   "cell_type": "code",
   "execution_count": null,
   "metadata": {},
   "outputs": [],
   "source": []
  }
 ],
 "metadata": {
  "kernelspec": {
   "display_name": "Python [conda env:jovyan-discovery]",
   "language": "python",
   "name": "conda-env-jovyan-discovery-py"
  },
  "language_info": {
   "codemirror_mode": {
    "name": "ipython",
    "version": 3
   },
   "file_extension": ".py",
   "mimetype": "text/x-python",
   "name": "python",
   "nbconvert_exporter": "python",
   "pygments_lexer": "ipython3",
   "version": "3.7.10"
  }
 },
 "nbformat": 4,
 "nbformat_minor": 4
}
