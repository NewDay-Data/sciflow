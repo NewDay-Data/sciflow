{
 "cells": [
  {
   "cell_type": "code",
   "execution_count": 51,
   "metadata": {},
   "outputs": [],
   "source": [
    "# default_exp test.test_data_handling"
   ]
  },
  {
   "cell_type": "code",
   "execution_count": 58,
   "metadata": {},
   "outputs": [],
   "source": [
    "# export\n",
    "\n",
    "from pathlib import Path\n",
    "from typing import Any, Dict, List\n",
    "\n",
    "import numpy as np\n",
    "import pandas as pd"
   ]
  },
  {
   "cell_type": "code",
   "execution_count": 59,
   "metadata": {
    "tags": [
     "parameters"
    ]
   },
   "outputs": [],
   "source": [
    "# export\n",
    "\n",
    "\n",
    "int_param = 3\n",
    "float_param = 1.1\n",
    "str_param = \"Sciflow 🔬\"\n",
    "input_path = Path(\".\").resolve()\n",
    "model_path = Path(\".\").resolve().parent\n",
    "dict_param = {\"a\": {\"b\": {\"c\": \"abc\"}}, \"another_key\": [1, 2, 3]}\n",
    "list_param = [i for i in range(10 ** 4)]\n",
    "ones = np.ones(10 ** 7)\n",
    "text = np.repeat(\"some string that takess space and more of it\", 10 ** 7)\n",
    "series_param = pd.Series(text)\n",
    "df_param = pd.DataFrame({\"a\": ones, \"b\": ones, \"c\": ones, \"d\": text})"
   ]
  },
  {
   "cell_type": "code",
   "execution_count": 82,
   "metadata": {},
   "outputs": [],
   "source": [
    "# exportn_step:scalar\n",
    "\n",
    "\n",
    "def scalar(int_param: int, float_param: float, str_param: str):\n",
    "    print((int_param, float_param, str_param))\n",
    "    return int_param, float_param, str_param"
   ]
  },
  {
   "cell_type": "code",
   "execution_count": 83,
   "metadata": {},
   "outputs": [
    {
     "name": "stdout",
     "output_type": "stream",
     "text": [
      "(3, 1.1, 'Sciflow 🔬')\n"
     ]
    },
    {
     "data": {
      "text/plain": [
       "(3, 1.1, 'Sciflow 🔬')"
      ]
     },
     "execution_count": 83,
     "metadata": {},
     "output_type": "execute_result"
    }
   ],
   "source": [
    "scalar(int_param, float_param, str_param)"
   ]
  },
  {
   "cell_type": "code",
   "execution_count": 84,
   "metadata": {},
   "outputs": [],
   "source": [
    "# exportn_step:py_advanced\n",
    "\n",
    "\n",
    "def py_advanced(input_path: Path, list_param: List[int], dict_param: Dict[str, Any]):\n",
    "    print(input_path)\n",
    "    print(list_param[:10])\n",
    "    print(dict_param)"
   ]
  },
  {
   "cell_type": "code",
   "execution_count": 85,
   "metadata": {},
   "outputs": [
    {
     "name": "stdout",
     "output_type": "stream",
     "text": [
      "/home/jovyan/git/sciflow/nbs/test\n",
      "[0, 1, 2, 3, 4, 5, 6, 7, 8, 9]\n",
      "{'a': {'b': {'c': 'abc'}}, 'another_key': [1, 2, 3]}\n"
     ]
    }
   ],
   "source": [
    "py_advanced(input_path, list_param, dict_param)"
   ]
  },
  {
   "cell_type": "code",
   "execution_count": 88,
   "metadata": {},
   "outputs": [],
   "source": [
    "# exportn_step:pandas\n",
    "\n",
    "\n",
    "def pandas(series: pd.Series, df: pd.DataFrame):\n",
    "    print(series.shape)\n",
    "    print(df.shape)"
   ]
  }
 ],
 "metadata": {
  "kernelspec": {
   "display_name": "Python [conda env:jovyan-discovery]",
   "language": "python",
   "name": "conda-env-jovyan-discovery-py"
  },
  "language_info": {
   "codemirror_mode": {
    "name": "ipython",
    "version": 3
   },
   "file_extension": ".py",
   "mimetype": "text/x-python",
   "name": "python",
   "nbconvert_exporter": "python",
   "pygments_lexer": "ipython3",
   "version": "3.7.10"
  }
 },
 "nbformat": 4,
 "nbformat_minor": 4
}
