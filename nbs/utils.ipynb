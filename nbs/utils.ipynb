{
 "cells": [
  {
   "cell_type": "code",
   "execution_count": null,
   "metadata": {},
   "outputs": [],
   "source": [
    "# hide\n",
    "# default_exp utils"
   ]
  },
  {
   "cell_type": "markdown",
   "metadata": {},
   "source": [
    "# Sciflow utils"
   ]
  },
  {
   "cell_type": "code",
   "execution_count": null,
   "metadata": {},
   "outputs": [],
   "source": [
    "# export\n",
    "\n",
    "import os\n",
    "from pathlib import Path\n",
    "\n",
    "import pandas as pd\n",
    "import pyodbc\n",
    "from nbqa.find_root import find_project_root"
   ]
  },
  {
   "cell_type": "code",
   "execution_count": null,
   "metadata": {},
   "outputs": [],
   "source": [
    "%load_ext autoreload\n",
    "%autoreload 2"
   ]
  },
  {
   "cell_type": "markdown",
   "metadata": {},
   "source": [
    "# Paths"
   ]
  },
  {
   "cell_type": "code",
   "execution_count": null,
   "metadata": {},
   "outputs": [],
   "source": [
    "# export\n",
    "\n",
    "\n",
    "def lib_path(*lib_relative_path):\n",
    "    lib_root_path = find_project_root(srcs=(str(Path(\".\").resolve()),))\n",
    "    return Path(os.path.join(lib_root_path, *lib_relative_path))"
   ]
  },
  {
   "cell_type": "code",
   "execution_count": null,
   "metadata": {},
   "outputs": [],
   "source": [
    "assert str(lib_path(\"nbs\")).endswith(\"sciflow/nbs\")\n",
    "assert Path(\"test/test_clustering.ipynb\").resolve() == lib_path(\n",
    "    \"nbs\", \"test\", \"test_clustering.ipynb\"\n",
    ")"
   ]
  },
  {
   "cell_type": "markdown",
   "metadata": {},
   "source": [
    "# ODBC Connection"
   ]
  },
  {
   "cell_type": "code",
   "execution_count": null,
   "metadata": {},
   "outputs": [],
   "source": [
    "# export\n",
    "\n",
    "\n",
    "def prepare_env(env_file_path: str = None):\n",
    "    if env_file_path is None:\n",
    "        env_file_path = os.path.expanduser(\"~/.sciflow/env\")\n",
    "    # TODO create this for user\n",
    "    if not os.path.exists(env_file_path):\n",
    "        raise EnvironmentError(\n",
    "            f\"You need to create a Sciflow environment vars file at: {env_file_path}\"\n",
    "        )\n",
    "    with (open(env_file_path, \"r\")) as env_file:\n",
    "        for line in env_file.readlines():\n",
    "            key, value = line.strip().split(\"=\", 1)\n",
    "            os.environ[key.replace(\"export \", \"\")] = value"
   ]
  },
  {
   "cell_type": "code",
   "execution_count": null,
   "metadata": {},
   "outputs": [],
   "source": [
    "# export\n",
    "\n",
    "\n",
    "def odbc_connect(env_file_path: str = None):\n",
    "    required_vars = (\"ODBC_DRIVER\", \"ODBC_HOST\", \"ODBC_PORT\", \"ODBC_USER\", \"ODBC_PWD\")\n",
    "    if not all([v in os.environ for v in required_vars]):\n",
    "        prepare_env(env_file_path)\n",
    "    connection = pyodbc.connect(\n",
    "        \"\"\"Driver={}; \n",
    "           ConnectionType=Direct;\n",
    "           HOST={};\n",
    "           PORT={};\n",
    "           AuthenticationType=Plain;\n",
    "           UID={};\n",
    "           PWD={};\n",
    "           SSL=1;\n",
    "           TrustedCerts={}\"\"\".format(\n",
    "            os.environ[\"ODBC_DRIVER\"],\n",
    "            os.environ[\"ODBC_HOST\"],\n",
    "            os.environ[\"ODBC_PORT\"],\n",
    "            os.environ[\"ODBC_USER\"],\n",
    "            os.environ[\"ODBC_PWD\"],\n",
    "            os.environ[\"SSL_CERTS\"],\n",
    "        ),\n",
    "        autocommit=True,\n",
    "    )\n",
    "    return connection"
   ]
  },
  {
   "cell_type": "code",
   "execution_count": null,
   "metadata": {},
   "outputs": [],
   "source": [
    "# export\n",
    "\n",
    "\n",
    "def query(conn, sql):\n",
    "    with conn.cursor() as cursor:\n",
    "        df = pd.read_sql(sql, conn)\n",
    "    return df"
   ]
  },
  {
   "cell_type": "code",
   "execution_count": null,
   "metadata": {},
   "outputs": [],
   "source": [
    "try:\n",
    "    del os.environ[\"ODBC_DRIVER\"]\n",
    "    del os.environ[\"ODBC_HOST\"]\n",
    "    del os.environ[\"ODBC_PORT\"]\n",
    "    del os.environ[\"ODBC_USER\"]\n",
    "    del os.environ[\"ODBC_PWD\"]\n",
    "    del os.environ[\"SSL_CERTS\"]\n",
    "except KeyError:\n",
    "    pass"
   ]
  },
  {
   "cell_type": "code",
   "execution_count": null,
   "metadata": {},
   "outputs": [],
   "source": [
    "%%time\n",
    "\n",
    "conn = odbc_connect()"
   ]
  },
  {
   "cell_type": "code",
   "execution_count": null,
   "metadata": {},
   "outputs": [],
   "source": [
    "%%time\n",
    "assert type(conn) == pyodbc.Connection\n",
    "assert query(conn, \"SELECT 1 AS test_col\")[\"test_col\"].iloc[0] == 1"
   ]
  }
 ],
 "metadata": {
  "kernelspec": {
   "display_name": "Python [conda env:sciflow]",
   "language": "python",
   "name": "conda-env-sciflow-py"
  },
  "language_info": {
   "codemirror_mode": {
    "name": "ipython",
    "version": 3
   },
   "file_extension": ".py",
   "mimetype": "text/x-python",
   "name": "python",
   "nbconvert_exporter": "python",
   "pygments_lexer": "ipython3",
   "version": "3.7.6"
  }
 },
 "nbformat": 4,
 "nbformat_minor": 4
}
