{
 "cells": [
  {
   "cell_type": "code",
   "execution_count": null,
   "metadata": {},
   "outputs": [],
   "source": [
    "# hide\n",
    "# default_exp utils"
   ]
  },
  {
   "cell_type": "markdown",
   "metadata": {},
   "source": [
    "# Sciflow utils"
   ]
  },
  {
   "cell_type": "code",
   "execution_count": null,
   "metadata": {},
   "outputs": [],
   "source": [
    "# export\n",
    "\n",
    "import os\n",
    "import subprocess\n",
    "\n",
    "import nbdev\n",
    "from data_access.dremio_access import DremioAccess\n",
    "from fastcore.script import call_parse\n",
    "from nbdev.clean import nbdev_clean_nbs"
   ]
  },
  {
   "cell_type": "code",
   "execution_count": null,
   "metadata": {},
   "outputs": [],
   "source": [
    "%load_ext autoreload\n",
    "%autoreload 2"
   ]
  },
  {
   "cell_type": "markdown",
   "metadata": {},
   "source": [
    "# Sciflow Clean"
   ]
  },
  {
   "cell_type": "code",
   "execution_count": null,
   "metadata": {},
   "outputs": [],
   "source": [
    "# export\n",
    "\n",
    "\n",
    "@call_parse\n",
    "def sciflow_clean():\n",
    "    nbdev.clean.cell_metadata_keep = nbdev.clean.cell_metadata_keep + [\"tags\"]\n",
    "    nbdev_clean_nbs()"
   ]
  },
  {
   "cell_type": "markdown",
   "metadata": {},
   "source": [
    "# Headless Dremio Access"
   ]
  },
  {
   "cell_type": "code",
   "execution_count": null,
   "metadata": {},
   "outputs": [],
   "source": [
    "# export\n",
    "\n",
    "\n",
    "def shell_source(script):\n",
    "    \"\"\"Sometime you want to emulate the action of \"source\" in bash,\n",
    "    settings some environment variables. Here is a way to do it.\n",
    "    From: https://stackoverflow.com/questions/7040592/calling-the-source-command-from-subprocess-popen\n",
    "    \"\"\"\n",
    "\n",
    "    pipe = subprocess.Popen(\". %s; env\" % script, stdout=subprocess.PIPE, shell=True)\n",
    "    output = pipe.communicate()[0]\n",
    "    env = dict((line.split(\"=\", 1) for line in output.decode(\"utf-8\").splitlines()))\n",
    "    os.environ.update(env)"
   ]
  },
  {
   "cell_type": "code",
   "execution_count": null,
   "metadata": {},
   "outputs": [],
   "source": [
    "shell_source(\"/home/jovyan/.profile\")"
   ]
  },
  {
   "cell_type": "code",
   "execution_count": null,
   "metadata": {},
   "outputs": [],
   "source": [
    "# export\n",
    "\n",
    "\n",
    "def load_dremio_access():\n",
    "    if os.path.exists(\"/home/jovyan/.auth/dremio\"):\n",
    "        with open(\"/home/jovyan/.auth/dremio\", \"r\") as pat_file:\n",
    "            pat = pat_file.read().strip()\n",
    "            DremioAccess._get_dremio_password = lambda x: pat\n",
    "    else:\n",
    "        shell_source(\"/home/jovyan/.profile\")\n",
    "        if \"DREMIO_PWD\" in os.environ:\n",
    "            DremioAccess._get_dremio_password = lambda x: os.environ[\"DREMIO_PWD\"]\n",
    "    return DremioAccess()"
   ]
  },
  {
   "cell_type": "code",
   "execution_count": null,
   "metadata": {},
   "outputs": [],
   "source": [
    "dremio_access = load_dremio_access()"
   ]
  },
  {
   "cell_type": "markdown",
   "metadata": {},
   "source": [
    "## Add Dremio Access to startup script"
   ]
  },
  {
   "cell_type": "code",
   "execution_count": null,
   "metadata": {},
   "outputs": [
    {
     "name": "stdout",
     "output_type": "stream",
     "text": [
      "Overwriting /home/jovyan/.ipython/profile_default/startup/002.py\n"
     ]
    }
   ],
   "source": [
    "%%writefile ~/.ipython/profile_default/startup/002.py\n",
    "\n",
    "import os\n",
    "\n",
    "\n",
    "if os.path.exists('/home/jovyan/.auth/dremio'):\n",
    "    with open('/home/jovyan/.auth/dremio', 'r') as pat_file:\n",
    "        pat = pat_file.read().strip()\n",
    "        DremioAccess._get_dremio_password = lambda x: pat\n",
    "    dremio_access = DremioAccess()"
   ]
  },
  {
   "cell_type": "code",
   "execution_count": null,
   "metadata": {},
   "outputs": [],
   "source": []
  }
 ],
 "metadata": {
  "kernelspec": {
   "display_name": "Python [conda env:jovyan-discovery]",
   "language": "python",
   "name": "conda-env-jovyan-discovery-py"
  }
 },
 "nbformat": 4,
 "nbformat_minor": 4
}
