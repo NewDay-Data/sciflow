{
 "cells": [
  {
   "cell_type": "code",
   "execution_count": 1,
   "metadata": {},
   "outputs": [],
   "source": [
    "# hide\n",
    "# default_exp utils"
   ]
  },
  {
   "cell_type": "markdown",
   "metadata": {},
   "source": [
    "# Sciflow utils"
   ]
  },
  {
   "cell_type": "code",
   "execution_count": 2,
   "metadata": {},
   "outputs": [],
   "source": [
    "# export\n",
    "\n",
    "import ast\n",
    "import os\n",
    "from pathlib import Path\n",
    "\n",
    "import _ast\n",
    "import nbformat\n",
    "import pandas as pd\n",
    "import pyodbc\n",
    "from nbdev.export import find_default_export, get_config, read_nb\n",
    "from nbqa.find_root import find_project_root"
   ]
  },
  {
   "cell_type": "code",
   "execution_count": 3,
   "metadata": {},
   "outputs": [],
   "source": [
    "%load_ext autoreload\n",
    "%autoreload 2"
   ]
  },
  {
   "cell_type": "markdown",
   "metadata": {},
   "source": [
    "# Paths"
   ]
  },
  {
   "cell_type": "code",
   "execution_count": 4,
   "metadata": {},
   "outputs": [],
   "source": [
    "# export\n",
    "\n",
    "\n",
    "def lib_path(*lib_relative_path):\n",
    "    lib_root_path = find_project_root(srcs=(str(Path(\".\").resolve()),))\n",
    "    return Path(os.path.join(lib_root_path, *lib_relative_path))"
   ]
  },
  {
   "cell_type": "code",
   "execution_count": 5,
   "metadata": {},
   "outputs": [],
   "source": [
    "assert str(lib_path(\"nbs\")).endswith(\"sciflow/nbs\")\n",
    "assert Path(\"test/test_clustering.ipynb\").resolve() == lib_path(\n",
    "    \"nbs\", \"test\", \"test_clustering.ipynb\"\n",
    ")"
   ]
  },
  {
   "cell_type": "markdown",
   "metadata": {},
   "source": [
    "# File"
   ]
  },
  {
   "cell_type": "code",
   "execution_count": 6,
   "metadata": {},
   "outputs": [],
   "source": [
    "# export\n",
    "\n",
    "\n",
    "def load_nb(nb_path):\n",
    "    nb = read_nb(nb_path)\n",
    "    module_name = find_default_export(nb[\"cells\"]).replace(\".\", \"/\")\n",
    "    module_path = os.path.join(get_config().path(\"lib_path\"), f\"{module_name}.py\")\n",
    "    return nb, module_path"
   ]
  },
  {
   "cell_type": "code",
   "execution_count": 7,
   "metadata": {},
   "outputs": [],
   "source": [
    "nb, module_path = load_nb(\"test/test_clustering.ipynb\")"
   ]
  },
  {
   "cell_type": "code",
   "execution_count": 8,
   "metadata": {},
   "outputs": [],
   "source": [
    "assert type(nb) == nbformat.notebooknode.NotebookNode\n",
    "assert os.path.exists(module_path)"
   ]
  },
  {
   "cell_type": "code",
   "execution_count": 9,
   "metadata": {},
   "outputs": [],
   "source": [
    "# export\n",
    "\n",
    "\n",
    "def load_nb_module(nb_path):\n",
    "    nb, module_path = load_nb(nb_path)\n",
    "    with open(module_path, \"r\") as module_file:\n",
    "        lines = module_file.readlines()\n",
    "    module_code = \"\\n\".join(lines)\n",
    "    return nb, module_code"
   ]
  },
  {
   "cell_type": "code",
   "execution_count": 10,
   "metadata": {},
   "outputs": [],
   "source": [
    "nb, module_code = load_nb_module(\"test/test_clustering.ipynb\")"
   ]
  },
  {
   "cell_type": "code",
   "execution_count": 11,
   "metadata": {},
   "outputs": [],
   "source": [
    "assert type(nb) == nbformat.notebooknode.NotebookNode\n",
    "assert type(ast.parse(module_code)) == _ast.Module"
   ]
  },
  {
   "cell_type": "markdown",
   "metadata": {},
   "source": [
    "# ODBC Connection"
   ]
  },
  {
   "cell_type": "code",
   "execution_count": 12,
   "metadata": {},
   "outputs": [],
   "source": [
    "# export\n",
    "\n",
    "\n",
    "def prepare_env(env_file_path: str = None):\n",
    "    if env_file_path is None:\n",
    "        env_file_path = os.path.expanduser(\"~/.sciflow/env\")\n",
    "    # TODO create this for user\n",
    "    if not os.path.exists(env_file_path):\n",
    "        raise EnvironmentError(\n",
    "            f\"You need to create a Sciflow environment vars file at: {env_file_path}\"\n",
    "        )\n",
    "    with (open(env_file_path, \"r\")) as env_file:\n",
    "        for line in env_file.readlines():\n",
    "            key, value = line.strip().split(\"=\", 1)\n",
    "            os.environ[key.replace(\"export \", \"\")] = value"
   ]
  },
  {
   "cell_type": "code",
   "execution_count": 13,
   "metadata": {},
   "outputs": [],
   "source": [
    "# export\n",
    "\n",
    "\n",
    "def odbc_connect(env_file_path: str = None):\n",
    "    required_vars = (\"ODBC_DRIVER\", \"ODBC_HOST\", \"ODBC_PORT\", \"ODBC_USER\", \"ODBC_PWD\")\n",
    "    if not all([v in os.environ for v in required_vars]):\n",
    "        prepare_env(env_file_path)\n",
    "    connection = pyodbc.connect(\n",
    "        \"\"\"Driver={}; \n",
    "           ConnectionType=Direct;\n",
    "           HOST={};\n",
    "           PORT={};\n",
    "           AuthenticationType=Plain;\n",
    "           UID={};\n",
    "           PWD={};\n",
    "           SSL=1;\n",
    "           TrustedCerts={}\"\"\".format(\n",
    "            os.environ[\"ODBC_DRIVER\"],\n",
    "            os.environ[\"ODBC_HOST\"],\n",
    "            os.environ[\"ODBC_PORT\"],\n",
    "            os.environ[\"ODBC_USER\"],\n",
    "            os.environ[\"ODBC_PWD\"],\n",
    "            os.environ[\"SSL_CERTS\"],\n",
    "        ),\n",
    "        autocommit=True,\n",
    "    )\n",
    "    return connection"
   ]
  },
  {
   "cell_type": "code",
   "execution_count": 14,
   "metadata": {},
   "outputs": [],
   "source": [
    "# export\n",
    "\n",
    "\n",
    "def query(conn, sql):\n",
    "    with conn.cursor() as cursor:\n",
    "        df = pd.read_sql(sql, conn)\n",
    "    return df"
   ]
  },
  {
   "cell_type": "code",
   "execution_count": 15,
   "metadata": {},
   "outputs": [],
   "source": [
    "try:\n",
    "    del os.environ[\"ODBC_DRIVER\"]\n",
    "    del os.environ[\"ODBC_HOST\"]\n",
    "    del os.environ[\"ODBC_PORT\"]\n",
    "    del os.environ[\"ODBC_USER\"]\n",
    "    del os.environ[\"ODBC_PWD\"]\n",
    "    del os.environ[\"SSL_CERTS\"]\n",
    "except KeyError:\n",
    "    pass"
   ]
  },
  {
   "cell_type": "code",
   "execution_count": 16,
   "metadata": {},
   "outputs": [
    {
     "name": "stdout",
     "output_type": "stream",
     "text": [
      "CPU times: user 21.8 ms, sys: 1.06 ms, total: 22.8 ms\n",
      "Wall time: 556 ms\n"
     ]
    }
   ],
   "source": [
    "%%time\n",
    "\n",
    "conn = odbc_connect()"
   ]
  },
  {
   "cell_type": "code",
   "execution_count": 17,
   "metadata": {},
   "outputs": [
    {
     "name": "stdout",
     "output_type": "stream",
     "text": [
      "CPU times: user 3.2 ms, sys: 0 ns, total: 3.2 ms\n",
      "Wall time: 288 ms\n"
     ]
    }
   ],
   "source": [
    "%%time\n",
    "assert type(conn) == pyodbc.Connection\n",
    "assert query(conn, \"SELECT 1 AS test_col\")[\"test_col\"].iloc[0] == 1"
   ]
  }
 ],
 "metadata": {
  "kernelspec": {
   "display_name": "Python [conda env:sciflow]",
   "language": "python",
   "name": "conda-env-sciflow-py"
  },
  "language_info": {
   "codemirror_mode": {
    "name": "ipython",
    "version": 3
   },
   "file_extension": ".py",
   "mimetype": "text/x-python",
   "name": "python",
   "nbconvert_exporter": "python",
   "pygments_lexer": "ipython3",
   "version": "3.7.6"
  }
 },
 "nbformat": 4,
 "nbformat_minor": 4
}
