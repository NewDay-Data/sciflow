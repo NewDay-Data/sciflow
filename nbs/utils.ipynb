{
 "cells": [
  {
   "cell_type": "code",
   "execution_count": null,
   "metadata": {},
   "outputs": [],
   "source": [
    "# hide\n",
    "# default_exp utils"
   ]
  },
  {
   "cell_type": "markdown",
   "metadata": {},
   "source": [
    "# Sciflow utils"
   ]
  },
  {
   "cell_type": "code",
   "execution_count": 31,
   "metadata": {},
   "outputs": [],
   "source": [
    "# export\n",
    "\n",
    "import os\n",
    "import subprocess\n",
    "from pathlib import Path\n",
    "\n",
    "from turbodbc import connect, make_options, Megabytes\n",
    "import nbdev\n",
    "from fastcore.script import call_parse\n",
    "from nbdev.clean import nbdev_clean_nbs\n",
    "from nbqa.find_root import find_project_root"
   ]
  },
  {
   "cell_type": "code",
   "execution_count": 32,
   "metadata": {},
   "outputs": [],
   "source": [
    "%load_ext autoreload\n",
    "%autoreload 2"
   ]
  },
  {
   "cell_type": "markdown",
   "metadata": {},
   "source": [
    "# Paths"
   ]
  },
  {
   "cell_type": "code",
   "execution_count": 33,
   "metadata": {},
   "outputs": [],
   "source": [
    "# export\n",
    "\n",
    "\n",
    "def lib_path(*lib_relative_path):\n",
    "    lib_root_path = find_project_root(srcs=(str(Path(\".\").resolve()),))\n",
    "    return Path(os.path.join(lib_root_path, *lib_relative_path))"
   ]
  },
  {
   "cell_type": "code",
   "execution_count": 34,
   "metadata": {},
   "outputs": [],
   "source": [
    "assert str(lib_path(\"nbs\")).endswith(\"sciflow/nbs\")\n",
    "assert Path(\"test/test_clustering.ipynb\").resolve() == lib_path(\n",
    "    \"nbs\", \"test\", \"test_clustering.ipynb\"\n",
    ")"
   ]
  },
  {
   "cell_type": "markdown",
   "metadata": {},
   "source": [
    "# Sciflow Clean"
   ]
  },
  {
   "cell_type": "code",
   "execution_count": 35,
   "metadata": {},
   "outputs": [],
   "source": [
    "# export\n",
    "\n",
    "\n",
    "@call_parse\n",
    "def sciflow_clean():\n",
    "    nbdev.clean.cell_metadata_keep = nbdev.clean.cell_metadata_keep + [\"tags\"]\n",
    "    nbdev_clean_nbs()"
   ]
  },
  {
   "cell_type": "markdown",
   "metadata": {},
   "source": [
    "# ODBC Connection"
   ]
  },
  {
   "cell_type": "code",
   "execution_count": 73,
   "metadata": {},
   "outputs": [],
   "source": [
    "# export\n",
    "\n",
    "\n",
    "def prepare_env(env_file_path: str = None):\n",
    "    if env_file_path is None:\n",
    "        env_file_path = os.path.expanduser('~/.sciflow/env')\n",
    "    # TODO create this for user\n",
    "    if not os.path.exists(env_file_path):\n",
    "        raise EnvironmentError(f'You need to create a Sciflow env file at: {env_file_path}')\n",
    "    with(open(env_file_path, 'r')) as env_file:\n",
    "        for line in env_file.readlines():\n",
    "            key, value = line.strip().split('=', 1)\n",
    "            os.environ[key.replace('export ', '')] = value\n",
    "            print(key.replace('export ', ''), value)"
   ]
  },
  {
   "cell_type": "code",
   "execution_count": 74,
   "metadata": {},
   "outputs": [],
   "source": [
    "# export\n",
    "\n",
    "\n",
    "def odbc_connect(options = None):\n",
    "    if options is None:\n",
    "        options = make_options(\n",
    "            fetch_wchar_as_char=True,\n",
    "            autocommit=True,\n",
    "            read_buffer_size=Megabytes(5),\n",
    "        )\n",
    "    connection = connect(driver=os.environ['ODBC_DRIVER'],\n",
    "                         host=os.environ['ODBC_HOST'],\n",
    "                         port=os.environ['ODBC_PORT'],\n",
    "                         uid=os.environ['ODBC_USER'],\n",
    "                         pwd=os.environ['ODBC_PWD'],\n",
    "                         SSL=1,\n",
    "                         TrustedCerts=os.environ['SSL_CERTS'],\n",
    "                         turbodbc_options=options,\n",
    "                )\n",
    "    return connection"
   ]
  },
  {
   "cell_type": "code",
   "execution_count": 75,
   "metadata": {},
   "outputs": [],
   "source": [
    "# export\n",
    "\n",
    "\n",
    "def query_odbc(conn, sql, strings_as_dictionary=False, adaptive_integers=False, \n",
    "               strings_to_categorical=False, date_as_object=False):\n",
    "    with conn.cursor() as cursor:\n",
    "        df = (cursor.execute(sql)\n",
    "                            .fetchallarrow(\n",
    "                                strings_as_dictionary=False,\n",
    "                                adaptive_integers=False,\n",
    "                            )\n",
    "                            .to_pandas(\n",
    "                                strings_to_categorical=False,\n",
    "                                date_as_object=False,\n",
    "                            )\n",
    "                        )\n",
    "    return df"
   ]
  },
  {
   "cell_type": "code",
   "execution_count": 76,
   "metadata": {},
   "outputs": [],
   "source": [
    "import turbodbc\n",
    "conn = odbc_connect()\n",
    "assert(type(conn) == turbodbc.connection.Connection)\n",
    "assert(query_odbc(conn, \"SELECT 1 AS test_col\")['test_col'].iloc[0] == 1)"
   ]
  }
 ],
 "metadata": {
  "kernelspec": {
   "display_name": "Python [conda env:sciflow]",
   "language": "python",
   "name": "conda-env-sciflow-py"
  },
  "language_info": {
   "codemirror_mode": {
    "name": "ipython",
    "version": 3
   },
   "file_extension": ".py",
   "mimetype": "text/x-python",
   "name": "python",
   "nbconvert_exporter": "python",
   "pygments_lexer": "ipython3",
   "version": "3.7.6"
  }
 },
 "nbformat": 4,
 "nbformat_minor": 4
}
