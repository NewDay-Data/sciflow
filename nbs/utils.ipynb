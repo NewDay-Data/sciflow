{
 "cells": [
  {
   "cell_type": "code",
   "execution_count": 1,
   "metadata": {},
   "outputs": [],
   "source": [
    "# hide\n",
    "# default_exp utils"
   ]
  },
  {
   "cell_type": "markdown",
   "metadata": {},
   "source": [
    "# Sciflow utils"
   ]
  },
  {
   "cell_type": "code",
   "execution_count": 2,
   "metadata": {},
   "outputs": [],
   "source": [
    "# export\n",
    "\n",
    "import os\n",
    "from pathlib import Path\n",
    "\n",
    "import nbdev\n",
    "from fastcore.script import call_parse\n",
    "from nbdev.clean import nbdev_clean_nbs\n",
    "from nbqa.find_root import find_project_root\n",
    "from turbodbc import Megabytes, connect, make_options"
   ]
  },
  {
   "cell_type": "code",
   "execution_count": 3,
   "metadata": {},
   "outputs": [],
   "source": [
    "%load_ext autoreload\n",
    "%autoreload 2"
   ]
  },
  {
   "cell_type": "markdown",
   "metadata": {},
   "source": [
    "# Paths"
   ]
  },
  {
   "cell_type": "code",
   "execution_count": 4,
   "metadata": {},
   "outputs": [],
   "source": [
    "# export\n",
    "\n",
    "\n",
    "def lib_path(*lib_relative_path):\n",
    "    lib_root_path = find_project_root(srcs=(str(Path(\".\").resolve()),))\n",
    "    return Path(os.path.join(lib_root_path, *lib_relative_path))"
   ]
  },
  {
   "cell_type": "code",
   "execution_count": 5,
   "metadata": {},
   "outputs": [],
   "source": [
    "assert str(lib_path(\"nbs\")).endswith(\"sciflow/nbs\")\n",
    "assert Path(\"test/test_clustering.ipynb\").resolve() == lib_path(\n",
    "    \"nbs\", \"test\", \"test_clustering.ipynb\"\n",
    ")"
   ]
  },
  {
   "cell_type": "markdown",
   "metadata": {},
   "source": [
    "# Sciflow Clean"
   ]
  },
  {
   "cell_type": "code",
   "execution_count": 6,
   "metadata": {},
   "outputs": [],
   "source": [
    "# export\n",
    "\n",
    "\n",
    "@call_parse\n",
    "def sciflow_clean():\n",
    "    nbdev.clean.cell_metadata_keep = nbdev.clean.cell_metadata_keep + [\"tags\"]\n",
    "    nbdev_clean_nbs()"
   ]
  },
  {
   "cell_type": "markdown",
   "metadata": {},
   "source": [
    "# ODBC Connection"
   ]
  },
  {
   "cell_type": "code",
   "execution_count": 7,
   "metadata": {},
   "outputs": [],
   "source": [
    "# export\n",
    "\n",
    "\n",
    "def prepare_env(env_file_path: str = None):\n",
    "    if env_file_path is None:\n",
    "        env_file_path = os.path.expanduser(\"~/.sciflow/env\")\n",
    "    # TODO create this for user\n",
    "    if not os.path.exists(env_file_path):\n",
    "        raise EnvironmentError(\n",
    "            f\"You need to create a Sciflow environment vars file at: {env_file_path}\"\n",
    "        )\n",
    "    with (open(env_file_path, \"r\")) as env_file:\n",
    "        for line in env_file.readlines():\n",
    "            key, value = line.strip().split(\"=\", 1)\n",
    "            os.environ[key.replace(\"export \", \"\")] = value"
   ]
  },
  {
   "cell_type": "code",
   "execution_count": 8,
   "metadata": {},
   "outputs": [],
   "source": [
    "# export\n",
    "\n",
    "\n",
    "def odbc_connect(options=None, env_file_path: str = None):\n",
    "    required_vars = (\"ODBC_DRIVER\", \"ODBC_HOST\", \"ODBC_PORT\", \"ODBC_USER\", \"ODBC_PWD\")\n",
    "    if not all([v in os.environ for v in required_vars]):\n",
    "        prepare_env(env_file_path)\n",
    "    if options is None:\n",
    "        options = make_options(\n",
    "            fetch_wchar_as_char=True, autocommit=True, read_buffer_size=Megabytes(5),\n",
    "        )\n",
    "    connection = connect(\n",
    "        driver=os.environ[\"ODBC_DRIVER\"],\n",
    "        host=os.environ[\"ODBC_HOST\"],\n",
    "        port=os.environ[\"ODBC_PORT\"],\n",
    "        uid=os.environ[\"ODBC_USER\"],\n",
    "        pwd=os.environ[\"ODBC_PWD\"],\n",
    "        SSL=1,\n",
    "        TrustedCerts=os.environ[\"SSL_CERTS\"],\n",
    "        turbodbc_options=options,\n",
    "    )\n",
    "    return connection"
   ]
  },
  {
   "cell_type": "code",
   "execution_count": 9,
   "metadata": {},
   "outputs": [],
   "source": [
    "# export\n",
    "\n",
    "\n",
    "def query(\n",
    "    conn,\n",
    "    sql,\n",
    "    strings_as_dictionary=False,\n",
    "    adaptive_integers=False,\n",
    "    strings_to_categorical=False,\n",
    "    date_as_object=False,\n",
    "):\n",
    "    with conn.cursor() as cursor:\n",
    "        df = (\n",
    "            cursor.execute(sql)\n",
    "            .fetchallarrow(strings_as_dictionary=False, adaptive_integers=False,)\n",
    "            .to_pandas(strings_to_categorical=False, date_as_object=False,)\n",
    "        )\n",
    "    return df"
   ]
  },
  {
   "cell_type": "code",
   "execution_count": 10,
   "metadata": {},
   "outputs": [],
   "source": [
    "try:\n",
    "    del os.environ[\"ODBC_DRIVER\"]\n",
    "    del os.environ[\"ODBC_HOST\"]\n",
    "    del os.environ[\"ODBC_PORT\"]\n",
    "    del os.environ[\"ODBC_USER\"]\n",
    "    del os.environ[\"ODBC_PWD\"]\n",
    "    del os.environ[\"SSL_CERTS\"]\n",
    "except KeyError:\n",
    "    pass"
   ]
  },
  {
   "cell_type": "code",
   "execution_count": 11,
   "metadata": {},
   "outputs": [
    {
     "name": "stdout",
     "output_type": "stream",
     "text": [
      "CPU times: user 16 ms, sys: 8 ms, total: 24 ms\n",
      "Wall time: 343 ms\n"
     ]
    }
   ],
   "source": [
    "%%time\n",
    "import turbodbc\n",
    "\n",
    "conn = odbc_connect()"
   ]
  },
  {
   "cell_type": "code",
   "execution_count": 12,
   "metadata": {},
   "outputs": [
    {
     "name": "stdout",
     "output_type": "stream",
     "text": [
      "CPU times: user 8 ms, sys: 4 ms, total: 12 ms\n",
      "Wall time: 289 ms\n"
     ]
    }
   ],
   "source": [
    "%%time\n",
    "assert type(conn) == turbodbc.connection.Connection\n",
    "assert query(conn, \"SELECT 1 AS test_col\")[\"test_col\"].iloc[0] == 1"
   ]
  },
  {
   "cell_type": "code",
   "execution_count": null,
   "metadata": {},
   "outputs": [],
   "source": []
  }
 ],
 "metadata": {
  "kernelspec": {
   "display_name": "Python [conda env:sciflow]",
   "language": "python",
   "name": "conda-env-sciflow-py"
  },
  "language_info": {
   "codemirror_mode": {
    "name": "ipython",
    "version": 3
   },
   "file_extension": ".py",
   "mimetype": "text/x-python",
   "name": "python",
   "nbconvert_exporter": "python",
   "pygments_lexer": "ipython3",
   "version": "3.7.6"
  }
 },
 "nbformat": 4,
 "nbformat_minor": 4
}
