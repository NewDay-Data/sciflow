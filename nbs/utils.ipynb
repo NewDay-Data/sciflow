{
 "cells": [
  {
   "cell_type": "raw",
   "metadata": {},
   "source": [
    "---\n",
    "output-file: utils.html\n",
    "title: Sciflow utils\n",
    "\n",
    "---\n",
    "\n"
   ]
  },
  {
   "cell_type": "code",
   "execution_count": null,
   "metadata": {},
   "outputs": [],
   "source": [
    "# | include: false\n",
    "# | default_exp utils"
   ]
  },
  {
   "cell_type": "code",
   "execution_count": null,
   "metadata": {},
   "outputs": [],
   "source": [
    "# | export\n",
    "\n",
    "import _ast\n",
    "import ast\n",
    "import os\n",
    "import subprocess\n",
    "import sys\n",
    "from pathlib import Path\n",
    "from typing import Tuple\n",
    "\n",
    "from execnb.nbio import read_nb\n",
    "from fastcore.basics import AttrDict\n",
    "from nbdev.config import get_config\n",
    "from nbqa.find_root import find_project_root"
   ]
  },
  {
   "cell_type": "code",
   "execution_count": null,
   "metadata": {},
   "outputs": [
    {
     "name": "stdout",
     "output_type": "stream",
     "text": [
      "The autoreload extension is already loaded. To reload it, use:\n",
      "  %reload_ext autoreload\n"
     ]
    }
   ],
   "source": [
    "%load_ext autoreload\n",
    "%autoreload 2"
   ]
  },
  {
   "cell_type": "markdown",
   "metadata": {},
   "source": [
    "# Shell"
   ]
  },
  {
   "cell_type": "code",
   "execution_count": null,
   "metadata": {},
   "outputs": [],
   "source": [
    "# | export\n",
    "\n",
    "\n",
    "def run_shell_cmd(script: str):\n",
    "    pipe = subprocess.Popen(\n",
    "        \"%s\" % script, stdout=subprocess.PIPE, stderr=subprocess.STDOUT, shell=True\n",
    "    )\n",
    "    output = pipe.communicate()[0]\n",
    "    return pipe, output.decode(\"utf-8\").strip()"
   ]
  },
  {
   "cell_type": "code",
   "execution_count": null,
   "metadata": {},
   "outputs": [],
   "source": [
    "cmd_result = run_shell_cmd(\"pwd\")\n",
    "assert cmd_result[0].returncode == 0\n",
    "assert cmd_result[1].find(\"sciflow\") > 0"
   ]
  },
  {
   "cell_type": "markdown",
   "metadata": {},
   "source": [
    "# Code-gen"
   ]
  },
  {
   "cell_type": "code",
   "execution_count": null,
   "metadata": {},
   "outputs": [],
   "source": [
    "# | export\n",
    "\n",
    "\n",
    "def indent_multiline(multiline_text, indent=1):\n",
    "    lines = multiline_text.strip().split(\"\\n\")\n",
    "    spaces = \"\".join([\"    \" for _ in range(indent)])\n",
    "    for i in range(len(lines)):\n",
    "        prefix = spaces if i > 0 else spaces + '\"\"\"'\n",
    "        lines[i] = prefix + lines[i]\n",
    "    return \"\\n\".join(lines) + '\"\"\"'"
   ]
  },
  {
   "cell_type": "code",
   "execution_count": null,
   "metadata": {},
   "outputs": [],
   "source": [
    "text = \"\"\"\n",
    "Some text\n",
    ":param param: text\n",
    "\"\"\"\n",
    "assert '    \"\"\"Some text\\n    :param param: text\"\"\"' == indent_multiline(text)"
   ]
  },
  {
   "cell_type": "markdown",
   "metadata": {},
   "source": [
    "# Text"
   ]
  },
  {
   "cell_type": "code",
   "execution_count": null,
   "metadata": {},
   "outputs": [],
   "source": [
    "# | export\n",
    "\n",
    "\n",
    "def titleize(name):\n",
    "    return name.title().replace(\"_\", \"\")"
   ]
  },
  {
   "cell_type": "code",
   "execution_count": null,
   "metadata": {},
   "outputs": [],
   "source": [
    "assert titleize(\"snake_case\") == \"SnakeCase\""
   ]
  },
  {
   "cell_type": "markdown",
   "metadata": {},
   "source": [
    "# Collections"
   ]
  },
  {
   "cell_type": "code",
   "execution_count": null,
   "metadata": {},
   "outputs": [],
   "source": [
    "# | export\n",
    "\n",
    "\n",
    "def chunks(lst, n):\n",
    "    \"\"\"Yield successive n-sized chunks from lst.\"\"\"\n",
    "    for i in range(0, len(lst), n):\n",
    "        yield lst[i : i + n]"
   ]
  },
  {
   "cell_type": "markdown",
   "metadata": {},
   "source": [
    "# Paths"
   ]
  },
  {
   "cell_type": "code",
   "execution_count": null,
   "metadata": {},
   "outputs": [],
   "source": [
    "# | export\n",
    "\n",
    "\n",
    "def lib_path(*lib_relative_path):\n",
    "    lib_root_path = find_project_root(srcs=(str(Path(\".\").resolve()),))\n",
    "    return Path(os.path.join(lib_root_path, *lib_relative_path))"
   ]
  },
  {
   "cell_type": "code",
   "execution_count": null,
   "metadata": {},
   "outputs": [],
   "source": [
    "assert str(lib_path(\"nbs\")).endswith(\"sciflow/nbs\")\n",
    "assert Path(\"test/test_multistep.ipynb\").resolve() == lib_path(\n",
    "    \"nbs\", \"test\", \"test_multistep.ipynb\"\n",
    ")"
   ]
  },
  {
   "cell_type": "markdown",
   "metadata": {},
   "source": [
    "# File"
   ]
  },
  {
   "cell_type": "code",
   "execution_count": null,
   "metadata": {},
   "outputs": [],
   "source": [
    "# | export\n",
    "\n",
    "\n",
    "def find_default_export(cells):\n",
    "    default_export = None\n",
    "    cell_lines = [c[\"source\"].split(\"\\n\") for c in cells]\n",
    "    for cell in cell_lines:\n",
    "        for line in cell:\n",
    "            trimmed_line = line.strip().replace(\" \", \"\")\n",
    "            if trimmed_line.startswith(\"#|default_exp\"):\n",
    "                default_export = trimmed_line.split(\"#|default_exp\")[1].strip()\n",
    "    return default_export"
   ]
  },
  {
   "cell_type": "code",
   "execution_count": null,
   "metadata": {},
   "outputs": [],
   "source": [
    "# | export\n",
    "\n",
    "\n",
    "def load_nb(nb_path: Path) -> Tuple[AttrDict, Path]:\n",
    "    nb = read_nb(nb_path)\n",
    "    default_export = find_default_export(nb[\"cells\"])\n",
    "    if default_export is None:\n",
    "        raise ValueError(f\"{nb_path.name} does not contain an associated nbdev module\")\n",
    "\n",
    "    module_name = default_export.replace(\".\", \"/\")\n",
    "    module_path = Path(get_config().path(\"lib_path\"), f\"{module_name}.py\")\n",
    "    return nb, module_path"
   ]
  },
  {
   "cell_type": "code",
   "execution_count": null,
   "metadata": {},
   "outputs": [],
   "source": [
    "from nbdev.export import nb_export\n",
    "\n",
    "nb_export(\"test/test_multistep.ipynb\")"
   ]
  },
  {
   "cell_type": "code",
   "execution_count": null,
   "metadata": {},
   "outputs": [
    {
     "data": {
      "text/plain": [
       "True"
      ]
     },
     "execution_count": null,
     "metadata": {},
     "output_type": "execute_result"
    }
   ],
   "source": [
    "nb, module_path = load_nb(Path(\"test/test_multistep.ipynb\"))\n",
    "assert type(nb) == AttrDict\n",
    "module_path.exists()"
   ]
  },
  {
   "cell_type": "code",
   "execution_count": null,
   "metadata": {},
   "outputs": [],
   "source": [
    "check = False\n",
    "try:\n",
    "    nb, module_path = load_nb(Path(Path(\".\").resolve(), \"index.ipynb\"))\n",
    "except ValueError:\n",
    "    check = True\n",
    "assert check"
   ]
  },
  {
   "cell_type": "code",
   "execution_count": null,
   "metadata": {},
   "outputs": [],
   "source": [
    "# | export\n",
    "\n",
    "\n",
    "def load_nb_module(nb_path):\n",
    "    nb, module_path = load_nb(nb_path)\n",
    "    with open(module_path, \"r\") as module_file:\n",
    "        lines = module_file.readlines()\n",
    "    module_code = \"\\n\".join(lines)\n",
    "    return nb, module_code"
   ]
  },
  {
   "cell_type": "code",
   "execution_count": null,
   "metadata": {},
   "outputs": [],
   "source": [
    "nb, module_code = load_nb_module(Path(\"test/test_multistep.ipynb\"))"
   ]
  },
  {
   "cell_type": "code",
   "execution_count": null,
   "metadata": {},
   "outputs": [],
   "source": [
    "assert type(nb) == AttrDict\n",
    "assert type(ast.parse(module_code)) == _ast.Module"
   ]
  },
  {
   "cell_type": "code",
   "execution_count": null,
   "metadata": {},
   "outputs": [],
   "source": [
    "# | export\n",
    "\n",
    "\n",
    "def prepare_env(env_file_path: str = None):\n",
    "    if env_file_path is None:\n",
    "        env_file_path = os.path.expanduser(\"~/.sciflow/env\")\n",
    "    if not os.path.exists(env_file_path):\n",
    "        raise EnvironmentError(\n",
    "            f\"You need to create a Sciflow environment vars file at: {env_file_path}\"\n",
    "        )\n",
    "    with open(env_file_path, \"r\") as env_file:\n",
    "        for line in env_file.readlines():\n",
    "            key, value = line.strip().split(\"=\", 1)\n",
    "            os.environ[key.replace(\"export \", \"\")] = value\n",
    "        python_path = [\n",
    "            p for p in os.environ[\"PYTHONPATH\"].split(\":\") if p != \"$PYTHONPATH\"\n",
    "        ]\n",
    "        sys.path.extend(python_path)"
   ]
  },
  {
   "cell_type": "markdown",
   "metadata": {},
   "source": [
    "# Flows"
   ]
  },
  {
   "cell_type": "code",
   "execution_count": null,
   "metadata": {},
   "outputs": [],
   "source": [
    "# | export\n",
    "\n",
    "\n",
    "def get_module_name(nb_path):\n",
    "    nb = read_nb(nb_path)\n",
    "    module_name = find_default_export(nb[\"cells\"])\n",
    "    return module_name"
   ]
  },
  {
   "cell_type": "code",
   "execution_count": null,
   "metadata": {},
   "outputs": [],
   "source": [
    "# | export\n",
    "\n",
    "\n",
    "def get_flow_path(nb_path, config=None, flow_provider=\"metaflow\"):\n",
    "    module_name = get_module_name(nb_path)\n",
    "    if module_name is None:\n",
    "        return None\n",
    "    if config is None:\n",
    "        config = get_config()\n",
    "    flows_dir = Path(config.path(\"flows_path\"), flow_provider)\n",
    "    if not flows_dir.exists():\n",
    "        flows_dir.mkdir()\n",
    "\n",
    "    return Path(flows_dir, f\"{module_name.split('.')[-1]}.py\")"
   ]
  }
 ],
 "metadata": {
  "kernelspec": {
   "display_name": "python3__SAGEMAKER_INTERNAL__arn:aws:sagemaker:eu-west-1:819792524951:image/sagemaker-distribution-cpu-v0",
   "language": "python",
   "name": "python3__SAGEMAKER_INTERNAL__arn:aws:sagemaker:eu-west-1:819792524951:image/sagemaker-distribution-cpu-v0"
  }
 },
 "nbformat": 4,
 "nbformat_minor": 4
}
