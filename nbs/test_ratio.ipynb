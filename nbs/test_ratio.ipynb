{
 "cells": [
  {
   "cell_type": "code",
   "execution_count": 1,
   "metadata": {},
   "outputs": [],
   "source": [
    "#hide\n",
    "#default_exp test_ratio\n",
    "from nbdev.showdoc import show_doc"
   ]
  },
  {
   "cell_type": "code",
   "execution_count": 68,
   "metadata": {},
   "outputs": [],
   "source": [
    "# export\n",
    "\n",
    "from collections import Counter\n",
    "import ast\n",
    "import nbformat\n",
    "\n",
    "from nbdev.export import read_nb\n",
    "from sciflow.utils import load_nb_module"
   ]
  },
  {
   "cell_type": "code",
   "execution_count": 14,
   "metadata": {},
   "outputs": [
    {
     "name": "stdout",
     "output_type": "stream",
     "text": [
      "The autoreload extension is already loaded. To reload it, use:\n",
      "  %reload_ext autoreload\n"
     ]
    }
   ],
   "source": [
    "%load_ext autoreload\n",
    "%autoreload 2"
   ]
  },
  {
   "cell_type": "markdown",
   "metadata": {},
   "source": [
    "# Quality relevant data extraction\n",
    "\n",
    "## Definitions\n",
    "* Function ($f$) = function in `# export` block\n",
    "* Test ($\\tau$) = call of exported function outside `# export` block\n",
    "\n",
    "## Metrics\n",
    "1. Tests per Function: $\\mathrm{TpF}$ = $\\dfrac{|\\tau|}{f}$,when $f=0; \\mathrm{TpF} = 0$\n",
    "2. In-function Percentage: $\\mathrm{IP} = $\\# $\\mathrm{statements-in-function}:$ \\# $\\mathrm{all-statements}$ \n",
    "3. MD to Code Ratio: $\\mathrm{CMR}$ = # $ \\mathrm{markdown-cells}:$ \\# $\\mathrm{code-cells}$ \n",
    "4. Total Code Lines: $\\mathrm{TCL}$ = \\# $\\mathrm{all-code-lines}$ "
   ]
  },
  {
   "cell_type": "markdown",
   "metadata": {},
   "source": [
    "# 1. Tests-per-Function"
   ]
  },
  {
   "cell_type": "code",
   "execution_count": 124,
   "metadata": {},
   "outputs": [],
   "source": [
    "def get_function_defs(code):\n",
    "    func_names = []\n",
    "    for stmt in ast.walk(ast.parse(code)):\n",
    "        if isinstance(stmt, ast.FunctionDef) and not stmt.name.startswith('_'):\n",
    "            func_names.append(stmt.name)\n",
    "    return func_names"
   ]
  },
  {
   "cell_type": "code",
   "execution_count": 125,
   "metadata": {},
   "outputs": [],
   "source": [
    "def count_func_calls(code, func_defs):\n",
    "    func_calls = Counter({k: 0 for k in func_defs})\n",
    "    for stmt in ast.walk(ast.parse(code)):\n",
    "        if isinstance(stmt, ast.Call):\n",
    "            func_name = stmt.func.id if 'id' in stmt.func.__dict__ else stmt.func.attr\n",
    "            if func_name in func_defs:\n",
    "                if func_name in func_calls:\n",
    "                    func_calls[func_name] += 1\n",
    "    return func_calls"
   ]
  },
  {
   "cell_type": "code",
   "execution_count": 126,
   "metadata": {},
   "outputs": [],
   "source": [
    "test_code = \"\"\"self.hierarchical_topic_reduction(3); \n",
    "topic_reduction(3); \n",
    "lambda x: topic(x); \n",
    "hierarchical_topic_reduction[4]; \n",
    "hierarchical_topic_reduction(4); \n",
    "blabla()\n",
    "\"\"\"\n",
    "test_func_defs = ['topic', 'topic_reduction', 'blablabla', 'hierarchical_topic_reduction']"
   ]
  },
  {
   "cell_type": "code",
   "execution_count": 127,
   "metadata": {},
   "outputs": [],
   "source": [
    "assert count_func_calls(test_code, test_func_defs) == Counter({'topic': 1,\n",
    "         'topic_reduction': 1,\n",
    "         'blablabla': 0,\n",
    "         'hierarchical_topic_reduction': 2})"
   ]
  },
  {
   "cell_type": "code",
   "execution_count": 128,
   "metadata": {},
   "outputs": [],
   "source": [
    "def calc_tpf(num_tests, num_funcs):\n",
    "    return 0 if num_funcs == 0 else num_tests/num_funcs"
   ]
  },
  {
   "cell_type": "code",
   "execution_count": 129,
   "metadata": {},
   "outputs": [],
   "source": [
    "assert calc_tpf(1,1) == 1\n",
    "assert calc_tpf(2,1) == 2\n",
    "assert calc_tpf(1,2) == 0.5\n",
    "assert calc_tpf(0,1) == 0\n",
    "assert calc_tpf(1,0) == 0\n",
    "assert calc_tpf(10,1) == 10"
   ]
  },
  {
   "cell_type": "code",
   "execution_count": 130,
   "metadata": {},
   "outputs": [],
   "source": [
    "def tpf(nb_path):\n",
    "    nb, module_code = load_nb_module(nb_path)\n",
    "    pnb = nbformat.from_dict(nb)\n",
    "    nb_cell_code = '\\n'.join([c['source'].replace('%', '#') for c in pnb.cells if c['cell_type'] == 'code'])\n",
    "    func_defs = get_function_defs(module_code)\n",
    "    func_calls = count_func_calls(nb_cell_code, func_defs)\n",
    "    num_funcs = len(func_calls.keys())\n",
    "    num_tests = sum(func_calls.values())\n",
    "    print(num_tests, num_funcs)\n",
    "    return calc_tpf(num_tests, num_funcs)"
   ]
  },
  {
   "cell_type": "code",
   "execution_count": 131,
   "metadata": {},
   "outputs": [
    {
     "name": "stdout",
     "output_type": "stream",
     "text": [
      "0 1\n"
     ]
    },
    {
     "data": {
      "text/plain": [
       "0.0"
      ]
     },
     "execution_count": 131,
     "metadata": {},
     "output_type": "execute_result"
    }
   ],
   "source": [
    "tpf(\"test/test_module.ipynb\")"
   ]
  },
  {
   "cell_type": "code",
   "execution_count": 132,
   "metadata": {},
   "outputs": [
    {
     "name": "stdout",
     "output_type": "stream",
     "text": [
      "2 5\n"
     ]
    },
    {
     "data": {
      "text/plain": [
       "0.4"
      ]
     },
     "execution_count": 132,
     "metadata": {},
     "output_type": "execute_result"
    }
   ],
   "source": [
    "tpf(\"test/test_export.ipynb\")"
   ]
  },
  {
   "cell_type": "code",
   "execution_count": 133,
   "metadata": {},
   "outputs": [
    {
     "name": "stdout",
     "output_type": "stream",
     "text": [
      "3 3\n"
     ]
    },
    {
     "data": {
      "text/plain": [
       "1.0"
      ]
     },
     "execution_count": 133,
     "metadata": {},
     "output_type": "execute_result"
    }
   ],
   "source": [
    "tpf(\"test/test_data_handling.ipynb\")"
   ]
  },
  {
   "cell_type": "markdown",
   "metadata": {},
   "source": [
    "# 2. In-function Percentage"
   ]
  },
  {
   "cell_type": "code",
   "execution_count": 134,
   "metadata": {},
   "outputs": [],
   "source": [
    "nb_cell_code = \"\"\"\n",
    "def something():\n",
    "    pass; pass\n",
    "#load_ext autoreload\n",
    "#autoreload 2\n",
    "# export\n",
    "\n",
    "\n",
    "import numpy as np\n",
    "import pandas as pd\n",
    "from sciflow.utils import lib_path, odbc_connect, query\n",
    "pd.set_option(\"display.max_colwidth\", 800)\n",
    "# export\n",
    "\"\"\""
   ]
  },
  {
   "cell_type": "code",
   "execution_count": 138,
   "metadata": {},
   "outputs": [],
   "source": [
    "def ifp(nb_path):\n",
    "    nb = read_nb(nb_path)\n",
    "    nb_cell_code = '\\n'.join([c['source'].replace('%', '#') for c in nb.cells if c['cell_type'] == 'code'])\n",
    "    stmts_in_func = 0\n",
    "    stmts_outside_func = 0\n",
    "    for stmt in ast.walk(ast.parse(nb_cell_code)):\n",
    "        if isinstance(stmt, ast.FunctionDef) and not stmt.name.startswith('_'):\n",
    "            for body_item in stmt.body:\n",
    "                stmts_in_func += 1\n",
    "        else:\n",
    "            stmts_outside_func += 1\n",
    "    return 0 if stmts_outside_func + stmts_in_func == 0 else stmts_in_func/ (stmts_outside_func + stmts_in_func)"
   ]
  },
  {
   "cell_type": "code",
   "execution_count": 141,
   "metadata": {},
   "outputs": [
    {
     "data": {
      "text/plain": [
       "0.032679738562091505"
      ]
     },
     "execution_count": 141,
     "metadata": {},
     "output_type": "execute_result"
    }
   ],
   "source": [
    "ifp(\"test/test_data_handling.ipynb\")"
   ]
  },
  {
   "cell_type": "code",
   "execution_count": 142,
   "metadata": {},
   "outputs": [
    {
     "data": {
      "text/plain": [
       "0.07009345794392523"
      ]
     },
     "execution_count": 142,
     "metadata": {},
     "output_type": "execute_result"
    }
   ],
   "source": [
    "ifp(\"test/test_export.ipynb\")"
   ]
  },
  {
   "cell_type": "code",
   "execution_count": 143,
   "metadata": {},
   "outputs": [
    {
     "data": {
      "text/plain": [
       "0.03551401869158879"
      ]
     },
     "execution_count": 143,
     "metadata": {},
     "output_type": "execute_result"
    }
   ],
   "source": [
    "ifp(\"test/test_clustering.ipynb\")"
   ]
  },
  {
   "cell_type": "markdown",
   "metadata": {},
   "source": [
    "# 3. Markdown to Code Ratio"
   ]
  },
  {
   "cell_type": "code",
   "execution_count": 81,
   "metadata": {},
   "outputs": [],
   "source": [
    "def cmr(nb_path):\n",
    "    nb = read_nb(nb_path)\n",
    "    md_cells = [c for c in nb.cells if c['cell_type'] == 'markdown']\n",
    "    code_cells = [c for c in nb.cells if c['cell_type'] == 'code']\n",
    "    num_code_cells = len(code_cells)\n",
    "    num_md_cells = len(md_cells)\n",
    "    return 0 if num_code_cells == 0 else num_md_cells/num_code_cells"
   ]
  },
  {
   "cell_type": "code",
   "execution_count": 82,
   "metadata": {},
   "outputs": [
    {
     "data": {
      "text/plain": [
       "0.5"
      ]
     },
     "execution_count": 82,
     "metadata": {},
     "output_type": "execute_result"
    }
   ],
   "source": [
    "cmr(\"test/test_module.ipynb\")"
   ]
  },
  {
   "cell_type": "code",
   "execution_count": 83,
   "metadata": {},
   "outputs": [
    {
     "data": {
      "text/plain": [
       "0.3157894736842105"
      ]
     },
     "execution_count": 83,
     "metadata": {},
     "output_type": "execute_result"
    }
   ],
   "source": [
    "cmr(\"test/test_export.ipynb\")"
   ]
  },
  {
   "cell_type": "code",
   "execution_count": 84,
   "metadata": {},
   "outputs": [
    {
     "data": {
      "text/plain": [
       "0.30303030303030304"
      ]
     },
     "execution_count": 84,
     "metadata": {},
     "output_type": "execute_result"
    }
   ],
   "source": [
    "cmr(\"test/test_clustering.ipynb\")"
   ]
  },
  {
   "cell_type": "code",
   "execution_count": 85,
   "metadata": {},
   "outputs": [
    {
     "data": {
      "text/plain": [
       "0.5"
      ]
     },
     "execution_count": 85,
     "metadata": {},
     "output_type": "execute_result"
    }
   ],
   "source": [
    "cmr(\"test/test_module.ipynb\")"
   ]
  },
  {
   "cell_type": "markdown",
   "metadata": {},
   "source": [
    "# 4. Total Code Length"
   ]
  },
  {
   "cell_type": "code",
   "execution_count": 75,
   "metadata": {},
   "outputs": [],
   "source": [
    "def tcl(nb_path):\n",
    "    nb = read_nb(nb_path)\n",
    "    return sum([len(c['source']) for c in nb.cells if c['cell_type'] == 'code'])"
   ]
  },
  {
   "cell_type": "code",
   "execution_count": 76,
   "metadata": {},
   "outputs": [
    {
     "data": {
      "text/plain": [
       "290"
      ]
     },
     "execution_count": 76,
     "metadata": {},
     "output_type": "execute_result"
    }
   ],
   "source": [
    "tcl(\"test/test_module.ipynb\")"
   ]
  },
  {
   "cell_type": "code",
   "execution_count": 77,
   "metadata": {},
   "outputs": [
    {
     "data": {
      "text/plain": [
       "1375"
      ]
     },
     "execution_count": 77,
     "metadata": {},
     "output_type": "execute_result"
    }
   ],
   "source": [
    "tcl(\"test/test_export.ipynb\")"
   ]
  },
  {
   "cell_type": "code",
   "execution_count": 78,
   "metadata": {},
   "outputs": [
    {
     "data": {
      "text/plain": [
       "1367"
      ]
     },
     "execution_count": 78,
     "metadata": {},
     "output_type": "execute_result"
    }
   ],
   "source": [
    "tcl(\"test/test_data_handling.ipynb\")"
   ]
  },
  {
   "cell_type": "code",
   "execution_count": 80,
   "metadata": {},
   "outputs": [
    {
     "data": {
      "text/plain": [
       "6406"
      ]
     },
     "execution_count": 80,
     "metadata": {},
     "output_type": "execute_result"
    }
   ],
   "source": [
    "tcl(\"test/test_clustering.ipynb\")"
   ]
  }
 ],
 "metadata": {
  "kernelspec": {
   "display_name": "Python [conda env:sciflow]",
   "language": "python",
   "name": "conda-env-sciflow-py"
  },
  "language_info": {
   "codemirror_mode": {
    "name": "ipython",
    "version": 3
   },
   "file_extension": ".py",
   "mimetype": "text/x-python",
   "name": "python",
   "nbconvert_exporter": "python",
   "pygments_lexer": "ipython3",
   "version": "3.7.6"
  }
 },
 "nbformat": 4,
 "nbformat_minor": 4
}
