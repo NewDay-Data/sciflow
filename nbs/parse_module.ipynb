{
 "cells": [
  {
   "cell_type": "code",
   "execution_count": 1,
   "metadata": {},
   "outputs": [],
   "source": [
    "# default_exp parse_module"
   ]
  },
  {
   "cell_type": "code",
   "execution_count": null,
   "metadata": {},
   "outputs": [],
   "source": [
    "def extract_steps(module_path: Path):\n",
    "    with open(module_path, 'r') as mod_file:\n",
    "        lines = mod_file.read_lines()"
   ]
  },
  {
   "cell_type": "code",
   "execution_count": null,
   "metadata": {},
   "outputs": [],
   "source": [
    "module_path = os.path.join(Config().path(\"lib_path\"), \"test_export.py\")"
   ]
  },
  {
   "cell_type": "code",
   "execution_count": null,
   "metadata": {},
   "outputs": [],
   "source": [
    "with open(module_path, 'r') as mod_file:\n",
    "        lines = mod_file.readlines()"
   ]
  },
  {
   "cell_type": "code",
   "execution_count": null,
   "metadata": {},
   "outputs": [],
   "source": [
    "special_comments = ('# cell', '# internal cell', '# comes from', '# step')"
   ]
  },
  {
   "cell_type": "code",
   "execution_count": null,
   "metadata": {},
   "outputs": [],
   "source": [
    "lines = pd.Series(lines)\n",
    "step_code = {}\n",
    "active_step = None\n",
    "for l in lines.tolist():\n",
    "    if l.lower().startswith('# step'):\n",
    "        active_step = l.split(':')[1].strip()\n",
    "    elif l.lower().startswith('# cell'):\n",
    "        active_step = None\n",
    "    if active_step:\n",
    "        if not active_step in step_code:\n",
    "            step_code[active_step] = []\n",
    "        step_code[active_step].append(l)\n",
    "print('\\n'.join(step_code['first']).strip())"
   ]
  }
 ],
 "metadata": {
  "kernelspec": {
   "display_name": "Python [conda env:jovyan-discovery]",
   "language": "python",
   "name": "conda-env-jovyan-discovery-py"
  },
  "language_info": {
   "codemirror_mode": {
    "name": "ipython",
    "version": 3
   },
   "file_extension": ".py",
   "mimetype": "text/x-python",
   "name": "python",
   "nbconvert_exporter": "python",
   "pygments_lexer": "ipython3",
   "version": "3.7.10"
  }
 },
 "nbformat": 4,
 "nbformat_minor": 4
}
