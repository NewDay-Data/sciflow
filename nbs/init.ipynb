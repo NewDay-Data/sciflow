{
 "cells": [
  {
   "cell_type": "code",
   "execution_count": null,
   "metadata": {},
   "outputs": [],
   "source": [
    "# | include: false\n",
    "# | default_exp init"
   ]
  },
  {
   "cell_type": "markdown",
   "metadata": {
    "tags": []
   },
   "source": [
    "# init\n",
    "\n",
    "> Initialise a new Sciflow Project. Ensures the right files and environment variables are created for using `sciflow`."
   ]
  },
  {
   "cell_type": "code",
   "execution_count": null,
   "metadata": {},
   "outputs": [],
   "source": [
    "%load_ext autoreload\n",
    "%autoreload 2"
   ]
  },
  {
   "cell_type": "markdown",
   "metadata": {},
   "source": [
    "# Imports"
   ]
  },
  {
   "cell_type": "code",
   "execution_count": null,
   "metadata": {},
   "outputs": [],
   "source": [
    "# | export\n",
    "\n",
    "import os\n",
    "from pathlib import Path\n",
    "\n",
    "from fastcore.script import Param, call_parse\n",
    "\n",
    "from sciflow.utils import prepare_env"
   ]
  },
  {
   "cell_type": "markdown",
   "metadata": {},
   "source": [
    "# Test Setup"
   ]
  },
  {
   "cell_type": "code",
   "execution_count": null,
   "metadata": {},
   "outputs": [],
   "source": [
    "examples_root = Path(Path(\".\").resolve(), \"examples\")\n",
    "project_root = Path(\".\").resolve().parent\n",
    "sciflow_dir = Path(\"test/.sciflow\")\n",
    "test_root = Path(\"test\")\n",
    "env_path = Path(sciflow_dir, \"env\")"
   ]
  },
  {
   "cell_type": "code",
   "execution_count": null,
   "metadata": {},
   "outputs": [],
   "source": [
    "# | export\n",
    "\n",
    "env_file_blank = \"\"\"export USER=\n",
    "export SCIFLOW_BUCKET=\n",
    "\"\"\""
   ]
  },
  {
   "cell_type": "markdown",
   "metadata": {},
   "source": [
    "# `write_env_file`"
   ]
  },
  {
   "cell_type": "code",
   "execution_count": null,
   "metadata": {},
   "outputs": [],
   "source": [
    "# | export\n",
    "\n",
    "\n",
    "def write_env_file(sciflow_dir: Path = None):\n",
    "    if sciflow_dir is None:\n",
    "        sciflow_dir = Path(\"~/.sciflow\").expanduser()\n",
    "    env_path = Path(sciflow_dir, \"env\").resolve()\n",
    "    if not env_path.exists():\n",
    "        if not sciflow_dir.exists():\n",
    "            os.mkdir(sciflow_dir)\n",
    "        with open(env_path, \"w\") as env_file:\n",
    "            env_file.write(env_file_blank)\n",
    "        print(f\"Wrote new SciFlow environment file to: {env_path}\")\n",
    "    else:\n",
    "        print(f\"Skipping SciFlow environment file creation - already exists\")"
   ]
  },
  {
   "cell_type": "code",
   "execution_count": null,
   "metadata": {},
   "outputs": [
    {
     "name": "stdout",
     "output_type": "stream",
     "text": [
      "Wrote new SciFlow environment file to: /home/sagemaker-user/git/sciflow/nbs/test/.sciflow/env\n",
      "Skipping SciFlow environment file creation - already exists\n",
      "Skipping SciFlow environment file creation - already exists\n",
      "Wrote new SciFlow environment file to: /home/sagemaker-user/git/sciflow/nbs/test/.sciflow/env\n"
     ]
    }
   ],
   "source": [
    "if env_path.exists():\n",
    "    env_path.unlink()\n",
    "\n",
    "write_env_file(sciflow_dir)\n",
    "\n",
    "with open(env_path, \"r\") as env_file:\n",
    "    env_file_contents = env_file.read()\n",
    "assert env_file_contents == env_file_blank\n",
    "\n",
    "write_env_file()\n",
    "\n",
    "with open(env_path, \"r\") as env_file:\n",
    "    env_file_contents = env_file.read()\n",
    "assert env_file_contents == env_file_blank\n",
    "\n",
    "with open(env_path, \"w\") as env_file:\n",
    "    env_file.write(\"test\")\n",
    "write_env_file(sciflow_dir)\n",
    "with open(env_path, \"r\") as env_file:\n",
    "    env_file_contents = env_file.read()\n",
    "assert \"test\" == env_file_contents\n",
    "\n",
    "env_path.unlink()\n",
    "assert not env_path.exists()\n",
    "\n",
    "write_env_file(sciflow_dir)"
   ]
  },
  {
   "cell_type": "markdown",
   "metadata": {},
   "source": [
    "# `read_env_file`"
   ]
  },
  {
   "cell_type": "code",
   "execution_count": null,
   "metadata": {},
   "outputs": [],
   "source": [
    "# | export\n",
    "\n",
    "\n",
    "def read_env_file(sciflow_dir: Path = None):\n",
    "    if sciflow_dir is None:\n",
    "        sciflow_dir = Path(\"~/.sciflow\").expanduser()\n",
    "    env_path = Path(sciflow_dir, \"env\").resolve()\n",
    "    try:\n",
    "        with open(env_path, \"r\") as env_file:\n",
    "            lines = env_file.readlines()\n",
    "    except FileNotFoundError:\n",
    "        raise FileNotFoundError(\n",
    "            \"The Sciflow environment file is missing - have you run sciflow_init?\"\n",
    "        )\n",
    "    return lines"
   ]
  },
  {
   "cell_type": "code",
   "execution_count": null,
   "metadata": {},
   "outputs": [],
   "source": [
    "empty_env_lines = [\"export USER=\\n\", \"export SCIFLOW_BUCKET=\\n\"]\n",
    "\n",
    "# Unused??\n",
    "env_lines_wout_ppath = [\n",
    "    \"export USER='sciflow'\\n\",\n",
    "    \"export SCIFLOW_BUCKET=somebucket\\n\",\n",
    "]\n",
    "\n",
    "env_lines_w_1_ppath = [\n",
    "    \"export USER='sciflow'\\n\",\n",
    "    f\"export PYTHONPATH=$PYTHONPATH:{str(project_root.resolve())}\\n\",\n",
    "    \"export SCIFLOW_BUCKET=somebucket\\n\",\n",
    "]\n",
    "\n",
    "env_lines_w_2_ppath = [\n",
    "    \"export USER='sciflow'\\n\",\n",
    "    f\"export PYTHONPATH=$PYTHONPATH:{str(project_root.resolve())}:{str(examples_root.resolve())}\\n\",\n",
    "    \"export SCIFLOW_BUCKET=somebucket\\n\",\n",
    "]"
   ]
  },
  {
   "cell_type": "code",
   "execution_count": null,
   "metadata": {
    "tags": []
   },
   "outputs": [],
   "source": [
    "assert empty_env_lines == read_env_file(sciflow_dir)"
   ]
  },
  {
   "cell_type": "markdown",
   "metadata": {},
   "source": [
    "# `edit_pythonpath`"
   ]
  },
  {
   "cell_type": "code",
   "execution_count": null,
   "metadata": {},
   "outputs": [],
   "source": [
    "# | export\n",
    "\n",
    "\n",
    "def edit_pythonpath(env_lines, dir_to_add: Path):\n",
    "    dir_str = str(dir_to_add.resolve())\n",
    "    existing_ppath = [p for p in env_lines if p.find(\"PYTHONPATH\") > -1]\n",
    "\n",
    "    if len(existing_ppath) == 0:\n",
    "        new_line = f\"export PYTHONPATH=$PYTHONPATH:{dir_str}\\n\"\n",
    "        env_lines.append(new_line)\n",
    "        new_text = \"\".join(env_lines)\n",
    "    elif len(existing_ppath) == 1:\n",
    "        prev_line = existing_ppath[0]\n",
    "        if prev_line.find(dir_str) == -1:\n",
    "            new_line = existing_ppath[0].replace(\n",
    "                \"$PYTHONPATH:\", f\"$PYTHONPATH:{dir_str}:\"\n",
    "            )\n",
    "            new_text = \"\".join(env_lines).replace(prev_line, new_line)\n",
    "        else:\n",
    "            new_text = \"\".join(env_lines)\n",
    "    else:\n",
    "        raise ValueError(\n",
    "            \"Env file is malformed - only 1 PYTHONPATH entry should be present\"\n",
    "        )\n",
    "    return new_text"
   ]
  },
  {
   "cell_type": "code",
   "execution_count": null,
   "metadata": {},
   "outputs": [],
   "source": [
    "env_vars = sorted(\n",
    "    [\n",
    "        \"USER\",\n",
    "        \"SCIFLOW_BUCKET\",\n",
    "        \"PYTHONPATH\",\n",
    "    ]\n",
    ")"
   ]
  },
  {
   "cell_type": "code",
   "execution_count": null,
   "metadata": {
    "tags": []
   },
   "outputs": [
    {
     "data": {
      "text/plain": [
       "['export USER=\\n', 'export SCIFLOW_BUCKET=\\n']"
      ]
     },
     "execution_count": null,
     "metadata": {},
     "output_type": "execute_result"
    }
   ],
   "source": [
    "env_lines = read_env_file(sciflow_dir)\n",
    "env_lines"
   ]
  },
  {
   "cell_type": "code",
   "execution_count": null,
   "metadata": {},
   "outputs": [],
   "source": [
    "env_lines = read_env_file(sciflow_dir)\n",
    "assert empty_env_lines == env_lines\n",
    "observed_vars = [\n",
    "    x.split(\"=\")[0].split(\" \")[1]\n",
    "    for x in edit_pythonpath(env_lines, examples_root).split(\"\\n\")\n",
    "    if x.find(\"export\") > -1\n",
    "]\n",
    "assert env_vars == sorted(observed_vars)"
   ]
  },
  {
   "cell_type": "markdown",
   "metadata": {},
   "source": [
    "# `write_edited_pythonpath`"
   ]
  },
  {
   "cell_type": "code",
   "execution_count": null,
   "metadata": {},
   "outputs": [],
   "source": [
    "# | export\n",
    "\n",
    "\n",
    "def write_edited_pythonpath(project_root: Path, sciflow_dir: Path = None):\n",
    "    if sciflow_dir is None:\n",
    "        sciflow_dir = Path(\"~/.sciflow\").expanduser()\n",
    "    env_path = Path(sciflow_dir, \"env\").resolve()\n",
    "    env_lines = read_env_file(sciflow_dir)\n",
    "    new_text = edit_pythonpath(env_lines, project_root)\n",
    "    with open(env_path, \"w\") as env_file:\n",
    "        env_file.write(new_text)"
   ]
  },
  {
   "cell_type": "code",
   "execution_count": null,
   "metadata": {
    "tags": []
   },
   "outputs": [],
   "source": [
    "env_lines_w_ppath = [\n",
    "    \"export USER=\\n\",\n",
    "    \"export SCIFLOW_BUCKET=\\n\",\n",
    "    f\"export PYTHONPATH=$PYTHONPATH:{str(test_root.resolve())}\\n\",\n",
    "]"
   ]
  },
  {
   "cell_type": "code",
   "execution_count": null,
   "metadata": {},
   "outputs": [],
   "source": [
    "write_edited_pythonpath(test_root, sciflow_dir)"
   ]
  },
  {
   "cell_type": "code",
   "execution_count": null,
   "metadata": {
    "tags": []
   },
   "outputs": [],
   "source": [
    "assert read_env_file(sciflow_dir) == env_lines_w_ppath"
   ]
  },
  {
   "cell_type": "markdown",
   "metadata": {},
   "source": [
    "# CLI Commands"
   ]
  },
  {
   "cell_type": "markdown",
   "metadata": {},
   "source": [
    "## `sciflow_init`"
   ]
  },
  {
   "cell_type": "code",
   "execution_count": null,
   "metadata": {},
   "outputs": [],
   "source": [
    "# | export\n",
    "\n",
    "\n",
    "@call_parse\n",
    "def sciflow_init(\n",
    "    project_root: Param(\"The root directory of the project\", Path) = None,\n",
    "    sciflow_dir: Param(\"The sciflow env directory\", Path) = None,\n",
    "):\n",
    "    if project_root is None:\n",
    "        project_root = Path(\".\").resolve()\n",
    "    # TODO - Get latest templates files from web - if has internet connection\n",
    "\n",
    "    # Create sciflow env file if it doesn't exist\n",
    "    write_env_file(sciflow_dir)\n",
    "\n",
    "    # Add project root to PYTHONPATH environment variable\n",
    "    write_edited_pythonpath(project_root, sciflow_dir)\n",
    "\n",
    "    prepare_env()"
   ]
  },
  {
   "cell_type": "code",
   "execution_count": null,
   "metadata": {},
   "outputs": [
    {
     "name": "stdout",
     "output_type": "stream",
     "text": [
      "Skipping SciFlow environment file creation - already exists\n"
     ]
    }
   ],
   "source": [
    "sciflow_init(examples_root, sciflow_dir)"
   ]
  },
  {
   "cell_type": "code",
   "execution_count": null,
   "metadata": {},
   "outputs": [],
   "source": [
    "with open(env_path, \"r\") as env_file:\n",
    "    env_file_contents = env_file.readlines()"
   ]
  },
  {
   "cell_type": "code",
   "execution_count": null,
   "metadata": {},
   "outputs": [],
   "source": [
    "assert (\n",
    "    f\"export PYTHONPATH=$PYTHONPATH:{str(examples_root.resolve())}:{str(test_root.resolve())}\"\n",
    "    == env_file_contents[-1].strip()\n",
    ")"
   ]
  },
  {
   "cell_type": "code",
   "execution_count": null,
   "metadata": {
    "tags": []
   },
   "outputs": [],
   "source": [
    "with open(env_path, \"w\") as env_file:\n",
    "    env_file.write(\"\".join(env_file_contents[:-1]))"
   ]
  }
 ],
 "metadata": {
  "kernelspec": {
   "display_name": "python3__SAGEMAKER_INTERNAL__arn:aws:sagemaker:eu-west-1:819792524951:image/sagemaker-distribution-cpu-v0",
   "language": "python",
   "name": "python3__SAGEMAKER_INTERNAL__arn:aws:sagemaker:eu-west-1:819792524951:image/sagemaker-distribution-cpu-v0"
  }
 },
 "nbformat": 4,
 "nbformat_minor": 4
}
