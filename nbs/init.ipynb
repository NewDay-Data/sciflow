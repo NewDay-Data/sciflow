{
 "cells": [
  {
   "cell_type": "code",
   "execution_count": 1,
   "metadata": {},
   "outputs": [],
   "source": [
    "# hide\n",
    "# default_exp init"
   ]
  },
  {
   "cell_type": "markdown",
   "metadata": {},
   "source": [
    "# Imports"
   ]
  },
  {
   "cell_type": "code",
   "execution_count": 2,
   "metadata": {},
   "outputs": [],
   "source": [
    "# export\n",
    "\n",
    "from pathlib import Path\n",
    "import sys\n",
    "import shutil\n",
    "\n",
    "from fastcore.script import Param, call_parse"
   ]
  },
  {
   "cell_type": "code",
   "execution_count": 3,
   "metadata": {},
   "outputs": [],
   "source": [
    "%load_ext autoreload\n",
    "%autoreload 2"
   ]
  },
  {
   "cell_type": "markdown",
   "metadata": {},
   "source": [
    "# Initialise a new Sciflow Project"
   ]
  },
  {
   "cell_type": "code",
   "execution_count": 4,
   "metadata": {},
   "outputs": [],
   "source": [
    "# export \n",
    "\n",
    "env_file_blank = \"\"\"\n",
    "# export USER=\n",
    "# export ODBC_DRIVER=\n",
    "# export ODBC_USER=\n",
    "# export ODBC_PWD=\n",
    "# export ODBC_PORT=\n",
    "# export ODBC_HOST=\n",
    "# export SSL_CERTS=\n",
    "# export SCIFLOW_BUCKET=\n",
    "# export SCIFLOW_BUCKET_TABLE_ALIAS=\n",
    "\n",
    "\"\"\""
   ]
  },
  {
   "cell_type": "code",
   "execution_count": 5,
   "metadata": {},
   "outputs": [],
   "source": [
    "# export\n",
    "\n",
    "def write_env_file(sciflow_dir: Path = None):\n",
    "    if sciflow_dir is None:\n",
    "        sciflow_dir = Path('~/.sciflow').expanduser()\n",
    "    env_path = Path(sciflow_dir, 'env').resolve()\n",
    "    if not env_path.exists():\n",
    "        if not sciflow_dir.exists():\n",
    "            os.mkdir(sciflow_dir)\n",
    "        with open(env_path, 'w') as env_file:\n",
    "            env_file.write(env_file_blank)\n",
    "        print(f'Wrote new SciFlow environment file to: {env_path}')\n",
    "    else:\n",
    "        print(f'Skipping SciFlow environment file creation - already exists')"
   ]
  },
  {
   "cell_type": "code",
   "execution_count": 6,
   "metadata": {},
   "outputs": [
    {
     "name": "stdout",
     "output_type": "stream",
     "text": [
      "Wrote new SciFlow environment file to: /home/sagemaker-user/git/sciflow/nbs/test/.sciflow/env\n",
      "Skipping SciFlow environment file creation - already exists\n",
      "Skipping SciFlow environment file creation - already exists\n"
     ]
    }
   ],
   "source": [
    "sciflow_dir = Path('test/.sciflow')\n",
    "env_path = os.path.join(sciflow_dir, 'env')\n",
    "\n",
    "write_env_file(sciflow_dir)\n",
    "\n",
    "with open(env_path, 'r') as env_file:\n",
    "        env_file_contents = env_file.read()\n",
    "assert(env_file_contents == env_file_blank)\n",
    "\n",
    "write_env_file()\n",
    "\n",
    "with open(env_path, 'r') as env_file:\n",
    "        env_file_contents = env_file.read()\n",
    "assert(env_file_contents == env_file_blank)\n",
    "\n",
    "with open(env_path, 'w') as env_file:\n",
    "    env_file.write(\"test\")\n",
    "write_env_file(sciflow_dir)\n",
    "with open(env_path, 'r') as env_file:\n",
    "        env_file_contents = env_file.read()\n",
    "assert(\"test\" == env_file_contents)\n",
    "        \n",
    "Path('test/.sciflow/env').unlink()\n",
    "assert(not Path('test/.sciflow/env').exists())"
   ]
  },
  {
   "cell_type": "code",
   "execution_count": 7,
   "metadata": {},
   "outputs": [],
   "source": [
    "# export\n",
    "\n",
    "\n",
    "@call_parse\n",
    "def sciflow_init(project_root: Param(\"The root directory of the project\", Path) = None):\n",
    "    if project_root is None:\n",
    "        project_root = Path('.').resolve()\n",
    "    # Add project_root to PYTHONPATH\n",
    "    sys.path.append(str(project_root.resolve()))\n",
    "    \n",
    "    # TODO - Get latest templates files from web - if has internet connection\n",
    "    \n",
    "    # Create sciflow env file if it doesn't exist\n",
    "    write_env_file()"
   ]
  },
  {
   "cell_type": "code",
   "execution_count": 8,
   "metadata": {},
   "outputs": [
    {
     "name": "stdout",
     "output_type": "stream",
     "text": [
      "Skipping SciFlow environment file creation - already exists\n"
     ]
    }
   ],
   "source": [
    "sciflow_init(Path('../examples'))"
   ]
  },
  {
   "cell_type": "code",
   "execution_count": 9,
   "metadata": {},
   "outputs": [],
   "source": [
    "assert any([p for p in sys.path if p == str(Path('../examples').resolve())])"
   ]
  },
  {
   "cell_type": "code",
   "execution_count": 10,
   "metadata": {},
   "outputs": [],
   "source": [
    "from sciflow_examples.abalone import preprocess, train"
   ]
  }
 ],
 "metadata": {
  "instance_type": "ml.m5.xlarge",
  "kernelspec": {
   "display_name": "sciflow (sciflow/3)",
   "language": "python",
   "name": "python3__SAGEMAKER_INTERNAL__arn:aws:sagemaker:eu-west-1:368653567616:image-version/sciflow/3"
  },
  "language_info": {
   "codemirror_mode": {
    "name": "ipython",
    "version": 3
   },
   "file_extension": ".py",
   "mimetype": "text/x-python",
   "name": "python",
   "nbconvert_exporter": "python",
   "pygments_lexer": "ipython3",
   "version": "3.9.0"
  }
 },
 "nbformat": 4,
 "nbformat_minor": 4
}
