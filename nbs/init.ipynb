{
 "cells": [
  {
   "cell_type": "code",
   "execution_count": null,
   "metadata": {},
   "outputs": [],
   "source": [
    "# hide\n",
    "# default_exp init"
   ]
  },
  {
   "cell_type": "markdown",
   "metadata": {},
   "source": [
    "# Imports"
   ]
  },
  {
   "cell_type": "code",
   "execution_count": null,
   "metadata": {},
   "outputs": [],
   "source": [
    "# export\n",
    "\n",
    "from pathlib import Path\n",
    "\n",
    "from fastcore.script import Param, call_parse"
   ]
  },
  {
   "cell_type": "code",
   "execution_count": null,
   "metadata": {},
   "outputs": [],
   "source": [
    "%load_ext autoreload\n",
    "%autoreload 2"
   ]
  },
  {
   "cell_type": "markdown",
   "metadata": {},
   "source": [
    "# Initialise a new Sciflow Project"
   ]
  },
  {
   "cell_type": "code",
   "execution_count": null,
   "metadata": {},
   "outputs": [],
   "source": [
    "# export\n",
    "\n",
    "env_file_blank = \"\"\"export USER=\n",
    "export ODBC_DRIVER=\n",
    "export ODBC_USER=\n",
    "export ODBC_PWD=\n",
    "export ODBC_PORT=\n",
    "export ODBC_HOST=\n",
    "export SSL_CERTS=\n",
    "export SCIFLOW_BUCKET=\n",
    "export SCIFLOW_BUCKET_TABLE_ALIAS=\n",
    "\"\"\""
   ]
  },
  {
   "cell_type": "code",
   "execution_count": null,
   "metadata": {},
   "outputs": [],
   "source": [
    "# export\n",
    "\n",
    "\n",
    "def write_env_file(sciflow_dir: Path = None):\n",
    "    if sciflow_dir is None:\n",
    "        sciflow_dir = Path(\"~/.sciflow\").expanduser()\n",
    "    env_path = Path(sciflow_dir, \"env\").resolve()\n",
    "    if not env_path.exists():\n",
    "        if not sciflow_dir.exists():\n",
    "            os.mkdir(sciflow_dir)\n",
    "        with open(env_path, \"w\") as env_file:\n",
    "            env_file.write(env_file_blank)\n",
    "        print(f\"Wrote new SciFlow environment file to: {env_path}\")\n",
    "    else:\n",
    "        print(f\"Skipping SciFlow environment file creation - already exists\")"
   ]
  },
  {
   "cell_type": "code",
   "execution_count": null,
   "metadata": {},
   "outputs": [],
   "source": [
    "examples_root = Path(\"../examples\")\n",
    "project_root = Path(\"../\")\n",
    "sciflow_dir = Path(\"test/.sciflow\")\n",
    "test_root = Path(\"test\")\n",
    "env_path = os.path.join(sciflow_dir, \"env\")"
   ]
  },
  {
   "cell_type": "code",
   "execution_count": null,
   "metadata": {},
   "outputs": [],
   "source": [
    "if Path(\"test/.sciflow/env\").exists():\n",
    "    Path(\"test/.sciflow/env\").unlink()\n",
    "\n",
    "write_env_file(sciflow_dir)\n",
    "\n",
    "with open(env_path, \"r\") as env_file:\n",
    "    env_file_contents = env_file.read()\n",
    "assert env_file_contents == env_file_blank\n",
    "\n",
    "write_env_file()\n",
    "\n",
    "with open(env_path, \"r\") as env_file:\n",
    "    env_file_contents = env_file.read()\n",
    "assert env_file_contents == env_file_blank\n",
    "\n",
    "with open(env_path, \"w\") as env_file:\n",
    "    env_file.write(\"test\")\n",
    "write_env_file(sciflow_dir)\n",
    "with open(env_path, \"r\") as env_file:\n",
    "    env_file_contents = env_file.read()\n",
    "assert \"test\" == env_file_contents\n",
    "\n",
    "Path(\"test/.sciflow/env\").unlink()\n",
    "assert not Path(\"test/.sciflow/env\").exists()\n",
    "\n",
    "write_env_file(sciflow_dir)"
   ]
  },
  {
   "cell_type": "code",
   "execution_count": null,
   "metadata": {},
   "outputs": [],
   "source": [
    "# export\n",
    "\n",
    "\n",
    "def read_env_file(sciflow_dir: Path = None):\n",
    "    if sciflow_dir is None:\n",
    "        sciflow_dir = Path(\"~/.sciflow\").expanduser()\n",
    "    env_path = Path(sciflow_dir, \"env\").resolve()\n",
    "    with open(env_path, \"r\") as env_file:\n",
    "        lines = env_file.readlines()\n",
    "    return lines"
   ]
  },
  {
   "cell_type": "code",
   "execution_count": null,
   "metadata": {},
   "outputs": [],
   "source": [
    "env_lines_wout_ppath = [\n",
    "    \"export USER='sciflow'\\n\",\n",
    "    \"export ODBC_DRIVER=/opt/odbc/xyz.so\\n\",\n",
    "    \"export SCIFLOW_BUCKET_TABLE_ALIAS=somebucket\\n\",\n",
    "]\n",
    "\n",
    "env_lines_w_1_ppath = [\n",
    "    \"export USER='sciflow'\\n\",\n",
    "    f\"export PYTHONPATH=$PYTHONPATH:{str(project_root.resolve())}\\n\",\n",
    "    \"export SCIFLOW_BUCKET_TABLE_ALIAS=somebucket\\n\",\n",
    "]\n",
    "\n",
    "env_lines_w_2_ppath = [\n",
    "    \"export USER='sciflow'\\n\",\n",
    "    f\"export PYTHONPATH=$PYTHONPATH:{str(project_root.resolve())}:{str(examples_root.resolve())}\\n\",\n",
    "    \"export SCIFLOW_BUCKET_TABLE_ALIAS=somebucket\\n\",\n",
    "]"
   ]
  },
  {
   "cell_type": "code",
   "execution_count": null,
   "metadata": {},
   "outputs": [],
   "source": [
    "# export\n",
    "\n",
    "\n",
    "def edit_pythonpath(env_lines, dir_to_add: Path):\n",
    "    dir_str = str(dir_to_add.resolve())\n",
    "    existing_ppath = [p for p in env_lines if p.find(\"PYTHONPATH\") > -1]\n",
    "\n",
    "    if len(existing_ppath) == 0:\n",
    "        new_line = f\"export PYTHONPATH=$PYTHONPATH:{dir_str}\\n\"\n",
    "        env_lines.append(new_line)\n",
    "        new_text = \"\".join(env_lines)\n",
    "    elif len(existing_ppath) == 1:\n",
    "        prev_line = existing_ppath[0]\n",
    "        if prev_line.find(dir_str) == -1:\n",
    "            new_line = existing_ppath[0].replace(\n",
    "                \"$PYTHONPATH:\", f\"$PYTHONPATH:{dir_str}:\"\n",
    "            )\n",
    "            new_text = \"\".join(env_lines).replace(prev_line, new_line)\n",
    "        else:\n",
    "            new_text = \"\".join(env_lines)\n",
    "    else:\n",
    "        raise ValueError(\n",
    "            \"Env file is malformed - only 1 PYTHONPATH entry should be present\"\n",
    "        )\n",
    "    return new_text"
   ]
  },
  {
   "cell_type": "code",
   "execution_count": null,
   "metadata": {},
   "outputs": [],
   "source": [
    "# export\n",
    "\n",
    "\n",
    "def write_edited_pythonpath(project_root: Path, sciflow_dir: Path = None):\n",
    "    if sciflow_dir is None:\n",
    "        sciflow_dir = Path(\"~/.sciflow\").expanduser()\n",
    "    env_path = Path(sciflow_dir, \"env\").resolve()\n",
    "    env_lines = read_env_file(sciflow_dir)\n",
    "    new_text = edit_pythonpath(env_lines, project_root)\n",
    "    with open(env_path, \"w\") as env_file:\n",
    "        env_file.write(new_text)"
   ]
  },
  {
   "cell_type": "code",
   "execution_count": null,
   "metadata": {},
   "outputs": [],
   "source": [
    "env_vars = sorted(\n",
    "    [\n",
    "        \"USER\",\n",
    "        \"ODBC_DRIVER\",\n",
    "        \"ODBC_USER\",\n",
    "        \"ODBC_PWD\",\n",
    "        \"ODBC_PORT\",\n",
    "        \"ODBC_HOST\",\n",
    "        \"SSL_CERTS\",\n",
    "        \"SCIFLOW_BUCKET\",\n",
    "        \"SCIFLOW_BUCKET_TABLE_ALIAS\",\n",
    "        \"PYTHONPATH\",\n",
    "    ]\n",
    ")"
   ]
  },
  {
   "cell_type": "code",
   "execution_count": null,
   "metadata": {},
   "outputs": [],
   "source": [
    "env_lines = read_env_file(sciflow_dir)\n",
    "observed_vars = [\n",
    "    x.split(\"=\")[0].split(\" \")[1]\n",
    "    for x in edit_pythonpath(env_lines, examples_root).split(\"\\n\")\n",
    "    if x.find(\"export\") > -1\n",
    "]\n",
    "assert env_vars == sorted(observed_vars)"
   ]
  },
  {
   "cell_type": "code",
   "execution_count": null,
   "metadata": {},
   "outputs": [],
   "source": [
    "write_edited_pythonpath(test_root, sciflow_dir)"
   ]
  },
  {
   "cell_type": "code",
   "execution_count": null,
   "metadata": {},
   "outputs": [],
   "source": [
    "# export\n",
    "\n",
    "\n",
    "@call_parse\n",
    "def sciflow_init(\n",
    "    project_root: Param(\"The root directory of the project\", Path) = None,\n",
    "    sciflow_dir: Param(\"The sciflow env directory\", Path) = None,\n",
    "):\n",
    "    if project_root is None:\n",
    "        project_root = Path(\".\").resolve()\n",
    "    # TODO - Get latest templates files from web - if has internet connection\n",
    "\n",
    "    # Create sciflow env file if it doesn't exist\n",
    "    write_env_file(sciflow_dir)\n",
    "\n",
    "    # Add project root to PYTHONPATH environment variable\n",
    "    write_edited_pythonpath(project_root, sciflow_dir)"
   ]
  },
  {
   "cell_type": "code",
   "execution_count": null,
   "metadata": {},
   "outputs": [],
   "source": [
    "sciflow_init(examples_root, sciflow_dir)"
   ]
  },
  {
   "cell_type": "code",
   "execution_count": null,
   "metadata": {},
   "outputs": [],
   "source": [
    "with open(env_path, \"r\") as env_file:\n",
    "    env_file_contents = env_file.readlines()"
   ]
  },
  {
   "cell_type": "code",
   "execution_count": null,
   "metadata": {},
   "outputs": [],
   "source": [
    "assert (\n",
    "    f\"export PYTHONPATH=$PYTHONPATH:{str(examples_root.resolve())}:{str(test_root.resolve())}\"\n",
    "    == env_file_contents[-1].strip()\n",
    ")"
   ]
  },
  {
   "cell_type": "code",
   "execution_count": null,
   "metadata": {},
   "outputs": [],
   "source": [
    "with open(env_path, \"w\") as env_file:\n",
    "    env_file.write(\"\".join(env_file_contents[:-1]))"
   ]
  }
 ],
 "metadata": {
  "kernelspec": {
   "display_name": "sciflow (sciflow/3)",
   "language": "python",
   "name": "python3__SAGEMAKER_INTERNAL__arn:aws:sagemaker:eu-west-1:368653567616:image-version/sciflow/3"
  }
 },
 "nbformat": 4,
 "nbformat_minor": 4
}
