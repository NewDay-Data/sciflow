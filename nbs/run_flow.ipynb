{
 "cells": [
  {
   "cell_type": "code",
   "execution_count": null,
   "metadata": {},
   "outputs": [],
   "source": [
    "# default_exp run_flow"
   ]
  },
  {
   "cell_type": "code",
   "execution_count": null,
   "metadata": {},
   "outputs": [],
   "source": [
    "%load_ext autoreload\n",
    "%autoreload 2"
   ]
  },
  {
   "cell_type": "code",
   "execution_count": null,
   "metadata": {},
   "outputs": [],
   "source": [
    "# export\n",
    "\n",
    "\n",
    "import asyncio\n",
    "import multiprocessing\n",
    "import os\n",
    "import sys\n",
    "from itertools import product\n",
    "from pathlib import Path\n",
    "from typing import Any, Dict, Iterable\n",
    "\n",
    "import pandas as pd\n",
    "from fastcore.script import call_parse\n",
    "from nbdev.export import find_default_export, get_config, read_nb\n",
    "\n",
    "from sciflow.utils import chunks, get_flow_path, prepare_env, run_shell_cmd"
   ]
  },
  {
   "cell_type": "markdown",
   "metadata": {},
   "source": [
    "# Verify and Run Sciflow Flows"
   ]
  },
  {
   "cell_type": "code",
   "execution_count": null,
   "metadata": {},
   "outputs": [],
   "source": [
    "nb_path = Path(Path(\".\").resolve(), \"test\", \"test_export.ipynb\")\n",
    "flow_path = get_flow_path(nb_path, flow_provider=\"sagemaker\")\n",
    "nb = read_nb(nb_path)\n",
    "module_name = find_default_export(nb[\"cells\"]).replace(\".\", \"/\")\n",
    "test_module = os.path.join(get_config().path(\"lib_path\"), f\"{module_name}.py\")\n",
    "flows_dir = get_config(cfg_name=\"test/settings.ini\").path(\"flows_path\")\n",
    "flow_name = os.path.basename(test_module)"
   ]
  },
  {
   "cell_type": "markdown",
   "metadata": {},
   "source": [
    "# Verify or Run an Individual Flow\n",
    "\n",
    "> `subprocess` is used to run flows as most flow providers bundle a CLI which makes for a consistent execution experience with minimal adaptation."
   ]
  },
  {
   "cell_type": "code",
   "execution_count": null,
   "metadata": {},
   "outputs": [],
   "source": [
    "# export\n",
    "\n",
    "\n",
    "def check_is_init():\n",
    "    root_path = str(get_config().path(\"root_path\"))\n",
    "\n",
    "    if root_path not in sys.path:\n",
    "        # TODO change to SciflowError\n",
    "        raise ValueError(\"Sciflow project is not in path; have you run sciflow_init?\")"
   ]
  },
  {
   "cell_type": "code",
   "execution_count": null,
   "metadata": {},
   "outputs": [],
   "source": [
    "# export\n",
    "\n",
    "\n",
    "def make_shell_cmd(\n",
    "    flow_nb_path, flow_provider=\"metaflow\", flow_command=\"show\", params=None\n",
    "):\n",
    "    prepare_env()\n",
    "    if flow_nb_path.suffix == \".ipynb\":\n",
    "        flow_path = get_flow_path(flow_nb_path, flow_provider=flow_provider)\n",
    "    else:\n",
    "        flow_path = flow_nb_path\n",
    "    if params:\n",
    "        args = \" \".join([f\"--{k} {v}\" for k, v in params.items()])\n",
    "\n",
    "        flow_command = f\"{flow_command} {args}\"\n",
    "\n",
    "    return f\"python '{flow_path}' {flow_command}\""
   ]
  },
  {
   "cell_type": "code",
   "execution_count": null,
   "metadata": {},
   "outputs": [],
   "source": [
    "# export\n",
    "\n",
    "\n",
    "def check_call_flow(\n",
    "    flow_nb_path, flow_provider=\"metaflow\", flow_command=\"show\", params=None\n",
    "):\n",
    "    check_is_init()\n",
    "\n",
    "    cmd = make_shell_cmd(flow_nb_path, flow_provider, flow_command, params)\n",
    "    pipe, output = run_shell_cmd(cmd)\n",
    "    return pipe.returncode, output"
   ]
  },
  {
   "cell_type": "code",
   "execution_count": null,
   "metadata": {},
   "outputs": [],
   "source": [
    "ret_code, output = check_call_flow(\n",
    "    nb_path, flow_provider=\"metaflow\", flow_command=\"show\"\n",
    ")\n",
    "assert ret_code == 0"
   ]
  },
  {
   "cell_type": "code",
   "execution_count": null,
   "metadata": {},
   "outputs": [],
   "source": [
    "# slow\n",
    "\n",
    "ret_code, output = check_call_flow(\n",
    "    nb_path, flow_provider=\"metaflow\", flow_command=\"run\"\n",
    ")\n",
    "assert ret_code == 0\n",
    "print(output)"
   ]
  },
  {
   "cell_type": "code",
   "execution_count": null,
   "metadata": {},
   "outputs": [],
   "source": [
    "ret_code, output = check_call_flow(\n",
    "    nb_path, flow_provider=\"sagemaker\", flow_command=\"show\"\n",
    ")\n",
    "assert ret_code == 0"
   ]
  },
  {
   "cell_type": "code",
   "execution_count": null,
   "metadata": {},
   "outputs": [],
   "source": [
    "# slow\n",
    "\n",
    "ret_code, output = check_call_flow(\n",
    "    nb_path, flow_provider=\"sagemaker\", flow_command=\"run\"\n",
    ")\n",
    "assert ret_code == 0\n",
    "print(output)"
   ]
  },
  {
   "cell_type": "markdown",
   "metadata": {},
   "source": [
    "# Verify/Run all Flows"
   ]
  },
  {
   "cell_type": "code",
   "execution_count": null,
   "metadata": {},
   "outputs": [],
   "source": [
    "# export\n",
    "\n",
    "\n",
    "def check_call_flows(\n",
    "    config,\n",
    "    flow_provider=\"metaflow\",\n",
    "    flow_command=\"show\",\n",
    "    ignore_suffix=None,\n",
    "    exit_on_error=True,\n",
    "):\n",
    "    flow_results = {}\n",
    "    flows_dir = Path(config.path(\"flows_path\"), flow_provider)\n",
    "\n",
    "    if ignore_suffix:\n",
    "        flow_file_names = [\n",
    "            p for p in os.listdir(flows_dir) if not p.endswith(ignore_suffix)\n",
    "        ]\n",
    "    else:\n",
    "        flow_file_names = os.listdir(flows_dir)\n",
    "    ret_codes = []\n",
    "    exit_code = 0\n",
    "    for flow_file_name in flow_file_names:\n",
    "        flow_name = os.path.basename(flow_file_name)\n",
    "        if flow_file_name.startswith(\"_sciflow\"):\n",
    "            continue\n",
    "        if flow_file_name.endswith(\".py\"):\n",
    "            ret_code, output = check_call_flow(\n",
    "                Path(flows_dir, flow_file_name), flow_command=flow_command\n",
    "            )\n",
    "            flow_results[flow_name] = ret_code, output\n",
    "            if ret_code == 0:\n",
    "                print(f\"Flow: {flow_name} {flow_command} verified\")\n",
    "            else:\n",
    "                print(\n",
    "                    f\"Flow: {flow_name} {flow_command} verification failed\\nDetails:\\n{output}\"\n",
    "                )\n",
    "            ret_codes.append(ret_code)\n",
    "    if any([rc != 0 for rc in ret_codes]):\n",
    "        exit_code = 1\n",
    "        try:\n",
    "            # Exit with an error code if running from a non interactive Python environment.\n",
    "            get_ipython().__class__.__name__\n",
    "        except NameError:\n",
    "            if exit_on_error:\n",
    "                return sys.exit(exit_code)\n",
    "    return exit_code"
   ]
  },
  {
   "cell_type": "code",
   "execution_count": null,
   "metadata": {},
   "outputs": [],
   "source": [
    "check_call_flows(get_config(cfg_name=\"test/settings.ini\"))"
   ]
  },
  {
   "cell_type": "code",
   "execution_count": null,
   "metadata": {},
   "outputs": [],
   "source": [
    "# slow\n",
    "\n",
    "check_call_flows(\n",
    "    get_config(cfg_name=\"test/settings.ini\"),\n",
    "    flow_command=\"--no-pylint run\",\n",
    "    ignore_suffix=\"_no_params.py\",\n",
    ")"
   ]
  },
  {
   "cell_type": "code",
   "execution_count": null,
   "metadata": {},
   "outputs": [],
   "source": [
    "check_call_flows(get_config(cfg_name=\"test/settings.ini\"), flow_provider=\"sagemaker\")"
   ]
  },
  {
   "cell_type": "code",
   "execution_count": null,
   "metadata": {},
   "outputs": [],
   "source": [
    "# slow\n",
    "\n",
    "nb_path = Path(Path(\".\").resolve(), \"test\", \"test_multistep.ipynb\")\n",
    "ret_code, output = check_call_flow(\n",
    "    nb_path,\n",
    "    flow_command=\"run\",\n",
    "    params={\"traffic_percent\": 1, \"model_level\": \"dispatcher\"},\n",
    ")\n",
    "print(output)\n",
    "assert ret_code == 0"
   ]
  },
  {
   "cell_type": "markdown",
   "metadata": {},
   "source": [
    "# Aynsc Flow Running\n",
    "\n",
    "> Run the flow you are working on from the notebook you are working on. This maximises the amount of experiments you can run as you don't have down time. While long running tasks are running you can keep exploring! :-)"
   ]
  },
  {
   "cell_type": "code",
   "execution_count": null,
   "metadata": {},
   "outputs": [],
   "source": [
    "# export\n",
    "\n",
    "\n",
    "async def flow_task(\n",
    "    flow_nb_path, flow_provider=\"metaflow\", flow_command=\"run\", params=None\n",
    "):\n",
    "    cmd = make_shell_cmd(flow_nb_path, flow_provider, flow_command, params)\n",
    "\n",
    "    proc = await asyncio.create_subprocess_shell(\n",
    "        cmd, stdout=asyncio.subprocess.PIPE, stderr=asyncio.subprocess.PIPE\n",
    "    )\n",
    "\n",
    "    stdout, stderr = await proc.communicate()\n",
    "\n",
    "    # print(f\"[{cmd!r} exited with {proc.returncode}]\")\n",
    "    err = \"\"\n",
    "    out = \"\"\n",
    "    if stderr:\n",
    "        err = f'[stderr]\\n{stderr.decode(\"utf-8\").strip()}'\n",
    "    if stdout:\n",
    "        out = f'[stdout]\\n{stdout.decode(\"utf-8\").strip()}'\n",
    "\n",
    "    return proc.returncode, err + out"
   ]
  },
  {
   "cell_type": "code",
   "execution_count": null,
   "metadata": {},
   "outputs": [],
   "source": [
    "# export\n",
    "\n",
    "\n",
    "def run_flow_async(\n",
    "    flow_nb_path, flow_provider=\"metaflow\", flow_command=\"run\", params=None\n",
    "):\n",
    "    loop = asyncio.get_event_loop()\n",
    "    task = loop.create_task(\n",
    "        flow_task(flow_nb_path, flow_provider, flow_command, params)\n",
    "    )\n",
    "    return task"
   ]
  },
  {
   "cell_type": "code",
   "execution_count": null,
   "metadata": {},
   "outputs": [],
   "source": [
    "# slow\n",
    "\n",
    "task = run_flow_async(\n",
    "    Path(Path(\".\").resolve(), \"test\", \"test_multistep.ipynb\"),\n",
    "    params={\"traffic_percent\": 10, \"workers\": 12},\n",
    ")\n",
    "task"
   ]
  },
  {
   "cell_type": "code",
   "execution_count": null,
   "metadata": {},
   "outputs": [],
   "source": [
    "# slow\n",
    "await task\n",
    "assert 0 == task.result()[0]"
   ]
  },
  {
   "cell_type": "code",
   "execution_count": null,
   "metadata": {},
   "outputs": [],
   "source": [
    "# slow\n",
    "\n",
    "task = run_flow_async(\n",
    "    Path(Path(\".\").resolve(), \"test\", \"test_export.ipynb\"),\n",
    "    flow_provider=\"sagemaker\",\n",
    "    params={\"some_param\": \"async\"},\n",
    ")\n",
    "task"
   ]
  },
  {
   "cell_type": "code",
   "execution_count": null,
   "metadata": {},
   "outputs": [],
   "source": [
    "# slow\n",
    "\n",
    "await task\n",
    "assert 0 == task.result()[0]"
   ]
  },
  {
   "cell_type": "code",
   "execution_count": null,
   "metadata": {},
   "outputs": [],
   "source": [
    "# slow\n",
    "\n",
    "task = run_flow_async(\n",
    "    Path(Path(\".\").resolve(), \"test\", \"test_multistep.ipynb\"),\n",
    "    flow_provider=\"sagemaker\",\n",
    "    params={\"traffic_percent\": 10, \"workers\": 12},\n",
    ")\n",
    "task"
   ]
  },
  {
   "cell_type": "code",
   "execution_count": null,
   "metadata": {},
   "outputs": [],
   "source": [
    "# slow\n",
    "\n",
    "await task\n",
    "assert 0 == task.result()[0]"
   ]
  },
  {
   "cell_type": "code",
   "execution_count": null,
   "metadata": {},
   "outputs": [],
   "source": [
    "# export\n",
    "\n",
    "\n",
    "async def run_flows_async(\n",
    "    config,\n",
    "    flow_provider=\"metaflow\",\n",
    "    flow_command=\"run\",\n",
    "    params=None,\n",
    "    ignore_suffix=None,\n",
    "    exit_on_error=True,\n",
    "):\n",
    "    flow_tasks = {}\n",
    "    flows_dir = Path(config.path(\"flows_path\"), flow_provider)\n",
    "\n",
    "    if ignore_suffix:\n",
    "        flow_file_names = [\n",
    "            p for p in os.listdir(flows_dir) if not p.endswith(ignore_suffix)\n",
    "        ]\n",
    "    else:\n",
    "        flow_file_names = os.listdir(flows_dir)\n",
    "    ret_codes = []\n",
    "    exit_code = 0\n",
    "    loop = asyncio.get_event_loop()\n",
    "\n",
    "    for flow_file_name in flow_file_names:\n",
    "        flow_name = os.path.basename(flow_file_name)\n",
    "        if flow_file_name.startswith(\"_sciflow\"):\n",
    "            continue\n",
    "        if flow_file_name.endswith(\".py\"):\n",
    "            task = loop.create_task(\n",
    "                flow_task(\n",
    "                    Path(flows_dir, flow_file_name), flow_provider, flow_command, params\n",
    "                )\n",
    "            )\n",
    "            flow_tasks[flow_name] = task\n",
    "\n",
    "    for flow_name, task in flow_tasks.items():\n",
    "        await task\n",
    "        ret_code = task.result()[0]\n",
    "        if ret_code == 0:\n",
    "            print(f\"Flow: {flow_name} {flow_command} verified\")\n",
    "        else:\n",
    "            print(\n",
    "                f\"Flow: {flow_name} {flow_command} verification failed\\nDetails:\\n{output}\"\n",
    "            )\n",
    "        ret_codes.append(ret_code)\n",
    "    if any([rc != 0 for rc in ret_codes]):\n",
    "        exit_code = 1\n",
    "        try:\n",
    "            # Exit with an error code if running from a non interactive Python environment.\n",
    "            get_ipython().__class__.__name__\n",
    "        except NameError:\n",
    "            if exit_on_error:\n",
    "                return sys.exit(exit_code)\n",
    "    return exit_code"
   ]
  },
  {
   "cell_type": "code",
   "execution_count": null,
   "metadata": {},
   "outputs": [],
   "source": [
    "# slow\n",
    "\n",
    "task = run_flows_async(\n",
    "    get_config(cfg_name=\"test/settings.ini\"),\n",
    "    flow_command=\"--no-pylint run\",\n",
    "    ignore_suffix=\"_no_params.py\",\n",
    ")"
   ]
  },
  {
   "cell_type": "code",
   "execution_count": null,
   "metadata": {},
   "outputs": [],
   "source": [
    "# slow\n",
    "\n",
    "await task"
   ]
  },
  {
   "cell_type": "code",
   "execution_count": null,
   "metadata": {},
   "outputs": [],
   "source": [
    "# slow\n",
    "\n",
    "task = run_flows_async(\n",
    "    get_config(cfg_name=\"test/settings.ini\"),\n",
    "    flow_provider=\"sagemaker\",\n",
    "    flow_command=\"run\",\n",
    "    ignore_suffix=\"_no_params.py\",\n",
    ")"
   ]
  },
  {
   "cell_type": "code",
   "execution_count": null,
   "metadata": {},
   "outputs": [],
   "source": [
    "# slow\n",
    "\n",
    "await task"
   ]
  },
  {
   "cell_type": "markdown",
   "metadata": {},
   "source": [
    "# Utilities to Search Parameter Space"
   ]
  },
  {
   "cell_type": "code",
   "execution_count": null,
   "metadata": {},
   "outputs": [],
   "source": [
    "param_grid = {\n",
    "    \"traffic_percent\": [1, 5, 10, 20, 50, 100],\n",
    "    \"model_level\": [\"router\", \"dispatcher\"],\n",
    "    \"workers\": [1],\n",
    "}"
   ]
  },
  {
   "cell_type": "code",
   "execution_count": null,
   "metadata": {},
   "outputs": [],
   "source": [
    "# export\n",
    "\n",
    "\n",
    "def iter_param_grid(param_grid):\n",
    "    # https://github.com/scikit-learn/scikit-learn/blob/main/sklearn/model_selection/_search.py\n",
    "    for p in [param_grid]:\n",
    "        # Always sort the keys of a dictionary, for reproducibility\n",
    "        items = sorted(p.items())\n",
    "        if not items:\n",
    "            yield {}\n",
    "        else:\n",
    "            keys, values = zip(*items)\n",
    "            for v in product(*values):\n",
    "                params = dict(zip(keys, v))\n",
    "                yield params"
   ]
  },
  {
   "cell_type": "code",
   "execution_count": null,
   "metadata": {},
   "outputs": [],
   "source": [
    "assert [{\"a\": 1, \"b\": 1, \"c\": \"hello\"}, {\"a\": 2, \"b\": 1, \"c\": \"hello\"}] == list(\n",
    "    iter_param_grid({\"a\": [1, 2], \"b\": [1], \"c\": [\"hello\"]})\n",
    ")"
   ]
  },
  {
   "cell_type": "code",
   "execution_count": null,
   "metadata": {},
   "outputs": [],
   "source": [
    "# export\n",
    "\n",
    "\n",
    "def sample_grid_space(param_grid: Dict[str, Iterable[Any]], num_samples: int):\n",
    "    samples = []\n",
    "    for i, sample in enumerate(iter_param_grid(param_grid)):\n",
    "        samples.append(sample)\n",
    "    if num_samples < len(samples):\n",
    "        samples = pd.Series(samples).sample(num_samples).tolist()\n",
    "    return samples"
   ]
  },
  {
   "cell_type": "code",
   "execution_count": null,
   "metadata": {},
   "outputs": [],
   "source": [
    "sample_space = sample_grid_space({\"a\": [1, 2], \"b\": [1], \"c\": [\"hello\"]}, 1)\n",
    "assert sample_space[0][\"b\"] == 1\n",
    "assert sample_space[0][\"c\"] == \"hello\"\n",
    "assert sample_space[0][\"a\"] == 1 or sample_space[0][\"a\"] == 2"
   ]
  },
  {
   "cell_type": "code",
   "execution_count": null,
   "metadata": {},
   "outputs": [],
   "source": [
    "# export\n",
    "\n",
    "\n",
    "async def search_batches(flow_nb_path, flow_provider, task_batches):\n",
    "    futures = []\n",
    "    loop = asyncio.get_event_loop()\n",
    "    for task_batch in task_batches:\n",
    "        tasks = [\n",
    "            (\n",
    "                loop.create_task(\n",
    "                    flow_task(\n",
    "                        flow_nb_path,\n",
    "                        flow_provider,\n",
    "                        flow_command=\"run\",\n",
    "                        params=param_spec,\n",
    "                    )\n",
    "                )\n",
    "            )\n",
    "            for param_spec in task_batch\n",
    "        ]\n",
    "        futures.append(await asyncio.wait(tasks))\n",
    "    return futures"
   ]
  },
  {
   "cell_type": "code",
   "execution_count": null,
   "metadata": {},
   "outputs": [],
   "source": [
    "# export\n",
    "\n",
    "\n",
    "def search_flow_grid(\n",
    "    flow_nb_path,\n",
    "    param_grid,\n",
    "    flow_provider=\"metaflow\",\n",
    "    total_tasks=None,\n",
    "    n_conc_tasks=None,\n",
    "    local_mode=True,\n",
    "):\n",
    "    if total_tasks is None:\n",
    "        total_tasks = len(list(iter_param_grid(param_grid)))\n",
    "\n",
    "    if local_mode and n_conc_tasks is None:\n",
    "        n_conc_tasks = int((multiprocessing.cpu_count() / 2) - 1)\n",
    "\n",
    "    sample_space = sample_grid_space(param_grid, total_tasks)\n",
    "    task_batches = list(chunks(sample_space, n_conc_tasks))\n",
    "    futures = search_batches(flow_nb_path, flow_provider, task_batches)\n",
    "    return futures"
   ]
  },
  {
   "cell_type": "code",
   "execution_count": null,
   "metadata": {},
   "outputs": [],
   "source": [
    "# export\n",
    "\n",
    "\n",
    "def extract_results(future_tasks):\n",
    "    completed_tasks = [\n",
    "        item for sublist in [list(ft[0]) for ft in future_tasks] for item in sublist\n",
    "    ]\n",
    "    results = [t.result() for t in completed_tasks]\n",
    "    return results"
   ]
  },
  {
   "cell_type": "code",
   "execution_count": null,
   "metadata": {},
   "outputs": [],
   "source": [
    "nb_path = Path(\n",
    "    Path(\".\").resolve(),\n",
    "    \"test\",\n",
    "    \"test_export.ipynb\",\n",
    ")\n",
    "param_grid = {\n",
    "    \"traffic_percent\": [1, 2, 3, 4, 5, 7, 8, 10, 20, 30, 40, 50],\n",
    "    \"model_level\": [\"dispatcher\"],\n",
    "    \"workers\": [1],\n",
    "}"
   ]
  },
  {
   "cell_type": "code",
   "execution_count": null,
   "metadata": {},
   "outputs": [],
   "source": [
    "# slow\n",
    "\n",
    "future_tasks = await ensure_future(\n",
    "    search_flow_grid(\n",
    "        nb_path,\n",
    "        param_grid,\n",
    "        flow_provider=\"sagemaker\",\n",
    "        total_tasks=None,\n",
    "        n_conc_tasks=4,\n",
    "    )\n",
    ")"
   ]
  },
  {
   "cell_type": "code",
   "execution_count": null,
   "metadata": {},
   "outputs": [],
   "source": [
    "# slow\n",
    "\n",
    "results = extract_results(future_tasks)\n",
    "results"
   ]
  },
  {
   "cell_type": "code",
   "execution_count": null,
   "metadata": {},
   "outputs": [],
   "source": [
    "# export\n",
    "\n",
    "\n",
    "@call_parse\n",
    "def sciflow_check_metaflows():\n",
    "    check_call_flows(get_config())"
   ]
  },
  {
   "cell_type": "code",
   "execution_count": null,
   "metadata": {},
   "outputs": [],
   "source": [
    "# export\n",
    "\n",
    "\n",
    "@call_parse\n",
    "def sciflow_check_sagemaker_flows():\n",
    "    check_call_flows(get_config(), flow_provider=\"sagemaker\")"
   ]
  },
  {
   "cell_type": "code",
   "execution_count": null,
   "metadata": {},
   "outputs": [],
   "source": [
    "# export\n",
    "\n",
    "\n",
    "@call_parse\n",
    "def sciflow_run_metaflows():\n",
    "    check_call_flows(get_config(), flow_command=\"run\")"
   ]
  },
  {
   "cell_type": "code",
   "execution_count": null,
   "metadata": {},
   "outputs": [],
   "source": [
    "# export\n",
    "\n",
    "\n",
    "@call_parse\n",
    "def sciflow_run_sagemaker_flows():\n",
    "    check_call_flows(get_config(), flow_command=\"run\", flow_provider=\"sagemaker\")"
   ]
  }
 ],
 "metadata": {
  "kernelspec": {
   "display_name": "sciflow (sciflow/3)",
   "language": "python",
   "name": "python3__SAGEMAKER_INTERNAL__arn:aws:sagemaker:eu-west-1:368653567616:image-version/sciflow/3"
  }
 },
 "nbformat": 4,
 "nbformat_minor": 4
}
