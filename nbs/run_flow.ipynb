{
 "cells": [
  {
   "cell_type": "code",
   "execution_count": 69,
   "metadata": {},
   "outputs": [],
   "source": [
    "# default_exp run_flow"
   ]
  },
  {
   "cell_type": "code",
   "execution_count": 70,
   "metadata": {},
   "outputs": [
    {
     "name": "stdout",
     "output_type": "stream",
     "text": [
      "The autoreload extension is already loaded. To reload it, use:\n",
      "  %reload_ext autoreload\n"
     ]
    }
   ],
   "source": [
    "%load_ext autoreload\n",
    "%autoreload 2"
   ]
  },
  {
   "cell_type": "code",
   "execution_count": 71,
   "metadata": {},
   "outputs": [],
   "source": [
    "# export\n",
    "\n",
    "\n",
    "import os\n",
    "import subprocess\n",
    "from pathlib import Path\n",
    "\n",
    "from nbdev.export import find_default_export, get_config, read_nb\n",
    "\n",
    "from sciflow.utils import get_flow_path, prepare_env"
   ]
  },
  {
   "cell_type": "markdown",
   "metadata": {},
   "source": [
    "# Verify and Run Sciflow Flows"
   ]
  },
  {
   "cell_type": "code",
   "execution_count": 73,
   "metadata": {},
   "outputs": [],
   "source": [
    "nb_path = Path(os.path.join(\"test\", \"test_export.ipynb\"))\n",
    "flow_path = get_flow_path(nb_path, flow_provider=\"sagemaker\")\n",
    "nb = read_nb(nb_path)\n",
    "module_name = find_default_export(nb[\"cells\"]).replace(\".\", \"/\")\n",
    "test_module = os.path.join(get_config().path(\"lib_path\"), f\"{module_name}.py\")\n",
    "flows_dir = get_config(cfg_name=\"test/settings.ini\").path(\"flows_path\")\n",
    "flow_name = os.path.basename(test_module)"
   ]
  },
  {
   "cell_type": "code",
   "execution_count": 55,
   "metadata": {},
   "outputs": [],
   "source": [
    "# # export\n",
    "\n",
    "\n",
    "# def prep_env():\n",
    "#     if \"USER\" not in os.environ:\n",
    "#         try:\n",
    "#             os.environ[\"USER\"] = os.environ[\"GIT_COMMITTER_NAME\"]\n",
    "#         except KeyError:\n",
    "#             raise EnvironmentError(\n",
    "#                 \"Sciflow requires a known user for tracked execution. Add USER or GIT_COMMITTER_NAME to Jupyter environment variables\"\n",
    "#             )"
   ]
  },
  {
   "cell_type": "code",
   "execution_count": 74,
   "metadata": {},
   "outputs": [],
   "source": [
    "# export\n",
    "\n",
    "\n",
    "def run_shell_cmd(script: str):\n",
    "    pipe = subprocess.Popen(\n",
    "        \"%s\" % script, stdout=subprocess.PIPE, stderr=subprocess.STDOUT, shell=True\n",
    "    )\n",
    "    output = pipe.communicate()[0]\n",
    "    return pipe, output.decode(\"utf-8\").strip()"
   ]
  },
  {
   "cell_type": "code",
   "execution_count": 82,
   "metadata": {},
   "outputs": [],
   "source": [
    "# export\n",
    "\n",
    "\n",
    "def check_call_flow(\n",
    "    flow_nb_path, flow_provider=\"metaflow\", flow_command=\"show\", params=None\n",
    "):\n",
    "    prepare_env()\n",
    "    if flow_nb_path.suffix == \".ipynb\":\n",
    "        flow_path = get_flow_path(nb_path, flow_provider=flow_provider)\n",
    "    else:\n",
    "        flow_path = flow_nb_path\n",
    "    if params:\n",
    "        args = \" \".join([f\"--{p[0]} {p[1]}\" for p in params])\n",
    "        flow_command = f\"{flow_command} {args}\"\n",
    "\n",
    "    script = f\"python '{flow_path}' {flow_command}\"\n",
    "    pipe, output = run_shell_cmd(script)\n",
    "    return pipe.returncode, output"
   ]
  },
  {
   "cell_type": "code",
   "execution_count": 86,
   "metadata": {},
   "outputs": [],
   "source": [
    "ret_code, output = check_call_flow(\n",
    "    nb_path, flow_provider=\"metaflow\", flow_command=\"show\"\n",
    ")\n",
    "assert ret_code == 0"
   ]
  },
  {
   "cell_type": "code",
   "execution_count": 85,
   "metadata": {},
   "outputs": [
    {
     "name": "stdout",
     "output_type": "stream",
     "text": [
      "Metaflow 2.5.2 executing TestExportFlow for user:'Donal Simmie'\n",
      "Validating your flow...\n",
      "    The graph looks good!\n",
      "Running pylint...\n",
      "    Pylint is happy!\n",
      "2022-05-05 08:33:51.607 Workflow starting (run-id 1651739631336278):\n",
      "2022-05-05 08:33:51.672 [1651739631336278/start/1 (pid 28027)] Task is starting.\n",
      "2022-05-05 08:33:56.415 [1651739631336278/start/1 (pid 28027)] 3\n",
      "2022-05-05 08:33:56.749 [1651739631336278/start/1 (pid 28027)] Task finished successfully.\n",
      "2022-05-05 08:33:56.846 [1651739631336278/preprocess/2 (pid 28030)] Task is starting.\n",
      "2022-05-05 08:34:01.571 [1651739631336278/preprocess/2 (pid 28030)] Preprocessing input data from /home/sagemaker-user/git/sciflow/nbs...\n",
      "2022-05-05 08:34:02.909 [1651739631336278/preprocess/2 (pid 28030)] Task finished successfully.\n",
      "2022-05-05 08:34:02.994 [1651739631336278/train/3 (pid 28033)] Task is starting.\n",
      "2022-05-05 08:34:07.713 [1651739631336278/train/3 (pid 28033)] Training /home/sagemaker-user/git/sciflow on /home/sagemaker-user/git/sciflow/nbs...\n",
      "2022-05-05 08:34:09.047 [1651739631336278/train/3 (pid 28033)] Task finished successfully.\n",
      "2022-05-05 08:34:09.139 [1651739631336278/last/4 (pid 28036)] Task is starting.\n",
      "2022-05-05 08:34:14.218 [1651739631336278/last/4 (pid 28036)] Task finished successfully.\n",
      "2022-05-05 08:34:14.301 [1651739631336278/end/5 (pid 28039)] Task is starting.\n",
      "2022-05-05 08:34:19.360 [1651739631336278/end/5 (pid 28039)] Task finished successfully.\n",
      "2022-05-05 08:34:19.376 Done!\n"
     ]
    }
   ],
   "source": [
    "# slow\n",
    "\n",
    "ret_code, output = check_call_flow(\n",
    "    nb_path, flow_provider=\"metaflow\", flow_command=\"run\"\n",
    ")\n",
    "assert ret_code == 0\n",
    "print(output)"
   ]
  },
  {
   "cell_type": "code",
   "execution_count": 88,
   "metadata": {},
   "outputs": [],
   "source": [
    "ret_code, output = check_call_flow(\n",
    "    nb_path, flow_provider=\"sagemaker\", flow_command=\"show\"\n",
    ")\n",
    "assert ret_code == 0"
   ]
  },
  {
   "cell_type": "code",
   "execution_count": 64,
   "metadata": {},
   "outputs": [],
   "source": [
    "# slow\n",
    "\n",
    "ret_code, output = check_call_flow(\n",
    "    nb_path, flow_provider=\"sagemaker\", flow_command=\"run\"\n",
    ")\n",
    "assert ret_code == 0\n",
    "print(output)"
   ]
  },
  {
   "cell_type": "code",
   "execution_count": 63,
   "metadata": {},
   "outputs": [],
   "source": [
    "# export\n",
    "\n",
    "\n",
    "def run_flow(\n",
    "    nb_path, flow_provider=\"metaflow\", flow_command=\"--no-pylint run\", params=None\n",
    "):\n",
    "    flow_path = get_flow_path(nb_path, flow_provider=flow_provider)\n",
    "    print(f\"Running flow: {os.path.basename(flow_path)}\")\n",
    "    ret_code, output = check_flow(\n",
    "        flow_path.parent,\n",
    "        os.path.basename(flow_path),\n",
    "        flow_provider=flow_provider,\n",
    "        flow_command=flow_command,\n",
    "        params=params,\n",
    "    )\n",
    "    return ret_code, output"
   ]
  },
  {
   "cell_type": "code",
   "execution_count": 37,
   "metadata": {},
   "outputs": [],
   "source": [
    "# # export\n",
    "\n",
    "\n",
    "# def check_flows(\n",
    "#     config, flow_command=\"show\", ignore_suffix=\"_no_params.py\", exit_on_error=True\n",
    "# ):\n",
    "#     flow_results = {}\n",
    "#     flows_dir = config.path(\"flows_path\")\n",
    "#     if ignore_suffix:\n",
    "#         flow_paths = [p for p in os.listdir(flows_dir) if not p.endswith(ignore_suffix)]\n",
    "#     else:\n",
    "#         flow_paths = os.listdir(flows_dir)\n",
    "#     ret_codes = []\n",
    "#     exit_code = 0\n",
    "#     for flow_path in flow_paths:\n",
    "#         flow_name = os.path.basename(flow_path)\n",
    "#         if flow_path.endswith(\".py\"):\n",
    "#             ret_code, output = check_flow(\n",
    "#                 flows_dir, flow_path, flow_command=flow_command\n",
    "#             )\n",
    "#             flow_results[flow_name] = ret_code, output\n",
    "#             if ret_code == 0:\n",
    "#                 print(f\"Flow: {flow_name} {flow_command} verified\")\n",
    "#             else:\n",
    "#                 print(\n",
    "#                     f\"Flow: {flow_name} {flow_command} verification failed\\nDetails:\\n{output}\"\n",
    "#                 )\n",
    "#             ret_codes.append(ret_code)\n",
    "#     if any([rc != 0 for rc in ret_codes]):\n",
    "#         exit_code = 1\n",
    "#         try:\n",
    "#             # Exit with an error code if running from a non interactive Python environment.\n",
    "#             get_ipython().__class__.__name__\n",
    "#         except NameError:\n",
    "#             if exit_on_error:\n",
    "#                 return sys.exit(exit_code)\n",
    "#     return exit_code"
   ]
  },
  {
   "cell_type": "code",
   "execution_count": 42,
   "metadata": {},
   "outputs": [
    {
     "data": {
      "text/plain": [
       "0"
      ]
     },
     "execution_count": 42,
     "metadata": {},
     "output_type": "execute_result"
    }
   ],
   "source": [
    "# check_flows(get_config(cfg_name=\"test/settings.ini\"), ignore_suffix=None)"
   ]
  },
  {
   "cell_type": "code",
   "execution_count": 43,
   "metadata": {},
   "outputs": [
    {
     "data": {
      "text/plain": [
       "0"
      ]
     },
     "execution_count": 43,
     "metadata": {},
     "output_type": "execute_result"
    }
   ],
   "source": [
    "# slow\n",
    "\n",
    "check_flows(get_config(cfg_name=\"test/settings.ini\"), \"--no-pylint run\")"
   ]
  },
  {
   "cell_type": "code",
   "execution_count": 45,
   "metadata": {},
   "outputs": [
    {
     "name": "stdout",
     "output_type": "stream",
     "text": [
      "Running flow: test_multistep.py\n",
      "Metaflow 2.5.2 executing TestMultistepFlow for user:'Donal Simmie'\n",
      "Validating your flow...\n",
      "    The graph looks good!\n",
      "2022-04-15 14:49:34.787 Workflow starting (run-id 1650034174524893):\n",
      "2022-04-15 14:49:34.848 [1650034174524893/start/1 (pid 22412)] Task is starting.\n",
      "2022-04-15 14:49:36.262 [1650034174524893/start/1 (pid 22412)] The first step\n",
      "2022-04-15 14:49:36.666 [1650034174524893/start/1 (pid 22412)] Task finished successfully.\n",
      "2022-04-15 14:49:36.748 [1650034174524893/preprocess/2 (pid 22419)] Task is starting.\n",
      "2022-04-15 14:49:38.170 [1650034174524893/preprocess/2 (pid 22419)] I captialised the message: THE FIRST STEP\n",
      "2022-04-15 14:49:38.601 [1650034174524893/preprocess/2 (pid 22419)] Task finished successfully.\n",
      "2022-04-15 14:49:38.683 [1650034174524893/fit/3 (pid 22426)] Task is starting.\n",
      "2022-04-15 14:49:40.515 [1650034174524893/fit/3 (pid 22426)] Task finished successfully.\n",
      "2022-04-15 14:49:40.593 [1650034174524893/evaluate/4 (pid 22433)] Task is starting.\n",
      "2022-04-15 14:49:42.455 [1650034174524893/evaluate/4 (pid 22433)] Task finished successfully.\n",
      "2022-04-15 14:49:42.531 [1650034174524893/end/5 (pid 22440)] Task is starting.\n",
      "2022-04-15 14:49:44.416 [1650034174524893/end/5 (pid 22440)] Task finished successfully.\n",
      "2022-04-15 14:49:44.431 Done!\n"
     ]
    }
   ],
   "source": [
    "# # slow\n",
    "\n",
    "# nb_path = os.path.join(Path(\".\").resolve(), \"test\", \"test_multistep.ipynb\")\n",
    "# ret_code, output = run_flow(\n",
    "#     nb_path,\n",
    "#     params=[(\"traffic_percent\", 1), (\"model_level\", \"dispatcher\")],\n",
    "# )\n",
    "# print(output)\n",
    "# assert ret_code == 0"
   ]
  },
  {
   "cell_type": "markdown",
   "metadata": {},
   "source": [
    "# Aynsc Flow Running\n",
    "\n",
    "> Run the flow you are working on from the notebook you are working on. This maximises the amount of experiments you can run as you don't have down time. While long running tasks are running you can keep exploring! :-)"
   ]
  },
  {
   "cell_type": "code",
   "execution_count": 46,
   "metadata": {},
   "outputs": [],
   "source": [
    "# # export\n",
    "\n",
    "\n",
    "# async def run_flow_task(flow_path, param_grid=None):\n",
    "#     flows_dir = flow_path.parent\n",
    "#     flow_module = os.path.basename(flow_path)\n",
    "#     flow_command = \"--no-pylint run\"\n",
    "#     prep_mf_env()\n",
    "#     if params:\n",
    "#         args = \" \".join([f\"--{k} {v}\" for k, v in param_grid.items()])\n",
    "#         cmd = f\"python '{os.path.join(flows_dir, flow_module)}' {flow_command} {args}\"\n",
    "#     else:\n",
    "#         cmd = f\"python '{os.path.join(flows_dir, flow_module)}' {flow_command}\"\n",
    "#     proc = await asyncio.create_subprocess_shell(\n",
    "#         cmd, stdout=asyncio.subprocess.PIPE, stderr=asyncio.subprocess.PIPE\n",
    "#     )\n",
    "\n",
    "#     stdout, stderr = await proc.communicate()\n",
    "\n",
    "#     print(f\"[{cmd!r} exited with {proc.returncode}]\")\n",
    "#     if stdout:\n",
    "#         output = stdout.decode(\"utf-8\").strip()\n",
    "#         print(f\"[stdout]\\n{output}\")\n",
    "#     if stderr:\n",
    "#         print(f'[stderr]\\n{stderr.decode(\"utf-8\").strip()}')\n",
    "\n",
    "#     return proc.returncode"
   ]
  },
  {
   "cell_type": "code",
   "execution_count": 47,
   "metadata": {},
   "outputs": [],
   "source": [
    "# # export\n",
    "\n",
    "\n",
    "# def run_flow_async(nb_path, params=None):\n",
    "#     flow_path = get_flow_path(nb_path)\n",
    "#     loop = asyncio.get_event_loop()\n",
    "#     task = loop.create_task(run_flow_task(flow_path, params))\n",
    "#     return task"
   ]
  },
  {
   "cell_type": "code",
   "execution_count": 48,
   "metadata": {},
   "outputs": [
    {
     "data": {
      "text/plain": [
       "<Task pending name='Task-4' coro=<run_flow_task() running at /tmp/ipykernel_22384/1238802591.py:4>>"
      ]
     },
     "execution_count": 48,
     "metadata": {},
     "output_type": "execute_result"
    }
   ],
   "source": [
    "# # slow\n",
    "\n",
    "# task = run_flow_async(\n",
    "#     os.path.join(\"test\", \"test_multistep.ipynb\"),\n",
    "#     params={\"traffic_percent\": 10, \"workers\": 12},\n",
    "# )\n",
    "# task"
   ]
  },
  {
   "cell_type": "code",
   "execution_count": 49,
   "metadata": {},
   "outputs": [
    {
     "name": "stdout",
     "output_type": "stream",
     "text": [
      "[\"python '/home/sagemaker-user/git/sciflow/nbs/test/flows/metaflow/test_multistep.py' --no-pylint run --traffic_percent 10 --workers 12\" exited with 0]\n",
      "[stdout]\n",
      "2022-04-15 14:49:46.509 Workflow starting (run-id 1650034186248371):\n",
      "2022-04-15 14:49:46.573 [1650034186248371/start/1 (pid 22456)] Task is starting.\n",
      "2022-04-15 14:49:47.983 [1650034186248371/start/1 (pid 22456)] The first step\n",
      "2022-04-15 14:49:48.378 [1650034186248371/start/1 (pid 22456)] Task finished successfully.\n",
      "2022-04-15 14:49:48.463 [1650034186248371/preprocess/2 (pid 22463)] Task is starting.\n",
      "2022-04-15 14:49:49.887 [1650034186248371/preprocess/2 (pid 22463)] I captialised the message: THE FIRST STEP\n",
      "2022-04-15 14:49:50.324 [1650034186248371/preprocess/2 (pid 22463)] Task finished successfully.\n",
      "2022-04-15 14:49:50.405 [1650034186248371/fit/3 (pid 22470)] Task is starting.\n",
      "2022-04-15 14:49:52.237 [1650034186248371/fit/3 (pid 22470)] Task finished successfully.\n",
      "2022-04-15 14:49:52.317 [1650034186248371/evaluate/4 (pid 22477)] Task is starting.\n",
      "2022-04-15 14:49:54.152 [1650034186248371/evaluate/4 (pid 22477)] Task finished successfully.\n",
      "2022-04-15 14:49:54.228 [1650034186248371/end/5 (pid 22484)] Task is starting.\n",
      "2022-04-15 14:49:56.110 [1650034186248371/end/5 (pid 22484)] Task finished successfully.\n",
      "2022-04-15 14:49:56.126 Done!\n",
      "[stderr]\n",
      "Metaflow 2.5.2 executing TestMultistepFlow for user:'Donal Simmie'\n",
      "Validating your flow...\n",
      "    The graph looks good!\n"
     ]
    },
    {
     "data": {
      "text/plain": [
       "0"
      ]
     },
     "execution_count": 49,
     "metadata": {},
     "output_type": "execute_result"
    }
   ],
   "source": [
    "# # slow\n",
    "# await task"
   ]
  },
  {
   "cell_type": "code",
   "execution_count": 50,
   "metadata": {},
   "outputs": [],
   "source": [
    "# param_grid = {\n",
    "#     \"traffic_percent\": [1, 5, 10, 20, 50, 100],\n",
    "#     \"model_level\": [\"router\", \"dispatcher\"],\n",
    "#     \"workers\": [1],\n",
    "# }"
   ]
  },
  {
   "cell_type": "code",
   "execution_count": 51,
   "metadata": {},
   "outputs": [],
   "source": [
    "# # export\n",
    "\n",
    "\n",
    "# def iter_param_grid(param_grid):\n",
    "#     # https://github.com/scikit-learn/scikit-learn/blob/main/sklearn/model_selection/_search.py\n",
    "#     for p in [param_grid]:\n",
    "#         # Always sort the keys of a dictionary, for reproducibility\n",
    "#         items = sorted(p.items())\n",
    "#         if not items:\n",
    "#             yield {}\n",
    "#         else:\n",
    "#             keys, values = zip(*items)\n",
    "#             for v in product(*values):\n",
    "#                 params = dict(zip(keys, v))\n",
    "#                 yield params"
   ]
  },
  {
   "cell_type": "code",
   "execution_count": 52,
   "metadata": {},
   "outputs": [],
   "source": [
    "# assert [{\"a\": 1, \"b\": 1, \"c\": \"hello\"}, {\"a\": 2, \"b\": 1, \"c\": \"hello\"}] == list(\n",
    "#     iter_param_grid({\"a\": [1, 2], \"b\": [1], \"c\": [\"hello\"]})\n",
    "# )"
   ]
  },
  {
   "cell_type": "code",
   "execution_count": 53,
   "metadata": {},
   "outputs": [],
   "source": [
    "# # export\n",
    "\n",
    "\n",
    "# def sample_grid_space(param_grid: Dict[str, Iterable[Any]], num_samples: int):\n",
    "#     samples = []\n",
    "#     for i, sample in enumerate(iter_param_grid(param_grid)):\n",
    "#         samples.append(sample)\n",
    "#     if num_samples < len(samples):\n",
    "#         samples = pd.Series(samples).sample(num_samples).tolist()\n",
    "#     return samples"
   ]
  },
  {
   "cell_type": "code",
   "execution_count": 54,
   "metadata": {},
   "outputs": [],
   "source": [
    "# sample_space = sample_grid_space({\"a\": [1, 2], \"b\": [1], \"c\": [\"hello\"]}, 1)\n",
    "# assert sample_space[0][\"b\"] == 1\n",
    "# assert sample_space[0][\"c\"] == \"hello\"\n",
    "# assert sample_space[0][\"a\"] == 1 or sample_space[0][\"a\"] == 2"
   ]
  },
  {
   "cell_type": "code",
   "execution_count": 55,
   "metadata": {},
   "outputs": [],
   "source": [
    "# # export\n",
    "\n",
    "\n",
    "# def search_flow_grid(nb_path, param_grid, num_procs=None):\n",
    "#     if num_procs is None:\n",
    "#         num_procs = int((multiprocessing.cpu_count() / 2) - 1)\n",
    "\n",
    "#     param_sample_space = sample_grid_space(param_grid, num_procs)\n",
    "#     tasks = []\n",
    "#     for param_sample in param_sample_space:\n",
    "#         tasks.append(run_flow_async(nb_path, params=param_sample))\n",
    "#     return tasks"
   ]
  },
  {
   "cell_type": "code",
   "execution_count": 56,
   "metadata": {},
   "outputs": [],
   "source": [
    "# # slow\n",
    "# nb_path = Path(\n",
    "#     os.path.join(\n",
    "#         Path(\".\").resolve(),\n",
    "#         \"test\",\n",
    "#         \"test_multistep.ipynb\",\n",
    "#     )\n",
    "# )\n",
    "# tasks = search_flow_grid(\n",
    "#     nb_path,\n",
    "#     {\n",
    "#         \"traffic_percent\": [1, 2, 3, 4, 5, 6, 7, 8, 9, 10, 20, 30, 40, 50],\n",
    "#         \"model_level\": [\"dispatcher\"],\n",
    "#         \"workers\": [1],\n",
    "#     },\n",
    "#     2,\n",
    "# )"
   ]
  },
  {
   "cell_type": "code",
   "execution_count": 59,
   "metadata": {},
   "outputs": [
    {
     "data": {
      "text/plain": [
       "[True, True]"
      ]
     },
     "execution_count": 59,
     "metadata": {},
     "output_type": "execute_result"
    }
   ],
   "source": [
    "# # slow\n",
    "\n",
    "# [t.done() for t in tasks]"
   ]
  },
  {
   "cell_type": "code",
   "execution_count": 60,
   "metadata": {},
   "outputs": [
    {
     "data": {
      "text/plain": [
       "[0, 0]"
      ]
     },
     "execution_count": 60,
     "metadata": {},
     "output_type": "execute_result"
    }
   ],
   "source": [
    "# # slow\n",
    "\n",
    "# [t.result() for t in tasks]"
   ]
  },
  {
   "cell_type": "markdown",
   "metadata": {},
   "source": [
    "# Folding @ Home Type Exploration\n",
    "\n",
    "> Explore wider search space in background. Try to always be making some use of resource. Needs persistent search space tracking."
   ]
  },
  {
   "cell_type": "code",
   "execution_count": 61,
   "metadata": {},
   "outputs": [],
   "source": [
    "# # export\n",
    "\n",
    "\n",
    "# @call_parse\n",
    "# def sciflow_check_flows():\n",
    "#     check_flows(get_config())"
   ]
  },
  {
   "cell_type": "code",
   "execution_count": 62,
   "metadata": {},
   "outputs": [],
   "source": [
    "# # export\n",
    "\n",
    "\n",
    "# @call_parse\n",
    "# def sciflow_run_flows():\n",
    "#     check_flows(get_config(), \"--no-pylint run\")"
   ]
  }
 ],
 "metadata": {
  "instance_type": "ml.m5.xlarge",
  "kernelspec": {
   "display_name": "sciflow (sciflow/3)",
   "language": "python",
   "name": "python3__SAGEMAKER_INTERNAL__arn:aws:sagemaker:eu-west-1:368653567616:image-version/sciflow/3"
  },
  "language_info": {
   "codemirror_mode": {
    "name": "ipython",
    "version": 3
   },
   "file_extension": ".py",
   "mimetype": "text/x-python",
   "name": "python",
   "nbconvert_exporter": "python",
   "pygments_lexer": "ipython3",
   "version": "3.9.0"
  }
 },
 "nbformat": 4,
 "nbformat_minor": 4
}
