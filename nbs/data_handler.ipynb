{
 "cells": [
  {
   "cell_type": "markdown",
   "metadata": {},
   "source": [
    "# Add a file for tracking"
   ]
  },
  {
   "cell_type": "markdown",
   "metadata": {},
   "source": [
    "`dvc add test/test_dag.gml`"
   ]
  },
  {
   "cell_type": "markdown",
   "metadata": {},
   "source": [
    "# Creates a .dvc file"
   ]
  },
  {
   "cell_type": "markdown",
   "metadata": {},
   "source": [
    "`data.xml.dvc`"
   ]
  },
  {
   "cell_type": "markdown",
   "metadata": {},
   "source": [
    "# Ignore this in .igitignore"
   ]
  },
  {
   "cell_type": "markdown",
   "metadata": {},
   "source": [
    "* `git add data/data.xml.dvc data/.gitignore`\n",
    "* `git commit -m \"Add raw data\"`"
   ]
  },
  {
   "cell_type": "markdown",
   "metadata": {},
   "source": [
    "# Upload DVC tracked data"
   ]
  },
  {
   "cell_type": "markdown",
   "metadata": {},
   "source": [
    "```\n",
    "dvc remote add -d storage s3://bucket/dvcstore\n",
    "git add .dvc/config\n",
    "git commit -m \"Configure remote storage\"\n",
    "```"
   ]
  },
  {
   "cell_type": "markdown",
   "metadata": {},
   "source": [
    "# Push"
   ]
  },
  {
   "cell_type": "markdown",
   "metadata": {},
   "source": [
    "`dvc push`"
   ]
  },
  {
   "cell_type": "markdown",
   "metadata": {},
   "source": [
    "# Pull"
   ]
  },
  {
   "cell_type": "markdown",
   "metadata": {},
   "source": [
    "`dvc pull`"
   ]
  },
  {
   "cell_type": "code",
   "execution_count": 31,
   "metadata": {},
   "outputs": [],
   "source": [
    "# default_exp data_handler"
   ]
  },
  {
   "cell_type": "code",
   "execution_count": 32,
   "metadata": {},
   "outputs": [],
   "source": [
    "# export\n",
    "\n",
    "from dataclasses import dataclass\n",
    "from importlib import import_module\n",
    "from pathlib import Path\n",
    "from typing import Any, Dict, List\n",
    "\n",
    "import os\n",
    "import numpy as np\n",
    "import pandas as pd\n",
    "\n",
    "from sciflow.params import params_as_dict"
   ]
  },
  {
   "cell_type": "code",
   "execution_count": 33,
   "metadata": {},
   "outputs": [
    {
     "name": "stdout",
     "output_type": "stream",
     "text": [
      "The autoreload extension is already loaded. To reload it, use:\n",
      "  %reload_ext autoreload\n"
     ]
    }
   ],
   "source": [
    "%load_ext autoreload\n",
    "%autoreload 2"
   ]
  },
  {
   "cell_type": "code",
   "execution_count": 34,
   "metadata": {},
   "outputs": [],
   "source": [
    "#export\n",
    "\n",
    "supported_parameters = (str, int, float)\n",
    "supported_args = (Dict, List)\n",
    "supported_conversion_args = (pd.Series, pd.DataFrame, np.ndarray, Path)\n",
    "suppported_types = []\n",
    "suppported_types.extend(supported_parameters)\n",
    "suppported_types.extend(supported_args)\n",
    "suppported_types.extend(supported_conversion_args)"
   ]
  },
  {
   "cell_type": "code",
   "execution_count": 35,
   "metadata": {},
   "outputs": [],
   "source": [
    "#export\n",
    "\n",
    "@dataclass\n",
    "class Param:\n",
    "    instance_type: type\n",
    "    is_scalar: bool\n",
    "    has_metaflow_param: bool\n",
    "    is_json_type: bool\n",
    "    persist_type: str"
   ]
  },
  {
   "cell_type": "code",
   "execution_count": 36,
   "metadata": {},
   "outputs": [],
   "source": [
    "#export\n",
    "\n",
    "\n",
    "def load_module(fully_qualified_module_name):\n",
    "    package = \".\".join(fully_qualified_module_name.split(\".\")[:-1])\n",
    "    fully_qualified_module_name.split(\".\")[-1]\n",
    "    module = import_module(fully_qualified_module_name, package)\n",
    "    return module"
   ]
  },
  {
   "cell_type": "code",
   "execution_count": 37,
   "metadata": {},
   "outputs": [],
   "source": [
    "assert load_module(\"sciflow.test.test_data_handling\").int_param == 3\n",
    "assert load_module(\"sciflow.test.test_data_handling\").float_param == 1.1\n",
    "assert type(load_module(\"sciflow.test.test_data_handling\").series_param) == pd.Series\n",
    "assert load_module(\"sciflow.utils\").load_dremio_access is not None"
   ]
  },
  {
   "cell_type": "code",
   "execution_count": 38,
   "metadata": {},
   "outputs": [],
   "source": [
    "#export\n",
    "\n",
    "\n",
    "def extract_param_meta(module_name: str, params: Dict[str, Any]):\n",
    "    module = load_module(module_name)\n",
    "    param_vals = {}\n",
    "    for k in params.keys():\n",
    "        param_vals[k] = getattr(module, k)\n",
    "    param_meta = {}\n",
    "\n",
    "    for key, val in param_vals.items():\n",
    "        if any([isinstance(val, t) for t in supported_parameters]):\n",
    "            param_meta[key] = Param(\n",
    "                instance_type=type(val),\n",
    "                is_scalar=True,\n",
    "                has_metaflow_param=True,\n",
    "                is_json_type=False,\n",
    "                persist_type=\"pickle\",\n",
    "            )\n",
    "        elif any([isinstance(val, t) for t in supported_args]):\n",
    "            param_meta[key] = Param(\n",
    "                instance_type=type(val),\n",
    "                is_scalar=False,\n",
    "                has_metaflow_param=True,\n",
    "                is_json_type=True,\n",
    "                persist_type=\"pickle\",\n",
    "            )\n",
    "        elif any([isinstance(val, t) for t in supported_conversion_args]):\n",
    "            if isinstance(val, np.ndarray):\n",
    "                param_meta[key] = Param(\n",
    "                    instance_type=type(val),\n",
    "                    is_scalar=False,\n",
    "                    has_metaflow_param=False,\n",
    "                    is_json_type=False,\n",
    "                    persist_type=\"numpy\",\n",
    "                )\n",
    "            elif isinstance(val, pd.Series) or isinstance(val, pd.DataFrame):\n",
    "                param_meta[key] = Param(\n",
    "                    instance_type=type(val),\n",
    "                    is_scalar=False,\n",
    "                    has_metaflow_param=False,\n",
    "                    is_json_type=False,\n",
    "                    persist_type=\"pandas\",\n",
    "                )\n",
    "        else:\n",
    "            print(f\"Skipping unsupported param type, for: {key} - {type(val)}\")\n",
    "    return param_meta"
   ]
  },
  {
   "cell_type": "code",
   "execution_count": 39,
   "metadata": {},
   "outputs": [],
   "source": [
    "nb_path = os.path.join(Path(\".\").resolve(), \"test\", \"test_data_handling.ipynb\")\n",
    "params = params_as_dict(nb_path)"
   ]
  },
  {
   "cell_type": "code",
   "execution_count": 40,
   "metadata": {},
   "outputs": [
    {
     "data": {
      "text/plain": [
       "{'int_param': Param(instance_type=<class 'int'>, is_scalar=True, has_metaflow_param=True, is_json_type=False, persist_type='pickle'),\n",
       " 'float_param': Param(instance_type=<class 'float'>, is_scalar=True, has_metaflow_param=True, is_json_type=False, persist_type='pickle'),\n",
       " 'str_param': Param(instance_type=<class 'str'>, is_scalar=True, has_metaflow_param=True, is_json_type=False, persist_type='pickle'),\n",
       " 'dict_param': Param(instance_type=<class 'dict'>, is_scalar=False, has_metaflow_param=True, is_json_type=True, persist_type='pickle'),\n",
       " 'list_param': Param(instance_type=<class 'list'>, is_scalar=False, has_metaflow_param=True, is_json_type=True, persist_type='pickle'),\n",
       " 'ones': Param(instance_type=<class 'numpy.ndarray'>, is_scalar=False, has_metaflow_param=False, is_json_type=False, persist_type='numpy'),\n",
       " 'text': Param(instance_type=<class 'numpy.ndarray'>, is_scalar=False, has_metaflow_param=False, is_json_type=False, persist_type='numpy'),\n",
       " 'series_param': Param(instance_type=<class 'pandas.core.series.Series'>, is_scalar=False, has_metaflow_param=False, is_json_type=False, persist_type='pandas'),\n",
       " 'df_param': Param(instance_type=<class 'pandas.core.frame.DataFrame'>, is_scalar=False, has_metaflow_param=False, is_json_type=False, persist_type='pandas')}"
      ]
     },
     "execution_count": 40,
     "metadata": {},
     "output_type": "execute_result"
    }
   ],
   "source": [
    "extract_param_meta(\"sciflow.test.test_data_handling\", params)"
   ]
  },
  {
   "cell_type": "code",
   "execution_count": null,
   "metadata": {},
   "outputs": [],
   "source": []
  }
 ],
 "metadata": {
  "kernelspec": {
   "display_name": "Python [conda env:jovyan-discovery]",
   "language": "python",
   "name": "conda-env-jovyan-discovery-py"
  },
  "language_info": {
   "codemirror_mode": {
    "name": "ipython",
    "version": 3
   },
   "file_extension": ".py",
   "mimetype": "text/x-python",
   "name": "python",
   "nbconvert_exporter": "python",
   "pygments_lexer": "ipython3",
   "version": "3.7.10"
  }
 },
 "nbformat": 4,
 "nbformat_minor": 4
}
