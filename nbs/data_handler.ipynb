{
 "cells": [
  {
   "cell_type": "markdown",
   "metadata": {},
   "source": [
    "# Add a file for tracking"
   ]
  },
  {
   "cell_type": "markdown",
   "metadata": {},
   "source": [
    "`dvc add test/test_dag.gml`"
   ]
  },
  {
   "cell_type": "markdown",
   "metadata": {},
   "source": [
    "# Creates a .dvc file"
   ]
  },
  {
   "cell_type": "markdown",
   "metadata": {},
   "source": [
    "`data.xml.dvc`"
   ]
  },
  {
   "cell_type": "markdown",
   "metadata": {},
   "source": [
    "# Ignore this in .igitignore"
   ]
  },
  {
   "cell_type": "markdown",
   "metadata": {},
   "source": [
    "* `git add data/data.xml.dvc data/.gitignore`\n",
    "* `git commit -m \"Add raw data\"`"
   ]
  },
  {
   "cell_type": "markdown",
   "metadata": {},
   "source": [
    "# Upload DVC tracked data"
   ]
  },
  {
   "cell_type": "markdown",
   "metadata": {},
   "source": [
    "```\n",
    "dvc remote add -d storage s3://bucket/dvcstore\n",
    "git add .dvc/config\n",
    "git commit -m \"Configure remote storage\"\n",
    "```"
   ]
  },
  {
   "cell_type": "markdown",
   "metadata": {},
   "source": [
    "# Push"
   ]
  },
  {
   "cell_type": "markdown",
   "metadata": {},
   "source": [
    "`dvc push`"
   ]
  },
  {
   "cell_type": "markdown",
   "metadata": {},
   "source": [
    "# Pull"
   ]
  },
  {
   "cell_type": "markdown",
   "metadata": {},
   "source": [
    "`dvc pull`"
   ]
  },
  {
   "cell_type": "code",
   "execution_count": null,
   "metadata": {},
   "outputs": [],
   "source": [
    "# default_exp data_handler"
   ]
  },
  {
   "cell_type": "code",
   "execution_count": null,
   "metadata": {},
   "outputs": [],
   "source": [
    "# export\n",
    "\n",
    "import os\n",
    "from dataclasses import dataclass\n",
    "from importlib import import_module\n",
    "from pathlib import Path\n",
    "from typing import Any, Dict, List\n",
    "\n",
    "import numpy as np\n",
    "import pandas as pd\n",
    "from sciflow.params import params_as_dict"
   ]
  },
  {
   "cell_type": "code",
   "execution_count": null,
   "metadata": {},
   "outputs": [
    {
     "name": "stdout",
     "output_type": "stream",
     "text": [
      "The autoreload extension is already loaded. To reload it, use:\n",
      "  %reload_ext autoreload\n"
     ]
    }
   ],
   "source": [
    "%load_ext autoreload\n",
    "%autoreload 2"
   ]
  },
  {
   "cell_type": "code",
   "execution_count": null,
   "metadata": {},
   "outputs": [],
   "source": [
    "# export\n",
    "\n",
    "supported_parameters = (str, int, float)\n",
    "supported_args = (Dict, List)\n",
    "supported_conversion_args = (pd.Series, pd.DataFrame, np.ndarray, Path)\n",
    "suppported_types = []\n",
    "suppported_types.extend(supported_parameters)\n",
    "suppported_types.extend(supported_args)\n",
    "suppported_types.extend(supported_conversion_args)"
   ]
  },
  {
   "cell_type": "code",
   "execution_count": null,
   "metadata": {},
   "outputs": [],
   "source": [
    "# export\n",
    "\n",
    "\n",
    "@dataclass\n",
    "class ParamMeta:\n",
    "    instance_type: type\n",
    "    is_scalar: bool\n",
    "    has_metaflow_param: bool\n",
    "    is_json_type: bool\n",
    "    persist_type: str"
   ]
  },
  {
   "cell_type": "code",
   "execution_count": null,
   "metadata": {},
   "outputs": [],
   "source": [
    "# export\n",
    "\n",
    "\n",
    "def load_module(fully_qualified_module_name):\n",
    "    package = \".\".join(fully_qualified_module_name.split(\".\")[:-1])\n",
    "    fully_qualified_module_name.split(\".\")[-1]\n",
    "    module = import_module(fully_qualified_module_name, package)\n",
    "    return module"
   ]
  },
  {
   "cell_type": "code",
   "execution_count": null,
   "metadata": {},
   "outputs": [],
   "source": [
    "assert load_module(\"sciflow.test.test_data_handling\").int_param == 3\n",
    "assert load_module(\"sciflow.test.test_data_handling\").float_param == 1.1\n",
    "assert type(load_module(\"sciflow.test.test_data_handling\").series_param) == pd.Series\n",
    "assert load_module(\"sciflow.utils\").load_dremio_access is not None"
   ]
  },
  {
   "cell_type": "code",
   "execution_count": null,
   "metadata": {},
   "outputs": [],
   "source": [
    "# export\n",
    "\n",
    "\n",
    "def extract_param_meta(module_name: str, params: Dict[str, Any]):\n",
    "    module = load_module(module_name)\n",
    "    param_vals = {}\n",
    "    for k in params.keys():\n",
    "        param_vals[k] = getattr(module, k)\n",
    "    param_meta = {}\n",
    "\n",
    "    for key, val in param_vals.items():\n",
    "        if any([isinstance(val, t) for t in supported_parameters]):\n",
    "            param_meta[key] = ParamMeta(\n",
    "                instance_type=type(val),\n",
    "                is_scalar=True,\n",
    "                has_metaflow_param=True,\n",
    "                is_json_type=False,\n",
    "                persist_type=\"pickle\",\n",
    "            )\n",
    "        elif any([isinstance(val, t) for t in supported_args]):\n",
    "            param_meta[key] = ParamMeta(\n",
    "                instance_type=type(val),\n",
    "                is_scalar=False,\n",
    "                has_metaflow_param=True,\n",
    "                is_json_type=True,\n",
    "                persist_type=\"pickle\",\n",
    "            )\n",
    "        elif any([isinstance(val, t) for t in supported_conversion_args]):\n",
    "            if isinstance(val, np.ndarray):\n",
    "                param_meta[key] = ParamMeta(\n",
    "                    instance_type=type(val),\n",
    "                    is_scalar=False,\n",
    "                    has_metaflow_param=False,\n",
    "                    is_json_type=False,\n",
    "                    persist_type=\"numpy\",\n",
    "                )\n",
    "            elif isinstance(val, pd.Series) or isinstance(val, pd.DataFrame):\n",
    "                param_meta[key] = ParamMeta(\n",
    "                    instance_type=type(val),\n",
    "                    is_scalar=False,\n",
    "                    has_metaflow_param=False,\n",
    "                    is_json_type=False,\n",
    "                    persist_type=\"pandas\",\n",
    "                )\n",
    "            elif isinstance(val, Path):\n",
    "                param_meta[key] = ParamMeta(\n",
    "                    instance_type=type(val),\n",
    "                    is_scalar=False,\n",
    "                    has_metaflow_param=True,\n",
    "                    is_json_type=False,\n",
    "                    persist_type=\"pickle\",\n",
    "                )\n",
    "        else:\n",
    "            param_meta[key] = ParamMeta(\n",
    "                instance_type=type(val),\n",
    "                is_scalar=False,\n",
    "                has_metaflow_param=False,\n",
    "                is_json_type=False,\n",
    "                persist_type=\"unsupported\",\n",
    "            )\n",
    "    return param_meta"
   ]
  },
  {
   "cell_type": "code",
   "execution_count": null,
   "metadata": {},
   "outputs": [],
   "source": [
    "nb_path = os.path.join(Path(\".\").resolve(), \"test\", \"test_data_handling.ipynb\")\n",
    "params = params_as_dict(nb_path)"
   ]
  },
  {
   "cell_type": "code",
   "execution_count": null,
   "metadata": {},
   "outputs": [],
   "source": [
    "param_meta = extract_param_meta(\"sciflow.test.test_data_handling\", params)"
   ]
  },
  {
   "cell_type": "code",
   "execution_count": null,
   "metadata": {},
   "outputs": [],
   "source": [
    "from pathlib import PosixPath"
   ]
  },
  {
   "cell_type": "code",
   "execution_count": null,
   "metadata": {},
   "outputs": [],
   "source": [
    "assert all(\n",
    "    [\n",
    "        param_meta[\"int_param\"].instance_type == int,\n",
    "        param_meta[\"float_param\"].instance_type == float,\n",
    "        param_meta[\"str_param\"].instance_type == str,\n",
    "        param_meta[\"input_path\"].instance_type == PosixPath,\n",
    "        param_meta[\"model_path\"].instance_type == PosixPath,\n",
    "        param_meta[\"dict_param\"].instance_type == dict,\n",
    "        param_meta[\"list_param\"].instance_type == list,\n",
    "        param_meta[\"series_param\"].instance_type == pd.Series,\n",
    "        param_meta[\"df_param\"].instance_type == pd.DataFrame,\n",
    "    ]\n",
    ")"
   ]
  },
  {
   "cell_type": "code",
   "execution_count": null,
   "metadata": {},
   "outputs": [],
   "source": [
    "nb_path = os.path.join(Path(\".\").resolve(), \"test\", \"test_clustering.ipynb\")\n",
    "params = params_as_dict(nb_path)\n",
    "param_meta = extract_param_meta(\"sciflow.test.test_clustering\", params)"
   ]
  },
  {
   "cell_type": "code",
   "execution_count": null,
   "metadata": {},
   "outputs": [
    {
     "data": {
      "text/plain": [
       "dict_keys(['traffic_percent', 'speed', 'workers', 'dremio_access', 'model_level', 'min_date'])"
      ]
     },
     "execution_count": null,
     "metadata": {},
     "output_type": "execute_result"
    }
   ],
   "source": [
    "param_meta.keys()"
   ]
  },
  {
   "cell_type": "code",
   "execution_count": null,
   "metadata": {},
   "outputs": [
    {
     "data": {
      "text/plain": [
       "ParamMeta(instance_type=<class 'data_access.dremio_access.DremioAccess'>, is_scalar=False, has_metaflow_param=False, is_json_type=False, persist_type='unsupported')"
      ]
     },
     "execution_count": null,
     "metadata": {},
     "output_type": "execute_result"
    }
   ],
   "source": [
    "param_meta[\"dremio_access\"]"
   ]
  }
 ],
 "metadata": {
  "kernelspec": {
   "display_name": "Python [conda env:jovyan-discovery]",
   "language": "python",
   "name": "conda-env-jovyan-discovery-py"
  }
 },
 "nbformat": 4,
 "nbformat_minor": 4
}
