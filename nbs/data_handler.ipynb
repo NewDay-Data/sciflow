{
 "cells": [
  {
   "cell_type": "code",
   "execution_count": null,
   "metadata": {},
   "outputs": [],
   "source": [
    "# | default_exp data_handler"
   ]
  },
  {
   "cell_type": "code",
   "execution_count": null,
   "metadata": {},
   "outputs": [],
   "source": [
    "%load_ext autoreload\n",
    "%autoreload 2"
   ]
  },
  {
   "cell_type": "code",
   "execution_count": null,
   "metadata": {},
   "outputs": [],
   "source": [
    "# | export\n",
    "\n",
    "import os\n",
    "import sys\n",
    "from dataclasses import dataclass\n",
    "from importlib import import_module\n",
    "from pathlib import Path\n",
    "from typing import Any, Dict, List\n",
    "\n",
    "import numpy as np\n",
    "import pandas as pd\n",
    "from nbdev.config import get_config\n",
    "\n",
    "from sciflow.params import params_as_dict"
   ]
  },
  {
   "cell_type": "code",
   "execution_count": null,
   "metadata": {},
   "outputs": [],
   "source": [
    "# | export\n",
    "\n",
    "supported_parameters = (str, int, float)\n",
    "supported_args = (Dict, List)\n",
    "supported_conversion_args = (pd.Series, pd.DataFrame, np.ndarray, Path)\n",
    "suppported_types = []\n",
    "suppported_types.extend(supported_parameters)\n",
    "suppported_types.extend(supported_args)\n",
    "suppported_types.extend(supported_conversion_args)"
   ]
  },
  {
   "cell_type": "code",
   "execution_count": null,
   "metadata": {},
   "outputs": [],
   "source": [
    "# | export\n",
    "\n",
    "\n",
    "@dataclass\n",
    "class ParamMeta:\n",
    "    instance_type: type\n",
    "    is_scalar: bool\n",
    "    is_json_type: bool\n",
    "    persist_type: str\n",
    "    has_metaflow_param: bool\n",
    "    has_sagemaker_param: bool"
   ]
  },
  {
   "cell_type": "code",
   "execution_count": null,
   "metadata": {},
   "outputs": [],
   "source": [
    "# | export\n",
    "\n",
    "\n",
    "def load_module(fully_qualified_module_name):\n",
    "    root_path = str(get_config().path(\"root_path\"))\n",
    "    if not root_path in sys.path:\n",
    "        sys.path.append(root_path)\n",
    "    package = \".\".join(fully_qualified_module_name.split(\".\")[:-1])\n",
    "    fully_qualified_module_name.split(\".\")[-1]\n",
    "    module = import_module(fully_qualified_module_name, package)\n",
    "    return module"
   ]
  },
  {
   "cell_type": "code",
   "execution_count": null,
   "metadata": {},
   "outputs": [],
   "source": [
    "fully_qualified_module_name = \"sciflow.test.test_data_handling\""
   ]
  },
  {
   "cell_type": "code",
   "execution_count": null,
   "metadata": {},
   "outputs": [],
   "source": [
    "sys.modules.get(fully_qualified_module_name)"
   ]
  },
  {
   "cell_type": "code",
   "execution_count": null,
   "metadata": {},
   "outputs": [
    {
     "data": {
      "text/plain": [
       "'test_data_handling'"
      ]
     },
     "execution_count": null,
     "metadata": {},
     "output_type": "execute_result"
    }
   ],
   "source": [
    "root_path = str(get_config().path(\"root_path\"))\n",
    "if not root_path in sys.path:\n",
    "    sys.path.append(root_path)\n",
    "package = \".\".join(fully_qualified_module_name.split(\".\")[:-1])\n",
    "fully_qualified_module_name.split(\".\")[-1]"
   ]
  },
  {
   "cell_type": "code",
   "execution_count": null,
   "metadata": {},
   "outputs": [],
   "source": [
    "assert load_module(\"sciflow.test.test_data_handling\").int_param == 3\n",
    "assert load_module(\"sciflow.test.test_data_handling\").float_param == 1.1\n",
    "assert load_module(\"sciflow.test.test_multistep\").traffic_percent == 1\n",
    "assert load_module(\"sciflow.test.test_multistep_no_params\").traffic_percent == 1\n",
    "assert load_module(\"sciflow.test.test_export\").some_param == \"test\"\n",
    "assert load_module(\"sciflow.test.test_module\").some_param == 2\n",
    "assert type(load_module(\"sciflow.test.test_data_handling\").series_param) == pd.Series"
   ]
  },
  {
   "cell_type": "code",
   "execution_count": null,
   "metadata": {},
   "outputs": [],
   "source": [
    "# | export\n",
    "\n",
    "\n",
    "def extract_param_meta(module_name: str, params: Dict[str, Any]):\n",
    "    module = load_module(module_name)\n",
    "    param_vals = {}\n",
    "    for k in params.keys():\n",
    "        param_vals[k] = getattr(module, k)\n",
    "    param_meta = {}\n",
    "\n",
    "    for key, val in param_vals.items():\n",
    "        if any([isinstance(val, t) for t in supported_parameters]):\n",
    "            param_meta[key] = ParamMeta(\n",
    "                instance_type=type(val),\n",
    "                is_scalar=True,\n",
    "                is_json_type=False,\n",
    "                persist_type=\"pickle\",\n",
    "                has_metaflow_param=True,\n",
    "                has_sagemaker_param=True,\n",
    "            )\n",
    "        elif any([isinstance(val, t) for t in supported_args]):\n",
    "            param_meta[key] = ParamMeta(\n",
    "                instance_type=type(val),\n",
    "                is_scalar=False,\n",
    "                is_json_type=True,\n",
    "                persist_type=\"pickle\",\n",
    "                has_metaflow_param=True,\n",
    "                has_sagemaker_param=False,\n",
    "            )\n",
    "        elif any([isinstance(val, t) for t in supported_conversion_args]):\n",
    "            if isinstance(val, np.ndarray):\n",
    "                param_meta[key] = ParamMeta(\n",
    "                    instance_type=type(val),\n",
    "                    is_scalar=False,\n",
    "                    is_json_type=False,\n",
    "                    persist_type=\"numpy\",\n",
    "                    has_metaflow_param=False,\n",
    "                    has_sagemaker_param=False,\n",
    "                )\n",
    "            elif isinstance(val, pd.Series) or isinstance(val, pd.DataFrame):\n",
    "                param_meta[key] = ParamMeta(\n",
    "                    instance_type=type(val),\n",
    "                    is_scalar=False,\n",
    "                    is_json_type=False,\n",
    "                    persist_type=\"pandas\",\n",
    "                    has_metaflow_param=False,\n",
    "                    has_sagemaker_param=False,\n",
    "                )\n",
    "            elif isinstance(val, Path):\n",
    "                param_meta[key] = ParamMeta(\n",
    "                    instance_type=type(val),\n",
    "                    is_scalar=False,\n",
    "                    is_json_type=False,\n",
    "                    persist_type=\"pickle\",\n",
    "                    has_metaflow_param=True,\n",
    "                    has_sagemaker_param=False,\n",
    "                )\n",
    "        else:\n",
    "            param_meta[key] = ParamMeta(\n",
    "                instance_type=type(val),\n",
    "                is_scalar=False,\n",
    "                is_json_type=False,\n",
    "                persist_type=\"unsupported\",\n",
    "                has_metaflow_param=False,\n",
    "                has_sagemaker_param=False,\n",
    "            )\n",
    "    return param_meta"
   ]
  },
  {
   "cell_type": "code",
   "execution_count": null,
   "metadata": {},
   "outputs": [],
   "source": [
    "nb_path = os.path.join(Path(\".\").resolve(), \"test\", \"test_data_handling.ipynb\")\n",
    "params = params_as_dict(nb_path)\n",
    "param_meta = extract_param_meta(\"sciflow.test.test_data_handling\", params)"
   ]
  },
  {
   "cell_type": "code",
   "execution_count": null,
   "metadata": {},
   "outputs": [],
   "source": [
    "from pathlib import PosixPath"
   ]
  },
  {
   "cell_type": "code",
   "execution_count": null,
   "metadata": {},
   "outputs": [],
   "source": [
    "assert all(\n",
    "    [\n",
    "        param_meta[\"int_param\"].instance_type == int,\n",
    "        param_meta[\"float_param\"].instance_type == float,\n",
    "        param_meta[\"str_param\"].instance_type == str,\n",
    "        param_meta[\"input_path\"].instance_type == PosixPath,\n",
    "        param_meta[\"model_path\"].instance_type == PosixPath,\n",
    "        param_meta[\"dict_param\"].instance_type == dict,\n",
    "        param_meta[\"list_param\"].instance_type == list,\n",
    "        param_meta[\"series_param\"].instance_type == pd.Series,\n",
    "        param_meta[\"df_param\"].instance_type == pd.DataFrame,\n",
    "    ]\n",
    ")"
   ]
  },
  {
   "cell_type": "code",
   "execution_count": null,
   "metadata": {},
   "outputs": [],
   "source": [
    "assert param_meta[\"int_param\"].has_metaflow_param\n",
    "assert param_meta[\"int_param\"].has_sagemaker_param\n",
    "assert param_meta[\"str_param\"].has_metaflow_param\n",
    "assert param_meta[\"str_param\"].has_sagemaker_param\n",
    "assert param_meta[\"float_param\"].has_metaflow_param\n",
    "assert param_meta[\"float_param\"].has_sagemaker_param"
   ]
  },
  {
   "cell_type": "code",
   "execution_count": null,
   "metadata": {},
   "outputs": [],
   "source": [
    "assert param_meta[\"list_param\"].has_metaflow_param\n",
    "assert not param_meta[\"list_param\"].has_sagemaker_param\n",
    "assert param_meta[\"dict_param\"].has_metaflow_param\n",
    "assert not param_meta[\"dict_param\"].has_sagemaker_param\n",
    "assert param_meta[\"input_path\"].has_metaflow_param\n",
    "assert not param_meta[\"input_path\"].has_sagemaker_param"
   ]
  },
  {
   "cell_type": "code",
   "execution_count": null,
   "metadata": {},
   "outputs": [
    {
     "data": {
      "text/plain": [
       "dict_keys(['traffic_percent', 'workers', 'model_level', 'min_date'])"
      ]
     },
     "execution_count": null,
     "metadata": {},
     "output_type": "execute_result"
    }
   ],
   "source": [
    "nb_path = os.path.join(Path(\".\").resolve(), \"test\", \"test_multistep.ipynb\")\n",
    "params = params_as_dict(nb_path)\n",
    "param_meta = extract_param_meta(\"sciflow.test.test_multistep\", params)\n",
    "param_meta.keys()"
   ]
  }
 ],
 "metadata": {
  "kernelspec": {
   "display_name": "python3__SAGEMAKER_INTERNAL__arn:aws:sagemaker:eu-west-1:819792524951:image/sagemaker-distribution-cpu-v0",
   "language": "python",
   "name": "python3__SAGEMAKER_INTERNAL__arn:aws:sagemaker:eu-west-1:819792524951:image/sagemaker-distribution-cpu-v0"
  }
 },
 "nbformat": 4,
 "nbformat_minor": 4
}
