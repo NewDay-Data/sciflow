{
 "cells": [
  {
   "cell_type": "code",
   "execution_count": 17,
   "metadata": {},
   "outputs": [],
   "source": [
    "# hide\n",
    "# default_exp clean"
   ]
  },
  {
   "cell_type": "markdown",
   "metadata": {},
   "source": [
    "# Clean Notebooks"
   ]
  },
  {
   "cell_type": "code",
   "execution_count": 18,
   "metadata": {},
   "outputs": [],
   "source": [
    "# export\n",
    "\n",
    "from fastcore.script import Param, bool_arg, call_parse\n",
    "from nbdev.clean import rm_execution_count"
   ]
  },
  {
   "cell_type": "code",
   "execution_count": 19,
   "metadata": {},
   "outputs": [],
   "source": [
    "# export\n",
    "\n",
    "\n",
    "def clean_cell(cell, clear_all=False, clear_output=True):\n",
    "    cell_metadata_keep = nbdev.clean.cell_metadata_keep + [\"tags\"]\n",
    "    \"Clean `cell` by removing superfluous metadata or everything except the input if `clear_all`\"\n",
    "    rm_execution_count(cell)\n",
    "    if \"outputs\" in cell:\n",
    "        if clear_all or clear_output:\n",
    "            cell[\"outputs\"] = []\n",
    "        else:\n",
    "            clean_cell_output(cell)\n",
    "    if cell[\"source\"] == [\"\"]:\n",
    "        cell[\"source\"] = []\n",
    "    cell[\"metadata\"] = (\n",
    "        {}\n",
    "        if clear_all\n",
    "        else {k: v for k, v in cell[\"metadata\"].items() if k in cell_metadata_keep}\n",
    "    )"
   ]
  },
  {
   "cell_type": "code",
   "execution_count": 20,
   "metadata": {},
   "outputs": [],
   "source": [
    "# export\n",
    "\n",
    "\n",
    "def sciflow_clean_nbs(\n",
    "    fname: Param(\"A notebook name or glob to convert\", str) = None,\n",
    "    clear_all: Param(\"Clean all metadata and outputs\", bool_arg) = False,\n",
    "    disp: Param(\"Print the cleaned outputs\", bool_arg) = False,\n",
    "    read_input_stream: Param(\"Read input stram and not nb folder\") = False,\n",
    "):\n",
    "    \"Clean all notebooks in `fname` to avoid merge conflicts\"\n",
    "    # Git hooks will pass the notebooks in the stdin\n",
    "    if read_input_stream and sys.stdin:\n",
    "        input_stream = io.TextIOWrapper(sys.stdin.buffer, encoding=\"utf-8\")\n",
    "        nb = json.load(input_stream)\n",
    "        clean_nb(nb, clear_all=clear_all)\n",
    "        _print_output(nb)\n",
    "        return\n",
    "    path = None\n",
    "    if fname is None:\n",
    "        try:\n",
    "            path = get_config().path(\"nbs_path\")\n",
    "        except Exception:\n",
    "            path = Path.cwd()\n",
    "\n",
    "    files = nbglob(fname=ifnone(fname, path))\n",
    "    for f in files:\n",
    "        if not str(f).endswith(\".ipynb\"):\n",
    "            continue\n",
    "        nb = json.loads(open(f, \"r\", encoding=\"utf-8\").read())\n",
    "        clean_nb(nb, clear_all=clear_all)\n",
    "        if disp:\n",
    "            _print_output(nb)\n",
    "        else:\n",
    "            x = json.dumps(nb, sort_keys=True, indent=1, ensure_ascii=False)\n",
    "            with io.open(f, \"w\", encoding=\"utf-8\") as f:\n",
    "                f.write(x)\n",
    "                f.write(\"\\n\")"
   ]
  },
  {
   "cell_type": "code",
   "execution_count": 21,
   "metadata": {},
   "outputs": [],
   "source": [
    "# export\n",
    "\n",
    "\n",
    "@call_parse\n",
    "def sciflow_clean():\n",
    "    sciflow_clean_nbs()"
   ]
  }
 ],
 "metadata": {
  "kernelspec": {
   "display_name": "Python [conda env:sciflow]",
   "language": "python",
   "name": "conda-env-sciflow-py"
  },
  "language_info": {
   "codemirror_mode": {
    "name": "ipython",
    "version": 3
   },
   "file_extension": ".py",
   "mimetype": "text/x-python",
   "name": "python",
   "nbconvert_exporter": "python",
   "pygments_lexer": "ipython3",
   "version": "3.7.6"
  }
 },
 "nbformat": 4,
 "nbformat_minor": 4
}
