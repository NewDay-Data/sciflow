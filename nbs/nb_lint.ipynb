{
 "cells": [
  {
   "cell_type": "code",
   "execution_count": null,
   "metadata": {},
   "outputs": [],
   "source": [
    "# hide\n",
    "# default_exp nb_lint"
   ]
  },
  {
   "cell_type": "markdown",
   "metadata": {},
   "source": [
    "# Notebook Linting\n",
    "\n",
    "[nbQA](https://github.com/nbQA-dev/nbQA) lets you run any standard Python code quality tool on a Jupyter Notebook. The changes can be suggested or made in-place using `nbqa-mutate`.\n",
    "\n",
    "Command Line Examples:\n",
    "```\n",
    "> nbqa autoflake my_notebook.ipynb -i --remove-unused-variables\n",
    "--remove-all-unused-imports --nbqa-mutate\n",
    "> nbqa black my_notebook.ipynb --nbqa-mutate\n",
    "> nbqa check-ast my_notebook.ipynb\n",
    "> nbqa doctest my_notebook.ipynb\n",
    "> nbqa flake8 my_notebook.ipynb --extend-ignore=E203,E302,E305,E703\n",
    "> nbqa isort my_notebook.ipynb --nbqa-mutate\n",
    "> nbqa mypy my_notebook.ipynb --ignore-missing-imports\n",
    "> nbqa pylint my_notebook.ipynb --disable=C0114\n",
    "> nbqa pyupgrade my_notebook.ipynb --py36-plus --nbqa-mutate\n",
    "```"
   ]
  },
  {
   "cell_type": "code",
   "execution_count": null,
   "metadata": {},
   "outputs": [],
   "source": [
    "# export\n",
    "\n",
    "from pathlib import Path\n",
    "\n",
    "from fastcore.script import call_parse\n",
    "from nbqa.__main__ import _get_configs, _run_on_one_root_dir\n",
    "from nbqa.cmdline import CLIArgs\n",
    "from nbqa.find_root import find_project_root"
   ]
  },
  {
   "cell_type": "code",
   "execution_count": null,
   "metadata": {},
   "outputs": [],
   "source": [
    "%load_ext autoreload\n",
    "%autoreload 2"
   ]
  },
  {
   "cell_type": "code",
   "execution_count": null,
   "metadata": {},
   "outputs": [],
   "source": [
    "# export\n",
    "\n",
    "\n",
    "def run_nbqa_cmd(cmd):\n",
    "    print(f\"Running {cmd}\")\n",
    "    project_root: Path = find_project_root(tuple([str(Path(\".\").resolve())]))\n",
    "    args = CLIArgs.parse_args([cmd, str(project_root)])\n",
    "    configs = _get_configs(args, project_root)\n",
    "    output_code = _run_on_one_root_dir(args, configs, project_root)\n",
    "    return output_code"
   ]
  },
  {
   "cell_type": "code",
   "execution_count": null,
   "metadata": {},
   "outputs": [],
   "source": [
    "import os\n",
    "\n",
    "project_root: Path = find_project_root(tuple([str(Path(\".\").resolve())]))\n",
    "assert os.path.basename(project_root) == \"sciflow\""
   ]
  },
  {
   "cell_type": "code",
   "execution_count": null,
   "metadata": {},
   "outputs": [],
   "source": [
    "# export\n",
    "\n",
    "\n",
    "@call_parse\n",
    "def sciflow_tidy():\n",
    "    \"Run notebook formatting and tidy utilities. \\\n",
    "    These tools should be configured to run automatically without intervention.\"\n",
    "    tidy_tools = [\"black\", \"isort\", \"autoflake\"]\n",
    "    [run_nbqa_cmd(c) for c in tidy_tools]"
   ]
  },
  {
   "cell_type": "code",
   "execution_count": null,
   "metadata": {},
   "outputs": [],
   "source": []
  }
 ],
 "metadata": {
  "kernelspec": {
   "display_name": "Python [conda env:jovyan-discovery]",
   "language": "python",
   "name": "conda-env-jovyan-discovery-py"
  },
  "language_info": {
   "codemirror_mode": {
    "name": "ipython",
    "version": 3
   },
   "file_extension": ".py",
   "mimetype": "text/x-python",
   "name": "python",
   "nbconvert_exporter": "python",
   "pygments_lexer": "ipython3",
   "version": "3.7.10"
  }
 },
 "nbformat": 4,
 "nbformat_minor": 4
}
