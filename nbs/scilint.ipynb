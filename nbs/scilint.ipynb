{
 "cells": [
  {
   "cell_type": "code",
   "execution_count": null,
   "metadata": {},
   "outputs": [],
   "source": [
    "# hide\n",
    "# default_exp scilint"
   ]
  },
  {
   "cell_type": "markdown",
   "metadata": {},
   "source": [
    "# Data Science Notebook Linting\n",
    "\n",
    "[nbQA](https://github.com/nbQA-dev/nbQA) lets you run any standard Python code quality tool on a Jupyter Notebook. The changes can be suggested or made in-place using `nbqa-mutate`.\n",
    "\n",
    "Command Line Examples:\n",
    "```\n",
    "> nbqa autoflake my_notebook.ipynb -i --remove-unused-variables\n",
    "--remove-all-unused-imports --nbqa-mutate\n",
    "> nbqa black my_notebook.ipynb --nbqa-mutate\n",
    "> nbqa check-ast my_notebook.ipynb\n",
    "> nbqa doctest my_notebook.ipynb\n",
    "> nbqa flake8 my_notebook.ipynb --extend-ignore=E203,E302,E305,E703\n",
    "> nbqa isort my_notebook.ipynb --nbqa-mutate\n",
    "> nbqa mypy my_notebook.ipynb --ignore-missing-imports\n",
    "> nbqa pylint my_notebook.ipynb --disable=C0114\n",
    "> nbqa pyupgrade my_notebook.ipynb --py36-plus --nbqa-mutate\n",
    "```"
   ]
  },
  {
   "cell_type": "code",
   "execution_count": null,
   "metadata": {},
   "outputs": [],
   "source": [
    "# export\n",
    "\n",
    "import ast\n",
    "import os\n",
    "import re\n",
    "from collections import Counter\n",
    "from pathlib import Path\n",
    "\n",
    "import nbformat\n",
    "import numpy as np\n",
    "import pandas as pd\n",
    "from fastcore.script import call_parse\n",
    "from nbdev.export import nbglob, read_nb\n",
    "from nbqa.__main__ import _get_configs, _main\n",
    "from nbqa.cmdline import CLIArgs\n",
    "from nbqa.find_root import find_project_root\n",
    "\n",
    "from sciflow.utils import load_nb_module"
   ]
  },
  {
   "cell_type": "code",
   "execution_count": null,
   "metadata": {},
   "outputs": [],
   "source": [
    "%load_ext autoreload\n",
    "%autoreload 2"
   ]
  },
  {
   "cell_type": "markdown",
   "metadata": {},
   "source": [
    "# NB Code Style"
   ]
  },
  {
   "cell_type": "code",
   "execution_count": null,
   "metadata": {},
   "outputs": [],
   "source": [
    "# export\n",
    "\n",
    "\n",
    "def run_nbqa_cmd(cmd):\n",
    "    print(f\"Running {cmd}\")\n",
    "    project_root: Path = find_project_root(tuple([str(Path(\".\").resolve())]))\n",
    "    args = CLIArgs.parse_args([cmd, str(project_root)])\n",
    "    configs = _get_configs(args, project_root)\n",
    "    output_code = _main(args, configs)\n",
    "    return output_code"
   ]
  },
  {
   "cell_type": "code",
   "execution_count": null,
   "metadata": {},
   "outputs": [],
   "source": [
    "project_root: Path = find_project_root(tuple([str(Path(\".\").resolve())]))\n",
    "assert os.path.basename(project_root) == \"sciflow\""
   ]
  },
  {
   "cell_type": "code",
   "execution_count": null,
   "metadata": {},
   "outputs": [],
   "source": [
    "# export\n",
    "\n",
    "\n",
    "@call_parse\n",
    "def sciflow_tidy():\n",
    "    \"\"\"\n",
    "    Run notebook formatting and tidy utilities.\n",
    "    These tools should be configured to run automatically without intervention.\"\n",
    "    \"\"\"\n",
    "    tidy_tools = [\"black\", \"isort\", \"autoflake\"]\n",
    "    [run_nbqa_cmd(c) for c in tidy_tools]"
   ]
  },
  {
   "cell_type": "markdown",
   "metadata": {},
   "source": [
    "# Quality relevant data extraction\n",
    "\n",
    "## Definitions\n",
    "* Function ($f$) = function in `# export` block\n",
    "* Test ($\\tau$) = call of exported function outside `# export` block\n",
    "\n",
    "## Metrics\n",
    "1. Tests per Function: $\\mathrm{TpF}$ = $\\dfrac{|\\tau|}{f}$,when $f=0; \\mathrm{TpF} = 0$\n",
    "2. In-function Percentage: $\\mathrm{IP} = $$\\mathrm{statementsInFunction}:$$\\mathrm{allStatements}$ \n",
    "3. MD to Code Ratio: $\\mathrm{CMR}$ = $ \\mathrm{markdownCells}:$$\\mathrm{codeCells}$ \n",
    "4. Total Code Lines: $\\mathrm{TCL}$ = $\\mathrm{allCodeLines}$ "
   ]
  },
  {
   "cell_type": "markdown",
   "metadata": {},
   "source": [
    "# 1. Tests-per-Function"
   ]
  },
  {
   "cell_type": "code",
   "execution_count": null,
   "metadata": {},
   "outputs": [],
   "source": [
    "# export\n",
    "\n",
    "\n",
    "def get_function_defs(code):\n",
    "    func_names = []\n",
    "    for stmt in ast.walk(ast.parse(code)):\n",
    "        if isinstance(stmt, ast.FunctionDef) and not stmt.name.startswith(\"_\"):\n",
    "            func_names.append(stmt.name)\n",
    "    return func_names"
   ]
  },
  {
   "cell_type": "code",
   "execution_count": null,
   "metadata": {},
   "outputs": [],
   "source": [
    "# export\n",
    "\n",
    "\n",
    "def count_func_calls(code, func_defs):\n",
    "    func_calls = Counter({k: 0 for k in func_defs})\n",
    "    for stmt in ast.walk(ast.parse(code)):\n",
    "        if isinstance(stmt, ast.Call):\n",
    "            func_name = stmt.func.id if \"id\" in stmt.func.__dict__ else stmt.func.attr\n",
    "            if func_name in func_defs:\n",
    "                if func_name in func_calls:\n",
    "                    func_calls[func_name] += 1\n",
    "    return func_calls"
   ]
  },
  {
   "cell_type": "code",
   "execution_count": null,
   "metadata": {},
   "outputs": [],
   "source": [
    "test_code = \"\"\"self.hierarchical_topic_reduction(3); \n",
    "topic_reduction(3); \n",
    "lambda x: topic(x); \n",
    "hierarchical_topic_reduction[4]; \n",
    "hierarchical_topic_reduction(4); \n",
    "blabla()\n",
    "\"\"\"\n",
    "test_func_defs = [\n",
    "    \"topic\",\n",
    "    \"topic_reduction\",\n",
    "    \"blablabla\",\n",
    "    \"hierarchical_topic_reduction\",\n",
    "]"
   ]
  },
  {
   "cell_type": "code",
   "execution_count": null,
   "metadata": {},
   "outputs": [],
   "source": [
    "assert count_func_calls(test_code, test_func_defs) == Counter(\n",
    "    {\n",
    "        \"topic\": 1,\n",
    "        \"topic_reduction\": 1,\n",
    "        \"blablabla\": 0,\n",
    "        \"hierarchical_topic_reduction\": 2,\n",
    "    }\n",
    ")"
   ]
  },
  {
   "cell_type": "code",
   "execution_count": null,
   "metadata": {},
   "outputs": [],
   "source": [
    "nb_cell_code = r\"\"\"\n",
    "def something():\n",
    "    pass; pass # in x 2\n",
    "    \n",
    "%load_ext autoreload\n",
    "%autoreload 2\n",
    "\n",
    "!ls -l\n",
    "if 1!= 2:\n",
    "    print(4)\n",
    "# export\n",
    "\n",
    "import pandas as pd # out\n",
    "from sciflow.utils import lib_path, odbc_connect, query # out\n",
    "\n",
    "# export\n",
    "\n",
    "def nb_to_sagemaker_pipeline(\n",
    "    nb_path: Path,\n",
    "    silent: bool = True,\n",
    "):\n",
    "    nb = read_nb(nb_path)  # in\n",
    "    lib_name = get_config().get(\"lib_name\")  # in\n",
    "    module_name = find_default_export(nb[\"cells\"])  # in\n",
    "    \n",
    "x = [1,2,3] # out\n",
    "nb_to_sagemaker_pipeline() # out\n",
    "\"\"\""
   ]
  },
  {
   "cell_type": "code",
   "execution_count": null,
   "metadata": {},
   "outputs": [],
   "source": [
    "# export\n",
    "\n",
    "\n",
    "def replace_ipython_magics(code):\n",
    "    # Replace Ipython magic and shell command symbol with comment\n",
    "    code = code.replace(\"%\", \"#\")\n",
    "    code = re.sub(r\"^!\", \"#\", code)\n",
    "    return re.sub(r\"\\n\\W?!\", \"\\n#\", code)"
   ]
  },
  {
   "cell_type": "code",
   "execution_count": null,
   "metadata": {},
   "outputs": [],
   "source": [
    "throws = False\n",
    "try:\n",
    "    assert ast.parse(nb_cell_code)\n",
    "except SyntaxError:\n",
    "    throws = True\n",
    "assert throws\n",
    "assert type(ast.parse(replace_ipython_magics(nb_cell_code))) == ast.Module"
   ]
  },
  {
   "cell_type": "code",
   "execution_count": null,
   "metadata": {},
   "outputs": [],
   "source": [
    "# export\n",
    "\n",
    "\n",
    "def calc_tpf(num_tests, num_funcs):\n",
    "    return 0 if num_funcs == 0 else num_tests / num_funcs"
   ]
  },
  {
   "cell_type": "code",
   "execution_count": null,
   "metadata": {},
   "outputs": [],
   "source": [
    "assert calc_tpf(1, 1) == 1\n",
    "assert calc_tpf(2, 1) == 2\n",
    "assert calc_tpf(1, 2) == 0.5\n",
    "assert calc_tpf(0, 1) == 0\n",
    "assert calc_tpf(1, 0) == 0\n",
    "assert calc_tpf(10, 1) == 10"
   ]
  },
  {
   "cell_type": "code",
   "execution_count": null,
   "metadata": {},
   "outputs": [],
   "source": [
    "test_module_path = Path(Path(\".\").resolve(), \"test\", \"test_module.ipynb\")\n",
    "test_data_handling_path = Path(Path(\".\").resolve(), \"test\", \"test_data_handling.ipynb\")\n",
    "test_export_path = Path(Path(\".\").resolve(), \"test\", \"test_export.ipynb\")\n",
    "test_multistep_path = Path(Path(\".\").resolve(), \"test\", \"test_multistep.ipynb\")"
   ]
  },
  {
   "cell_type": "code",
   "execution_count": null,
   "metadata": {},
   "outputs": [],
   "source": [
    "test_module_nb = read_nb(test_module_path)\n",
    "test_data_handling_nb = read_nb(test_data_handling_path)\n",
    "test_export_nb = read_nb(test_export_path)\n",
    "test_multistep_nb = read_nb(test_multistep_path)"
   ]
  },
  {
   "cell_type": "code",
   "execution_count": null,
   "metadata": {},
   "outputs": [],
   "source": [
    "# export\n",
    "\n",
    "\n",
    "def tpf(nb, module_code):\n",
    "    pnb = nbformat.from_dict(nb)\n",
    "    nb_cell_code = \"\\n\".join(\n",
    "        [\n",
    "            replace_ipython_magics(c[\"source\"])\n",
    "            for c in pnb.cells\n",
    "            if c[\"cell_type\"] == \"code\"\n",
    "        ]\n",
    "    )\n",
    "    func_defs = get_function_defs(module_code)\n",
    "    func_calls = count_func_calls(nb_cell_code, func_defs)\n",
    "    num_funcs = len(func_calls.keys())\n",
    "    num_tests = sum(func_calls.values())\n",
    "    return calc_tpf(num_tests, num_funcs)"
   ]
  },
  {
   "cell_type": "code",
   "execution_count": null,
   "metadata": {},
   "outputs": [],
   "source": [
    "assert tpf(*load_nb_module(test_module_path)) == 0\n",
    "assert tpf(*load_nb_module(test_data_handling_path)) >= 0\n",
    "assert tpf(*load_nb_module(test_export_path)) >= 0\n",
    "assert tpf(*load_nb_module(test_multistep_path)) >= 0"
   ]
  },
  {
   "cell_type": "markdown",
   "metadata": {},
   "source": [
    "# 2. In-function Percentage"
   ]
  },
  {
   "cell_type": "code",
   "execution_count": null,
   "metadata": {},
   "outputs": [],
   "source": [
    "# export\n",
    "\n",
    "\n",
    "def calc_ifp(nb_cell_code):\n",
    "    stmts_in_func = 0\n",
    "    stmts_outside_func = 0\n",
    "    for stmt in ast.walk(ast.parse(replace_ipython_magics(nb_cell_code))):\n",
    "        if isinstance(stmt, ast.FunctionDef) and not stmt.name.startswith(\"_\"):\n",
    "            for body_item in stmt.body:\n",
    "                stmts_in_func += 1\n",
    "        elif isinstance(stmt, ast.Module):\n",
    "            for body_item in stmt.body:\n",
    "                if not isinstance(body_item, ast.FunctionDef):\n",
    "                    stmts_outside_func += 1\n",
    "    return (\n",
    "        0\n",
    "        if stmts_outside_func + stmts_in_func == 0\n",
    "        else (stmts_in_func / (stmts_outside_func + stmts_in_func)) * 100\n",
    "    )"
   ]
  },
  {
   "cell_type": "code",
   "execution_count": null,
   "metadata": {},
   "outputs": [],
   "source": [
    "assert (calc_ifp(nb_cell_code)) == (5 / (5 + 5)) * 100"
   ]
  },
  {
   "cell_type": "code",
   "execution_count": null,
   "metadata": {},
   "outputs": [],
   "source": [
    "# export\n",
    "\n",
    "\n",
    "def ifp(nb):\n",
    "    nb_cell_code = \"\\n\".join(\n",
    "        [\n",
    "            replace_ipython_magics(c[\"source\"])\n",
    "            for c in nb.cells\n",
    "            if c[\"cell_type\"] == \"code\"\n",
    "        ]\n",
    "    )\n",
    "    return calc_ifp(nb_cell_code)"
   ]
  },
  {
   "cell_type": "code",
   "execution_count": null,
   "metadata": {},
   "outputs": [],
   "source": [
    "assert ifp(test_module_nb) >= 0\n",
    "assert ifp(test_data_handling_nb) >= 0\n",
    "assert ifp(test_export_nb) >= 0\n",
    "assert ifp(test_multistep_nb) >= 0"
   ]
  },
  {
   "cell_type": "markdown",
   "metadata": {},
   "source": [
    "# 3. Markdown to Code Percent"
   ]
  },
  {
   "cell_type": "code",
   "execution_count": null,
   "metadata": {},
   "outputs": [],
   "source": [
    "# export\n",
    "\n",
    "\n",
    "def mcp(nb):\n",
    "    md_cells = [c for c in nb.cells if c[\"cell_type\"] == \"markdown\"]\n",
    "    code_cells = [c for c in nb.cells if c[\"cell_type\"] == \"code\"]\n",
    "    num_code_cells = len(code_cells)\n",
    "    num_md_cells = len(md_cells)\n",
    "    return (\n",
    "        0\n",
    "        if num_code_cells == 0\n",
    "        else (num_md_cells / (num_md_cells + num_code_cells)) * 100\n",
    "    )"
   ]
  },
  {
   "cell_type": "code",
   "execution_count": null,
   "metadata": {},
   "outputs": [],
   "source": [
    "assert mcp(test_module_nb) >= 0\n",
    "assert mcp(test_data_handling_nb) >= 0\n",
    "assert mcp(test_export_nb) >= 0\n",
    "assert mcp(test_multistep_nb) >= 0"
   ]
  },
  {
   "cell_type": "markdown",
   "metadata": {},
   "source": [
    "# 4. Total Code Length"
   ]
  },
  {
   "cell_type": "code",
   "execution_count": null,
   "metadata": {},
   "outputs": [],
   "source": [
    "# export\n",
    "\n",
    "\n",
    "def tcl(nb):\n",
    "    return sum([len(c[\"source\"]) for c in nb.cells if c[\"cell_type\"] == \"code\"])"
   ]
  },
  {
   "cell_type": "code",
   "execution_count": null,
   "metadata": {},
   "outputs": [],
   "source": [
    "assert tcl(test_module_nb) >= 50\n",
    "assert tcl(test_data_handling_nb) >= 50\n",
    "assert tcl(test_export_nb) >= 50\n",
    "assert tcl(test_multistep_nb) >= 50"
   ]
  },
  {
   "cell_type": "code",
   "execution_count": null,
   "metadata": {},
   "outputs": [],
   "source": [
    "# export\n",
    "\n",
    "\n",
    "def lint_nb(\n",
    "    nb_path,\n",
    "    tpf_warn_thresh=None,\n",
    "    ifp_warn_thresh=None,\n",
    "    mcp_warn_thresh=None,\n",
    "    tcl_warn_thresh=None,\n",
    "    rounding_precision=3,\n",
    "):\n",
    "    result = (np.nan, np.nan, np.nan, np.nan)\n",
    "    try:\n",
    "        nb, module_code = load_nb_module(nb_path)\n",
    "    except ValueError:\n",
    "        # print(f\"Skipping notebook with no associated module: {nb_path.name}\")\n",
    "        return result\n",
    "    nb_tpf = round(tpf(nb, module_code), rounding_precision)\n",
    "    nb_ifp = round(ifp(nb), rounding_precision)\n",
    "    nb_mcp = round(mcp(nb), rounding_precision)\n",
    "    nb_tcl = round(tcl(nb), rounding_precision)\n",
    "    # print(f\"NB: {nb_path.name} TestsPerFunction: {nb_tpf} In-FunctionPercent: {nb_ifp} MarkdownToCodeRatio: {nb_mcr} TotalCodeLen: {nb_tcl}\")\n",
    "    return (nb_tpf, nb_ifp, nb_mcp, nb_tcl)"
   ]
  },
  {
   "cell_type": "code",
   "execution_count": null,
   "metadata": {},
   "outputs": [],
   "source": [
    "# export\n",
    "\n",
    "\n",
    "def format_quality_warning(metric, warning_data, warn_thresh, direction):\n",
    "    for warning_row in warning_data.reset_index().itertuples():\n",
    "        print(f'\"{warning_row.index}\" has: {metric} {direction} {warn_thresh}')"
   ]
  },
  {
   "cell_type": "code",
   "execution_count": null,
   "metadata": {},
   "outputs": [],
   "source": [
    "# export\n",
    "\n",
    "\n",
    "def lint_nbs(\n",
    "    tpf_warn_thresh=1,\n",
    "    ifp_warn_thresh=20,\n",
    "    mcp_warn_thresh=5,\n",
    "    tcl_warn_thresh=20000,\n",
    "    rounding_precision=3,\n",
    "):\n",
    "    nb_paths = nbglob(recursive=True)\n",
    "    lt_metric_cols = [\n",
    "        \"tests_per_function\",\n",
    "        \"in_function_percent\",\n",
    "        \"markdown_code_percent\",\n",
    "    ]\n",
    "    gt_metric_cols = [\"total_code_len\"]\n",
    "    lt_metrics_thresholds = [tpf_warn_thresh, ifp_warn_thresh, mcp_warn_thresh]\n",
    "    gt_metrics_thresholds = [tcl_warn_thresh]\n",
    "    results = []\n",
    "    nb_names = []\n",
    "    for nb_path in nb_paths:\n",
    "        nb_names.append(nb_path.stem)\n",
    "        results.append(lint_nb(nb_path))\n",
    "    lint_report = pd.DataFrame.from_records(\n",
    "        data=results, index=nb_names, columns=lt_metric_cols + gt_metric_cols\n",
    "    ).sort_values([\"tests_per_function\", \"markdown_code_percent\"], ascending=False)\n",
    "\n",
    "    # TODO persist to remote storage\n",
    "\n",
    "    print(\"\\n*********************Begin Scilint Report*********************\")\n",
    "    for lt_metric_col, lt_metrics_threshold in zip(\n",
    "        lt_metric_cols, lt_metrics_thresholds\n",
    "    ):\n",
    "        metrics_series = lint_report[lt_metric_col]\n",
    "        format_quality_warning(\n",
    "            lt_metric_col,\n",
    "            metrics_series[metrics_series < lt_metrics_threshold],\n",
    "            lt_metrics_threshold,\n",
    "            direction=\"<\",\n",
    "        )\n",
    "    for gt_metric_col, gt_metrics_threshold in zip(\n",
    "        gt_metric_cols, gt_metrics_thresholds\n",
    "    ):\n",
    "        metrics_series = lint_report[gt_metric_col]\n",
    "        format_quality_warning(\n",
    "            gt_metric_col,\n",
    "            metrics_series[metrics_series > gt_metrics_threshold],\n",
    "            gt_metrics_threshold,\n",
    "            direction=\">\",\n",
    "        )\n",
    "    print(\"*********************End Scilint Report***********************\")\n",
    "\n",
    "    return lint_report"
   ]
  },
  {
   "cell_type": "code",
   "execution_count": null,
   "metadata": {},
   "outputs": [],
   "source": [
    "lint_report = lint_nbs()"
   ]
  },
  {
   "cell_type": "code",
   "execution_count": null,
   "metadata": {},
   "outputs": [],
   "source": [
    "lint_report"
   ]
  },
  {
   "cell_type": "code",
   "execution_count": null,
   "metadata": {},
   "outputs": [],
   "source": [
    "# export\n",
    "\n",
    "\n",
    "@call_parse\n",
    "def sciflow_lint():\n",
    "    lint_nbs()"
   ]
  }
 ],
 "metadata": {
  "kernelspec": {
   "display_name": "sciflow (sciflow/3)",
   "language": "python",
   "name": "python3__SAGEMAKER_INTERNAL__arn:aws:sagemaker:eu-west-1:368653567616:image-version/sciflow/3"
  }
 },
 "nbformat": 4,
 "nbformat_minor": 4
}
