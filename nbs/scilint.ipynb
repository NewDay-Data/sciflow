{
 "cells": [
  {
   "cell_type": "code",
   "execution_count": 1,
   "metadata": {},
   "outputs": [],
   "source": [
    "# hide\n",
    "# default_exp scilint"
   ]
  },
  {
   "cell_type": "markdown",
   "metadata": {},
   "source": [
    "# Data Science Notebook Linting\n",
    "\n",
    "[nbQA](https://github.com/nbQA-dev/nbQA) lets you run any standard Python code quality tool on a Jupyter Notebook. The changes can be suggested or made in-place using `nbqa-mutate`.\n",
    "\n",
    "Command Line Examples:\n",
    "```\n",
    "> nbqa autoflake my_notebook.ipynb -i --remove-unused-variables\n",
    "--remove-all-unused-imports --nbqa-mutate\n",
    "> nbqa black my_notebook.ipynb --nbqa-mutate\n",
    "> nbqa check-ast my_notebook.ipynb\n",
    "> nbqa doctest my_notebook.ipynb\n",
    "> nbqa flake8 my_notebook.ipynb --extend-ignore=E203,E302,E305,E703\n",
    "> nbqa isort my_notebook.ipynb --nbqa-mutate\n",
    "> nbqa mypy my_notebook.ipynb --ignore-missing-imports\n",
    "> nbqa pylint my_notebook.ipynb --disable=C0114\n",
    "> nbqa pyupgrade my_notebook.ipynb --py36-plus --nbqa-mutate\n",
    "```"
   ]
  },
  {
   "cell_type": "code",
   "execution_count": 2,
   "metadata": {},
   "outputs": [],
   "source": [
    "# export\n",
    "\n",
    "import ast\n",
    "import os\n",
    "from collections import Counter\n",
    "from pathlib import Path\n",
    "\n",
    "import nbformat\n",
    "from fastcore.script import call_parse\n",
    "from nbdev.export import read_nb\n",
    "from nbqa.__main__ import _get_configs, _main\n",
    "from nbqa.cmdline import CLIArgs\n",
    "from nbqa.find_root import find_project_root\n",
    "from sciflow.utils import load_nb_module"
   ]
  },
  {
   "cell_type": "code",
   "execution_count": 3,
   "metadata": {},
   "outputs": [],
   "source": [
    "%load_ext autoreload\n",
    "%autoreload 2"
   ]
  },
  {
   "cell_type": "markdown",
   "metadata": {},
   "source": [
    "# NB Code Style"
   ]
  },
  {
   "cell_type": "code",
   "execution_count": 4,
   "metadata": {},
   "outputs": [],
   "source": [
    "# export\n",
    "\n",
    "\n",
    "def run_nbqa_cmd(cmd):\n",
    "    print(f\"Running {cmd}\")\n",
    "    project_root: Path = find_project_root(tuple([str(Path(\".\").resolve())]))\n",
    "    args = CLIArgs.parse_args([cmd, str(project_root)])\n",
    "    configs = _get_configs(args, project_root)\n",
    "    output_code = _main(args, configs)\n",
    "    return output_code"
   ]
  },
  {
   "cell_type": "code",
   "execution_count": 5,
   "metadata": {},
   "outputs": [],
   "source": [
    "project_root: Path = find_project_root(tuple([str(Path(\".\").resolve())]))\n",
    "assert os.path.basename(project_root) == \"sciflow\""
   ]
  },
  {
   "cell_type": "code",
   "execution_count": 6,
   "metadata": {},
   "outputs": [],
   "source": [
    "# export\n",
    "\n",
    "\n",
    "@call_parse\n",
    "def sciflow_tidy():\n",
    "    \"Run notebook formatting and tidy utilities. \\\n",
    "    These tools should be configured to run automatically without intervention.\"\n",
    "    tidy_tools = [\"black\", \"isort\", \"autoflake\"]\n",
    "    [run_nbqa_cmd(c) for c in tidy_tools]"
   ]
  },
  {
   "cell_type": "markdown",
   "metadata": {},
   "source": [
    "# Quality relevant data extraction\n",
    "\n",
    "## Definitions\n",
    "* Function ($f$) = function in `# export` block\n",
    "* Test ($\\tau$) = call of exported function outside `# export` block\n",
    "\n",
    "## Metrics\n",
    "1. Tests per Function: $\\mathrm{TpF}$ = $\\dfrac{|\\tau|}{f}$,when $f=0; \\mathrm{TpF} = 0$\n",
    "2. In-function Percentage: $\\mathrm{IP} = $\\# $\\mathrm{statements-in-function}:$ \\# $\\mathrm{all-statements}$ \n",
    "3. MD to Code Ratio: $\\mathrm{CMR}$ = # $ \\mathrm{markdown-cells}:$ \\# $\\mathrm{code-cells}$ \n",
    "4. Total Code Lines: $\\mathrm{TCL}$ = \\# $\\mathrm{all-code-lines}$ "
   ]
  },
  {
   "cell_type": "markdown",
   "metadata": {},
   "source": [
    "# 1. Tests-per-Function"
   ]
  },
  {
   "cell_type": "code",
   "execution_count": 7,
   "metadata": {},
   "outputs": [],
   "source": [
    "# export\n",
    "\n",
    "\n",
    "def get_function_defs(code):\n",
    "    func_names = []\n",
    "    for stmt in ast.walk(ast.parse(code)):\n",
    "        if isinstance(stmt, ast.FunctionDef) and not stmt.name.startswith(\"_\"):\n",
    "            func_names.append(stmt.name)\n",
    "    return func_names"
   ]
  },
  {
   "cell_type": "code",
   "execution_count": 8,
   "metadata": {},
   "outputs": [],
   "source": [
    "# export\n",
    "\n",
    "\n",
    "def count_func_calls(code, func_defs):\n",
    "    func_calls = Counter({k: 0 for k in func_defs})\n",
    "    for stmt in ast.walk(ast.parse(code)):\n",
    "        if isinstance(stmt, ast.Call):\n",
    "            func_name = stmt.func.id if \"id\" in stmt.func.__dict__ else stmt.func.attr\n",
    "            if func_name in func_defs:\n",
    "                if func_name in func_calls:\n",
    "                    func_calls[func_name] += 1\n",
    "    return func_calls"
   ]
  },
  {
   "cell_type": "code",
   "execution_count": 9,
   "metadata": {},
   "outputs": [],
   "source": [
    "test_code = \"\"\"self.hierarchical_topic_reduction(3); \n",
    "topic_reduction(3); \n",
    "lambda x: topic(x); \n",
    "hierarchical_topic_reduction[4]; \n",
    "hierarchical_topic_reduction(4); \n",
    "blabla()\n",
    "\"\"\"\n",
    "test_func_defs = [\n",
    "    \"topic\",\n",
    "    \"topic_reduction\",\n",
    "    \"blablabla\",\n",
    "    \"hierarchical_topic_reduction\",\n",
    "]"
   ]
  },
  {
   "cell_type": "code",
   "execution_count": 10,
   "metadata": {},
   "outputs": [],
   "source": [
    "assert count_func_calls(test_code, test_func_defs) == Counter(\n",
    "    {\n",
    "        \"topic\": 1,\n",
    "        \"topic_reduction\": 1,\n",
    "        \"blablabla\": 0,\n",
    "        \"hierarchical_topic_reduction\": 2,\n",
    "    }\n",
    ")"
   ]
  },
  {
   "cell_type": "code",
   "execution_count": 11,
   "metadata": {},
   "outputs": [],
   "source": [
    "# export\n",
    "\n",
    "\n",
    "def calc_tpf(num_tests, num_funcs):\n",
    "    return 0 if num_funcs == 0 else num_tests / num_funcs"
   ]
  },
  {
   "cell_type": "code",
   "execution_count": 12,
   "metadata": {},
   "outputs": [],
   "source": [
    "assert calc_tpf(1, 1) == 1\n",
    "assert calc_tpf(2, 1) == 2\n",
    "assert calc_tpf(1, 2) == 0.5\n",
    "assert calc_tpf(0, 1) == 0\n",
    "assert calc_tpf(1, 0) == 0\n",
    "assert calc_tpf(10, 1) == 10"
   ]
  },
  {
   "cell_type": "code",
   "execution_count": 13,
   "metadata": {},
   "outputs": [],
   "source": [
    "# export\n",
    "\n",
    "\n",
    "def tpf(nb_path):\n",
    "    nb, module_code = load_nb_module(nb_path)\n",
    "    pnb = nbformat.from_dict(nb)\n",
    "    nb_cell_code = \"\\n\".join(\n",
    "        [c[\"source\"].replace(\"%\", \"#\") for c in pnb.cells if c[\"cell_type\"] == \"code\"]\n",
    "    )\n",
    "    func_defs = get_function_defs(module_code)\n",
    "    func_calls = count_func_calls(nb_cell_code, func_defs)\n",
    "    num_funcs = len(func_calls.keys())\n",
    "    num_tests = sum(func_calls.values())\n",
    "    print(num_tests, num_funcs)\n",
    "    return calc_tpf(num_tests, num_funcs)"
   ]
  },
  {
   "cell_type": "code",
   "execution_count": 14,
   "metadata": {},
   "outputs": [
    {
     "name": "stdout",
     "output_type": "stream",
     "text": [
      "0 1\n"
     ]
    },
    {
     "data": {
      "text/plain": [
       "0.0"
      ]
     },
     "execution_count": 14,
     "metadata": {},
     "output_type": "execute_result"
    }
   ],
   "source": [
    "tpf(\"test/test_module.ipynb\")"
   ]
  },
  {
   "cell_type": "code",
   "execution_count": 15,
   "metadata": {},
   "outputs": [
    {
     "name": "stdout",
     "output_type": "stream",
     "text": [
      "3 3\n"
     ]
    },
    {
     "data": {
      "text/plain": [
       "1.0"
      ]
     },
     "execution_count": 15,
     "metadata": {},
     "output_type": "execute_result"
    }
   ],
   "source": [
    "tpf(\"test/test_data_handling.ipynb\")"
   ]
  },
  {
   "cell_type": "code",
   "execution_count": 16,
   "metadata": {},
   "outputs": [
    {
     "name": "stdout",
     "output_type": "stream",
     "text": [
      "2 5\n"
     ]
    },
    {
     "data": {
      "text/plain": [
       "0.4"
      ]
     },
     "execution_count": 16,
     "metadata": {},
     "output_type": "execute_result"
    }
   ],
   "source": [
    "tpf(\"test/test_export.ipynb\")"
   ]
  },
  {
   "cell_type": "markdown",
   "metadata": {},
   "source": [
    "# 2. In-function Percentage"
   ]
  },
  {
   "cell_type": "code",
   "execution_count": 17,
   "metadata": {},
   "outputs": [],
   "source": [
    "nb_cell_code = \"\"\"\n",
    "def something():\n",
    "    pass; pass\n",
    "#load_ext autoreload\n",
    "#autoreload 2\n",
    "# export\n",
    "\n",
    "\n",
    "import numpy as np\n",
    "import pandas as pd\n",
    "from sciflow.utils import lib_path, odbc_connect, query\n",
    "pd.set_option(\"display.max_colwidth\", 800)\n",
    "# export\n",
    "\"\"\""
   ]
  },
  {
   "cell_type": "code",
   "execution_count": 18,
   "metadata": {},
   "outputs": [],
   "source": [
    "# export\n",
    "\n",
    "\n",
    "def ifp(nb_path):\n",
    "    nb = read_nb(nb_path)\n",
    "    nb_cell_code = \"\\n\".join(\n",
    "        [c[\"source\"].replace(\"%\", \"#\") for c in nb.cells if c[\"cell_type\"] == \"code\"]\n",
    "    )\n",
    "    stmts_in_func = 0\n",
    "    stmts_outside_func = 0\n",
    "    for stmt in ast.walk(ast.parse(nb_cell_code)):\n",
    "        if isinstance(stmt, ast.FunctionDef) and not stmt.name.startswith(\"_\"):\n",
    "            for body_item in stmt.body:\n",
    "                stmts_in_func += 1\n",
    "        else:\n",
    "            stmts_outside_func += 1\n",
    "    return (\n",
    "        0\n",
    "        if stmts_outside_func + stmts_in_func == 0\n",
    "        else stmts_in_func / (stmts_outside_func + stmts_in_func)\n",
    "    )"
   ]
  },
  {
   "cell_type": "code",
   "execution_count": 19,
   "metadata": {},
   "outputs": [
    {
     "data": {
      "text/plain": [
       "0.03289473684210526"
      ]
     },
     "execution_count": 19,
     "metadata": {},
     "output_type": "execute_result"
    }
   ],
   "source": [
    "ifp(\"test/test_data_handling.ipynb\")"
   ]
  },
  {
   "cell_type": "code",
   "execution_count": 20,
   "metadata": {},
   "outputs": [
    {
     "data": {
      "text/plain": [
       "0.07009345794392523"
      ]
     },
     "execution_count": 20,
     "metadata": {},
     "output_type": "execute_result"
    }
   ],
   "source": [
    "ifp(\"test/test_export.ipynb\")"
   ]
  },
  {
   "cell_type": "code",
   "execution_count": 21,
   "metadata": {},
   "outputs": [
    {
     "data": {
      "text/plain": [
       "0.03773584905660377"
      ]
     },
     "execution_count": 21,
     "metadata": {},
     "output_type": "execute_result"
    }
   ],
   "source": [
    "ifp(\"test/test_clustering.ipynb\")"
   ]
  },
  {
   "cell_type": "markdown",
   "metadata": {},
   "source": [
    "# 3. Markdown to Code Ratio"
   ]
  },
  {
   "cell_type": "code",
   "execution_count": 22,
   "metadata": {},
   "outputs": [],
   "source": [
    "# export\n",
    "\n",
    "\n",
    "def mcr(nb_path):\n",
    "    nb = read_nb(nb_path)\n",
    "    md_cells = [c for c in nb.cells if c[\"cell_type\"] == \"markdown\"]\n",
    "    code_cells = [c for c in nb.cells if c[\"cell_type\"] == \"code\"]\n",
    "    num_code_cells = len(code_cells)\n",
    "    num_md_cells = len(md_cells)\n",
    "    return 0 if num_code_cells == 0 else num_md_cells / num_code_cells"
   ]
  },
  {
   "cell_type": "code",
   "execution_count": 23,
   "metadata": {},
   "outputs": [
    {
     "data": {
      "text/plain": [
       "0.25"
      ]
     },
     "execution_count": 23,
     "metadata": {},
     "output_type": "execute_result"
    }
   ],
   "source": [
    "mcr(\"test/test_module.ipynb\")"
   ]
  },
  {
   "cell_type": "code",
   "execution_count": 24,
   "metadata": {},
   "outputs": [
    {
     "data": {
      "text/plain": [
       "0.3157894736842105"
      ]
     },
     "execution_count": 24,
     "metadata": {},
     "output_type": "execute_result"
    }
   ],
   "source": [
    "mcr(\"test/test_export.ipynb\")"
   ]
  },
  {
   "cell_type": "code",
   "execution_count": 25,
   "metadata": {},
   "outputs": [
    {
     "data": {
      "text/plain": [
       "0.0"
      ]
     },
     "execution_count": 25,
     "metadata": {},
     "output_type": "execute_result"
    }
   ],
   "source": [
    "mcr(\"test/test_data_handling.ipynb\")"
   ]
  },
  {
   "cell_type": "markdown",
   "metadata": {},
   "source": [
    "# 4. Total Code Length"
   ]
  },
  {
   "cell_type": "code",
   "execution_count": 26,
   "metadata": {},
   "outputs": [],
   "source": [
    "# export\n",
    "\n",
    "\n",
    "def tcl(nb_path):\n",
    "    nb = read_nb(nb_path)\n",
    "    return sum([len(c[\"source\"]) for c in nb.cells if c[\"cell_type\"] == \"code\"])"
   ]
  },
  {
   "cell_type": "code",
   "execution_count": 27,
   "metadata": {},
   "outputs": [
    {
     "data": {
      "text/plain": [
       "290"
      ]
     },
     "execution_count": 27,
     "metadata": {},
     "output_type": "execute_result"
    }
   ],
   "source": [
    "tcl(\"test/test_module.ipynb\")"
   ]
  },
  {
   "cell_type": "code",
   "execution_count": 28,
   "metadata": {},
   "outputs": [
    {
     "data": {
      "text/plain": [
       "4599"
      ]
     },
     "execution_count": 28,
     "metadata": {},
     "output_type": "execute_result"
    }
   ],
   "source": [
    "tcl(\"test/test_clustering.ipynb\")"
   ]
  },
  {
   "cell_type": "code",
   "execution_count": 29,
   "metadata": {},
   "outputs": [
    {
     "data": {
      "text/plain": [
       "1361"
      ]
     },
     "execution_count": 29,
     "metadata": {},
     "output_type": "execute_result"
    }
   ],
   "source": [
    "tcl(\"test/test_data_handling.ipynb\")"
   ]
  }
 ],
 "metadata": {
  "instance_type": "ml.t3.medium",
  "kernelspec": {
   "display_name": "sciflow (sciflow/3)",
   "language": "python",
   "name": "python3__SAGEMAKER_INTERNAL__arn:aws:sagemaker:eu-west-1:368653567616:image-version/sciflow/3"
  },
  "language_info": {
   "codemirror_mode": {
    "name": "ipython",
    "version": 3
   },
   "file_extension": ".py",
   "mimetype": "text/x-python",
   "name": "python",
   "nbconvert_exporter": "python",
   "pygments_lexer": "ipython3",
   "version": "3.9.0"
  }
 },
 "nbformat": 4,
 "nbformat_minor": 4
}
