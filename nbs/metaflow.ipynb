{
 "cells": [
  {
   "cell_type": "code",
   "execution_count": 33,
   "metadata": {},
   "outputs": [],
   "source": [
    "# default_exp metaflow"
   ]
  },
  {
   "cell_type": "code",
   "execution_count": 34,
   "metadata": {},
   "outputs": [],
   "source": [
    "# export\n",
    "import os\n",
    "from pathlib import Path\n",
    "from typing import Iterable\n",
    "import subprocess\n",
    "\n",
    "from fastcore.script import call_parse\n",
    "from nbdev.export import Config, find_default_export, nbglob, read_nb\n",
    "from sciflow.params import params_as_dict\n",
    "from sciflow.parse_module import FuncDetails, extract_steps"
   ]
  },
  {
   "cell_type": "markdown",
   "metadata": {},
   "source": [
    "# Sciflow Notebook to MetaFlow Flow\n",
    "\n",
    "> Converts from a `sciflow` format notebook to a `metaflow` flow. \n",
    "\n",
    "Supported features:\n",
    "\n",
    "* Linear/sequential DAGs\n",
    "* Simple `Parameters`"
   ]
  },
  {
   "cell_type": "code",
   "execution_count": 35,
   "metadata": {},
   "outputs": [
    {
     "name": "stdout",
     "output_type": "stream",
     "text": [
      "The autoreload extension is already loaded. To reload it, use:\n",
      "  %reload_ext autoreload\n"
     ]
    }
   ],
   "source": [
    "%load_ext autoreload\n",
    "%autoreload 2"
   ]
  },
  {
   "cell_type": "code",
   "execution_count": 41,
   "metadata": {},
   "outputs": [],
   "source": [
    "nb_path = Path(os.path.join(\"test\", \"test_export.ipynb\"))\n",
    "nb = read_nb(nb_path)\n",
    "module_name = find_default_export(nb[\"cells\"]).replace('.', '/')\n",
    "test_module = os.path.join(Config().path(\"lib_path\"), f\"{module_name}.py\")"
   ]
  },
  {
   "cell_type": "code",
   "execution_count": 42,
   "metadata": {},
   "outputs": [],
   "source": [
    "# export\n",
    "\n",
    "\n",
    "def titleize(name):\n",
    "    return name.title().replace(\"_\", \"\")"
   ]
  },
  {
   "cell_type": "code",
   "execution_count": 43,
   "metadata": {},
   "outputs": [],
   "source": [
    "assert titleize(\"snake_case\") == \"SnakeCase\""
   ]
  },
  {
   "cell_type": "code",
   "execution_count": 44,
   "metadata": {},
   "outputs": [],
   "source": [
    "# export\n",
    "\n",
    "\n",
    "def rename_steps_for_metaflow(steps):\n",
    "    for i, step in enumerate(steps):\n",
    "        if i == 0:\n",
    "            step.name = \"start\"\n",
    "        if i == len(steps) - 1:\n",
    "            step.name = \"end\""
   ]
  },
  {
   "cell_type": "code",
   "execution_count": 45,
   "metadata": {},
   "outputs": [],
   "source": [
    "steps = extract_steps(test_module)"
   ]
  },
  {
   "cell_type": "code",
   "execution_count": 46,
   "metadata": {},
   "outputs": [],
   "source": [
    "no_steps = extract_steps(os.path.join(Config().path(\"lib_path\"), f\"_nbdev.py\"))\n",
    "assert len(no_steps) == 0"
   ]
  },
  {
   "cell_type": "code",
   "execution_count": 47,
   "metadata": {},
   "outputs": [],
   "source": [
    "assert [\"first\", \"preprocess\", \"train\", \"last\"] == [step.name for step in steps]\n",
    "rename_steps_for_metaflow(steps)\n",
    "assert [\"start\", \"preprocess\", \"train\", \"end\"] == [step.name for step in steps]"
   ]
  },
  {
   "cell_type": "code",
   "execution_count": 48,
   "metadata": {},
   "outputs": [],
   "source": [
    "# export\n",
    "\n",
    "\n",
    "def indent_multiline(multiline_text, indent=1):\n",
    "    lines = multiline_text.strip().split(\"\\n\")\n",
    "    spaces = \"\".join([\"    \" for _ in range(indent)])\n",
    "    for i in range(len(lines)):\n",
    "        prefix = spaces if i > 0 else spaces + '\"\"\"'\n",
    "        lines[i] = prefix + lines[i]\n",
    "    return \"\\n\".join(lines) + '\"\"\"'"
   ]
  },
  {
   "cell_type": "code",
   "execution_count": 49,
   "metadata": {},
   "outputs": [],
   "source": [
    "text = \"\"\"\n",
    "Some text\n",
    ":param param: text\n",
    "\"\"\"\n",
    "assert '    \"\"\"Some text\\n    :param param: text\"\"\"' == indent_multiline(text)"
   ]
  },
  {
   "cell_type": "code",
   "execution_count": 68,
   "metadata": {},
   "outputs": [],
   "source": [
    "# export\n",
    "\n",
    "\n",
    "def nb_to_metaflow(nb_path: Path, flow_path: Path, silent=True):\n",
    "    print(nb_path)\n",
    "    nb = read_nb(nb_path)\n",
    "    lib_name = Config().lib_name\n",
    "    module_name = find_default_export(nb[\"cells\"])\n",
    "    if not module_name:\n",
    "        return\n",
    "    module_name = module_name.replace('.', '/')\n",
    "    nb_name = os.path.basename(nb_path)\n",
    "    exported_module = os.path.join(Config().path(\"lib_path\"), f\"{module_name}.py\")\n",
    "    steps = extract_steps(exported_module)\n",
    "    if len(steps) == 0:\n",
    "        return\n",
    "    orig_step_names = [step.name for step in steps]\n",
    "    if len(steps) == 1:\n",
    "        steps.append(FuncDetails(\"end\", None, None, False, \"pass\"))\n",
    "    params = params_as_dict(nb_path)\n",
    "    if len(params) == 0:\n",
    "        print(f\"No params cell found for: {os.path.basename(nb_path)}\")\n",
    "    flow_class_name = f\"{titleize(module_name)}Flow\"\n",
    "    rename_steps_for_metaflow(steps)\n",
    "    write_module_to_file(\n",
    "        flow_path,\n",
    "        flow_class_name,\n",
    "        lib_name,\n",
    "        module_name,\n",
    "        orig_step_names,\n",
    "        steps,\n",
    "        params,\n",
    "    )\n",
    "    if not silent:\n",
    "        print(f\"Converted {nb_name} to {flow_class_name} in: {os.path.basename(flow_path)}\")"
   ]
  },
  {
   "cell_type": "code",
   "execution_count": 69,
   "metadata": {},
   "outputs": [],
   "source": [
    "#  export\n",
    "\n",
    "\n",
    "def write_module_to_file(\n",
    "    flow_path: Path,\n",
    "    flow_class_name: str,\n",
    "    lib_name: str,\n",
    "    module_name: str,\n",
    "    orig_step_names: Iterable[str],\n",
    "    steps: Iterable[FuncDetails],\n",
    "    params: dict,\n",
    "):\n",
    "    if not os.path.exists(flow_path.parent):\n",
    "        os.mkdir(flow_path.parent)\n",
    "    with open(flow_path, \"w\") as flow_file:\n",
    "        flow_file.write(\"# SCIFLOW GENERATED FILE - DO NOT EDIT\\n\")\n",
    "        flow_file.write(\"from metaflow import FlowSpec, step, Parameter\\n\")\n",
    "        flow_file.write(\n",
    "            f\"from {lib_name}.{module_name} import {', '.join(orig_step_names)}\\n\"\n",
    "        )\n",
    "        flow_file.write(\n",
    "            f\"from {lib_name}.{module_name} import {', '.join(params.keys())}\\n\"\n",
    "        )\n",
    "        flow_file.write(f\"\\n\\nclass {flow_class_name}(FlowSpec):\\n\")\n",
    "        single_indent = \"    \"\n",
    "        for param in params.keys():\n",
    "            flow_file.write(\n",
    "                f\"{single_indent}{param} = Parameter('{param}', default={param})\\n\"\n",
    "            )\n",
    "\n",
    "        flow_file.write(\"\\n\")\n",
    "        for i, step in enumerate(steps):\n",
    "            flow_file.write(f\"{single_indent}@step\\n\")\n",
    "            flow_file.write(f\"{single_indent}def {step.name}(self):\\n\")\n",
    "            if step.docstring:\n",
    "                flow_file.write(f\"{indent_multiline(step.docstring, 2)}\\n\")\n",
    "            # Check for padded step\n",
    "            if i < len(orig_step_names):\n",
    "                flow_step_args = \",\".join([\"self.\" + a for a in step.args.split(\",\")])\n",
    "                flow_file.write(\n",
    "                    f\"{single_indent}{single_indent}{orig_step_names[i]}({flow_step_args})\\n\"\n",
    "                )\n",
    "            else:\n",
    "                flow_file.write(f\"{single_indent}{single_indent}pass\\n\")\n",
    "            if i < len(steps) - 1:\n",
    "                flow_file.write(\n",
    "                    f\"{single_indent}{single_indent}self.next(self.{steps[i+1].name})\\n\"\n",
    "                )\n",
    "            flow_file.write(\"\\n\")\n",
    "\n",
    "        flow_file.write('if __name__ == \"__main__\":\\n')\n",
    "        flow_file.write(f\"{single_indent}{flow_class_name}()\")"
   ]
  },
  {
   "cell_type": "code",
   "execution_count": 70,
   "metadata": {},
   "outputs": [],
   "source": [
    "# export\n",
    "\n",
    "\n",
    "def get_module_name(nb_path):\n",
    "    nb = read_nb(nb_path)\n",
    "    module_name = find_default_export(nb[\"cells\"])\n",
    "    return module_name"
   ]
  },
  {
   "cell_type": "code",
   "execution_count": 71,
   "metadata": {},
   "outputs": [],
   "source": [
    "flow_path = Path(\n",
    "    os.path.join(Path(\".\").resolve(), \"test\", \"flows\", f\"{get_module_name(nb_path)}.py\")\n",
    ")"
   ]
  },
  {
   "cell_type": "code",
   "execution_count": 72,
   "metadata": {},
   "outputs": [
    {
     "data": {
      "text/plain": [
       "Path('/home/jovyan/git/sciflow/nbs/test/flows/test.test_export.py')"
      ]
     },
     "execution_count": 72,
     "metadata": {},
     "output_type": "execute_result"
    }
   ],
   "source": [
    "flow_path"
   ]
  },
  {
   "cell_type": "code",
   "execution_count": 73,
   "metadata": {},
   "outputs": [
    {
     "name": "stdout",
     "output_type": "stream",
     "text": [
      "test/test_export.ipynb\n",
      "Converted test_export.ipynb to Test/TestExportFlow in: test.test_export.py\n"
     ]
    }
   ],
   "source": [
    "nb_to_metaflow(nb_path, flow_path, silent=False)"
   ]
  },
  {
   "cell_type": "markdown",
   "metadata": {},
   "source": [
    "# Ignore notebooks without Sciflow steps"
   ]
  },
  {
   "cell_type": "code",
   "execution_count": 74,
   "metadata": {},
   "outputs": [
    {
     "name": "stdout",
     "output_type": "stream",
     "text": [
      "packaging.ipynb\n"
     ]
    }
   ],
   "source": [
    "nb_to_metaflow(\"packaging.ipynb\", flow_path, silent=False)"
   ]
  },
  {
   "cell_type": "code",
   "execution_count": 75,
   "metadata": {},
   "outputs": [],
   "source": [
    "# export\n",
    "\n",
    "\n",
    "def generate_flows(config: Config):\n",
    "    flows_dir = config.path(\"flows_path\")\n",
    "    nb_paths = nbglob(recursive=True)\n",
    "    for nb_path in nb_paths:\n",
    "        flow_module_name = os.path.basename(nb_path).replace(\"ipynb\", \"py\")\n",
    "        nb_to_metaflow(\n",
    "            nb_path, Path(os.path.join(flows_dir, flow_module_name)), silent=False\n",
    "        )"
   ]
  },
  {
   "cell_type": "code",
   "execution_count": 78,
   "metadata": {},
   "outputs": [
    {
     "name": "stdout",
     "output_type": "stream",
     "text": [
      "/home/jovyan/git/sciflow/nbs/metaflow.ipynb\n",
      "/home/jovyan/git/sciflow/nbs/build.ipynb\n",
      "/home/jovyan/git/sciflow/nbs/utils.ipynb\n",
      "/home/jovyan/git/sciflow/nbs/parse_module.ipynb\n",
      "/home/jovyan/git/sciflow/nbs/scilint.ipynb\n",
      "/home/jovyan/git/sciflow/nbs/export_named.ipynb\n",
      "/home/jovyan/git/sciflow/nbs/packaging.ipynb\n",
      "/home/jovyan/git/sciflow/nbs/params.ipynb\n",
      "/home/jovyan/git/sciflow/nbs/index.ipynb\n",
      "/home/jovyan/git/sciflow/nbs/data_handlers.ipynb\n",
      "/home/jovyan/git/sciflow/nbs/test/test_export.ipynb\n",
      "Converted test_export.ipynb to Test/TestExportFlow in: test_export.py\n",
      "/home/jovyan/git/sciflow/nbs/test/test_pandas_numpy.ipynb\n",
      "Converted test_pandas_numpy.ipynb to Test/TestPandasNumpyFlow in: test_pandas_numpy.py\n",
      "/home/jovyan/git/sciflow/nbs/test/test_top2vec.ipynb\n",
      "Converted test_top2vec.ipynb to Test/TestTop2VecFlow in: test_top2vec.py\n",
      "/home/jovyan/git/sciflow/nbs/test/test_module.ipynb\n",
      "Converted test_module.ipynb to Test/TestModuleFlow in: test_module.py\n"
     ]
    }
   ],
   "source": [
    "generate_flows(Config(cfg_name=\"test/settings.ini\"))"
   ]
  },
  {
   "cell_type": "code",
   "execution_count": null,
   "metadata": {},
   "outputs": [],
   "source": [
    "# export\n",
    "\n",
    "\n",
    "@call_parse\n",
    "def sciflow_generate():\n",
    "    generate_flows(Config())"
   ]
  },
  {
   "cell_type": "code",
   "execution_count": 115,
   "metadata": {},
   "outputs": [],
   "source": [
    "def check_flows(config):\n",
    "    flow_results = {}\n",
    "    flows_dir = config.path('flows_path')\n",
    "    for flow_path in os.listdir(flows_dir):\n",
    "        flow_name = os.path.basename(flow_path)\n",
    "        if flow_path.endswith('.py'):\n",
    "            ret_code, output = check_flow(flows_dir, flow_path)\n",
    "            flow_results[flow_name] = ret_code, output\n",
    "            if ret_code == 0:\n",
    "                print(f'Flow: {flow_name} verified')\n",
    "            else:\n",
    "                print(f'Flow: {flow_name} verification failed\\nDetails:\\n{output}')"
   ]
  },
  {
   "cell_type": "code",
   "execution_count": 116,
   "metadata": {},
   "outputs": [],
   "source": [
    "def check_flow(flows_dir, flow_module):\n",
    "    script = f\"python '{os.path.join(flows_dir, flow_module)}' show\"\n",
    "    pipe = subprocess.Popen(\"%s\" % script, stdout=subprocess.PIPE, stderr=subprocess.STDOUT, shell=True)\n",
    "    output = pipe.communicate()[0]\n",
    "    return pipe.returncode, output.decode('utf-8').strip()"
   ]
  },
  {
   "cell_type": "code",
   "execution_count": 117,
   "metadata": {},
   "outputs": [
    {
     "name": "stdout",
     "output_type": "stream",
     "text": [
      "Flow: test_module.py verification failed\n",
      "Details:\n",
      "File \"/home/jovyan/git/sciflow/nbs/test/flows/test_module.py\", line 3\n",
      "    from sciflow.test/test_module import first\n",
      "                     ^\n",
      "SyntaxError: invalid syntax\n",
      "Flow: test_top2vec.py verification failed\n",
      "Details:\n",
      "File \"/home/jovyan/git/sciflow/nbs/test/flows/test_top2vec.py\", line 3\n",
      "    from sciflow.test/test_top2vec import something, preprocess, fit, evaluate\n",
      "                     ^\n",
      "SyntaxError: invalid syntax\n",
      "Flow: test_pandas_numpy.py verification failed\n",
      "Details:\n",
      "File \"/home/jovyan/git/sciflow/nbs/test/flows/test_pandas_numpy.py\", line 3\n",
      "    from sciflow.test/test_pandas_numpy import first, preprocess, train, last\n",
      "                     ^\n",
      "SyntaxError: invalid syntax\n",
      "Flow: test_export.py verification failed\n",
      "Details:\n",
      "File \"/home/jovyan/git/sciflow/nbs/test/flows/test_export.py\", line 3\n",
      "    from sciflow.test/test_export import first, preprocess, train, last\n",
      "                     ^\n",
      "SyntaxError: invalid syntax\n"
     ]
    }
   ],
   "source": [
    "check_flows(Config(cfg_name=\"test/settings.ini\"))"
   ]
  },
  {
   "cell_type": "code",
   "execution_count": null,
   "metadata": {},
   "outputs": [],
   "source": []
  }
 ],
 "metadata": {
  "kernelspec": {
   "display_name": "Python [conda env:jovyan-discovery]",
   "language": "python",
   "name": "conda-env-jovyan-discovery-py"
  },
  "language_info": {
   "codemirror_mode": {
    "name": "ipython",
    "version": 3
   },
   "file_extension": ".py",
   "mimetype": "text/x-python",
   "name": "python",
   "nbconvert_exporter": "python",
   "pygments_lexer": "ipython3",
   "version": "3.7.10"
  }
 },
 "nbformat": 4,
 "nbformat_minor": 4
}
