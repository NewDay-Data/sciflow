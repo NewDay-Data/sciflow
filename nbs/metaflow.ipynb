{
 "cells": [
  {
   "cell_type": "code",
   "execution_count": 1,
   "metadata": {},
   "outputs": [],
   "source": [
    "# default_exp metaflow"
   ]
  },
  {
   "cell_type": "code",
   "execution_count": 174,
   "metadata": {},
   "outputs": [],
   "source": [
    "# export \n",
    "import os\n",
    "from pathlib import Path\n",
    "from nbdev.export import Config\n",
    "from sciflow.parse_module import extract_dag\n",
    "from nbdev.export import find_default_export, read_nb\n",
    "from sciflow.params import params_as_dict\n",
    "from sciflow.parse_module import extract_steps, FuncDetails\n",
    "from typing import Iterable"
   ]
  },
  {
   "cell_type": "markdown",
   "metadata": {},
   "source": [
    "# Sciflow Notebook to MetaFlow Flow\n",
    "\n",
    "> Converts from a `sciflow` format notebook to a `metaflow` flow. \n",
    "\n",
    "Supported features:\n",
    "\n",
    "* Linear/sequential DAGs\n",
    "* Simple `Parameters`"
   ]
  },
  {
   "cell_type": "code",
   "execution_count": 175,
   "metadata": {},
   "outputs": [
    {
     "name": "stdout",
     "output_type": "stream",
     "text": [
      "The autoreload extension is already loaded. To reload it, use:\n",
      "  %reload_ext autoreload\n"
     ]
    }
   ],
   "source": []
  },
  {
   "cell_type": "code",
   "execution_count": 176,
   "metadata": {},
   "outputs": [],
   "source": [
    "nb_path = Path(os.path.join(\"test\", \"test_export.ipynb\"))\n",
    "nb = read_nb(nb_path)\n",
    "module_name = find_default_export(nb[\"cells\"])\n",
    "test_module = os.path.join(Config().path(\"lib_path\"), f\"{module_name}.py\")"
   ]
  },
  {
   "cell_type": "code",
   "execution_count": 7,
   "metadata": {},
   "outputs": [],
   "source": [
    "def titleize(name):\n",
    "    return name.title().replace(\"_\", \"\")"
   ]
  },
  {
   "cell_type": "code",
   "execution_count": 8,
   "metadata": {},
   "outputs": [],
   "source": [
    "assert(titleize('snake_case') == 'SnakeCase')"
   ]
  },
  {
   "cell_type": "code",
   "execution_count": 9,
   "metadata": {},
   "outputs": [],
   "source": [
    "def rename_steps_for_metaflow(steps):\n",
    "    for i, step in enumerate(steps):\n",
    "        if i == 0:\n",
    "            step.name = \"start\"\n",
    "        if i == len(steps) - 1:\n",
    "            step.name = \"end\""
   ]
  },
  {
   "cell_type": "code",
   "execution_count": 12,
   "metadata": {},
   "outputs": [],
   "source": [
    "steps = extract_steps(test_module)"
   ]
  },
  {
   "cell_type": "code",
   "execution_count": 124,
   "metadata": {},
   "outputs": [],
   "source": [
    "no_steps = extract_steps(os.path.join(Config().path(\"lib_path\"), f\"_nbdev.py\"))\n",
    "assert(len(no_steps)==0)"
   ]
  },
  {
   "cell_type": "code",
   "execution_count": 13,
   "metadata": {},
   "outputs": [],
   "source": [
    "assert(['first', 'preprocess', 'train', 'last'] == [step.name for step in steps])\n",
    "rename_steps_for_metaflow(steps)\n",
    "assert(['start', 'preprocess', 'train', 'end'] == [step.name for step in steps])"
   ]
  },
  {
   "cell_type": "code",
   "execution_count": 68,
   "metadata": {},
   "outputs": [],
   "source": [
    "def indent_multiline(multiline_text, indent=1):\n",
    "    lines = multiline_text.strip().split('\\n')\n",
    "    spaces = ''.join([\"    \" for _ in range(indent)])\n",
    "    for i in range(len(lines)):\n",
    "        prefix = spaces if i > 0 else spaces + '\"\"\"'\n",
    "        lines[i] = prefix + lines[i]\n",
    "    return '\\n'.join(lines) + '\"\"\"'"
   ]
  },
  {
   "cell_type": "code",
   "execution_count": 73,
   "metadata": {},
   "outputs": [],
   "source": [
    "text = \"\"\"\n",
    "Some text\n",
    ":param param: text\n",
    "\"\"\"\n",
    "assert('    \"\"\"Some text\\n    :param param: text\"\"\"' == indent_multiline(text))"
   ]
  },
  {
   "cell_type": "code",
   "execution_count": 172,
   "metadata": {},
   "outputs": [],
   "source": [
    "def nb_to_metaflow(nb_path: Path, flow_path: Path, silent=True):\n",
    "    nb = read_nb(nb_path)\n",
    "    lib_name = Config().lib_name\n",
    "    module_name = find_default_export(nb[\"cells\"])\n",
    "    exported_module = os.path.join(Config().path(\"lib_path\"), f\"{module_name}.py\")\n",
    "    steps = extract_steps(exported_module)\n",
    "    if len(steps) == 0:\n",
    "        if not silent:\n",
    "            print(f\"Skipping {nb_path} - no steps found\")\n",
    "        return\n",
    "    orig_step_names = [step.name for step in steps]\n",
    "    params = params_as_dict(nb_path)\n",
    "    flow_class_name = f\"{titleize(module_name)}Flow\"\n",
    "    rename_steps_for_metaflow(steps)\n",
    "    write_module_to_file(flow_path, flow_class_name, lib_name, module_name, orig_step_names, \n",
    "                         steps, params)\n",
    "    if not silent:\n",
    "        print(f\"Wrote {flow_class_name} to file: {flow_path}\")"
   ]
  },
  {
   "cell_type": "code",
   "execution_count": 177,
   "metadata": {},
   "outputs": [],
   "source": [
    "def write_module_to_file(flow_path: Path, flow_class_name: str, lib_name: str, module_name: str, \n",
    "                         orig_step_names: Iterable[str], steps: Iterable[FuncDetails], params: dict):\n",
    "    with open(flow_path, 'w') as flow_file:\n",
    "        flow_file.write(\"# SCIFLOW GENERATED FILE - DO NOT EDIT\\n\")\n",
    "        flow_file.write(\"from metaflow import FlowSpec, step, Parameter\\n\")\n",
    "        flow_file.write(f\"from {lib_name}.{module_name} import {', '.join(orig_step_names)}\\n\")\n",
    "        flow_file.write(f\"from {lib_name}.{module_name} import {', '.join(params.keys())}\\n\")\n",
    "        flow_file.write(f\"\\n\\nclass {flow_class_name}(FlowSpec):\\n\")\n",
    "        single_indent = \"    \"\n",
    "        for param in params.keys():\n",
    "            flow_file.write(f\"{single_indent}_{param} = Parameter('{param}', default={param})\\n\")\n",
    "\n",
    "        flow_file.write(\"\\n\")\n",
    "        for i, step in enumerate(steps):\n",
    "            flow_file.write(f\"{single_indent}@step\\n\")\n",
    "            flow_file.write(f\"{single_indent}def {step.name}(self):\\n\")\n",
    "            flow_file.write(f\"{indent_multiline(step.docstring, 2)}\\n\")\n",
    "            flow_file.write(f\"{single_indent}{single_indent}{orig_step_names[i]}({step.args})\\n\")\n",
    "            if i < len(steps) - 1:\n",
    "                flow_file.write(f\"{single_indent}{single_indent}self.next(self.{steps[i+1].name})\\n\")\n",
    "            flow_file.write('\\n')\n",
    "\n",
    "        flow_file.write('if __name__ == \"__main__\":\\n')\n",
    "        flow_file.write(f\"{single_indent}{flow_class_name}()\")"
   ]
  },
  {
   "cell_type": "code",
   "execution_count": 178,
   "metadata": {},
   "outputs": [],
   "source": [
    "def get_module_name(nb_path):\n",
    "    nb = read_nb(nb_path)\n",
    "    module_name = find_default_export(nb[\"cells\"])\n",
    "    return module_name"
   ]
  },
  {
   "cell_type": "code",
   "execution_count": 179,
   "metadata": {},
   "outputs": [],
   "source": [
    "flow_path = os.path.join(Path('.').resolve(), \"test\", \"flows\", f\"{get_module_name(nb_path)}.py\")"
   ]
  },
  {
   "cell_type": "code",
   "execution_count": 180,
   "metadata": {},
   "outputs": [
    {
     "name": "stdout",
     "output_type": "stream",
     "text": [
      "Wrote TestExportFlow to file: /home/jovyan/git/sciflow/nbs/test/flows/test_export.py\n"
     ]
    }
   ],
   "source": [
    "nb_to_metaflow(nb_path, flow_path, silent=False)"
   ]
  },
  {
   "cell_type": "markdown",
   "metadata": {},
   "source": [
    "# Ignore notebooks without Sciflow steps"
   ]
  },
  {
   "cell_type": "code",
   "execution_count": 170,
   "metadata": {},
   "outputs": [
    {
     "name": "stdout",
     "output_type": "stream",
     "text": [
      "Skipping packaging.ipynb - no steps found\n"
     ]
    }
   ],
   "source": [
    "nb_to_metaflow('packaging.ipynb', flow_path, silent=False)"
   ]
  },
  {
   "cell_type": "markdown",
   "metadata": {},
   "source": [
    "# TODO\n",
    "\n",
    "* Add recursive option to nb_to_metaflow"
   ]
  }
 ],
 "metadata": {
  "kernelspec": {
   "display_name": "Python [conda env:jovyan-discovery]",
   "language": "python",
   "name": "conda-env-jovyan-discovery-py"
  },
  "language_info": {
   "codemirror_mode": {
    "name": "ipython",
    "version": 3
   },
   "file_extension": ".py",
   "mimetype": "text/x-python",
   "name": "python",
   "nbconvert_exporter": "python",
   "pygments_lexer": "ipython3",
   "version": "3.7.10"
  }
 },
 "nbformat": 4,
 "nbformat_minor": 4
}
