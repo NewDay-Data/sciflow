{
 "cells": [
  {
   "cell_type": "markdown",
   "metadata": {},
   "source": [
    "# `run_sequential`\n",
    "\n",
    "> Run generated flows sequentially"
   ]
  },
  {
   "cell_type": "code",
   "execution_count": 2,
   "metadata": {
    "tags": []
   },
   "outputs": [],
   "source": [
    "# | default_exp run_sequential"
   ]
  },
  {
   "cell_type": "code",
   "execution_count": 3,
   "metadata": {
    "tags": []
   },
   "outputs": [],
   "source": [
    "%load_ext autoreload\n",
    "%autoreload 2"
   ]
  },
  {
   "cell_type": "markdown",
   "metadata": {},
   "source": [
    "# Imports"
   ]
  },
  {
   "cell_type": "code",
   "execution_count": 4,
   "metadata": {
    "tags": []
   },
   "outputs": [],
   "source": [
    "# | export\n",
    "\n",
    "\n",
    "import asyncio\n",
    "import multiprocessing\n",
    "import os\n",
    "import sys\n",
    "from itertools import product\n",
    "from pathlib import Path\n",
    "from typing import Any, Dict, Iterable\n",
    "\n",
    "import pandas as pd\n",
    "from execnb.nbio import read_nb\n",
    "from fastcore.script import call_parse\n",
    "from nbdev.config import get_config\n",
    "\n",
    "from sciflow.utils import (\n",
    "    chunks,\n",
    "    find_default_export,\n",
    "    get_flow_path,\n",
    "    prepare_env,\n",
    "    run_shell_cmd,\n",
    ")"
   ]
  },
  {
   "cell_type": "markdown",
   "metadata": {},
   "source": [
    "# Test Setup"
   ]
  },
  {
   "cell_type": "code",
   "execution_count": 5,
   "metadata": {
    "tags": []
   },
   "outputs": [],
   "source": [
    "nb_path = Path(Path(\".\").resolve(), \"test\", \"test_export.ipynb\")\n",
    "flow_path = get_flow_path(nb_path, flow_provider=\"sagemaker\")\n",
    "nb = read_nb(nb_path)\n",
    "module_name = find_default_export(nb[\"cells\"]).replace(\".\", \"/\")\n",
    "test_module = os.path.join(get_config().path(\"lib_path\"), f\"{module_name}.py\")\n",
    "flows_dir = get_config(cfg_name=\"test/settings.ini\").path(\"flows_path\")\n",
    "flow_name = os.path.basename(test_module)"
   ]
  },
  {
   "cell_type": "markdown",
   "metadata": {},
   "source": [
    "# Helpers"
   ]
  },
  {
   "cell_type": "markdown",
   "metadata": {},
   "source": [
    "## `check_is_init`\n",
    "\n",
    "check if `sciflow_init` has been called"
   ]
  },
  {
   "cell_type": "code",
   "execution_count": 6,
   "metadata": {
    "tags": []
   },
   "outputs": [],
   "source": [
    "# | export\n",
    "\n",
    "\n",
    "def check_is_init():\n",
    "    root_path = str(get_config().path(\"root_path\"))\n",
    "\n",
    "    if root_path not in sys.path:\n",
    "        print(f\"PYTHONPATH={sys.path}\")\n",
    "        raise ValueError(\"Project is not in path; have you run sciflow_init?\")"
   ]
  },
  {
   "cell_type": "markdown",
   "metadata": {},
   "source": [
    "## `make_shell_cmd`"
   ]
  },
  {
   "cell_type": "code",
   "execution_count": 7,
   "metadata": {
    "tags": []
   },
   "outputs": [],
   "source": [
    "# | export\n",
    "\n",
    "\n",
    "def make_shell_cmd(\n",
    "    flow_nb_path, flow_provider=\"metaflow\", flow_command=\"show\", params=None\n",
    "):\n",
    "    prepare_env()\n",
    "    if flow_nb_path.suffix == \".ipynb\":\n",
    "        flow_path = get_flow_path(flow_nb_path, flow_provider=flow_provider)\n",
    "    else:\n",
    "        flow_path = flow_nb_path\n",
    "    if params:\n",
    "        args = \" \".join([f\"--{k} {v}\" for k, v in params.items()])\n",
    "\n",
    "        flow_command = f\"{flow_command} {args}\"\n",
    "\n",
    "    return f\"python '{flow_path}' {flow_command}\""
   ]
  },
  {
   "cell_type": "markdown",
   "metadata": {
    "tags": []
   },
   "source": [
    "# Verify or Run an Individual Flow\n",
    "\n",
    "> `subprocess` is used to run flows as most flow providers bundle a CLI which makes for a consistent execution experience with minimal adaptation."
   ]
  },
  {
   "cell_type": "markdown",
   "metadata": {},
   "source": [
    "## `check_call_flow`"
   ]
  },
  {
   "cell_type": "code",
   "execution_count": 8,
   "metadata": {
    "tags": []
   },
   "outputs": [],
   "source": [
    "# | export\n",
    "\n",
    "\n",
    "def check_call_flow(\n",
    "    flow_nb_path, flow_provider=\"metaflow\", flow_command=\"show\", params=None\n",
    "):\n",
    "    check_is_init()\n",
    "\n",
    "    cmd = make_shell_cmd(flow_nb_path, flow_provider, flow_command, params)\n",
    "    pipe, output = run_shell_cmd(cmd)\n",
    "    return pipe.returncode, output"
   ]
  },
  {
   "cell_type": "code",
   "execution_count": 9,
   "metadata": {
    "tags": []
   },
   "outputs": [],
   "source": [
    "sys_path = sys.path\n",
    "sys.path = []"
   ]
  },
  {
   "cell_type": "code",
   "execution_count": 10,
   "metadata": {
    "tags": []
   },
   "outputs": [
    {
     "name": "stdout",
     "output_type": "stream",
     "text": [
      "PYTHONPATH=[]\n"
     ]
    }
   ],
   "source": [
    "raised = False\n",
    "try:\n",
    "    check_call_flow(nb_path, flow_provider=\"metaflow\", flow_command=\"show\")\n",
    "except:\n",
    "    raised = True\n",
    "assert raised"
   ]
  },
  {
   "cell_type": "code",
   "execution_count": 11,
   "metadata": {
    "tags": []
   },
   "outputs": [],
   "source": [
    "sys.path = sys_path"
   ]
  },
  {
   "cell_type": "code",
   "execution_count": 12,
   "metadata": {
    "tags": []
   },
   "outputs": [],
   "source": [
    "prepare_env()"
   ]
  },
  {
   "cell_type": "code",
   "execution_count": 13,
   "metadata": {
    "tags": []
   },
   "outputs": [],
   "source": [
    "# | notest\n",
    "\n",
    "ret_code, output = check_call_flow(\n",
    "    nb_path, flow_provider=\"metaflow\", flow_command=\"show\"\n",
    ")\n",
    "assert ret_code == 0"
   ]
  },
  {
   "cell_type": "code",
   "execution_count": 14,
   "metadata": {},
   "outputs": [
    {
     "name": "stdout",
     "output_type": "stream",
     "text": [
      "Metaflow 2.10.0 executing TestExportFlow for user:Donal Simmie\n",
      "Validating your flow...\n",
      "    The graph looks good!\n",
      "Running pylint...\n",
      "    Pylint not found, so extra checks are disabled.\n",
      "2023-11-20 15:24:18.180 Workflow starting (run-id 1700493857814240):\n",
      "2023-11-20 15:24:18.297 [1700493857814240/start/1 (pid 12378)] Task is starting.\n",
      "2023-11-20 15:24:22.912 [1700493857814240/start/1 (pid 12378)] 3\n",
      "2023-11-20 15:24:23.284 [1700493857814240/start/1 (pid 12378)] Task finished successfully.\n",
      "2023-11-20 15:24:23.433 [1700493857814240/preprocess/2 (pid 12382)] Task is starting.\n",
      "2023-11-20 15:24:28.046 [1700493857814240/preprocess/2 (pid 12382)] Preprocessing input data from /home/sagemaker-user/git/sciflow/nbs...\n",
      "2023-11-20 15:24:29.383 [1700493857814240/preprocess/2 (pid 12382)] Task finished successfully.\n",
      "2023-11-20 15:24:29.518 [1700493857814240/train/3 (pid 12386)] Task is starting.\n",
      "2023-11-20 15:24:34.140 [1700493857814240/train/3 (pid 12386)] Training /home/sagemaker-user/git/sciflow on /home/sagemaker-user/git/sciflow/nbs...\n",
      "2023-11-20 15:24:35.483 [1700493857814240/train/3 (pid 12386)] Task finished successfully.\n",
      "2023-11-20 15:24:35.621 [1700493857814240/end/4 (pid 12390)] Task is starting.\n",
      "2023-11-20 15:24:40.584 [1700493857814240/end/4 (pid 12390)] Task finished successfully.\n",
      "2023-11-20 15:24:40.600 Done!\n"
     ]
    }
   ],
   "source": [
    "# | notest\n",
    "\n",
    "ret_code, output = check_call_flow(\n",
    "    nb_path, flow_provider=\"metaflow\", flow_command=\"run\"\n",
    ")\n",
    "assert ret_code == 0\n",
    "print(output)"
   ]
  },
  {
   "cell_type": "code",
   "execution_count": 15,
   "metadata": {},
   "outputs": [
    {
     "name": "stdout",
     "output_type": "stream",
     "text": [
      "Metaflow 2.10.0 executing TestExportFlow for user:Donal Simmie\n",
      "Validating your flow...\n",
      "    The graph looks good!\n",
      "Running pylint...\n",
      "    Pylint not found, so extra checks are disabled.\n",
      "2023-11-20 15:24:45.694 Workflow starting (run-id 1700493885369816):\n",
      "2023-11-20 15:24:45.809 [1700493885369816/start/1 (pid 12399)] Task is starting.\n",
      "2023-11-20 15:24:50.397 [1700493885369816/start/1 (pid 12399)] 3\n",
      "2023-11-20 15:24:50.726 [1700493885369816/start/1 (pid 12399)] Task finished successfully.\n",
      "2023-11-20 15:24:50.856 [1700493885369816/preprocess/2 (pid 12403)] Task is starting.\n",
      "2023-11-20 15:24:55.436 [1700493885369816/preprocess/2 (pid 12403)] Preprocessing input data from /home/sagemaker-user/git/sciflow/nbs...\n",
      "2023-11-20 15:24:56.765 [1700493885369816/preprocess/2 (pid 12403)] Task finished successfully.\n",
      "2023-11-20 15:24:56.902 [1700493885369816/train/3 (pid 12407)] Task is starting.\n",
      "2023-11-20 15:25:01.500 [1700493885369816/train/3 (pid 12407)] Training /home/sagemaker-user/git/sciflow on /home/sagemaker-user/git/sciflow/nbs...\n",
      "2023-11-20 15:25:02.866 [1700493885369816/train/3 (pid 12407)] Task finished successfully.\n",
      "2023-11-20 15:25:03.015 [1700493885369816/end/4 (pid 12411)] Task is starting.\n",
      "2023-11-20 15:25:07.953 [1700493885369816/end/4 (pid 12411)] Task finished successfully.\n",
      "2023-11-20 15:25:07.973 Done!\n"
     ]
    }
   ],
   "source": [
    "# | notest\n",
    "\n",
    "ret_code, output = check_call_flow(nb_path, flow_command=\"run\")\n",
    "assert ret_code == 0\n",
    "print(output)"
   ]
  },
  {
   "cell_type": "code",
   "execution_count": 16,
   "metadata": {
    "tags": []
   },
   "outputs": [],
   "source": [
    "# | notest\n",
    "\n",
    "ret_code, output = check_call_flow(\n",
    "    nb_path, flow_provider=\"sagemaker\", flow_command=\"show\"\n",
    ")\n",
    "assert ret_code == 0"
   ]
  },
  {
   "cell_type": "code",
   "execution_count": 17,
   "metadata": {},
   "outputs": [
    {
     "name": "stdout",
     "output_type": "stream",
     "text": [
      "sagemaker.config INFO - Not applying SDK defaults from location: /etc/xdg/sagemaker/config.yaml\n",
      "sagemaker.config INFO - Not applying SDK defaults from location: /home/sagemaker-user/.config/sagemaker/config.yaml\n",
      "sagemaker.config INFO - Not applying SDK defaults from location: /etc/xdg/sagemaker/config.yaml\n",
      "sagemaker.config INFO - Not applying SDK defaults from location: /home/sagemaker-user/.config/sagemaker/config.yaml\n",
      "sagemaker.config INFO - Not applying SDK defaults from location: /etc/xdg/sagemaker/config.yaml\n",
      "sagemaker.config INFO - Not applying SDK defaults from location: /home/sagemaker-user/.config/sagemaker/config.yaml\n",
      "Popping out 'ProcessingJobName' from the pipeline definition by default since it will be overridden at pipeline execution time. Please utilize the PipelineDefinitionConfig to persist this field in the pipeline definition if desired.\n",
      "Popping out 'ProcessingJobName' from the pipeline definition by default since it will be overridden at pipeline execution time. Please utilize the PipelineDefinitionConfig to persist this field in the pipeline definition if desired.\n",
      "Popping out 'TrainingJobName' from the pipeline definition by default since it will be overridden at pipeline execution time. Please utilize the PipelineDefinitionConfig to persist this field in the pipeline definition if desired.\n",
      "Popping out 'ProcessingJobName' from the pipeline definition by default since it will be overridden at pipeline execution time. Please utilize the PipelineDefinitionConfig to persist this field in the pipeline definition if desired.\n",
      "Popping out 'ProcessingJobName' from the pipeline definition by default since it will be overridden at pipeline execution time. Please utilize the PipelineDefinitionConfig to persist this field in the pipeline definition if desired.\n",
      "Popping out 'ProcessingJobName' from the pipeline definition by default since it will be overridden at pipeline execution time. Please utilize the PipelineDefinitionConfig to persist this field in the pipeline definition if desired.\n",
      "Popping out 'TrainingJobName' from the pipeline definition by default since it will be overridden at pipeline execution time. Please utilize the PipelineDefinitionConfig to persist this field in the pipeline definition if desired.\n",
      "Popping out 'ProcessingJobName' from the pipeline definition by default since it will be overridden at pipeline execution time. Please utilize the PipelineDefinitionConfig to persist this field in the pipeline definition if desired.\n",
      "Uploading file: /home/sagemaker-user/git/sciflow/sciflow/utils.py to: prosandboxpdlras3/test_export/pipeline-2023-11-20-15-25-23-898/code/sciflow/utils.py\n",
      "Uploading file: /home/sagemaker-user/git/sciflow/sciflow/export_step.py to: prosandboxpdlras3/test_export/pipeline-2023-11-20-15-25-23-898/code/sciflow/export_step.py\n",
      "Uploading file: /home/sagemaker-user/git/sciflow/sciflow/packaging.py to: prosandboxpdlras3/test_export/pipeline-2023-11-20-15-25-23-898/code/sciflow/packaging.py\n",
      "Uploading file: /home/sagemaker-user/git/sciflow/sciflow/run_sequential.py to: prosandboxpdlras3/test_export/pipeline-2023-11-20-15-25-23-898/code/sciflow/run_sequential.py\n",
      "Uploading file: /home/sagemaker-user/git/sciflow/sciflow/run_async.py to: prosandboxpdlras3/test_export/pipeline-2023-11-20-15-25-23-898/code/sciflow/run_async.py\n",
      "Uploading file: /home/sagemaker-user/git/sciflow/sciflow/s3_utils.py to: prosandboxpdlras3/test_export/pipeline-2023-11-20-15-25-23-898/code/sciflow/s3_utils.py\n",
      "Uploading file: /home/sagemaker-user/git/sciflow/sciflow/_modidx.py to: prosandboxpdlras3/test_export/pipeline-2023-11-20-15-25-23-898/code/sciflow/_modidx.py\n",
      "Uploading file: /home/sagemaker-user/git/sciflow/sciflow/init.py to: prosandboxpdlras3/test_export/pipeline-2023-11-20-15-25-23-898/code/sciflow/init.py\n",
      "Uploading file: /home/sagemaker-user/git/sciflow/sciflow/params.py to: prosandboxpdlras3/test_export/pipeline-2023-11-20-15-25-23-898/code/sciflow/params.py\n",
      "Uploading file: /home/sagemaker-user/git/sciflow/sciflow/__init__.py to: prosandboxpdlras3/test_export/pipeline-2023-11-20-15-25-23-898/code/sciflow/__init__.py\n",
      "Uploading file: /home/sagemaker-user/git/sciflow/sciflow/parse_module.py to: prosandboxpdlras3/test_export/pipeline-2023-11-20-15-25-23-898/code/sciflow/parse_module.py\n",
      "Uploading file: /home/sagemaker-user/git/sciflow/sciflow/test/test_export.py to: prosandboxpdlras3/test_export/pipeline-2023-11-20-15-25-23-898/code/sciflow/test/test_export.py\n",
      "Uploading file: /home/sagemaker-user/git/sciflow/sciflow/test/test_data_handling.py to: prosandboxpdlras3/test_export/pipeline-2023-11-20-15-25-23-898/code/sciflow/test/test_data_handling.py\n",
      "Uploading file: /home/sagemaker-user/git/sciflow/sciflow/test/test_module.py to: prosandboxpdlras3/test_export/pipeline-2023-11-20-15-25-23-898/code/sciflow/test/test_module.py\n",
      "Uploading file: /home/sagemaker-user/git/sciflow/sciflow/test/test_multistep_no_params.py to: prosandboxpdlras3/test_export/pipeline-2023-11-20-15-25-23-898/code/sciflow/test/test_multistep_no_params.py\n",
      "Uploading file: /home/sagemaker-user/git/sciflow/sciflow/test/test_multistep.py to: prosandboxpdlras3/test_export/pipeline-2023-11-20-15-25-23-898/code/sciflow/test/test_multistep.py\n",
      "Uploading file: /home/sagemaker-user/git/sciflow/sciflow/test/test_export_step.py to: prosandboxpdlras3/test_export/pipeline-2023-11-20-15-25-23-898/code/sciflow/test/test_export_step.py\n",
      "Uploading file: /home/sagemaker-user/git/sciflow/sciflow/test/test_export_params.py to: prosandboxpdlras3/test_export/pipeline-2023-11-20-15-25-23-898/code/sciflow/test/test_export_params.py\n",
      "Uploading file: /home/sagemaker-user/git/sciflow/sciflow/test/__init__.py to: prosandboxpdlras3/test_export/pipeline-2023-11-20-15-25-23-898/code/sciflow/test/__init__.py\n",
      "Uploading file: /home/sagemaker-user/git/sciflow/sciflow/converters/to_metaflow.py to: prosandboxpdlras3/test_export/pipeline-2023-11-20-15-25-23-898/code/sciflow/converters/to_metaflow.py\n",
      "Uploading file: /home/sagemaker-user/git/sciflow/sciflow/converters/to_sagemaker.py to: prosandboxpdlras3/test_export/pipeline-2023-11-20-15-25-23-898/code/sciflow/converters/to_sagemaker.py\n",
      "Uploading file: /home/sagemaker-user/git/sciflow/sciflow/converters/__init__.py to: prosandboxpdlras3/test_export/pipeline-2023-11-20-15-25-23-898/code/sciflow/converters/__init__.py\n",
      "Using provided s3_resource\n",
      "Using provided s3_resource\n",
      "Starting Sciflow generated pipeline: pipeline-2023-11-20-15-25-23-898\n",
      "{'PipelineArn': 'arn:aws:sagemaker:eu-west-1:823878111748:pipeline/test-export', 'PipelineExecutionArn': 'arn:aws:sagemaker:eu-west-1:823878111748:pipeline/test-export/execution/aw40js7vstyc', 'PipelineExecutionDisplayName': 'execution-1700493927033', 'PipelineExecutionStatus': 'Executing', 'CreationTime': datetime.datetime(2023, 11, 20, 15, 25, 26, 965000, tzinfo=tzlocal()), 'LastModifiedTime': datetime.datetime(2023, 11, 20, 15, 25, 26, 965000, tzinfo=tzlocal()), 'CreatedBy': {'UserProfileArn': 'arn:aws:sagemaker:eu-west-1:823878111748:user-profile/d-stp2tis5kcgj/donals', 'UserProfileName': 'donals', 'DomainId': 'd-stp2tis5kcgj'}, 'LastModifiedBy': {'UserProfileArn': 'arn:aws:sagemaker:eu-west-1:823878111748:user-profile/d-stp2tis5kcgj/donals', 'UserProfileName': 'donals', 'DomainId': 'd-stp2tis5kcgj'}, 'ResponseMetadata': {'RequestId': 'c32d614f-bf3b-4820-920c-68ce6f0cd158', 'HTTPStatusCode': 200, 'HTTPHeaders': {'x-amzn-requestid': 'c32d614f-bf3b-4820-920c-68ce6f0cd158', 'content-type': 'application/x-amz-json-1.1', 'content-length': '685', 'date': 'Mon, 20 Nov 2023 15:25:26 GMT'}, 'RetryAttempts': 0}}\n",
      "Traceback (most recent call last):\n",
      "  File \"/home/sagemaker-user/git/sciflow/nbs/test/flows/sagemaker/test_export.py\", line 263, in <module>\n",
      "    flow.run()\n",
      "  File \"/home/sagemaker-user/git/sciflow/nbs/test/flows/sagemaker/test_export.py\", line 250, in run\n",
      "    execution.wait()\n",
      "  File \"/opt/conda/lib/python3.8/site-packages/sagemaker/workflow/pipeline.py\", line 791, in wait\n",
      "    waiter.wait(PipelineExecutionArn=self.arn)\n",
      "  File \"/opt/conda/lib/python3.8/site-packages/botocore/waiter.py\", line 55, in wait\n",
      "    Waiter.wait(self, **kwargs)\n",
      "  File \"/opt/conda/lib/python3.8/site-packages/botocore/waiter.py\", line 375, in wait\n",
      "    raise WaiterError(\n",
      "botocore.exceptions.WaiterError: Waiter PipelineExecutionComplete failed: Waiter encountered a terminal failure state: For expression \"PipelineExecutionStatus\" we matched expected path: \"Failed\"\n"
     ]
    },
    {
     "ename": "AssertionError",
     "evalue": "",
     "output_type": "error",
     "traceback": [
      "\u001b[0;31m---------------------------------------------------------------------------\u001b[0m",
      "\u001b[0;31mAssertionError\u001b[0m                            Traceback (most recent call last)",
      "Cell \u001b[0;32mIn[17], line 7\u001b[0m\n\u001b[1;32m      3\u001b[0m ret_code, output \u001b[38;5;241m=\u001b[39m check_call_flow(\n\u001b[1;32m      4\u001b[0m     nb_path, flow_provider\u001b[38;5;241m=\u001b[39m\u001b[38;5;124m\"\u001b[39m\u001b[38;5;124msagemaker\u001b[39m\u001b[38;5;124m\"\u001b[39m, flow_command\u001b[38;5;241m=\u001b[39m\u001b[38;5;124m\"\u001b[39m\u001b[38;5;124mrun\u001b[39m\u001b[38;5;124m\"\u001b[39m\n\u001b[1;32m      5\u001b[0m )\n\u001b[1;32m      6\u001b[0m \u001b[38;5;28mprint\u001b[39m(output)\n\u001b[0;32m----> 7\u001b[0m \u001b[38;5;28;01massert\u001b[39;00m ret_code \u001b[38;5;241m==\u001b[39m \u001b[38;5;241m0\u001b[39m\n",
      "\u001b[0;31mAssertionError\u001b[0m: "
     ]
    }
   ],
   "source": [
    "# | notest\n",
    "\n",
    "ret_code, output = check_call_flow(\n",
    "    nb_path, flow_provider=\"sagemaker\", flow_command=\"run\"\n",
    ")\n",
    "print(output)\n",
    "assert ret_code == 0"
   ]
  },
  {
   "cell_type": "markdown",
   "metadata": {},
   "source": [
    "# Verify/Run all Flows"
   ]
  },
  {
   "cell_type": "markdown",
   "metadata": {},
   "source": [
    "## `check_call_flows`"
   ]
  },
  {
   "cell_type": "code",
   "execution_count": null,
   "metadata": {
    "tags": []
   },
   "outputs": [],
   "source": [
    "# | export\n",
    "\n",
    "\n",
    "def check_call_flows(\n",
    "    config,\n",
    "    flow_provider=\"metaflow\",\n",
    "    flow_command=\"show\",\n",
    "    ignore_suffix=None,\n",
    "    exit_on_error=True,\n",
    "):\n",
    "    flow_results = {}\n",
    "    flows_dir = Path(config.path(\"flows_path\"), flow_provider)\n",
    "\n",
    "    if ignore_suffix:\n",
    "        flow_file_names = [\n",
    "            p for p in os.listdir(flows_dir) if not p.endswith(ignore_suffix)\n",
    "        ]\n",
    "    else:\n",
    "        flow_file_names = os.listdir(flows_dir)\n",
    "    ret_codes = []\n",
    "    exit_code = 0\n",
    "    for flow_file_name in flow_file_names:\n",
    "        flow_name = os.path.basename(flow_file_name)\n",
    "        if flow_file_name.startswith(\"_sciflow\"):\n",
    "            continue\n",
    "        if flow_file_name.endswith(\".py\"):\n",
    "            ret_code, output = check_call_flow(\n",
    "                Path(flows_dir, flow_file_name), flow_command=flow_command\n",
    "            )\n",
    "            flow_results[flow_name] = ret_code, output\n",
    "            if ret_code == 0:\n",
    "                print(f\"Flow: {flow_name} {flow_command} verified\")\n",
    "            else:\n",
    "                print(\n",
    "                    f\"Flow: {flow_name} {flow_command} verification failed\\nDetails:\\n{output}\"\n",
    "                )\n",
    "            ret_codes.append(ret_code)\n",
    "    if any([rc != 0 for rc in ret_codes]):\n",
    "        exit_code = 1\n",
    "        try:\n",
    "            # Exit with an error code if running from a non interactive Python environment.\n",
    "            get_ipython().__class__.__name__\n",
    "        except NameError:\n",
    "            if exit_on_error:\n",
    "                return sys.exit(exit_code)\n",
    "    return exit_code"
   ]
  },
  {
   "cell_type": "code",
   "execution_count": null,
   "metadata": {
    "tags": []
   },
   "outputs": [],
   "source": [
    "ret_code = check_call_flows(get_config(cfg_name=\"test/settings.ini\"))\n",
    "assert ret_code == 0"
   ]
  },
  {
   "cell_type": "code",
   "execution_count": null,
   "metadata": {},
   "outputs": [],
   "source": [
    "# | notest\n",
    "\n",
    "check_call_flows(\n",
    "    get_config(cfg_name=\"test/settings.ini\"),\n",
    "    flow_command=\"--no-pylint run\",\n",
    "    ignore_suffix=\"_no_params.py\",\n",
    ")"
   ]
  },
  {
   "cell_type": "code",
   "execution_count": null,
   "metadata": {
    "tags": []
   },
   "outputs": [],
   "source": [
    "ret_code = check_call_flows(\n",
    "    get_config(cfg_name=\"test/settings.ini\"), flow_provider=\"sagemaker\"\n",
    ")\n",
    "assert ret_code == 0"
   ]
  },
  {
   "cell_type": "code",
   "execution_count": null,
   "metadata": {},
   "outputs": [],
   "source": [
    "# | notest\n",
    "\n",
    "nb_path = Path(Path(\".\").resolve(), \"test\", \"test_multistep.ipynb\")\n",
    "ret_code, output = check_call_flow(\n",
    "    nb_path,\n",
    "    flow_command=\"run\",\n",
    "    params={\"traffic_percent\": 1, \"model_level\": \"dispatcher\"},\n",
    ")\n",
    "print(output)\n",
    "assert ret_code == 0"
   ]
  },
  {
   "cell_type": "markdown",
   "metadata": {},
   "source": [
    "# CLI Commands"
   ]
  },
  {
   "cell_type": "markdown",
   "metadata": {},
   "source": [
    "## `sciflow_check_metaflows`"
   ]
  },
  {
   "cell_type": "code",
   "execution_count": null,
   "metadata": {},
   "outputs": [],
   "source": [
    "# | export\n",
    "\n",
    "\n",
    "@call_parse\n",
    "def sciflow_check_metaflows():\n",
    "    check_call_flows(get_config())"
   ]
  },
  {
   "cell_type": "markdown",
   "metadata": {},
   "source": [
    "## `sciflow_check_sagemaker_flows`"
   ]
  },
  {
   "cell_type": "code",
   "execution_count": null,
   "metadata": {},
   "outputs": [],
   "source": [
    "# | export\n",
    "\n",
    "\n",
    "@call_parse\n",
    "def sciflow_check_sagemaker_flows():\n",
    "    check_call_flows(get_config(), flow_provider=\"sagemaker\")"
   ]
  },
  {
   "cell_type": "markdown",
   "metadata": {},
   "source": [
    "## `sciflow_run_metaflows`"
   ]
  },
  {
   "cell_type": "code",
   "execution_count": null,
   "metadata": {},
   "outputs": [],
   "source": [
    "# | export\n",
    "\n",
    "\n",
    "@call_parse\n",
    "def sciflow_run_metaflows():\n",
    "    check_call_flows(get_config(), flow_command=\"run\")"
   ]
  },
  {
   "cell_type": "markdown",
   "metadata": {},
   "source": [
    "## `sciflow_run_sagemaker_flows`"
   ]
  },
  {
   "cell_type": "code",
   "execution_count": null,
   "metadata": {
    "tags": []
   },
   "outputs": [],
   "source": [
    "# | export\n",
    "\n",
    "\n",
    "@call_parse\n",
    "def sciflow_run_sagemaker_flows():\n",
    "    check_call_flows(get_config(), flow_command=\"run\", flow_provider=\"sagemaker\")"
   ]
  }
 ],
 "metadata": {
  "availableInstances": [
   {
    "_defaultOrder": 0,
    "_isFastLaunch": true,
    "category": "General purpose",
    "gpuNum": 0,
    "hideHardwareSpecs": false,
    "memoryGiB": 4,
    "name": "ml.t3.medium",
    "vcpuNum": 2
   },
   {
    "_defaultOrder": 1,
    "_isFastLaunch": false,
    "category": "General purpose",
    "gpuNum": 0,
    "hideHardwareSpecs": false,
    "memoryGiB": 8,
    "name": "ml.t3.large",
    "vcpuNum": 2
   },
   {
    "_defaultOrder": 2,
    "_isFastLaunch": false,
    "category": "General purpose",
    "gpuNum": 0,
    "hideHardwareSpecs": false,
    "memoryGiB": 16,
    "name": "ml.t3.xlarge",
    "vcpuNum": 4
   },
   {
    "_defaultOrder": 3,
    "_isFastLaunch": false,
    "category": "General purpose",
    "gpuNum": 0,
    "hideHardwareSpecs": false,
    "memoryGiB": 32,
    "name": "ml.t3.2xlarge",
    "vcpuNum": 8
   },
   {
    "_defaultOrder": 4,
    "_isFastLaunch": true,
    "category": "General purpose",
    "gpuNum": 0,
    "hideHardwareSpecs": false,
    "memoryGiB": 8,
    "name": "ml.m5.large",
    "vcpuNum": 2
   },
   {
    "_defaultOrder": 5,
    "_isFastLaunch": false,
    "category": "General purpose",
    "gpuNum": 0,
    "hideHardwareSpecs": false,
    "memoryGiB": 16,
    "name": "ml.m5.xlarge",
    "vcpuNum": 4
   },
   {
    "_defaultOrder": 6,
    "_isFastLaunch": false,
    "category": "General purpose",
    "gpuNum": 0,
    "hideHardwareSpecs": false,
    "memoryGiB": 32,
    "name": "ml.m5.2xlarge",
    "vcpuNum": 8
   },
   {
    "_defaultOrder": 7,
    "_isFastLaunch": false,
    "category": "General purpose",
    "gpuNum": 0,
    "hideHardwareSpecs": false,
    "memoryGiB": 64,
    "name": "ml.m5.4xlarge",
    "vcpuNum": 16
   },
   {
    "_defaultOrder": 8,
    "_isFastLaunch": false,
    "category": "General purpose",
    "gpuNum": 0,
    "hideHardwareSpecs": false,
    "memoryGiB": 128,
    "name": "ml.m5.8xlarge",
    "vcpuNum": 32
   },
   {
    "_defaultOrder": 9,
    "_isFastLaunch": false,
    "category": "General purpose",
    "gpuNum": 0,
    "hideHardwareSpecs": false,
    "memoryGiB": 192,
    "name": "ml.m5.12xlarge",
    "vcpuNum": 48
   },
   {
    "_defaultOrder": 10,
    "_isFastLaunch": false,
    "category": "General purpose",
    "gpuNum": 0,
    "hideHardwareSpecs": false,
    "memoryGiB": 256,
    "name": "ml.m5.16xlarge",
    "vcpuNum": 64
   },
   {
    "_defaultOrder": 11,
    "_isFastLaunch": false,
    "category": "General purpose",
    "gpuNum": 0,
    "hideHardwareSpecs": false,
    "memoryGiB": 384,
    "name": "ml.m5.24xlarge",
    "vcpuNum": 96
   },
   {
    "_defaultOrder": 12,
    "_isFastLaunch": false,
    "category": "General purpose",
    "gpuNum": 0,
    "hideHardwareSpecs": false,
    "memoryGiB": 8,
    "name": "ml.m5d.large",
    "vcpuNum": 2
   },
   {
    "_defaultOrder": 13,
    "_isFastLaunch": false,
    "category": "General purpose",
    "gpuNum": 0,
    "hideHardwareSpecs": false,
    "memoryGiB": 16,
    "name": "ml.m5d.xlarge",
    "vcpuNum": 4
   },
   {
    "_defaultOrder": 14,
    "_isFastLaunch": false,
    "category": "General purpose",
    "gpuNum": 0,
    "hideHardwareSpecs": false,
    "memoryGiB": 32,
    "name": "ml.m5d.2xlarge",
    "vcpuNum": 8
   },
   {
    "_defaultOrder": 15,
    "_isFastLaunch": false,
    "category": "General purpose",
    "gpuNum": 0,
    "hideHardwareSpecs": false,
    "memoryGiB": 64,
    "name": "ml.m5d.4xlarge",
    "vcpuNum": 16
   },
   {
    "_defaultOrder": 16,
    "_isFastLaunch": false,
    "category": "General purpose",
    "gpuNum": 0,
    "hideHardwareSpecs": false,
    "memoryGiB": 128,
    "name": "ml.m5d.8xlarge",
    "vcpuNum": 32
   },
   {
    "_defaultOrder": 17,
    "_isFastLaunch": false,
    "category": "General purpose",
    "gpuNum": 0,
    "hideHardwareSpecs": false,
    "memoryGiB": 192,
    "name": "ml.m5d.12xlarge",
    "vcpuNum": 48
   },
   {
    "_defaultOrder": 18,
    "_isFastLaunch": false,
    "category": "General purpose",
    "gpuNum": 0,
    "hideHardwareSpecs": false,
    "memoryGiB": 256,
    "name": "ml.m5d.16xlarge",
    "vcpuNum": 64
   },
   {
    "_defaultOrder": 19,
    "_isFastLaunch": false,
    "category": "General purpose",
    "gpuNum": 0,
    "hideHardwareSpecs": false,
    "memoryGiB": 384,
    "name": "ml.m5d.24xlarge",
    "vcpuNum": 96
   },
   {
    "_defaultOrder": 20,
    "_isFastLaunch": false,
    "category": "General purpose",
    "gpuNum": 0,
    "hideHardwareSpecs": true,
    "memoryGiB": 0,
    "name": "ml.geospatial.interactive",
    "supportedImageNames": [
     "sagemaker-geospatial-v1-0"
    ],
    "vcpuNum": 0
   },
   {
    "_defaultOrder": 21,
    "_isFastLaunch": true,
    "category": "Compute optimized",
    "gpuNum": 0,
    "hideHardwareSpecs": false,
    "memoryGiB": 4,
    "name": "ml.c5.large",
    "vcpuNum": 2
   },
   {
    "_defaultOrder": 22,
    "_isFastLaunch": false,
    "category": "Compute optimized",
    "gpuNum": 0,
    "hideHardwareSpecs": false,
    "memoryGiB": 8,
    "name": "ml.c5.xlarge",
    "vcpuNum": 4
   },
   {
    "_defaultOrder": 23,
    "_isFastLaunch": false,
    "category": "Compute optimized",
    "gpuNum": 0,
    "hideHardwareSpecs": false,
    "memoryGiB": 16,
    "name": "ml.c5.2xlarge",
    "vcpuNum": 8
   },
   {
    "_defaultOrder": 24,
    "_isFastLaunch": false,
    "category": "Compute optimized",
    "gpuNum": 0,
    "hideHardwareSpecs": false,
    "memoryGiB": 32,
    "name": "ml.c5.4xlarge",
    "vcpuNum": 16
   },
   {
    "_defaultOrder": 25,
    "_isFastLaunch": false,
    "category": "Compute optimized",
    "gpuNum": 0,
    "hideHardwareSpecs": false,
    "memoryGiB": 72,
    "name": "ml.c5.9xlarge",
    "vcpuNum": 36
   },
   {
    "_defaultOrder": 26,
    "_isFastLaunch": false,
    "category": "Compute optimized",
    "gpuNum": 0,
    "hideHardwareSpecs": false,
    "memoryGiB": 96,
    "name": "ml.c5.12xlarge",
    "vcpuNum": 48
   },
   {
    "_defaultOrder": 27,
    "_isFastLaunch": false,
    "category": "Compute optimized",
    "gpuNum": 0,
    "hideHardwareSpecs": false,
    "memoryGiB": 144,
    "name": "ml.c5.18xlarge",
    "vcpuNum": 72
   },
   {
    "_defaultOrder": 28,
    "_isFastLaunch": false,
    "category": "Compute optimized",
    "gpuNum": 0,
    "hideHardwareSpecs": false,
    "memoryGiB": 192,
    "name": "ml.c5.24xlarge",
    "vcpuNum": 96
   },
   {
    "_defaultOrder": 29,
    "_isFastLaunch": true,
    "category": "Accelerated computing",
    "gpuNum": 1,
    "hideHardwareSpecs": false,
    "memoryGiB": 16,
    "name": "ml.g4dn.xlarge",
    "vcpuNum": 4
   },
   {
    "_defaultOrder": 30,
    "_isFastLaunch": false,
    "category": "Accelerated computing",
    "gpuNum": 1,
    "hideHardwareSpecs": false,
    "memoryGiB": 32,
    "name": "ml.g4dn.2xlarge",
    "vcpuNum": 8
   },
   {
    "_defaultOrder": 31,
    "_isFastLaunch": false,
    "category": "Accelerated computing",
    "gpuNum": 1,
    "hideHardwareSpecs": false,
    "memoryGiB": 64,
    "name": "ml.g4dn.4xlarge",
    "vcpuNum": 16
   },
   {
    "_defaultOrder": 32,
    "_isFastLaunch": false,
    "category": "Accelerated computing",
    "gpuNum": 1,
    "hideHardwareSpecs": false,
    "memoryGiB": 128,
    "name": "ml.g4dn.8xlarge",
    "vcpuNum": 32
   },
   {
    "_defaultOrder": 33,
    "_isFastLaunch": false,
    "category": "Accelerated computing",
    "gpuNum": 4,
    "hideHardwareSpecs": false,
    "memoryGiB": 192,
    "name": "ml.g4dn.12xlarge",
    "vcpuNum": 48
   },
   {
    "_defaultOrder": 34,
    "_isFastLaunch": false,
    "category": "Accelerated computing",
    "gpuNum": 1,
    "hideHardwareSpecs": false,
    "memoryGiB": 256,
    "name": "ml.g4dn.16xlarge",
    "vcpuNum": 64
   },
   {
    "_defaultOrder": 35,
    "_isFastLaunch": false,
    "category": "Accelerated computing",
    "gpuNum": 1,
    "hideHardwareSpecs": false,
    "memoryGiB": 61,
    "name": "ml.p3.2xlarge",
    "vcpuNum": 8
   },
   {
    "_defaultOrder": 36,
    "_isFastLaunch": false,
    "category": "Accelerated computing",
    "gpuNum": 4,
    "hideHardwareSpecs": false,
    "memoryGiB": 244,
    "name": "ml.p3.8xlarge",
    "vcpuNum": 32
   },
   {
    "_defaultOrder": 37,
    "_isFastLaunch": false,
    "category": "Accelerated computing",
    "gpuNum": 8,
    "hideHardwareSpecs": false,
    "memoryGiB": 488,
    "name": "ml.p3.16xlarge",
    "vcpuNum": 64
   },
   {
    "_defaultOrder": 38,
    "_isFastLaunch": false,
    "category": "Accelerated computing",
    "gpuNum": 8,
    "hideHardwareSpecs": false,
    "memoryGiB": 768,
    "name": "ml.p3dn.24xlarge",
    "vcpuNum": 96
   },
   {
    "_defaultOrder": 39,
    "_isFastLaunch": false,
    "category": "Memory Optimized",
    "gpuNum": 0,
    "hideHardwareSpecs": false,
    "memoryGiB": 16,
    "name": "ml.r5.large",
    "vcpuNum": 2
   },
   {
    "_defaultOrder": 40,
    "_isFastLaunch": false,
    "category": "Memory Optimized",
    "gpuNum": 0,
    "hideHardwareSpecs": false,
    "memoryGiB": 32,
    "name": "ml.r5.xlarge",
    "vcpuNum": 4
   },
   {
    "_defaultOrder": 41,
    "_isFastLaunch": false,
    "category": "Memory Optimized",
    "gpuNum": 0,
    "hideHardwareSpecs": false,
    "memoryGiB": 64,
    "name": "ml.r5.2xlarge",
    "vcpuNum": 8
   },
   {
    "_defaultOrder": 42,
    "_isFastLaunch": false,
    "category": "Memory Optimized",
    "gpuNum": 0,
    "hideHardwareSpecs": false,
    "memoryGiB": 128,
    "name": "ml.r5.4xlarge",
    "vcpuNum": 16
   },
   {
    "_defaultOrder": 43,
    "_isFastLaunch": false,
    "category": "Memory Optimized",
    "gpuNum": 0,
    "hideHardwareSpecs": false,
    "memoryGiB": 256,
    "name": "ml.r5.8xlarge",
    "vcpuNum": 32
   },
   {
    "_defaultOrder": 44,
    "_isFastLaunch": false,
    "category": "Memory Optimized",
    "gpuNum": 0,
    "hideHardwareSpecs": false,
    "memoryGiB": 384,
    "name": "ml.r5.12xlarge",
    "vcpuNum": 48
   },
   {
    "_defaultOrder": 45,
    "_isFastLaunch": false,
    "category": "Memory Optimized",
    "gpuNum": 0,
    "hideHardwareSpecs": false,
    "memoryGiB": 512,
    "name": "ml.r5.16xlarge",
    "vcpuNum": 64
   },
   {
    "_defaultOrder": 46,
    "_isFastLaunch": false,
    "category": "Memory Optimized",
    "gpuNum": 0,
    "hideHardwareSpecs": false,
    "memoryGiB": 768,
    "name": "ml.r5.24xlarge",
    "vcpuNum": 96
   },
   {
    "_defaultOrder": 47,
    "_isFastLaunch": false,
    "category": "Accelerated computing",
    "gpuNum": 1,
    "hideHardwareSpecs": false,
    "memoryGiB": 16,
    "name": "ml.g5.xlarge",
    "vcpuNum": 4
   },
   {
    "_defaultOrder": 48,
    "_isFastLaunch": false,
    "category": "Accelerated computing",
    "gpuNum": 1,
    "hideHardwareSpecs": false,
    "memoryGiB": 32,
    "name": "ml.g5.2xlarge",
    "vcpuNum": 8
   },
   {
    "_defaultOrder": 49,
    "_isFastLaunch": false,
    "category": "Accelerated computing",
    "gpuNum": 1,
    "hideHardwareSpecs": false,
    "memoryGiB": 64,
    "name": "ml.g5.4xlarge",
    "vcpuNum": 16
   },
   {
    "_defaultOrder": 50,
    "_isFastLaunch": false,
    "category": "Accelerated computing",
    "gpuNum": 1,
    "hideHardwareSpecs": false,
    "memoryGiB": 128,
    "name": "ml.g5.8xlarge",
    "vcpuNum": 32
   },
   {
    "_defaultOrder": 51,
    "_isFastLaunch": false,
    "category": "Accelerated computing",
    "gpuNum": 1,
    "hideHardwareSpecs": false,
    "memoryGiB": 256,
    "name": "ml.g5.16xlarge",
    "vcpuNum": 64
   },
   {
    "_defaultOrder": 52,
    "_isFastLaunch": false,
    "category": "Accelerated computing",
    "gpuNum": 4,
    "hideHardwareSpecs": false,
    "memoryGiB": 192,
    "name": "ml.g5.12xlarge",
    "vcpuNum": 48
   },
   {
    "_defaultOrder": 53,
    "_isFastLaunch": false,
    "category": "Accelerated computing",
    "gpuNum": 4,
    "hideHardwareSpecs": false,
    "memoryGiB": 384,
    "name": "ml.g5.24xlarge",
    "vcpuNum": 96
   },
   {
    "_defaultOrder": 54,
    "_isFastLaunch": false,
    "category": "Accelerated computing",
    "gpuNum": 8,
    "hideHardwareSpecs": false,
    "memoryGiB": 768,
    "name": "ml.g5.48xlarge",
    "vcpuNum": 192
   },
   {
    "_defaultOrder": 55,
    "_isFastLaunch": false,
    "category": "Accelerated computing",
    "gpuNum": 8,
    "hideHardwareSpecs": false,
    "memoryGiB": 1152,
    "name": "ml.p4d.24xlarge",
    "vcpuNum": 96
   },
   {
    "_defaultOrder": 56,
    "_isFastLaunch": false,
    "category": "Accelerated computing",
    "gpuNum": 8,
    "hideHardwareSpecs": false,
    "memoryGiB": 1152,
    "name": "ml.p4de.24xlarge",
    "vcpuNum": 96
   }
  ],
  "instance_type": "ml.m5.large",
  "kernelspec": {
   "display_name": "Python 3 (SageMaker Distribution v0 CPU)",
   "language": "python",
   "name": "python3__SAGEMAKER_INTERNAL__arn:aws:sagemaker:eu-west-1:819792524951:image/sagemaker-distribution-cpu-v0"
  },
  "language_info": {
   "codemirror_mode": {
    "name": "ipython",
    "version": 3
   },
   "file_extension": ".py",
   "mimetype": "text/x-python",
   "name": "python",
   "nbconvert_exporter": "python",
   "pygments_lexer": "ipython3",
   "version": "3.8.18"
  }
 },
 "nbformat": 4,
 "nbformat_minor": 4
}
