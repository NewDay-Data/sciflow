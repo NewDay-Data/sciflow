{
 "cells": [
  {
   "cell_type": "code",
   "execution_count": null,
   "metadata": {},
   "outputs": [],
   "source": [
    "# | default_exp export_step"
   ]
  },
  {
   "cell_type": "markdown",
   "metadata": {},
   "source": [
    "# Export cells with a named step\n",
    "\n",
    "> Exporting `nbdev` notebook cells with a name adds the ability to build name pattern based differentiation of downstream activity."
   ]
  },
  {
   "cell_type": "code",
   "execution_count": null,
   "metadata": {},
   "outputs": [],
   "source": [
    "# | export\n",
    "\n",
    "import os\n",
    "from collections import defaultdict\n",
    "from warnings import warn\n",
    "\n",
    "import nbdev\n",
    "from fastcore.basics import ifnone\n",
    "from fastcore.foundation import L\n",
    "from fastcore.meta import delegates\n",
    "from fastcore.script import Param, call_parse\n",
    "from nbdev.config import get_config\n",
    "from nbdev.doclinks import _build_modidx, add_init, nbglob, nbglob_cli\n",
    "from nbdev.maker import ModuleMaker\n",
    "from nbdev.process import NBProcessor"
   ]
  },
  {
   "cell_type": "code",
   "execution_count": null,
   "metadata": {},
   "outputs": [],
   "source": [
    "# |export\n",
    "# adapted from nbdev.export\n",
    "\n",
    "\n",
    "class ExportModuleProc:\n",
    "    \"A processor which exports code to a module\"\n",
    "\n",
    "    def begin(self):\n",
    "        self.modules, self.in_all = defaultdict(L), defaultdict(L)\n",
    "\n",
    "    def _default_exp_(self, cell, exp_to):\n",
    "        self.default_exp = exp_to\n",
    "\n",
    "    def _exporti_(self, cell, exp_to=None):\n",
    "        self.modules[ifnone(exp_to, \"#\")].append(cell)\n",
    "\n",
    "    def _export_(self, cell, exp_to=None):\n",
    "        self._exporti_(cell, exp_to)\n",
    "        self.in_all[ifnone(exp_to, \"#\")].append(cell)\n",
    "\n",
    "    # Add a named step directive\n",
    "\n",
    "    def _export_step_(self, cell, step_name, exp_to=None):\n",
    "        self._exporti_(cell, exp_to)\n",
    "        self.in_all[ifnone(exp_to, \"#\")].append(cell)\n",
    "\n",
    "    _exports_ = _export_"
   ]
  },
  {
   "cell_type": "markdown",
   "metadata": {},
   "source": [
    "patch export to use new proc"
   ]
  },
  {
   "cell_type": "code",
   "execution_count": null,
   "metadata": {},
   "outputs": [],
   "source": [
    "# |export\n",
    "# copied from nbdv.export\n",
    "\n",
    "\n",
    "def optional_procs():\n",
    "    \"An explicit list of processors that could be used by `nb_export`\"\n",
    "    return L(\n",
    "        [\n",
    "            p\n",
    "            for p in nbdev.export.__all__\n",
    "            if p not in [\"nb_export\", \"ExportModuleProc\", \"optional_procs\"]\n",
    "        ]\n",
    "    )"
   ]
  },
  {
   "cell_type": "code",
   "execution_count": null,
   "metadata": {},
   "outputs": [],
   "source": [
    "# |export\n",
    "# adapted from nbdev.export\n",
    "\n",
    "\n",
    "def nb_named_export(\n",
    "    nbname, lib_path=None, procs=None, debug=False, mod_maker=ModuleMaker, name=None\n",
    "):\n",
    "    \"Create module(s) from notebook\"\n",
    "    if lib_path is None:\n",
    "        lib_path = get_config().lib_path\n",
    "    exp = ExportModuleProc()\n",
    "    # Changed default value of remove directives\n",
    "    nb = NBProcessor(nbname, [exp] + L(procs), debug=debug, rm_directives=False)\n",
    "    nb.process()\n",
    "    for mod, cells in exp.modules.items():\n",
    "        all_cells = exp.in_all[mod]\n",
    "        nm = ifnone(name, getattr(exp, \"default_exp\", None) if mod == \"#\" else mod)\n",
    "        if not nm:\n",
    "            warn(\n",
    "                f\"Notebook '{nbname}' uses `#|export` without `#|default_exp` cell.\\n\"\n",
    "                \"Note nbdev2 no longer supports nbdev1 syntax. Run `nbdev_migrate` to upgrade.\\n\"\n",
    "                \"See https://nbdev.fast.ai/getting_started.html for more information.\"\n",
    "            )\n",
    "            return\n",
    "        mm = mod_maker(\n",
    "            dest=lib_path, name=nm, nb_path=nbname, is_new=bool(name) or mod == \"#\"\n",
    "        )\n",
    "        mm.make(cells, all_cells, lib_path=lib_path)"
   ]
  },
  {
   "cell_type": "code",
   "execution_count": null,
   "metadata": {},
   "outputs": [],
   "source": [
    "# |export\n",
    "# adapted from nbdev.doclinks\n",
    "\n",
    "\n",
    "@call_parse\n",
    "@delegates(nbglob_cli)\n",
    "def sciflow_export(\n",
    "    path: str = None,  # Path or filename\n",
    "    procs: Param(\n",
    "        \"tokens naming the export processors to use.\",\n",
    "        nargs=\"*\",\n",
    "        choices=optional_procs(),\n",
    "    ) = \"black_format\",\n",
    "    **kwargs,\n",
    "):\n",
    "    \"Export notebooks in `path` to Python modules\"\n",
    "    if os.environ.get(\"IN_TEST\", 0):\n",
    "        return\n",
    "    if procs:\n",
    "        import nbdev.export\n",
    "\n",
    "        procs = [getattr(nbdev.export, p) for p in L(procs)]\n",
    "    files = nbglob(path=path, as_path=True, **kwargs).sorted(\"name\")\n",
    "    for f in files:\n",
    "        nb_named_export(f, procs=procs)\n",
    "    add_init(get_config().lib_path)\n",
    "    _build_modidx()"
   ]
  },
  {
   "cell_type": "code",
   "execution_count": null,
   "metadata": {},
   "outputs": [],
   "source": [
    "path: str = None\n",
    "files = nbglob(path=path, as_path=True).sorted(\"name\")\n",
    "\n",
    "for f in files:\n",
    "    nb_named_export(f, procs=None)\n",
    "    add_init(get_config().lib_path)\n",
    "    _build_modidx()"
   ]
  }
 ],
 "metadata": {
  "kernelspec": {
   "display_name": "python3__SAGEMAKER_INTERNAL__arn:aws:sagemaker:eu-west-1:819792524951:image/sagemaker-distribution-cpu-v0",
   "language": "python",
   "name": "python3__SAGEMAKER_INTERNAL__arn:aws:sagemaker:eu-west-1:819792524951:image/sagemaker-distribution-cpu-v0"
  }
 },
 "nbformat": 4,
 "nbformat_minor": 4
}
