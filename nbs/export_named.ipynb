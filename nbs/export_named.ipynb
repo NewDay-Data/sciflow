{
 "cells": [
  {
   "cell_type": "code",
   "execution_count": 42,
   "metadata": {},
   "outputs": [],
   "source": [
    "# default_exp export_named"
   ]
  },
  {
   "cell_type": "markdown",
   "metadata": {},
   "source": [
    "# Export cells with a name\n",
    "\n",
    "> Exporting `nbdev` notebook cells with a name adds the ability for a library to differentiate "
   ]
  },
  {
   "cell_type": "code",
   "execution_count": 43,
   "metadata": {},
   "outputs": [],
   "source": [
    "from nbdev.export import (is_export, read_nb, find_default_export, \n",
    "                          _is_external_export, _re_internal_export, _mk_flag_re,\n",
    "                         check_re, _re_mod_export, _re_blank_export)\n",
    "from pathlib import Path\n",
    "import os\n",
    "import re\n",
    "from nbformat import NotebookNode"
   ]
  },
  {
   "cell_type": "code",
   "execution_count": 44,
   "metadata": {},
   "outputs": [],
   "source": [
    "_re_named_export = _mk_flag_re(\"exportn_[a-zA-Z0-9:]+\", 0,\n",
    "    \"Matches any line with a named #exportn without any module name\")"
   ]
  },
  {
   "cell_type": "code",
   "execution_count": 45,
   "metadata": {},
   "outputs": [],
   "source": [
    "def extract_named_export(cell: NotebookNode):\n",
    "    name = None\n",
    "    tst = check_re(cell, _re_named_export)\n",
    "    if tst:\n",
    "        pat = re.compile(rf\"\"\"exportn_[a-zA-Z0-9:]+\"\"\", re.MULTILINE | re.VERBOSE)\n",
    "        name = pat.search(tst.string).group(0).split('_')[1]\n",
    "    return name"
   ]
  },
  {
   "cell_type": "code",
   "execution_count": 46,
   "metadata": {},
   "outputs": [],
   "source": [
    "nb_path = os.path.join(Path('.').resolve().parent, 'examples', 'top2vec.ipynb')\n",
    "nb = read_nb(nb_path)\n",
    "named_exports = [ne for ne in [extract_named_export(c) for c in nb['cells']] if ne]\n",
    "assert(len(named_exports) == 2)"
   ]
  },
  {
   "cell_type": "code",
   "execution_count": 102,
   "metadata": {},
   "outputs": [],
   "source": [
    "def is_export(cell, default):\n",
    "    \"Check if `cell` is to be exported and returns the name of the module to export it if provided\"\n",
    "    tst = check_re(cell, _re_blank_export)\n",
    "    if tst:\n",
    "        if default is None:\n",
    "            print(f\"No export destination, ignored:\\n{cell['source']}\")\n",
    "        return default, _is_external_export(tst)\n",
    "    tst = check_re(cell, _re_mod_export)\n",
    "    if tst: return os.path.sep.join(tst.groups()[0].split('.')), _is_external_export(tst)\n",
    "    else: return None"
   ]
  },
  {
   "cell_type": "code",
   "execution_count": 119,
   "metadata": {},
   "outputs": [],
   "source": [
    "exports = [e for e in [is_export(c, default) for c in nb['cells']]]\n",
    "assert(exports[0] is None)"
   ]
  },
  {
   "cell_type": "code",
   "execution_count": 111,
   "metadata": {},
   "outputs": [],
   "source": [
    "def is_export_extended(cell, default):\n",
    "    \"Check if `cell` is to be exported and returns the name of the module to export it if provided\"\n",
    "    tst = check_re(cell, _re_named_export)\n",
    "    if tst:\n",
    "        if default is None:\n",
    "            print(f\"No export destination, ignored:\\n{cell['source']}\")\n",
    "        return default, _is_external_export(tst)\n",
    "    tst = check_re(cell, _re_blank_export)\n",
    "    if tst:\n",
    "        if default is None:\n",
    "            print(f\"No export destination, ignored:\\n{cell['source']}\")\n",
    "        return default, _is_external_export(tst)\n",
    "    tst = check_re(cell, _re_mod_export)\n",
    "    if tst: return os.path.sep.join(tst.groups()[0].split('.')), _is_external_export(tst)\n",
    "    else: return None"
   ]
  },
  {
   "cell_type": "code",
   "execution_count": 118,
   "metadata": {},
   "outputs": [],
   "source": [
    "exports_extended = [e for e in [is_export_extended(c, default) for c in nb['cells']]]\n",
    "assert(type(exports_extended[0][0]) == str and exports_extended[0][1])\n",
    "orig = [e for e in [is_export(c, default) for c in nb['cells']] if e]\n",
    "new = [e for e in [is_export_extended(c, default) for c in nb['cells']] if e]\n",
    "assert(len(new) == len(orig)+2)"
   ]
  },
  {
   "cell_type": "markdown",
   "metadata": {},
   "source": [
    "# Test Notebook2Script & add has named export check"
   ]
  },
  {
   "cell_type": "code",
   "execution_count": 47,
   "metadata": {},
   "outputs": [],
   "source": [
    "def _notebook2script(fname, modules, silent=False, bare=False):\n",
    "    \"Finds cells starting with `#export` and puts them into a module created by `create_mod_files`\"\n",
    "    bare = str(Config().get('bare', bare)) == 'True'\n",
    "    if os.environ.get('IN_TEST',0): return  # don't export if running tests\n",
    "    sep = '\\n'* (int(Config().get('cell_spacing', '1'))+1)\n",
    "    fname = Path(fname)\n",
    "    nb = read_nb(fname)\n",
    "    default = find_default_export(nb['cells'])\n",
    "    if default is not None:\n",
    "        default = os.path.sep.join(default.split('.'))\n",
    "    mod = get_nbdev_module()\n",
    "    exports = [is_export(c, default) for c in nb['cells']]\n",
    "    cells = [(i,c,e) for i,(c,e) in enumerate(zip(nb['cells'],exports)) if e is not None]\n",
    "    for i,c,(e,a) in cells:\n",
    "        if e not in modules: print(f'Warning: Exporting to \"{e}.py\" but this module is not part of this build')\n",
    "        fname_out = Config().path(\"lib_path\")/f'{e}.py'\n",
    "        if bare: orig = \"\\n\"\n",
    "        else: \n",
    "            orig = (f'# {\"\" if a else \"Internal \"}C' if e==default else f'# Comes from {fname.name}, c') + 'ell\\n'\n",
    "        flag_lines,code_lines = split_flags_and_code(c)\n",
    "        code_lines = _deal_import(code_lines, fname_out)\n",
    "        code = sep + orig + '\\n'.join(code_lines)\n",
    "        names = export_names(code)\n",
    "        flags = '\\n'.join(flag_lines)\n",
    "        extra,code = extra_add(flags, code)\n",
    "        code = _from_future_import(fname_out, flags, code, to_dict)\n",
    "        mod.index.update({f: fname.name for f in names})\n",
    "        code = re.sub(r' +$', '', code, flags=re.MULTILINE)\n",
    "        if code != sep + orig[:-1]:\n",
    "            to_dict[e].append((i, fname, code))\n",
    "    if not silent: print(f\"Converted {fname.name}.\")\n",
    "    return to_dict"
   ]
  },
  {
   "cell_type": "code",
   "execution_count": 59,
   "metadata": {},
   "outputs": [],
   "source": [
    "from nbdev.export import (Config, get_nbdev_module, \n",
    "                          split_flags_and_code, _deal_import,\n",
    "                          export_names, extra_add, _from_future_import\n",
    "                         )"
   ]
  },
  {
   "cell_type": "code",
   "execution_count": 120,
   "metadata": {},
   "outputs": [],
   "source": [
    "def reduced_nb_to_script(fname, to_dict, bare=None):\n",
    "    bare = str(Config().get('bare', bare)) == 'True'\n",
    "    sep = '\\n'* (int(Config().get('cell_spacing', '1'))+1)\n",
    "    fname = Path(fname)\n",
    "    nb = read_nb(fname)\n",
    "    default = find_default_export(nb['cells'])\n",
    "    if default is not None:\n",
    "        default = os.path.sep.join(default.split('.'))\n",
    "    mod = get_nbdev_module()\n",
    "    exports = [is_export_extended(c, default) for c in nb['cells']]\n",
    "    cells = [(i,c,e) for i,(c,e) in enumerate(zip(nb['cells'],exports)) if e is not None]\n",
    "    for i,c,(e,a) in cells:\n",
    "        fname_out = Config().path(\"lib_path\")/f'{e}.py'\n",
    "        if bare: \n",
    "            orig = \"\\n\"\n",
    "        else: \n",
    "            named_export = extract_named_export(c)\n",
    "            if named_export:\n",
    "                print(f'Found named export {named_export}')\n",
    "                if e != default:\n",
    "                    named_export + f' comes from {fname.name}'\n",
    "                orig = f'# {named_export}'\n",
    "            else:\n",
    "                orig = (f'# {\"\" if a else \"Internal \"}C' if e==default else f'# Comes from {fname.name}, c') + 'ell\\n'\n",
    "        flag_lines,code_lines = split_flags_and_code(c)\n",
    "        code_lines = _deal_import(code_lines, fname_out)\n",
    "        code = sep + orig + '\\n'.join(code_lines)\n",
    "        names = export_names(code)\n",
    "        flags = '\\n'.join(flag_lines)\n",
    "        extra,code = extra_add(flags, code)\n",
    "        code = _from_future_import(fname_out, flags, code, to_dict)\n",
    "        mod.index.update({f: fname.name for f in names})\n",
    "        code = re.sub(r' +$', '', code, flags=re.MULTILINE)\n",
    "        if code != sep + orig[:-1]:\n",
    "            to_dict[e].append((i, fname, code))"
   ]
  },
  {
   "cell_type": "code",
   "execution_count": 121,
   "metadata": {},
   "outputs": [],
   "source": [
    "fname = str(nb_path)\n",
    "to_dict = {'top2vec': []}"
   ]
  },
  {
   "cell_type": "code",
   "execution_count": 122,
   "metadata": {},
   "outputs": [
    {
     "name": "stdout",
     "output_type": "stream",
     "text": [
      "Found named export step:prepproc\n",
      "Found named export step:preprocess\n"
     ]
    }
   ],
   "source": [
    "reduced_nb_to_script(fname, to_dict)"
   ]
  },
  {
   "cell_type": "code",
   "execution_count": 132,
   "metadata": {},
   "outputs": [
    {
     "name": "stdout",
     "output_type": "stream",
     "text": [
      "\n",
      "\n",
      "# step:prepproc\n",
      "def prepproc():\n",
      "    print(1)\n"
     ]
    }
   ],
   "source": [
    "print(to_dict['top2vec'][0][2])"
   ]
  },
  {
   "cell_type": "code",
   "execution_count": null,
   "metadata": {},
   "outputs": [],
   "source": []
  }
 ],
 "metadata": {
  "kernelspec": {
   "display_name": "Python [conda env:jovyan-discovery]",
   "language": "python",
   "name": "conda-env-jovyan-discovery-py"
  },
  "language_info": {
   "codemirror_mode": {
    "name": "ipython",
    "version": 3
   },
   "file_extension": ".py",
   "mimetype": "text/x-python",
   "name": "python",
   "nbconvert_exporter": "python",
   "pygments_lexer": "ipython3",
   "version": "3.7.10"
  }
 },
 "nbformat": 4,
 "nbformat_minor": 4
}
