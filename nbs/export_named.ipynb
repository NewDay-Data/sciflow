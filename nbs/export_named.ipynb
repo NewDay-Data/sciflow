{
 "cells": [
  {
   "cell_type": "code",
   "execution_count": 1,
   "metadata": {},
   "outputs": [],
   "source": [
    "# default_exp export_named"
   ]
  },
  {
   "cell_type": "markdown",
   "metadata": {},
   "source": [
    "# Export cells with a name\n",
    "\n",
    "> Exporting `nbdev` notebook cells with a name adds the ability for a library to differentiate "
   ]
  },
  {
   "cell_type": "code",
   "execution_count": 148,
   "metadata": {},
   "outputs": [],
   "source": [
    "#export\n",
    "\n",
    "# some line comment\n",
    "import os\n",
    "import re\n",
    "from pathlib import Path\n",
    "\n",
    "from nbdev.export import *\n",
    "from nbdev.export import Config, _deal_import, _from_future_import, _add2all\n",
    "from nbformat import NotebookNode\n",
    "import nbformat\n",
    "import nbdev"
   ]
  },
  {
   "cell_type": "code",
   "execution_count": 149,
   "metadata": {},
   "outputs": [],
   "source": [
    "_re_named_export = _mk_flag_re(\n",
    "    \"exportn_[a-zA-Z0-9:]+\\W*$\",\n",
    "    0,\n",
    "    \"Matches any line with a named #exportn without any module name\",\n",
    ")"
   ]
  },
  {
   "cell_type": "code",
   "execution_count": 150,
   "metadata": {},
   "outputs": [],
   "source": [
    "def extract_named_export(cell: NotebookNode):\n",
    "    name = None\n",
    "    tst = check_re(cell, _re_named_export)\n",
    "    if tst:\n",
    "        pat = re.compile(rf\"\"\"exportn_[a-zA-Z0-9:]+\\W*$\"\"\", re.MULTILINE | re.VERBOSE)\n",
    "        name = pat.search(tst.string).group(0).split(\"_\")[1].strip()\n",
    "    return name"
   ]
  },
  {
   "cell_type": "code",
   "execution_count": 158,
   "metadata": {},
   "outputs": [],
   "source": [
    "nb_path = Path(os.path.join(\"test\", \"test_export.ipynb\"))\n",
    "nb = read_nb(nb_path)\n",
    "named_exports = [ne for ne in [extract_named_export(c) for c in nb[\"cells\"]] if ne]\n",
    "assert len(named_exports) == 3"
   ]
  },
  {
   "cell_type": "code",
   "execution_count": 159,
   "metadata": {},
   "outputs": [],
   "source": [
    "cell = nbformat.v4.new_code_cell(f'#export\\n some code')\n",
    "assert('#export' == check_re(cell, _re_blank_export).group(0))\n",
    "cell = nbformat.v4.new_code_cell(f'#exportn_step:func\\n some code')\n",
    "assert('#exportn_step:func' == check_re(cell, _re_named_export).group(0).strip())\n",
    "cell = nbformat.v4.new_code_cell(f'#exportn_step:func   \\n some code')\n",
    "assert('#exportn_step:func' == check_re(cell, _re_named_export).group(0).strip())\n",
    "cell = nbformat.v4.new_code_cell(f'#exportn_step:func \\n some code')\n",
    "assert('#exportn_step:func' == check_re(cell, _re_named_export).group(0).strip())"
   ]
  },
  {
   "cell_type": "code",
   "execution_count": 160,
   "metadata": {},
   "outputs": [],
   "source": [
    "def is_export(cell, default):\n",
    "    \"\"\"Check if `cell` is to be exported and returns the name of the module to \n",
    "    export it if provided\"\"\"\n",
    "    tst = check_re(cell, _re_blank_export)\n",
    "    if tst:\n",
    "        if default is None:\n",
    "            print(f\"No export destination, ignored:\\n{cell['source']}\")\n",
    "        return default, _is_external_export(tst)\n",
    "    tst = check_re(cell, _re_mod_export)\n",
    "    if tst:\n",
    "        return os.path.sep.join(tst.groups()[0].split(\".\")), _is_external_export(tst)\n",
    "    else:\n",
    "        return None"
   ]
  },
  {
   "cell_type": "code",
   "execution_count": 161,
   "metadata": {},
   "outputs": [],
   "source": [
    "def is_export_extended(cell, default):\n",
    "    \"\"\"Check if `cell` is to be exported and returns the name of the module \n",
    "    to export it if provided. This version adds a named export.\"\"\"\n",
    "    tst = check_re(cell, _re_named_export)\n",
    "    if tst:\n",
    "        if default is None:\n",
    "            print(f\"No export destination, ignored:\\n{cell['source']}\")\n",
    "        return default, _is_external_export(tst)\n",
    "    tst = check_re(cell, _re_blank_export)\n",
    "    if tst:\n",
    "        if default is None:\n",
    "            print(f\"No export destination, ignored:\\n{cell['source']}\")\n",
    "        return default, _is_external_export(tst)\n",
    "    tst = check_re(cell, _re_mod_export)\n",
    "    if tst:\n",
    "        return os.path.sep.join(tst.groups()[0].split(\".\")), _is_external_export(tst)\n",
    "    else:\n",
    "        return None"
   ]
  },
  {
   "cell_type": "code",
   "execution_count": 166,
   "metadata": {},
   "outputs": [],
   "source": [
    "exports_extended = [e for e in [is_export_extended(c, default) for c in nb[\"cells\"]]]\n",
    "assert type(exports_extended[1][0]) == str and exports_extended[1][1]\n",
    "orig = [e for e in [is_export(c, default) for c in nb[\"cells\"]] if e]\n",
    "new = [e for e in [is_export_extended(c, default) for c in nb[\"cells\"]] if e]\n",
    "assert len(new) == len(orig) + 3"
   ]
  },
  {
   "cell_type": "code",
   "execution_count": 184,
   "metadata": {},
   "outputs": [],
   "source": [
    "def set_orig_value(fname: str, c: NotebookNode, a: bool, e: str, default: str, bare: bool = None):\n",
    "    if bare:\n",
    "        orig = \"\\n\"\n",
    "    else:\n",
    "        named_export = extract_named_export(c)\n",
    "        if named_export:\n",
    "            if e != default:\n",
    "                named_export + f\" comes from {fname.name}\"\n",
    "            orig = f\"# {named_export}\\n\"\n",
    "        else:\n",
    "            orig = (\n",
    "                f'# {\"\" if a else \"Internal \"}C'\n",
    "                if e == default\n",
    "                else f\"# Comes from {fname.name}, c\"\n",
    "            ) + \"ell\\n\"\n",
    "    return orig"
   ]
  },
  {
   "cell_type": "code",
   "execution_count": 185,
   "metadata": {},
   "outputs": [],
   "source": [
    "fname = str(nb_path)"
   ]
  },
  {
   "cell_type": "code",
   "execution_count": 188,
   "metadata": {},
   "outputs": [],
   "source": [
    "assert([set_orig_value(fname, c, False, 'top2vec', 'top2vec') for c in nb[\"cells\"]][1] == '# step:first\\n')"
   ]
  },
  {
   "cell_type": "code",
   "execution_count": 189,
   "metadata": {},
   "outputs": [],
   "source": [
    "def reduced_nb_to_script(fname, to_dict, bare=None):\n",
    "    bare = str(Config().get(\"bare\", bare)) == \"True\"\n",
    "    sep = \"\\n\" * (int(Config().get(\"cell_spacing\", \"1\")) + 1)\n",
    "    fname = Path(fname)\n",
    "    nb = read_nb(fname)\n",
    "    default = find_default_export(nb[\"cells\"])\n",
    "    if default is not None:\n",
    "        default = os.path.sep.join(default.split(\".\"))\n",
    "    mod = get_nbdev_module()\n",
    "    exports = [is_export_extended(c, default) for c in nb[\"cells\"]]\n",
    "    cells = [\n",
    "        (i, c, e) for i, (c, e) in enumerate(zip(nb[\"cells\"], exports)) if e is not None\n",
    "    ]\n",
    "    for i, c, (e, a) in cells:\n",
    "        fname_out = Config().path(\"lib_path\") / f\"{e}.py\"\n",
    "        orig = set_orig_value(fname, c, a, e, default)\n",
    "        flag_lines, code_lines = split_flags_and_code(c)\n",
    "        code_lines = _deal_import(code_lines, fname_out)\n",
    "        code = sep + orig + \"\\n\".join(code_lines)\n",
    "        names = export_names(code)\n",
    "        flags = \"\\n\".join(flag_lines)\n",
    "        extra, code = extra_add(flags, code)\n",
    "        code = _from_future_import(fname_out, flags, code, to_dict)\n",
    "        mod.index.update({f: fname.name for f in names})\n",
    "        code = re.sub(r\" +$\", \"\", code, flags=re.MULTILINE)\n",
    "        if code != sep + orig[:-1]:\n",
    "            to_dict[e].append((i, fname, code))"
   ]
  },
  {
   "cell_type": "code",
   "execution_count": 203,
   "metadata": {},
   "outputs": [],
   "source": [
    "to_dict = {\"test_export\": [], \"module_test\": []}\n",
    "reduced_nb_to_script(fname, to_dict)"
   ]
  },
  {
   "cell_type": "code",
   "execution_count": 204,
   "metadata": {},
   "outputs": [],
   "source": [
    "from io import StringIO\n",
    "source_stream = StringIO(to_dict[\"test_export\"][0][2])\n",
    "code_lines = [l for l in source_stream.readlines() if len(l.strip())>0]\n",
    "assert(code_lines[0].strip() == '# step:first')"
   ]
  },
  {
   "cell_type": "markdown",
   "metadata": {},
   "source": [
    "# Create a forked version of _notebook2script"
   ]
  },
  {
   "cell_type": "code",
   "execution_count": 205,
   "metadata": {},
   "outputs": [],
   "source": [
    "def _sciflow_notebook2script(fname, modules, silent=False, to_dict=None, bare=False):\n",
    "    \"Finds cells starting with `#export` and puts them into a module created by `create_mod_files`\"\n",
    "    bare = str(Config().get(\"bare\", bare)) == \"True\"\n",
    "    if os.environ.get(\"IN_TEST\", 0):\n",
    "        return  # don't export if running tests\n",
    "    sep = \"\\n\" * (int(Config().get(\"cell_spacing\", \"1\")) + 1)\n",
    "    fname = Path(fname)\n",
    "    nb = read_nb(fname)\n",
    "    default = find_default_export(nb[\"cells\"])\n",
    "    if default is not None:\n",
    "        default = os.path.sep.join(default.split(\".\"))\n",
    "    mod = get_nbdev_module()\n",
    "    exports = [is_export_extended(c, default) for c in nb[\"cells\"]]\n",
    "    cells = [\n",
    "        (i, c, e) for i, (c, e) in enumerate(zip(nb[\"cells\"], exports)) if e is not None\n",
    "    ]\n",
    "    for i, c, (e, a) in cells:\n",
    "        if e not in modules:\n",
    "            print(\n",
    "                f'Warning: Exporting to \"{e}.py\" but this module is not part of this build'\n",
    "            )\n",
    "        fname_out = Config().path(\"lib_path\") / f\"{e}.py\"\n",
    "        orig = set_orig_value(fname, c, a, e, default)\n",
    "        flag_lines, code_lines = split_flags_and_code(c)\n",
    "        code_lines = _deal_import(code_lines, fname_out)\n",
    "        code = sep + orig + \"\\n\".join(code_lines)\n",
    "        names = export_names(code)\n",
    "        flags = \"\\n\".join(flag_lines)\n",
    "        extra, code = extra_add(flags, code)\n",
    "        code = _from_future_import(fname_out, flags, code, to_dict)\n",
    "        if a:\n",
    "            if to_dict is None: _add2all(fname_out, [f\"'{f}'\" for f in names if '.' not in f and len(f) > 0] + extra)\n",
    "        mod.index.update({f: fname.name for f in names})\n",
    "        code = re.sub(r\" +$\", \"\", code, flags=re.MULTILINE)\n",
    "        if code != sep + orig[:-1]:\n",
    "            if to_dict is not None: to_dict[e].append((i, fname, code))\n",
    "            else:\n",
    "                with open(fname_out, 'a', encoding='utf8') as f: f.write(code)\n",
    "        if f'{e}.py' not in mod.modules: mod.modules.append(f'{e}.py')\n",
    "    save_nbdev_module(mod)\n",
    "\n",
    "    if not silent:\n",
    "        print(f\"Converted {fname.name}.\")\n",
    "    return to_dict"
   ]
  },
  {
   "cell_type": "code",
   "execution_count": 208,
   "metadata": {},
   "outputs": [],
   "source": [
    "nbdev.export._notebook2script = _sciflow_notebook2script"
   ]
  },
  {
   "cell_type": "code",
   "execution_count": 209,
   "metadata": {},
   "outputs": [
    {
     "name": "stdout",
     "output_type": "stream",
     "text": [
      "Converted export_named.ipynb.\n",
      "Converted index.ipynb.\n",
      "Converted nb_lint.ipynb.\n",
      "Converted packaging.ipynb.\n",
      "Converted params.ipynb.\n",
      "Converted parse_module.ipynb.\n",
      "Converted test_export.ipynb.\n",
      "Converted test_module.ipynb.\n"
     ]
    }
   ],
   "source": [
    "notebook2script(recursive=True)"
   ]
  },
  {
   "cell_type": "code",
   "execution_count": null,
   "metadata": {},
   "outputs": [],
   "source": []
  }
 ],
 "metadata": {
  "kernelspec": {
   "display_name": "Python [conda env:jovyan-discovery]",
   "language": "python",
   "name": "conda-env-jovyan-discovery-py"
  },
  "language_info": {
   "codemirror_mode": {
    "name": "ipython",
    "version": 3
   },
   "file_extension": ".py",
   "mimetype": "text/x-python",
   "name": "python",
   "nbconvert_exporter": "python",
   "pygments_lexer": "ipython3",
   "version": "3.7.10"
  }
 },
 "nbformat": 4,
 "nbformat_minor": 4
}
