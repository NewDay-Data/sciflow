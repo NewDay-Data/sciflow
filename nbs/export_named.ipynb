{
 "cells": [
  {
   "cell_type": "code",
   "execution_count": 1,
   "metadata": {},
   "outputs": [],
   "source": [
    "# default_exp export_named"
   ]
  },
  {
   "cell_type": "markdown",
   "metadata": {},
   "source": [
    "# Export cells with a name\n",
    "\n",
    "> Exporting `nbdev` notebook cells with a name adds the ability for a library to differentiate "
   ]
  },
  {
   "cell_type": "code",
   "execution_count": 2,
   "metadata": {},
   "outputs": [],
   "source": [
    "# export\n",
    "\n",
    "# some line comment\n",
    "import os\n",
    "import re\n",
    "from pathlib import Path\n",
    "\n",
    "import nbdev\n",
    "import nbformat\n",
    "from fastcore.script import call_parse\n",
    "from nbdev.export import (Config, _add2all, _deal_import, _from_future_import,\n",
    "                          _is_external_export, _mk_flag_re, _re_blank_export,\n",
    "                          _re_mod_export, check_re, export_names, extra_add,\n",
    "                          find_default_export, get_nbdev_module,\n",
    "                          notebook2script, read_nb, save_nbdev_module,\n",
    "                          split_flags_and_code)\n",
    "from nbformat import NotebookNode"
   ]
  },
  {
   "cell_type": "code",
   "execution_count": 3,
   "metadata": {},
   "outputs": [],
   "source": [
    "# export\n",
    "\n",
    "_re_named_export = _mk_flag_re(\n",
    "    \"exportn_[a-zA-Z0-9:]+\\W*$\",\n",
    "    0,\n",
    "    \"Matches any line with a named #exportn without any module name\",\n",
    ")\n",
    "\n",
    "\n",
    "def extract_named_export(cell: NotebookNode):\n",
    "    name = None\n",
    "    tst = check_re(cell, _re_named_export)\n",
    "    if tst:\n",
    "        pat = re.compile(rf\"\"\"exportn_[a-zA-Z0-9:]+\\W*$\"\"\", re.MULTILINE | re.VERBOSE)\n",
    "        name = pat.search(tst.string).group(0).split(\"_\")[1].strip()\n",
    "    return name"
   ]
  },
  {
   "cell_type": "code",
   "execution_count": 4,
   "metadata": {},
   "outputs": [],
   "source": [
    "nb_path = Path(os.path.join(\"test\", \"test_export.ipynb\"))\n",
    "nb = read_nb(nb_path)\n",
    "default = find_default_export(nb[\"cells\"])\n",
    "named_exports = [ne for ne in [extract_named_export(c) for c in nb[\"cells\"]] if ne]\n",
    "assert len(named_exports) >= 3"
   ]
  },
  {
   "cell_type": "code",
   "execution_count": 5,
   "metadata": {},
   "outputs": [],
   "source": [
    "cell = nbformat.v4.new_code_cell(f\"#export\\n some code\")\n",
    "assert \"#export\" == check_re(cell, _re_blank_export).group(0)\n",
    "cell = nbformat.v4.new_code_cell(f\"#exportn_step:func\\n some code\")\n",
    "assert \"#exportn_step:func\" == check_re(cell, _re_named_export).group(0).strip()\n",
    "cell = nbformat.v4.new_code_cell(f\"#exportn_step:func   \\n some code\")\n",
    "assert \"#exportn_step:func\" == check_re(cell, _re_named_export).group(0).strip()\n",
    "cell = nbformat.v4.new_code_cell(f\"#exportn_step:func \\n some code\")\n",
    "assert \"#exportn_step:func\" == check_re(cell, _re_named_export).group(0).strip()"
   ]
  },
  {
   "cell_type": "code",
   "execution_count": 6,
   "metadata": {},
   "outputs": [],
   "source": [
    "# export\n",
    "\n",
    "\n",
    "def is_export_extended(cell, default):\n",
    "    \"\"\"Check if `cell` is to be exported and returns the name of the module \n",
    "    to export it if provided. This version adds a named export.\"\"\"\n",
    "    tst = check_re(cell, _re_named_export)\n",
    "    if tst:\n",
    "        if default is None:\n",
    "            print(f\"No export destination, ignored:\\n{cell['source']}\")\n",
    "        return default, _is_external_export(tst)\n",
    "    tst = check_re(cell, _re_blank_export)\n",
    "    if tst:\n",
    "        if default is None:\n",
    "            print(f\"No export destination, ignored:\\n{cell['source']}\")\n",
    "        return default, _is_external_export(tst)\n",
    "    tst = check_re(cell, _re_mod_export)\n",
    "    if tst:\n",
    "        return os.path.sep.join(tst.groups()[0].split(\".\")), _is_external_export(tst)\n",
    "    else:\n",
    "        return None"
   ]
  },
  {
   "cell_type": "code",
   "execution_count": 7,
   "metadata": {},
   "outputs": [],
   "source": [
    "exports_extended = [e for e in [is_export_extended(c, default) for c in nb[\"cells\"]]]\n",
    "assert type(exports_extended[1][0]) == str and exports_extended[1][1]\n",
    "orig = [e for e in [nbdev.export.is_export(c, default) for c in nb[\"cells\"]] if e]\n",
    "new = [e for e in [is_export_extended(c, default) for c in nb[\"cells\"]] if e]\n",
    "assert len(new) == len(orig) + 4"
   ]
  },
  {
   "cell_type": "code",
   "execution_count": 8,
   "metadata": {},
   "outputs": [],
   "source": [
    "# export\n",
    "\n",
    "\n",
    "def set_orig_value(\n",
    "    fname: str, c: NotebookNode, a: bool, e: str, default: str, bare: bool = None\n",
    "):\n",
    "    if bare:\n",
    "        orig = \"\\n\"\n",
    "    else:\n",
    "        named_export = extract_named_export(c)\n",
    "        if named_export:\n",
    "            if e != default:\n",
    "                named_export + f\" comes from {fname.name}\"\n",
    "            orig = f\"# {named_export}\\n\"\n",
    "        else:\n",
    "            orig = (\n",
    "                f'# {\"\" if a else \"Internal \"}C'\n",
    "                if e == default\n",
    "                else f\"# Comes from {fname.name}, c\"\n",
    "            ) + \"ell\\n\"\n",
    "    return orig"
   ]
  },
  {
   "cell_type": "code",
   "execution_count": 9,
   "metadata": {},
   "outputs": [],
   "source": [
    "fname = str(nb_path)"
   ]
  },
  {
   "cell_type": "code",
   "execution_count": 10,
   "metadata": {},
   "outputs": [],
   "source": [
    "assert any(\n",
    "    c\n",
    "    for c in [\n",
    "        set_orig_value(fname, c, False, \"test_export\", \"test_export\")\n",
    "        for c in nb[\"cells\"]\n",
    "    ]\n",
    "    if c == \"# step:first\\n\"\n",
    ")"
   ]
  },
  {
   "cell_type": "markdown",
   "metadata": {},
   "source": [
    "# Create a forked version of _notebook2script"
   ]
  },
  {
   "cell_type": "code",
   "execution_count": 11,
   "metadata": {},
   "outputs": [],
   "source": [
    "# export\n",
    "\n",
    "\n",
    "def _sciflow_notebook2script(fname, modules, silent=False, to_dict=None, bare=False):\n",
    "    \"Finds cells starting with `#export` and puts them into a module created by `create_mod_files`\"\n",
    "    bare = str(Config().get(\"bare\", bare)) == \"True\"\n",
    "    if os.environ.get(\"IN_TEST\", 0):\n",
    "        return  # don't export if running tests\n",
    "    sep = \"\\n\" * (int(Config().get(\"cell_spacing\", \"1\")) + 1)\n",
    "    fname = Path(fname)\n",
    "    nb = read_nb(fname)\n",
    "    default = find_default_export(nb[\"cells\"])\n",
    "    if default is not None:\n",
    "        default = os.path.sep.join(default.split(\".\"))\n",
    "    mod = get_nbdev_module()\n",
    "    exports = [is_export_extended(c, default) for c in nb[\"cells\"]]\n",
    "    cells = [\n",
    "        (i, c, e) for i, (c, e) in enumerate(zip(nb[\"cells\"], exports)) if e is not None\n",
    "    ]\n",
    "    for i, c, (e, a) in cells:\n",
    "        if e not in modules:\n",
    "            print(\n",
    "                f'Warning: Exporting to \"{e}.py\" but this module is not part of this build'\n",
    "            )\n",
    "        fname_out = Config().path(\"lib_path\") / f\"{e}.py\"\n",
    "        orig = set_orig_value(fname, c, a, e, default)\n",
    "        flag_lines, code_lines = split_flags_and_code(c)\n",
    "        code_lines = _deal_import(code_lines, fname_out)\n",
    "        code = sep + orig + \"\\n\".join(code_lines)\n",
    "        names = export_names(code)\n",
    "        flags = \"\\n\".join(flag_lines)\n",
    "        extra, code = extra_add(flags, code)\n",
    "        code = _from_future_import(fname_out, flags, code, to_dict)\n",
    "        if a:\n",
    "            if to_dict is None:\n",
    "                _add2all(\n",
    "                    fname_out,\n",
    "                    [f\"'{f}'\" for f in names if \".\" not in f and len(f) > 0] + extra,\n",
    "                )\n",
    "        mod.index.update({f: fname.name for f in names})\n",
    "        code = re.sub(r\" +$\", \"\", code, flags=re.MULTILINE)\n",
    "        if code != sep + orig[:-1]:\n",
    "            if to_dict is not None:\n",
    "                to_dict[e].append((i, fname, code))\n",
    "            else:\n",
    "                with open(fname_out, \"a\", encoding=\"utf8\") as f:\n",
    "                    f.write(code)\n",
    "        if f\"{e}.py\" not in mod.modules:\n",
    "            mod.modules.append(f\"{e}.py\")\n",
    "    save_nbdev_module(mod)\n",
    "\n",
    "    if not silent:\n",
    "        print(f\"Converted {fname.name}.\")\n",
    "    return to_dict"
   ]
  },
  {
   "cell_type": "code",
   "execution_count": 12,
   "metadata": {},
   "outputs": [],
   "source": [
    "# export\n",
    "\n",
    "\n",
    "@call_parse\n",
    "def sciflow_build_lib():\n",
    "    nbdev.export._notebook2script = _sciflow_notebook2script\n",
    "    notebook2script(recursive=True)"
   ]
  },
  {
   "cell_type": "code",
   "execution_count": 13,
   "metadata": {},
   "outputs": [
    {
     "name": "stdout",
     "output_type": "stream",
     "text": [
      "Converted build.ipynb.\n",
      "Converted data_handlers.ipynb.\n",
      "Converted export_named.ipynb.\n",
      "Converted index.ipynb.\n",
      "Converted metaflow.ipynb.\n",
      "Converted packaging.ipynb.\n",
      "Converted params.ipynb.\n",
      "Converted parse_module.ipynb.\n",
      "Converted scilint.ipynb.\n",
      "Converted test_export.ipynb.\n",
      "Converted test_module.ipynb.\n",
      "Warning: Exporting to \"test_module.py\" but this module is not part of this build\n"
     ]
    },
    {
     "ename": "FileNotFoundError",
     "evalue": "[Errno 2] No such file or directory: '/home/jovyan/git/sciflow/sciflow/test_module.py'",
     "output_type": "error",
     "traceback": [
      "\u001b[0;31m---------------------------------------------------------------------------\u001b[0m",
      "\u001b[0;31mFileNotFoundError\u001b[0m                         Traceback (most recent call last)",
      "\u001b[0;32m<ipython-input-13-e8dc9ce791d2>\u001b[0m in \u001b[0;36m<module>\u001b[0;34m\u001b[0m\n\u001b[0;32m----> 1\u001b[0;31m \u001b[0msciflow_build_lib\u001b[0m\u001b[0;34m(\u001b[0m\u001b[0;34m)\u001b[0m\u001b[0;34m\u001b[0m\u001b[0;34m\u001b[0m\u001b[0m\n\u001b[0m",
      "\u001b[0;32m<ipython-input-12-d617314c0522>\u001b[0m in \u001b[0;36msciflow_build_lib\u001b[0;34m()\u001b[0m\n\u001b[1;32m      5\u001b[0m \u001b[0;32mdef\u001b[0m \u001b[0msciflow_build_lib\u001b[0m\u001b[0;34m(\u001b[0m\u001b[0;34m)\u001b[0m\u001b[0;34m:\u001b[0m\u001b[0;34m\u001b[0m\u001b[0;34m\u001b[0m\u001b[0m\n\u001b[1;32m      6\u001b[0m     \u001b[0mnbdev\u001b[0m\u001b[0;34m.\u001b[0m\u001b[0mexport\u001b[0m\u001b[0;34m.\u001b[0m\u001b[0m_notebook2script\u001b[0m \u001b[0;34m=\u001b[0m \u001b[0m_sciflow_notebook2script\u001b[0m\u001b[0;34m\u001b[0m\u001b[0;34m\u001b[0m\u001b[0m\n\u001b[0;32m----> 7\u001b[0;31m     \u001b[0mnotebook2script\u001b[0m\u001b[0;34m(\u001b[0m\u001b[0mrecursive\u001b[0m\u001b[0;34m=\u001b[0m\u001b[0;32mTrue\u001b[0m\u001b[0;34m)\u001b[0m\u001b[0;34m\u001b[0m\u001b[0;34m\u001b[0m\u001b[0m\n\u001b[0m",
      "\u001b[0;32m~/envs/discovery/lib/python3.7/site-packages/nbdev/export.py\u001b[0m in \u001b[0;36mnotebook2script\u001b[0;34m(fname, silent, to_dict, bare, recursive)\u001b[0m\n\u001b[1;32m    426\u001b[0m     \u001b[0md\u001b[0m \u001b[0;34m=\u001b[0m \u001b[0mcollections\u001b[0m\u001b[0;34m.\u001b[0m\u001b[0mdefaultdict\u001b[0m\u001b[0;34m(\u001b[0m\u001b[0mlist\u001b[0m\u001b[0;34m)\u001b[0m \u001b[0;32mif\u001b[0m \u001b[0mto_dict\u001b[0m \u001b[0;32melse\u001b[0m \u001b[0;32mNone\u001b[0m\u001b[0;34m\u001b[0m\u001b[0;34m\u001b[0m\u001b[0m\n\u001b[1;32m    427\u001b[0m     \u001b[0mmodules\u001b[0m \u001b[0;34m=\u001b[0m \u001b[0mcreate_mod_files\u001b[0m\u001b[0;34m(\u001b[0m\u001b[0mfiles\u001b[0m\u001b[0;34m,\u001b[0m \u001b[0mto_dict\u001b[0m\u001b[0;34m,\u001b[0m \u001b[0mbare\u001b[0m\u001b[0;34m=\u001b[0m\u001b[0mbare\u001b[0m\u001b[0;34m)\u001b[0m\u001b[0;34m\u001b[0m\u001b[0;34m\u001b[0m\u001b[0m\n\u001b[0;32m--> 428\u001b[0;31m     \u001b[0;32mfor\u001b[0m \u001b[0mf\u001b[0m \u001b[0;32min\u001b[0m \u001b[0msorted\u001b[0m\u001b[0;34m(\u001b[0m\u001b[0mfiles\u001b[0m\u001b[0;34m)\u001b[0m\u001b[0;34m:\u001b[0m \u001b[0md\u001b[0m \u001b[0;34m=\u001b[0m \u001b[0m_notebook2script\u001b[0m\u001b[0;34m(\u001b[0m\u001b[0mf\u001b[0m\u001b[0;34m,\u001b[0m \u001b[0mmodules\u001b[0m\u001b[0;34m,\u001b[0m \u001b[0msilent\u001b[0m\u001b[0;34m=\u001b[0m\u001b[0msilent\u001b[0m\u001b[0;34m,\u001b[0m \u001b[0mto_dict\u001b[0m\u001b[0;34m=\u001b[0m\u001b[0md\u001b[0m\u001b[0;34m,\u001b[0m \u001b[0mbare\u001b[0m\u001b[0;34m=\u001b[0m\u001b[0mbare\u001b[0m\u001b[0;34m)\u001b[0m\u001b[0;34m\u001b[0m\u001b[0;34m\u001b[0m\u001b[0m\n\u001b[0m\u001b[1;32m    429\u001b[0m     \u001b[0;32mif\u001b[0m \u001b[0mto_dict\u001b[0m\u001b[0;34m:\u001b[0m \u001b[0;32mreturn\u001b[0m \u001b[0md\u001b[0m\u001b[0;34m\u001b[0m\u001b[0;34m\u001b[0m\u001b[0m\n\u001b[1;32m    430\u001b[0m     \u001b[0;32melse\u001b[0m\u001b[0;34m:\u001b[0m \u001b[0madd_init\u001b[0m\u001b[0;34m(\u001b[0m\u001b[0mConfig\u001b[0m\u001b[0;34m(\u001b[0m\u001b[0;34m)\u001b[0m\u001b[0;34m.\u001b[0m\u001b[0mpath\u001b[0m\u001b[0;34m(\u001b[0m\u001b[0;34m\"lib_path\"\u001b[0m\u001b[0;34m)\u001b[0m\u001b[0;34m)\u001b[0m\u001b[0;34m\u001b[0m\u001b[0;34m\u001b[0m\u001b[0m\n",
      "\u001b[0;32m<ipython-input-11-2e723f5297d7>\u001b[0m in \u001b[0;36m_sciflow_notebook2script\u001b[0;34m(fname, modules, silent, to_dict, bare)\u001b[0m\n\u001b[1;32m     36\u001b[0m                 _add2all(\n\u001b[1;32m     37\u001b[0m                     \u001b[0mfname_out\u001b[0m\u001b[0;34m,\u001b[0m\u001b[0;34m\u001b[0m\u001b[0;34m\u001b[0m\u001b[0m\n\u001b[0;32m---> 38\u001b[0;31m                     \u001b[0;34m[\u001b[0m\u001b[0;34mf\"'{f}'\"\u001b[0m \u001b[0;32mfor\u001b[0m \u001b[0mf\u001b[0m \u001b[0;32min\u001b[0m \u001b[0mnames\u001b[0m \u001b[0;32mif\u001b[0m \u001b[0;34m\".\"\u001b[0m \u001b[0;32mnot\u001b[0m \u001b[0;32min\u001b[0m \u001b[0mf\u001b[0m \u001b[0;32mand\u001b[0m \u001b[0mlen\u001b[0m\u001b[0;34m(\u001b[0m\u001b[0mf\u001b[0m\u001b[0;34m)\u001b[0m \u001b[0;34m>\u001b[0m \u001b[0;36m0\u001b[0m\u001b[0;34m]\u001b[0m \u001b[0;34m+\u001b[0m \u001b[0mextra\u001b[0m\u001b[0;34m,\u001b[0m\u001b[0;34m\u001b[0m\u001b[0;34m\u001b[0m\u001b[0m\n\u001b[0m\u001b[1;32m     39\u001b[0m                 )\n\u001b[1;32m     40\u001b[0m         \u001b[0mmod\u001b[0m\u001b[0;34m.\u001b[0m\u001b[0mindex\u001b[0m\u001b[0;34m.\u001b[0m\u001b[0mupdate\u001b[0m\u001b[0;34m(\u001b[0m\u001b[0;34m{\u001b[0m\u001b[0mf\u001b[0m\u001b[0;34m:\u001b[0m \u001b[0mfname\u001b[0m\u001b[0;34m.\u001b[0m\u001b[0mname\u001b[0m \u001b[0;32mfor\u001b[0m \u001b[0mf\u001b[0m \u001b[0;32min\u001b[0m \u001b[0mnames\u001b[0m\u001b[0;34m}\u001b[0m\u001b[0;34m)\u001b[0m\u001b[0;34m\u001b[0m\u001b[0;34m\u001b[0m\u001b[0m\n",
      "\u001b[0;32m~/envs/discovery/lib/python3.7/site-packages/nbdev/export.py\u001b[0m in \u001b[0;36m_add2all\u001b[0;34m(fname, names, line_width)\u001b[0m\n\u001b[1;32m    204\u001b[0m \u001b[0;32mdef\u001b[0m \u001b[0m_add2all\u001b[0m\u001b[0;34m(\u001b[0m\u001b[0mfname\u001b[0m\u001b[0;34m,\u001b[0m \u001b[0mnames\u001b[0m\u001b[0;34m,\u001b[0m \u001b[0mline_width\u001b[0m\u001b[0;34m=\u001b[0m\u001b[0;36m120\u001b[0m\u001b[0;34m)\u001b[0m\u001b[0;34m:\u001b[0m\u001b[0;34m\u001b[0m\u001b[0;34m\u001b[0m\u001b[0m\n\u001b[1;32m    205\u001b[0m     \u001b[0;32mif\u001b[0m \u001b[0mlen\u001b[0m\u001b[0;34m(\u001b[0m\u001b[0mnames\u001b[0m\u001b[0;34m)\u001b[0m \u001b[0;34m==\u001b[0m \u001b[0;36m0\u001b[0m\u001b[0;34m:\u001b[0m \u001b[0;32mreturn\u001b[0m\u001b[0;34m\u001b[0m\u001b[0;34m\u001b[0m\u001b[0m\n\u001b[0;32m--> 206\u001b[0;31m     \u001b[0;32mwith\u001b[0m \u001b[0mopen\u001b[0m\u001b[0;34m(\u001b[0m\u001b[0mfname\u001b[0m\u001b[0;34m,\u001b[0m \u001b[0;34m'r'\u001b[0m\u001b[0;34m,\u001b[0m \u001b[0mencoding\u001b[0m\u001b[0;34m=\u001b[0m\u001b[0;34m'utf8'\u001b[0m\u001b[0;34m)\u001b[0m \u001b[0;32mas\u001b[0m \u001b[0mf\u001b[0m\u001b[0;34m:\u001b[0m \u001b[0mtext\u001b[0m \u001b[0;34m=\u001b[0m \u001b[0mf\u001b[0m\u001b[0;34m.\u001b[0m\u001b[0mread\u001b[0m\u001b[0;34m(\u001b[0m\u001b[0;34m)\u001b[0m\u001b[0;34m\u001b[0m\u001b[0;34m\u001b[0m\u001b[0m\n\u001b[0m\u001b[1;32m    207\u001b[0m     \u001b[0mtw\u001b[0m \u001b[0;34m=\u001b[0m \u001b[0mTextWrapper\u001b[0m\u001b[0;34m(\u001b[0m\u001b[0mwidth\u001b[0m\u001b[0;34m=\u001b[0m\u001b[0;36m120\u001b[0m\u001b[0;34m,\u001b[0m \u001b[0minitial_indent\u001b[0m\u001b[0;34m=\u001b[0m\u001b[0;34m''\u001b[0m\u001b[0;34m,\u001b[0m \u001b[0msubsequent_indent\u001b[0m\u001b[0;34m=\u001b[0m\u001b[0;34m' '\u001b[0m\u001b[0;34m*\u001b[0m\u001b[0;36m11\u001b[0m\u001b[0;34m,\u001b[0m \u001b[0mbreak_long_words\u001b[0m\u001b[0;34m=\u001b[0m\u001b[0;32mFalse\u001b[0m\u001b[0;34m)\u001b[0m\u001b[0;34m\u001b[0m\u001b[0;34m\u001b[0m\u001b[0m\n\u001b[1;32m    208\u001b[0m     \u001b[0mre_all\u001b[0m \u001b[0;34m=\u001b[0m \u001b[0m_re__all__def\u001b[0m\u001b[0;34m.\u001b[0m\u001b[0msearch\u001b[0m\u001b[0;34m(\u001b[0m\u001b[0mtext\u001b[0m\u001b[0;34m)\u001b[0m\u001b[0;34m\u001b[0m\u001b[0;34m\u001b[0m\u001b[0m\n",
      "\u001b[0;31mFileNotFoundError\u001b[0m: [Errno 2] No such file or directory: '/home/jovyan/git/sciflow/sciflow/test_module.py'"
     ]
    }
   ],
   "source": [
    "sciflow_build_lib()"
   ]
  },
  {
   "cell_type": "code",
   "execution_count": null,
   "metadata": {},
   "outputs": [],
   "source": []
  }
 ],
 "metadata": {
  "kernelspec": {
   "display_name": "Python [conda env:jovyan-discovery]",
   "language": "python",
   "name": "conda-env-jovyan-discovery-py"
  },
  "language_info": {
   "codemirror_mode": {
    "name": "ipython",
    "version": 3
   },
   "file_extension": ".py",
   "mimetype": "text/x-python",
   "name": "python",
   "nbconvert_exporter": "python",
   "pygments_lexer": "ipython3",
   "version": "3.7.10"
  }
 },
 "nbformat": 4,
 "nbformat_minor": 4
}
