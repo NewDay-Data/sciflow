{
 "cells": [
  {
   "cell_type": "code",
   "execution_count": 1,
   "metadata": {},
   "outputs": [],
   "source": [
    "# hide\n",
    "# default_exp params"
   ]
  },
  {
   "cell_type": "markdown",
   "metadata": {},
   "source": [
    "# Notebook Parameter Management\n",
    "\n",
    "Parameterised notebooks can be used to:\n",
    "\n",
    "* Parallelise your workflow: run the notebook you are working on but with a different parameter set\n",
    "* Different context: execute from a script or scheduled job instead of the Web Browser. "
   ]
  },
  {
   "cell_type": "code",
   "execution_count": 6,
   "metadata": {},
   "outputs": [],
   "source": [
    "# export\n",
    "\n",
    "from io import StringIO\n",
    "from pathlib import Path\n",
    "from typing import Iterable\n",
    "import os\n",
    "\n",
    "import nbformat\n",
    "from nbdev.export import Config, find_default_export, nbglob, read_nb\n",
    "from nbformat.notebooknode import NotebookNode"
   ]
  },
  {
   "cell_type": "code",
   "execution_count": 7,
   "metadata": {},
   "outputs": [
    {
     "name": "stdout",
     "output_type": "stream",
     "text": [
      "The autoreload extension is already loaded. To reload it, use:\n",
      "  %reload_ext autoreload\n"
     ]
    }
   ],
   "source": [
    "%load_ext autoreload\n",
    "%autoreload 2"
   ]
  },
  {
   "cell_type": "code",
   "execution_count": 8,
   "metadata": {},
   "outputs": [],
   "source": [
    "# export\n",
    "\n",
    "\n",
    "def find_params_cell(nb: NotebookNode):\n",
    "    params_cell = [c for c in nb[\"cells\"] if c[\"metadata\"] == {\"tags\": [\"parameters\"]}]\n",
    "    return params_cell"
   ]
  },
  {
   "cell_type": "code",
   "execution_count": 9,
   "metadata": {},
   "outputs": [],
   "source": [
    "test_nb = os.path.join(Path(\".\").resolve(), \"test\", \"test_export.ipynb\")"
   ]
  },
  {
   "cell_type": "code",
   "execution_count": 10,
   "metadata": {},
   "outputs": [],
   "source": [
    "assert len(find_params_cell(read_nb(Path(test_nb)))) == 1\n",
    "assert len(find_params_cell(read_nb(Path(\"index.ipynb\")))) == 0"
   ]
  },
  {
   "cell_type": "code",
   "execution_count": 11,
   "metadata": {},
   "outputs": [],
   "source": [
    "# export\n",
    "\n",
    "\n",
    "def extract_params(nb: NotebookNode):\n",
    "    params_cell = find_params_cell(nb)\n",
    "    return params_cell[0][\"source\"] if len(params_cell) > 0 else None"
   ]
  },
  {
   "cell_type": "code",
   "execution_count": 12,
   "metadata": {},
   "outputs": [
    {
     "name": "stdout",
     "output_type": "stream",
     "text": [
      "# export\n",
      "\n",
      "# TODO: only dealing with simple params for now - scalars & string values\n",
      "some_params = len([1, 2, 3])\n",
      "some_param = \"test\"\n",
      "input_path = str(Path(\".\").resolve())\n",
      "model_path = str(Path(\".\").resolve().parent)\n"
     ]
    }
   ],
   "source": [
    "print(extract_params(read_nb(Path(test_nb))))"
   ]
  },
  {
   "cell_type": "code",
   "execution_count": 13,
   "metadata": {},
   "outputs": [],
   "source": [
    "params_code = extract_params(read_nb(Path(test_nb)))\n",
    "assert params_code.startswith(\"# export\")\n",
    "assert \"some_param\" in params_code\n",
    "assert \"some_params\" in params_code\n",
    "assert \"input_path\" in params_code\n",
    "assert \"model_path\" in params_code"
   ]
  },
  {
   "cell_type": "code",
   "execution_count": 14,
   "metadata": {},
   "outputs": [],
   "source": [
    "# export\n",
    "\n",
    "DEFAULT_PARAMS_CELL = {\n",
    "    \"cell_type\": \"code\",\n",
    "    \"execution_count\": None,\n",
    "    \"metadata\": {\"tags\": [\"parameters\"]},\n",
    "    \"outputs\": [],\n",
    "    \"source\": \"# parameters\\n\",\n",
    "}"
   ]
  },
  {
   "cell_type": "code",
   "execution_count": 15,
   "metadata": {},
   "outputs": [],
   "source": [
    "# export\n",
    "\n",
    "\n",
    "def add_missing_params_cell(nb_path: Path, persist: bool = True):\n",
    "    nb = read_nb(nb_path)\n",
    "    if len(find_params_cell(nb)) > 0:\n",
    "        print(f\"Skipping {nb_path} already has parameters cell\")\n",
    "        return\n",
    "    nb[\"cells\"].insert(0, nbformat.from_dict(DEFAULT_PARAMS_CELL))\n",
    "    if persist:\n",
    "        nbformat.write(nb, nb_path)\n",
    "    return nb"
   ]
  },
  {
   "cell_type": "code",
   "execution_count": 16,
   "metadata": {},
   "outputs": [
    {
     "name": "stdout",
     "output_type": "stream",
     "text": [
      "Skipping /home/jovyan/git/sciflow/examples/top2vec.ipynb already has parameters cell\n"
     ]
    }
   ],
   "source": [
    "with_params = os.path.join(Path(\".\").resolve().parent, \"examples\", \"top2vec.ipynb\")\n",
    "without_params = os.path.join(\n",
    "    Path(\".\").resolve().parent, \"examples\", \"top2vec-no-params.ipynb\"\n",
    ")\n",
    "\n",
    "add_missing_params_cell(with_params, False)\n",
    "assert len(find_params_cell(read_nb(without_params))) == 0\n",
    "parameterised_nb = add_missing_params_cell(without_params, False)\n",
    "assert len(find_params_cell(parameterised_nb)) == 1"
   ]
  },
  {
   "cell_type": "code",
   "execution_count": 17,
   "metadata": {},
   "outputs": [],
   "source": [
    "# export\n",
    "\n",
    "\n",
    "def extract_params_to_file(nb_path: Path, params_file_path: Path):\n",
    "    params_code = extract_params(read_nb(Path(test_nb)))\n",
    "    with open(params_file_path, \"w\") as params_file:\n",
    "        params_file.writelines(params_code)"
   ]
  },
  {
   "cell_type": "code",
   "execution_count": 20,
   "metadata": {},
   "outputs": [],
   "source": [
    "extract_params_to_file(\n",
    "    test_nb, os.path.join(Config().path(\"lib_path\"), \"test_export_params.py\")\n",
    ")"
   ]
  },
  {
   "cell_type": "code",
   "execution_count": 21,
   "metadata": {},
   "outputs": [],
   "source": [
    "# export\n",
    "\n",
    "\n",
    "def list_mod_files(files):\n",
    "    modules = []\n",
    "    for f in files:\n",
    "        fname = Path(f)\n",
    "        nb = read_nb(fname)\n",
    "        default = find_default_export(nb[\"cells\"])\n",
    "        if default is not None:\n",
    "            default = os.path.sep.join(default.split(\".\"))\n",
    "            modules.append(default)\n",
    "    return modules"
   ]
  },
  {
   "cell_type": "code",
   "execution_count": 22,
   "metadata": {},
   "outputs": [],
   "source": [
    "# export\n",
    "\n",
    "\n",
    "def extract_as_files(suffix=\"_params.py\"):\n",
    "    nbs = nbglob(recursive=True)\n",
    "    param_files = list_mod_files(nbs)\n",
    "    params_files = [\n",
    "        Path(os.path.join(Config().path(\"lib_path\"), pf + suffix)) for pf in param_files\n",
    "    ]\n",
    "    for nb_path, pf_path in zip(nbs, params_files):\n",
    "        extract_params_to_file(nb_path, pf_path)"
   ]
  },
  {
   "cell_type": "code",
   "execution_count": 23,
   "metadata": {},
   "outputs": [],
   "source": [
    "# exporti\n",
    "\n",
    "\n",
    "def _lines_to_dict(lines: Iterable[str]):\n",
    "    result = {}\n",
    "    for line in lines:\n",
    "        if line.startswith(\"#\") or not \"=\" in line:\n",
    "            continue\n",
    "        (key, val) = line.split(\"=\")\n",
    "        result[key.strip()] = val.strip('\\n \"')\n",
    "    return result"
   ]
  },
  {
   "cell_type": "code",
   "execution_count": 24,
   "metadata": {},
   "outputs": [],
   "source": [
    "# export\n",
    "\n",
    "\n",
    "def extract_params_as_dict(params_file_path: Path):\n",
    "    params = {}\n",
    "    with open(params_file_path, \"r\") as params_file:\n",
    "        params = _lines_to_dict(params_file.readlines())\n",
    "    return params"
   ]
  },
  {
   "cell_type": "code",
   "execution_count": 25,
   "metadata": {},
   "outputs": [],
   "source": [
    "params_dict = extract_params_as_dict(\n",
    "    os.path.join(Config().path(\"lib_path\"), \"test_export_params.py\")\n",
    ")\n",
    "tup = tuple(params_dict.keys())"
   ]
  },
  {
   "cell_type": "code",
   "execution_count": 26,
   "metadata": {},
   "outputs": [],
   "source": [
    "# export\n",
    "\n",
    "\n",
    "def params_as_dict(nb_path: Path):\n",
    "    params_code = extract_params(read_nb(nb_path))\n",
    "    params = _lines_to_dict(StringIO(params_code).readlines())\n",
    "    return params"
   ]
  },
  {
   "cell_type": "code",
   "execution_count": 28,
   "metadata": {},
   "outputs": [],
   "source": [
    "assert [\"input_path\", \"model_path\", \"some_param\", \"some_params\"] == list(\n",
    "    sorted(params_as_dict(test_nb).keys())\n",
    ")"
   ]
  },
  {
   "cell_type": "code",
   "execution_count": null,
   "metadata": {},
   "outputs": [],
   "source": []
  }
 ],
 "metadata": {
  "kernelspec": {
   "display_name": "Python [conda env:jovyan-discovery]",
   "language": "python",
   "name": "conda-env-jovyan-discovery-py"
  },
  "language_info": {
   "codemirror_mode": {
    "name": "ipython",
    "version": 3
   },
   "file_extension": ".py",
   "mimetype": "text/x-python",
   "name": "python",
   "nbconvert_exporter": "python",
   "pygments_lexer": "ipython3",
   "version": "3.7.10"
  }
 },
 "nbformat": 4,
 "nbformat_minor": 4
}
