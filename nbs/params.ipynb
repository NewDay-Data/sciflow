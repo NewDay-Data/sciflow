{
 "cells": [
  {
   "cell_type": "raw",
   "metadata": {},
   "source": [
    "---\n",
    "output-file: params.html\n",
    "title: Notebook Parameter Management\n",
    "\n",
    "---\n",
    "\n"
   ]
  },
  {
   "cell_type": "code",
   "execution_count": null,
   "metadata": {},
   "outputs": [],
   "source": [
    "# | include: false\n",
    "# | default_exp params"
   ]
  },
  {
   "cell_type": "markdown",
   "metadata": {},
   "source": [
    "# Imports"
   ]
  },
  {
   "cell_type": "code",
   "execution_count": null,
   "metadata": {},
   "outputs": [],
   "source": [
    "# | export\n",
    "\n",
    "import os\n",
    "import sys\n",
    "from dataclasses import dataclass\n",
    "from importlib import import_module\n",
    "from io import StringIO\n",
    "from pathlib import Path\n",
    "from typing import Any, Dict, Iterable, List\n",
    "\n",
    "import nbformat\n",
    "import numpy as np\n",
    "import pandas as pd\n",
    "from execnb.nbio import read_nb\n",
    "from nbdev.config import get_config\n",
    "from nbdev.doclinks import nbglob\n",
    "from nbformat.notebooknode import NotebookNode"
   ]
  },
  {
   "cell_type": "code",
   "execution_count": null,
   "metadata": {},
   "outputs": [],
   "source": [
    "%load_ext autoreload\n",
    "%autoreload 2"
   ]
  },
  {
   "cell_type": "markdown",
   "metadata": {
    "tags": []
   },
   "source": [
    "# Basic Papermill Params Utilities"
   ]
  },
  {
   "cell_type": "markdown",
   "metadata": {},
   "source": [
    "## `find_params_cell`"
   ]
  },
  {
   "cell_type": "code",
   "execution_count": null,
   "metadata": {},
   "outputs": [],
   "source": [
    "# | export\n",
    "\n",
    "\n",
    "def find_params_cell(nb: NotebookNode):\n",
    "    params_cell = [c for c in nb[\"cells\"] if c[\"metadata\"] == {\"tags\": [\"parameters\"]}]\n",
    "    return params_cell"
   ]
  },
  {
   "cell_type": "code",
   "execution_count": null,
   "metadata": {},
   "outputs": [],
   "source": [
    "test_nb = os.path.join(Path(\".\").resolve(), \"test\", \"test_export.ipynb\")"
   ]
  },
  {
   "cell_type": "code",
   "execution_count": null,
   "metadata": {},
   "outputs": [],
   "source": [
    "assert len(find_params_cell(read_nb(Path(test_nb)))) == 1\n",
    "assert len(find_params_cell(read_nb(Path(\"index.ipynb\")))) == 0"
   ]
  },
  {
   "cell_type": "code",
   "execution_count": null,
   "metadata": {},
   "outputs": [],
   "source": [
    "# | export\n",
    "\n",
    "DEFAULT_PARAMS_CELL = {\n",
    "    \"cell_type\": \"code\",\n",
    "    \"execution_count\": None,\n",
    "    \"metadata\": {\"tags\": [\"parameters\"]},\n",
    "    \"outputs\": [],\n",
    "    \"source\": \"# parameters\\n\",\n",
    "}"
   ]
  },
  {
   "cell_type": "markdown",
   "metadata": {},
   "source": [
    "## `add_missing_params_cell`"
   ]
  },
  {
   "cell_type": "code",
   "execution_count": null,
   "metadata": {},
   "outputs": [],
   "source": [
    "# | export\n",
    "\n",
    "\n",
    "def add_missing_params_cell(nb_path: Path, persist: bool = True):\n",
    "    nb = read_nb(nb_path)\n",
    "    if len(find_params_cell(nb)) > 0:\n",
    "        print(f\"Skipping {nb_path} already has parameters cell\")\n",
    "        return\n",
    "    nb[\"cells\"].insert(0, nbformat.from_dict(DEFAULT_PARAMS_CELL))\n",
    "    if persist:\n",
    "        nbformat.write(nb, nb_path)\n",
    "    return nb"
   ]
  },
  {
   "cell_type": "code",
   "execution_count": null,
   "metadata": {},
   "outputs": [
    {
     "name": "stdout",
     "output_type": "stream",
     "text": [
      "Skipping /home/sagemaker-user/git/sciflow/nbs/test/test_multistep.ipynb already has parameters cell\n"
     ]
    }
   ],
   "source": [
    "with_params = os.path.join(Path(\".\").resolve(), \"test\", \"test_multistep.ipynb\")\n",
    "without_params = os.path.join(\n",
    "    Path(\".\").resolve(), \"test\", \"test_multistep_no_params.ipynb\"\n",
    ")\n",
    "\n",
    "add_missing_params_cell(with_params, False)\n",
    "assert len(find_params_cell(read_nb(without_params))) == 0\n",
    "parameterised_nb = add_missing_params_cell(without_params, False)\n",
    "assert len(find_params_cell(parameterised_nb)) == 1"
   ]
  },
  {
   "cell_type": "markdown",
   "metadata": {},
   "source": [
    "# Parameter Extraction"
   ]
  },
  {
   "cell_type": "markdown",
   "metadata": {},
   "source": [
    "## `extract_params`"
   ]
  },
  {
   "cell_type": "code",
   "execution_count": null,
   "metadata": {},
   "outputs": [],
   "source": [
    "# | export\n",
    "\n",
    "\n",
    "def extract_params(nb: NotebookNode):\n",
    "    params_cell = find_params_cell(nb)\n",
    "    return params_cell[0][\"source\"] if len(params_cell) > 0 else None"
   ]
  },
  {
   "cell_type": "code",
   "execution_count": null,
   "metadata": {},
   "outputs": [],
   "source": [
    "params_code = extract_params(read_nb(Path(test_nb)))\n",
    "assert params_code.replace(\" \", \"\").startswith(\"#|export\")\n",
    "assert \"some_param\" in params_code\n",
    "assert \"some_params\" in params_code\n",
    "assert \"input_path\" in params_code\n",
    "assert \"model_path\" in params_code"
   ]
  },
  {
   "cell_type": "markdown",
   "metadata": {},
   "source": [
    "## `extract_params_to_file`"
   ]
  },
  {
   "cell_type": "code",
   "execution_count": null,
   "metadata": {},
   "outputs": [],
   "source": [
    "# | export\n",
    "\n",
    "\n",
    "def extract_params_to_file(nb_path: Path, params_file_path: Path):\n",
    "    params_code = extract_params(read_nb(Path(test_nb)))\n",
    "    with open(params_file_path, \"w\") as params_file:\n",
    "        params_file.writelines(params_code)"
   ]
  },
  {
   "cell_type": "code",
   "execution_count": null,
   "metadata": {},
   "outputs": [],
   "source": [
    "extract_params_to_file(\n",
    "    test_nb,\n",
    "    os.path.join(get_config().path(\"lib_path\"), \"test\", \"test_export_params.py\"),\n",
    ")"
   ]
  },
  {
   "cell_type": "markdown",
   "metadata": {},
   "source": [
    "## `list_mod_files`"
   ]
  },
  {
   "cell_type": "code",
   "execution_count": null,
   "metadata": {},
   "outputs": [],
   "source": [
    "# | export\n",
    "\n",
    "\n",
    "def list_mod_files(files):\n",
    "    modules = []\n",
    "    for f in files:\n",
    "        fname = Path(f)\n",
    "        nb = read_nb(fname)\n",
    "        default = find_default_export(nb[\"cells\"])\n",
    "        if default is not None:\n",
    "            default = os.path.sep.join(default.split(\".\"))\n",
    "            modules.append(default)\n",
    "    return modules"
   ]
  },
  {
   "cell_type": "markdown",
   "metadata": {},
   "source": [
    "## `extract_params_to_file`"
   ]
  },
  {
   "cell_type": "code",
   "execution_count": null,
   "metadata": {},
   "outputs": [],
   "source": [
    "# | export\n",
    "\n",
    "\n",
    "def extract_as_files(suffix=\"_params.py\"):\n",
    "    nbs = nbglob(recursive=True)\n",
    "    param_files = list_mod_files(nbs)\n",
    "    params_files = [\n",
    "        Path(os.path.join(get_config().path(\"lib_path\"), pf + suffix))\n",
    "        for pf in param_files\n",
    "    ]\n",
    "    for nb_path, pf_path in zip(nbs, params_files):\n",
    "        extract_params_to_file(nb_path, pf_path)"
   ]
  },
  {
   "cell_type": "markdown",
   "metadata": {},
   "source": [
    "## `_lines_to_dict`"
   ]
  },
  {
   "cell_type": "code",
   "execution_count": null,
   "metadata": {
    "tags": []
   },
   "outputs": [
    {
     "ename": "NameError",
     "evalue": "name 'Iterable' is not defined",
     "output_type": "error",
     "traceback": [
      "\u001b[0;31m---------------------------------------------------------------------------\u001b[0m",
      "\u001b[0;31mNameError\u001b[0m                                 Traceback (most recent call last)",
      "Cell \u001b[0;32mIn[2], line 4\u001b[0m\n\u001b[1;32m      1\u001b[0m \u001b[38;5;66;03m# | exporti\u001b[39;00m\n\u001b[0;32m----> 4\u001b[0m \u001b[38;5;28;01mdef\u001b[39;00m \u001b[38;5;21m_lines_to_dict\u001b[39m(lines: \u001b[43mIterable\u001b[49m[\u001b[38;5;28mstr\u001b[39m]):\n\u001b[1;32m      5\u001b[0m     result \u001b[38;5;241m=\u001b[39m {}\n\u001b[1;32m      6\u001b[0m     \u001b[38;5;28;01mfor\u001b[39;00m line \u001b[38;5;129;01min\u001b[39;00m lines:\n",
      "\u001b[0;31mNameError\u001b[0m: name 'Iterable' is not defined"
     ]
    }
   ],
   "source": [
    "# | exporti\n",
    "\n",
    "\n",
    "def _lines_to_dict(lines: Iterable[str]):\n",
    "    result = {}\n",
    "    for line in lines:\n",
    "        if line.startswith(\"#\") or not \"=\" in line:\n",
    "            continue\n",
    "        (key, val) = line.split(\"=\")\n",
    "        result[key.strip()] = val.strip('\\n \"')\n",
    "    return result"
   ]
  },
  {
   "cell_type": "markdown",
   "metadata": {},
   "source": [
    "## `extract_params_as_dict`"
   ]
  },
  {
   "cell_type": "code",
   "execution_count": null,
   "metadata": {},
   "outputs": [],
   "source": [
    "# | export\n",
    "\n",
    "\n",
    "def extract_params_as_dict(params_file_path: Path):\n",
    "    params = {}\n",
    "    with open(params_file_path, \"r\") as params_file:\n",
    "        params = _lines_to_dict(params_file.readlines())\n",
    "    return params"
   ]
  },
  {
   "cell_type": "code",
   "execution_count": null,
   "metadata": {},
   "outputs": [],
   "source": [
    "params_dict = extract_params_as_dict(\n",
    "    os.path.join(get_config().path(\"lib_path\"), \"test\", \"test_export_params.py\")\n",
    ")\n",
    "tup = tuple(params_dict.keys())"
   ]
  },
  {
   "cell_type": "markdown",
   "metadata": {},
   "source": [
    "## `params_as_dict`"
   ]
  },
  {
   "cell_type": "code",
   "execution_count": null,
   "metadata": {},
   "outputs": [],
   "source": [
    "# | export\n",
    "\n",
    "\n",
    "def params_as_dict(nb_path: Path):\n",
    "    params_code = extract_params(read_nb(nb_path))\n",
    "    params = _lines_to_dict(StringIO(params_code).readlines())\n",
    "    return params"
   ]
  },
  {
   "cell_type": "code",
   "execution_count": null,
   "metadata": {
    "tags": []
   },
   "outputs": [],
   "source": [
    "assert [\"input_path\", \"model_path\", \"some_param\", \"some_params\"] == list(\n",
    "    sorted(params_as_dict(test_nb).keys())\n",
    ")"
   ]
  },
  {
   "cell_type": "code",
   "execution_count": null,
   "metadata": {
    "tags": []
   },
   "outputs": [
    {
     "data": {
      "text/plain": [
       "{'some_params': 'len([1, 2, 3])',\n",
       " 'some_param': 'test',\n",
       " 'input_path': 'str(Path(\".\").resolve())',\n",
       " 'model_path': 'str(Path(\".\").resolve().parent)'}"
      ]
     },
     "execution_count": null,
     "metadata": {},
     "output_type": "execute_result"
    }
   ],
   "source": [
    "params_as_dict(test_nb)"
   ]
  },
  {
   "cell_type": "markdown",
   "metadata": {},
   "source": [
    "# Parameter Data-types & Metadata"
   ]
  },
  {
   "cell_type": "markdown",
   "metadata": {},
   "source": [
    "## Supported data types"
   ]
  },
  {
   "cell_type": "code",
   "execution_count": null,
   "metadata": {
    "tags": []
   },
   "outputs": [],
   "source": [
    "# | export\n",
    "\n",
    "supported_parameters = (str, int, float)\n",
    "supported_args = (Dict, List)\n",
    "supported_conversion_args = (pd.Series, pd.DataFrame, np.ndarray, Path)\n",
    "suppported_types = []\n",
    "suppported_types.extend(supported_parameters)\n",
    "suppported_types.extend(supported_args)\n",
    "suppported_types.extend(supported_conversion_args)"
   ]
  },
  {
   "cell_type": "markdown",
   "metadata": {},
   "source": [
    "## `ParamMeta` class"
   ]
  },
  {
   "cell_type": "code",
   "execution_count": null,
   "metadata": {
    "tags": []
   },
   "outputs": [],
   "source": [
    "# | export\n",
    "\n",
    "\n",
    "@dataclass\n",
    "class ParamMeta:\n",
    "    instance_type: type\n",
    "    is_scalar: bool\n",
    "    is_json_type: bool\n",
    "    persist_type: str\n",
    "    has_metaflow_param: bool\n",
    "    has_sagemaker_param: bool"
   ]
  },
  {
   "cell_type": "markdown",
   "metadata": {},
   "source": [
    "## `load_module`"
   ]
  },
  {
   "cell_type": "code",
   "execution_count": null,
   "metadata": {
    "tags": []
   },
   "outputs": [],
   "source": [
    "# | export\n",
    "\n",
    "\n",
    "def load_module(fully_qualified_module_name):\n",
    "    root_path = str(get_config().path(\"root_path\"))\n",
    "    if not root_path in sys.path:\n",
    "        sys.path.append(root_path)\n",
    "    package = \".\".join(fully_qualified_module_name.split(\".\")[:-1])\n",
    "    fully_qualified_module_name.split(\".\")[-1]\n",
    "    module = import_module(fully_qualified_module_name, package)\n",
    "    return module"
   ]
  },
  {
   "cell_type": "code",
   "execution_count": null,
   "metadata": {
    "tags": []
   },
   "outputs": [],
   "source": [
    "fully_qualified_module_name = \"sciflow.test.test_data_handling\""
   ]
  },
  {
   "cell_type": "code",
   "execution_count": null,
   "metadata": {
    "tags": []
   },
   "outputs": [
    {
     "data": {
      "text/plain": [
       "'test_data_handling'"
      ]
     },
     "execution_count": null,
     "metadata": {},
     "output_type": "execute_result"
    }
   ],
   "source": [
    "root_path = str(get_config().path(\"root_path\"))\n",
    "if not root_path in sys.path:\n",
    "    sys.path.append(root_path)\n",
    "package = \".\".join(fully_qualified_module_name.split(\".\")[:-1])\n",
    "fully_qualified_module_name.split(\".\")[-1]"
   ]
  },
  {
   "cell_type": "code",
   "execution_count": null,
   "metadata": {
    "tags": []
   },
   "outputs": [],
   "source": [
    "assert load_module(\"sciflow.test.test_data_handling\").int_param == 3\n",
    "assert load_module(\"sciflow.test.test_data_handling\").float_param == 1.1\n",
    "assert type(load_module(\"sciflow.test.test_data_handling\").series_param) == pd.Series\n",
    "assert load_module(\"sciflow.test.test_multistep\").traffic_percent == 1\n",
    "assert load_module(\"sciflow.test.test_multistep_no_params\").traffic_percent == 1\n",
    "assert load_module(\"sciflow.test.test_export\").some_param == \"test\"\n",
    "assert load_module(\"sciflow.test.test_export\").some_params == 3\n",
    "assert load_module(\"sciflow.test.test_module\").some_param == 2"
   ]
  },
  {
   "cell_type": "markdown",
   "metadata": {},
   "source": [
    "## `extract_param_meta`"
   ]
  },
  {
   "cell_type": "code",
   "execution_count": null,
   "metadata": {
    "tags": []
   },
   "outputs": [],
   "source": [
    "# | export\n",
    "\n",
    "\n",
    "def extract_param_meta(module_name: str, params: Dict[str, Any]):\n",
    "    module = load_module(module_name)\n",
    "    param_vals = {}\n",
    "    for k in params.keys():\n",
    "        param_vals[k] = getattr(module, k)\n",
    "    param_meta = {}\n",
    "\n",
    "    for key, val in param_vals.items():\n",
    "        if any([isinstance(val, t) for t in supported_parameters]):\n",
    "            param_meta[key] = ParamMeta(\n",
    "                instance_type=type(val),\n",
    "                is_scalar=True,\n",
    "                is_json_type=False,\n",
    "                persist_type=\"pickle\",\n",
    "                has_metaflow_param=True,\n",
    "                has_sagemaker_param=True,\n",
    "            )\n",
    "        elif any([isinstance(val, t) for t in supported_args]):\n",
    "            param_meta[key] = ParamMeta(\n",
    "                instance_type=type(val),\n",
    "                is_scalar=False,\n",
    "                is_json_type=True,\n",
    "                persist_type=\"pickle\",\n",
    "                has_metaflow_param=True,\n",
    "                has_sagemaker_param=False,\n",
    "            )\n",
    "        elif any([isinstance(val, t) for t in supported_conversion_args]):\n",
    "            if isinstance(val, np.ndarray):\n",
    "                param_meta[key] = ParamMeta(\n",
    "                    instance_type=type(val),\n",
    "                    is_scalar=False,\n",
    "                    is_json_type=False,\n",
    "                    persist_type=\"numpy\",\n",
    "                    has_metaflow_param=False,\n",
    "                    has_sagemaker_param=False,\n",
    "                )\n",
    "            elif isinstance(val, pd.Series) or isinstance(val, pd.DataFrame):\n",
    "                param_meta[key] = ParamMeta(\n",
    "                    instance_type=type(val),\n",
    "                    is_scalar=False,\n",
    "                    is_json_type=False,\n",
    "                    persist_type=\"pandas\",\n",
    "                    has_metaflow_param=False,\n",
    "                    has_sagemaker_param=False,\n",
    "                )\n",
    "            elif isinstance(val, Path):\n",
    "                param_meta[key] = ParamMeta(\n",
    "                    instance_type=type(val),\n",
    "                    is_scalar=False,\n",
    "                    is_json_type=False,\n",
    "                    persist_type=\"pickle\",\n",
    "                    has_metaflow_param=True,\n",
    "                    has_sagemaker_param=False,\n",
    "                )\n",
    "        else:\n",
    "            param_meta[key] = ParamMeta(\n",
    "                instance_type=type(val),\n",
    "                is_scalar=False,\n",
    "                is_json_type=False,\n",
    "                persist_type=\"unsupported\",\n",
    "                has_metaflow_param=False,\n",
    "                has_sagemaker_param=False,\n",
    "            )\n",
    "    return param_meta"
   ]
  },
  {
   "cell_type": "code",
   "execution_count": null,
   "metadata": {
    "tags": []
   },
   "outputs": [],
   "source": [
    "nb_path = os.path.join(Path(\".\").resolve(), \"test\", \"test_data_handling.ipynb\")\n",
    "params = params_as_dict(nb_path)\n",
    "param_meta = extract_param_meta(\"sciflow.test.test_data_handling\", params)"
   ]
  },
  {
   "cell_type": "code",
   "execution_count": null,
   "metadata": {
    "tags": []
   },
   "outputs": [],
   "source": [
    "from pathlib import PosixPath"
   ]
  },
  {
   "cell_type": "code",
   "execution_count": null,
   "metadata": {
    "tags": []
   },
   "outputs": [],
   "source": [
    "assert all(\n",
    "    [\n",
    "        param_meta[\"int_param\"].instance_type == int,\n",
    "        param_meta[\"float_param\"].instance_type == float,\n",
    "        param_meta[\"str_param\"].instance_type == str,\n",
    "        param_meta[\"input_path\"].instance_type == PosixPath,\n",
    "        param_meta[\"model_path\"].instance_type == PosixPath,\n",
    "        param_meta[\"dict_param\"].instance_type == dict,\n",
    "        param_meta[\"list_param\"].instance_type == list,\n",
    "        param_meta[\"series_param\"].instance_type == pd.Series,\n",
    "        param_meta[\"df_param\"].instance_type == pd.DataFrame,\n",
    "    ]\n",
    ")"
   ]
  },
  {
   "cell_type": "code",
   "execution_count": null,
   "metadata": {
    "tags": []
   },
   "outputs": [],
   "source": [
    "assert param_meta[\"int_param\"].has_metaflow_param\n",
    "assert param_meta[\"int_param\"].has_sagemaker_param\n",
    "assert param_meta[\"str_param\"].has_metaflow_param\n",
    "assert param_meta[\"str_param\"].has_sagemaker_param\n",
    "assert param_meta[\"float_param\"].has_metaflow_param\n",
    "assert param_meta[\"float_param\"].has_sagemaker_param"
   ]
  },
  {
   "cell_type": "code",
   "execution_count": null,
   "metadata": {
    "tags": []
   },
   "outputs": [],
   "source": [
    "assert param_meta[\"list_param\"].has_metaflow_param\n",
    "assert not param_meta[\"list_param\"].has_sagemaker_param\n",
    "assert param_meta[\"dict_param\"].has_metaflow_param\n",
    "assert not param_meta[\"dict_param\"].has_sagemaker_param\n",
    "assert param_meta[\"input_path\"].has_metaflow_param\n",
    "assert not param_meta[\"input_path\"].has_sagemaker_param"
   ]
  },
  {
   "cell_type": "code",
   "execution_count": null,
   "metadata": {
    "tags": []
   },
   "outputs": [
    {
     "data": {
      "text/plain": [
       "dict_keys(['traffic_percent', 'workers', 'model_level', 'min_date'])"
      ]
     },
     "execution_count": null,
     "metadata": {},
     "output_type": "execute_result"
    }
   ],
   "source": [
    "nb_path = Path(Path(\".\").resolve(), \"test\", \"test_multistep.ipynb\")\n",
    "params = params_as_dict(nb_path)\n",
    "param_meta = extract_param_meta(\"sciflow.test.test_multistep\", params)\n",
    "param_meta.keys()"
   ]
  }
 ],
 "metadata": {
  "kernelspec": {
   "display_name": "python3__SAGEMAKER_INTERNAL__arn:aws:sagemaker:eu-west-1:819792524951:image/sagemaker-distribution-cpu-v0",
   "language": "python",
   "name": "python3__SAGEMAKER_INTERNAL__arn:aws:sagemaker:eu-west-1:819792524951:image/sagemaker-distribution-cpu-v0"
  }
 },
 "nbformat": 4,
 "nbformat_minor": 4
}
