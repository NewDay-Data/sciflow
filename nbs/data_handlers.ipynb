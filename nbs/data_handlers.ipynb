{
 "cells": [
  {
   "cell_type": "markdown",
   "metadata": {},
   "source": [
    "# Add a file for tracking"
   ]
  },
  {
   "cell_type": "markdown",
   "metadata": {},
   "source": [
    "`dvc add test/test_dag.gml`"
   ]
  },
  {
   "cell_type": "markdown",
   "metadata": {},
   "source": [
    "# Creates a .dvc file"
   ]
  },
  {
   "cell_type": "markdown",
   "metadata": {},
   "source": [
    "`data.xml.dvc`"
   ]
  },
  {
   "cell_type": "markdown",
   "metadata": {},
   "source": [
    "# Ignore this in .igitignore"
   ]
  },
  {
   "cell_type": "markdown",
   "metadata": {},
   "source": [
    "* `git add data/data.xml.dvc data/.gitignore`\n",
    "* `git commit -m \"Add raw data\"`"
   ]
  },
  {
   "cell_type": "markdown",
   "metadata": {},
   "source": [
    "# Upload DVC tracked data"
   ]
  },
  {
   "cell_type": "markdown",
   "metadata": {},
   "source": [
    "```\n",
    "dvc remote add -d storage s3://bucket/dvcstore\n",
    "git add .dvc/config\n",
    "git commit -m \"Configure remote storage\"\n",
    "```"
   ]
  },
  {
   "cell_type": "markdown",
   "metadata": {},
   "source": [
    "# Push"
   ]
  },
  {
   "cell_type": "markdown",
   "metadata": {},
   "source": [
    "`dvc push`"
   ]
  },
  {
   "cell_type": "markdown",
   "metadata": {},
   "source": [
    "# Pull"
   ]
  },
  {
   "cell_type": "markdown",
   "metadata": {},
   "source": [
    "`dvc pull`"
   ]
  },
  {
   "cell_type": "code",
   "execution_count": 80,
   "metadata": {},
   "outputs": [],
   "source": [
    "# export\n",
    "\n",
    "from pathlib import Path\n",
    "from typing import Dict, List, Any\n",
    "import os\n",
    "import numpy as np\n",
    "import pandas as pd\n",
    "from dataclasses import dataclass\n",
    "from importlib import import_module\n",
    "\n",
    "from nbdev.export import Config\n",
    "from sciflow.params import params_as_dict, extract_params, read_nb"
   ]
  },
  {
   "cell_type": "code",
   "execution_count": 81,
   "metadata": {},
   "outputs": [
    {
     "name": "stdout",
     "output_type": "stream",
     "text": [
      "The autoreload extension is already loaded. To reload it, use:\n",
      "  %reload_ext autoreload\n"
     ]
    }
   ],
   "source": [
    "%load_ext autoreload\n",
    "%autoreload 2"
   ]
  },
  {
   "cell_type": "code",
   "execution_count": 82,
   "metadata": {},
   "outputs": [],
   "source": [
    "supported_parameters = (str, int, float)\n",
    "supported_args = (Dict, List)\n",
    "supported_conversion_args = (pd.Series, pd.DataFrame, np.ndarray, Path)\n",
    "suppported_types = []\n",
    "suppported_types.extend(supported_parameters)\n",
    "suppported_types.extend(supported_args)\n",
    "suppported_types.extend(supported_conversion_args)"
   ]
  },
  {
   "cell_type": "code",
   "execution_count": 83,
   "metadata": {},
   "outputs": [],
   "source": [
    "@dataclass\n",
    "class Param:\n",
    "    is_scalar: bool\n",
    "    has_metaflow_param: bool\n",
    "    is_json_type: bool\n",
    "    persist_type: str"
   ]
  },
  {
   "cell_type": "code",
   "execution_count": 113,
   "metadata": {},
   "outputs": [],
   "source": [
    "def load_module(fully_qualified_module_name):\n",
    "    package = '.'.join(fully_qualified_module_name.split('.')[:-1])\n",
    "    module_name = fully_qualified_module_name.split('.')[-1]\n",
    "    module = import_module(fully_qualified_module_name, package)\n",
    "    return module"
   ]
  },
  {
   "cell_type": "code",
   "execution_count": 114,
   "metadata": {},
   "outputs": [],
   "source": [
    "assert(load_module(\"sciflow.test.test_data_handling\").int_param == 3)\n",
    "assert(load_module(\"sciflow.test.test_data_handling\").float_param == 1.1)\n",
    "assert(type(load_module(\"sciflow.test.test_data_handling\").series_param) == pd.Series)\n",
    "assert(load_module(\"sciflow.utils\").load_dremio_access is not None)"
   ]
  },
  {
   "cell_type": "code",
   "execution_count": 138,
   "metadata": {},
   "outputs": [],
   "source": [
    "def extract_param_meta(module_name: str, params: Dict[str, Any]):\n",
    "    module = load_module(module_name)\n",
    "    param_vals = {}\n",
    "    for k in params.keys():\n",
    "        param_vals[k] = getattr(module, k)\n",
    "    param_meta = {}\n",
    "    \n",
    "    for key, val in param_vals.items():\n",
    "        if any([isinstance(val, t) for t in supported_parameters]):\n",
    "            param_meta[key] = Param(is_scalar=True, has_metaflow_param=True, \n",
    "                                    is_json_type=False, persist_type='pickle')\n",
    "        elif any([isinstance(val, t) for t in supported_args]):\n",
    "            param_meta[key] = Param(is_scalar=False, has_metaflow_param=True, \n",
    "                                    is_json_type=True, persist_type='pickle')\n",
    "        elif any([isinstance(val, t) for t in supported_conversion_args]):\n",
    "            if isinstance(val, np.ndarray):\n",
    "                param_meta[key] = Param(is_scalar=False, has_metaflow_param=False, \n",
    "                                    is_json_type=False, persist_type='numpy')\n",
    "            elif isinstance(val, pd.Series) or isinstance(val, pd.DataFrame):\n",
    "                param_meta[key] = Param(is_scalar=False, has_metaflow_param=False, \n",
    "                                    is_json_type=False, persist_type='pandas')\n",
    "        else:\n",
    "            print(f'Skipping unsupported param type, for: {key} - {type(val)}')   \n",
    "    return param_meta"
   ]
  },
  {
   "cell_type": "code",
   "execution_count": 139,
   "metadata": {},
   "outputs": [
    {
     "data": {
      "text/plain": [
       "{'int_param': Param(is_scalar=True, has_metaflow_param=True, is_json_type=False, persist_type='pickle'),\n",
       " 'float_param': Param(is_scalar=True, has_metaflow_param=True, is_json_type=False, persist_type='pickle'),\n",
       " 'str_param': Param(is_scalar=True, has_metaflow_param=True, is_json_type=False, persist_type='pickle'),\n",
       " 'dict_param': Param(is_scalar=False, has_metaflow_param=True, is_json_type=True, persist_type='pickle'),\n",
       " 'list_param': Param(is_scalar=False, has_metaflow_param=True, is_json_type=True, persist_type='pickle'),\n",
       " 'ones': Param(is_scalar=False, has_metaflow_param=False, is_json_type=False, persist_type='numpy'),\n",
       " 'text': Param(is_scalar=False, has_metaflow_param=False, is_json_type=False, persist_type='numpy'),\n",
       " 'series_param': Param(is_scalar=False, has_metaflow_param=False, is_json_type=False, persist_type='pandas'),\n",
       " 'df_param': Param(is_scalar=False, has_metaflow_param=False, is_json_type=False, persist_type='pandas')}"
      ]
     },
     "execution_count": 139,
     "metadata": {},
     "output_type": "execute_result"
    }
   ],
   "source": [
    "extract_param_meta(module_name, params)"
   ]
  },
  {
   "cell_type": "code",
   "execution_count": 81,
   "metadata": {},
   "outputs": [],
   "source": []
  },
  {
   "cell_type": "code",
   "execution_count": 75,
   "metadata": {},
   "outputs": [],
   "source": []
  },
  {
   "cell_type": "code",
   "execution_count": 84,
   "metadata": {},
   "outputs": [
    {
     "name": "stdout",
     "output_type": "stream",
     "text": [
      "int_param <class 'int'>\n",
      "float_param <class 'float'>\n",
      "str_param <class 'str'>\n",
      "input_path <class 'pathlib.PosixPath'>\n",
      "model_path <class 'pathlib.PosixPath'>\n",
      "dict_param <class 'dict'>\n",
      "list_param <class 'list'>\n",
      "ones <class 'numpy.ndarray'>\n",
      "text <class 'numpy.ndarray'>\n",
      "series_param <class 'pandas.core.series.Series'>\n",
      "df_param <class 'pandas.core.frame.DataFrame'>\n"
     ]
    }
   ],
   "source": []
  },
  {
   "cell_type": "code",
   "execution_count": 80,
   "metadata": {},
   "outputs": [
    {
     "data": {
      "text/plain": [
       "int"
      ]
     },
     "execution_count": 80,
     "metadata": {},
     "output_type": "execute_result"
    }
   ],
   "source": []
  },
  {
   "cell_type": "code",
   "execution_count": null,
   "metadata": {},
   "outputs": [],
   "source": []
  }
 ],
 "metadata": {
  "kernelspec": {
   "display_name": "Python [conda env:jovyan-discovery]",
   "language": "python",
   "name": "conda-env-jovyan-discovery-py"
  },
  "language_info": {
   "codemirror_mode": {
    "name": "ipython",
    "version": 3
   },
   "file_extension": ".py",
   "mimetype": "text/x-python",
   "name": "python",
   "nbconvert_exporter": "python",
   "pygments_lexer": "ipython3",
   "version": "3.7.10"
  }
 },
 "nbformat": 4,
 "nbformat_minor": 4
}
