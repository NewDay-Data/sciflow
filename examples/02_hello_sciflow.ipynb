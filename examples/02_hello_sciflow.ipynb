{
 "cells": [
  {
   "cell_type": "markdown",
   "metadata": {},
   "source": [
    "# Typical Start\n",
    "\n",
    "`nbdev` needs ot know where to export the module code fomr this notebook. You will typically just export to a module name the same as the notebook but you can rename and add extra directories to create a package structure if you wish"
   ]
  },
  {
   "cell_type": "code",
   "execution_count": 1,
   "metadata": {},
   "outputs": [],
   "source": [
    "# hide\n",
    "# default_exp hello_sciflow"
   ]
  },
  {
   "cell_type": "markdown",
   "metadata": {},
   "source": [
    "The below code is an example of how to define a step. A step is a function we chain together to form a workflow. Typically they will have inputs and return values which can be used in subsequent steps but we start simple here."
   ]
  },
  {
   "cell_type": "markdown",
   "metadata": {},
   "source": [
    "## Breaking down the named step directive:\n",
    "\n",
    "* `exportn_step:first` = export a named step called **first**"
   ]
  },
  {
   "cell_type": "code",
   "execution_count": 2,
   "metadata": {},
   "outputs": [],
   "source": [
    "# exportn_step:first\n",
    "\n",
    "\n",
    "def first():\n",
    "    print(\"The first step\")"
   ]
  },
  {
   "cell_type": "markdown",
   "metadata": {},
   "source": [
    "Auto-reloading modules is very useful when using `nbdev` as changes to underlying modules are picked up without having to restart the kernel."
   ]
  },
  {
   "cell_type": "code",
   "execution_count": 3,
   "metadata": {},
   "outputs": [],
   "source": [
    "%load_ext autoreload\n",
    "%autoreload 2"
   ]
  },
  {
   "cell_type": "markdown",
   "metadata": {},
   "source": [
    "You need to export all code that is gonig to be used in flows - this means things like import statements as well as function definitions."
   ]
  },
  {
   "cell_type": "code",
   "execution_count": 4,
   "metadata": {},
   "outputs": [],
   "source": [
    "# export"
   ]
  },
  {
   "cell_type": "markdown",
   "metadata": {},
   "source": [
    "# Params\n",
    "\n",
    "* `sciflow` uses the papermill format for paramaeterising notebooks. \n",
    "* See here for how to specify papermill params: https://papermill.readthedocs.io/en/latest/usage-parameterize.html. \n",
    "* These parameters will be available to use or edit in your flows."
   ]
  },
  {
   "cell_type": "code",
   "execution_count": 5,
   "metadata": {
    "tags": [
     "parameters"
    ]
   },
   "outputs": [],
   "source": [
    "# export\n",
    "\n",
    "traffic_percent = 1"
   ]
  },
  {
   "cell_type": "code",
   "execution_count": 6,
   "metadata": {},
   "outputs": [],
   "source": [
    "# exportn_step:second\n",
    "\n",
    "\n",
    "def second(traffic_percent):\n",
    "    results = {}\n",
    "    # Currently step functions need to return a dictionary. The keys: artifacts and metrics are reserved for experiment tracking otherwiose any other named keys will be available in future steps.\n",
    "    results[\"traffic_multiplied\"] = traffic_percent * 2\n",
    "    return results"
   ]
  },
  {
   "cell_type": "markdown",
   "metadata": {},
   "source": [
    "# See the results"
   ]
  },
  {
   "cell_type": "markdown",
   "metadata": {},
   "source": [
    "## 1. Command Line Interface"
   ]
  },
  {
   "cell_type": "markdown",
   "metadata": {},
   "source": [
    "# 1.1  Convert the notebooks to sciflow modules"
   ]
  },
  {
   "cell_type": "code",
   "execution_count": 7,
   "metadata": {},
   "outputs": [
    {
     "name": "stdout",
     "output_type": "stream",
     "text": [
      "Converted 01_hello_nbdev.ipynb.\n",
      "Converted 02_hello_sciflow.ipynb.\n",
      "Converted complete_workflow.ipynb.\n",
      "Converted experiment_tracking.ipynb.\n",
      "Converted running_metaflows.ipynb.\n",
      "Converted tidying_notebooks.ipynb.\n",
      "Converted why_make.ipynb.\n"
     ]
    }
   ],
   "source": [
    "# tst\n",
    "!sciflow_build_lib"
   ]
  },
  {
   "cell_type": "markdown",
   "metadata": {},
   "source": [
    "# 1.2 Tests that the notebooks work!"
   ]
  },
  {
   "cell_type": "code",
   "execution_count": 8,
   "metadata": {},
   "outputs": [
    {
     "name": "stdout",
     "output_type": "stream",
     "text": [
      "testing /home/jovyan/git/sciflow/examples/01_hello_nbdev.ipynb\n",
      "testing /home/jovyan/git/sciflow/examples/complete_workflow.ipynb\n",
      "/opt/conda/envs/sciflow/lib/python3.7/site-packages/nbdev/test.py:97: RuntimeWarning: coroutine 'ZMQSocketChannel.get_msg' was never awaited\n",
      "  return False,time.time()-start\n",
      "RuntimeWarning: Enable tracemalloc to get the object allocation traceback\n",
      "testing /home/jovyan/git/sciflow/examples/02_hello_sciflow.ipynb\n",
      "/opt/conda/envs/sciflow/lib/python3.7/site-packages/nbdev/test.py:97: RuntimeWarning: coroutine 'ZMQSocketChannel.get_msg' was never awaited\n",
      "  return False,time.time()-start\n",
      "RuntimeWarning: Enable tracemalloc to get the object allocation traceback\n",
      "[IPKernelApp] ERROR | KeyboardInterrupt caught in kernel.\n",
      "/opt/conda/envs/sciflow/lib/python3.7/site-packages/nbdev/test.py:97: RuntimeWarning: coroutine 'ZMQSocketChannel.get_msg' was never awaited\n",
      "  return False,time.time()-start\n",
      "RuntimeWarning: Enable tracemalloc to get the object allocation traceback\n",
      "testing /home/jovyan/git/sciflow/examples/running_metaflows.ipynb\n",
      "/opt/conda/envs/sciflow/lib/python3.7/site-packages/nbdev/test.py:97: RuntimeWarning: coroutine 'ZMQSocketChannel.get_msg' was never awaited\n",
      "  return False,time.time()-start\n",
      "RuntimeWarning: Enable tracemalloc to get the object allocation traceback\n",
      "testing /home/jovyan/git/sciflow/examples/experiment_tracking.ipynb\n",
      "/opt/conda/envs/sciflow/lib/python3.7/site-packages/nbdev/test.py:97: RuntimeWarning: coroutine 'ZMQSocketChannel.get_msg' was never awaited\n",
      "  return False,time.time()-start\n",
      "RuntimeWarning: Enable tracemalloc to get the object allocation traceback\n",
      "testing /home/jovyan/git/sciflow/examples/tidying_notebooks.ipynb\n",
      "/opt/conda/envs/sciflow/lib/python3.7/site-packages/nbdev/test.py:97: RuntimeWarning: coroutine 'ZMQSocketChannel.get_msg' was never awaited\n",
      "  return False,time.time()-start\n",
      "RuntimeWarning: Enable tracemalloc to get the object allocation traceback\n",
      "testing /home/jovyan/git/sciflow/examples/why_make.ipynb\n",
      "/opt/conda/envs/sciflow/lib/python3.7/site-packages/nbdev/test.py:97: RuntimeWarning: coroutine 'ZMQSocketChannel.get_msg' was never awaited\n",
      "  return False,time.time()-start\n",
      "RuntimeWarning: Enable tracemalloc to get the object allocation traceback\n",
      "Traceback (most recent call last):\n",
      "  File \"/opt/conda/envs/sciflow/bin/nbdev_test_nbs\", line 10, in <module>\n",
      "    sys.exit(nbdev_test_nbs())\n",
      "  File \"/opt/conda/envs/sciflow/lib/python3.7/site-packages/fastcore/script.py\", line 107, in _f\n",
      "    tfunc(**merge(args, args_from_prog(func, xtra)))\n",
      "  File \"/opt/conda/envs/sciflow/lib/python3.7/site-packages/nbdev/test.py\", line 120, in nbdev_test_nbs\n",
      "    raise Exception(msg + '\\n'.join([f.name for p,f in zip(passed,files) if not p]))\n",
      "Exception: The following notebooks failed:\n",
      "01_hello_nbdev.ipynb\n",
      "02_hello_sciflow.ipynb\n",
      "complete_workflow.ipynb\n",
      "experiment_tracking.ipynb\n",
      "running_metaflows.ipynb\n",
      "tidying_notebooks.ipynb\n",
      "why_make.ipynb\n"
     ]
    }
   ],
   "source": [
    "# tst\n",
    "!nbdev_test_nbs --pause=1"
   ]
  },
  {
   "cell_type": "markdown",
   "metadata": {},
   "source": [
    "# 1.3 See the created `Flow`"
   ]
  },
  {
   "cell_type": "code",
   "execution_count": 11,
   "metadata": {},
   "outputs": [
    {
     "name": "stdout",
     "output_type": "stream",
     "text": [
      "# AUTOGENERATED! DO NOT EDIT! File to edit: 02_hello_sciflow.ipynb (unless otherwise specified).\n",
      "\n",
      "__all__ = ['first', 'traffic_percent', 'second']\n",
      "\n",
      "# step:first\n",
      "\n",
      "\n",
      "def first():\n",
      "    print(\"The first step\")\n",
      "\n",
      "# Cell\n",
      "\n",
      "\n",
      "# Cell\n",
      "\n",
      "traffic_percent = 1\n",
      "\n",
      "# step:second\n",
      "\n",
      "\n",
      "def second(traffic_percent):\n",
      "    results = {}\n",
      "    # Currently step functions need to return a dictionary. The keys: artifacts and metrics are reserved for experiment tracking otherwiose any other named keys will be available in future steps.\n",
      "    results[\"traffic_multiplied\"] = traffic_percent * 2\n",
      "    return results"
     ]
    }
   ],
   "source": [
    "# tst\n",
    "!cat sciflow_examples/hello_sciflow.py"
   ]
  },
  {
   "cell_type": "markdown",
   "metadata": {},
   "source": [
    "# Run a `Flow`, this example uses `metaflow`"
   ]
  },
  {
   "cell_type": "code",
   "execution_count": 12,
   "metadata": {},
   "outputs": [],
   "source": [
    "##tst\n",
    "!source ~/.sciflow/env && python sciflow_examples/hello_sciflow.py --no-pylint run"
   ]
  },
  {
   "cell_type": "markdown",
   "metadata": {},
   "source": [
    "# 2. Programmatically\n",
    "\n",
    "TBC.."
   ]
  }
 ],
 "metadata": {
  "kernelspec": {
   "display_name": "Python [conda env:sciflow]",
   "language": "python",
   "name": "conda-env-sciflow-py"
  },
  "language_info": {
   "codemirror_mode": {
    "name": "ipython",
    "version": 3
   },
   "file_extension": ".py",
   "mimetype": "text/x-python",
   "name": "python",
   "nbconvert_exporter": "python",
   "pygments_lexer": "ipython3",
   "version": "3.7.6"
  }
 },
 "nbformat": 4,
 "nbformat_minor": 4
}
