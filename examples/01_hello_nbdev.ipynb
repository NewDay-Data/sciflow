{
 "cells": [
  {
   "cell_type": "markdown",
   "metadata": {},
   "source": [
    "# Acknowledgements\n",
    "\n",
    "`sciflow` builds on top of the excellent `nbdev` library. `nbdev` is a huge breakthrough for research and exploratory programming as it allows you to cleanly & repeatably separate the process of exploration from the output of exploration. [Progressive consolidation](http://gael-varoquaux.info/programming/software-for-reproducible-science-lets-not-have-a-misunderstanding.html), a term coined by Gael Varoquaux, is the method that we have found to be the best programming paradigm for research-driven software development. `nbdev` makes progressive consolidation easy and the natural choice. For the motivation behind `nbdev` please read Jeremy Howard's blog post [nbdev: use Jupyter Notebooks for everything](https://www.fast.ai/2019/12/02/nbdev/).\n",
    "\n",
    "`nbdev` Resources:\n",
    "\n",
    "* [Github Project](https://github.com/fastai/nbdev)\n",
    "* [Tutorial](https://nbdev.fast.ai/tutorial.html)"
   ]
  },
  {
   "cell_type": "markdown",
   "metadata": {},
   "source": [
    "# Typical Start\n",
    "\n",
    "`nbdev` needs to know where to export the module code from this notebook. You will typically just export to a module name the same as the notebook but you can rename and add extra directories to create a package structure if you wish"
   ]
  },
  {
   "cell_type": "code",
   "execution_count": null,
   "metadata": {},
   "outputs": [],
   "source": [
    "# hide\n",
    "# default_exp hello_nbdev"
   ]
  },
  {
   "cell_type": "code",
   "execution_count": null,
   "metadata": {},
   "outputs": [],
   "source": [
    "# export\n",
    "\n",
    "import os\n",
    "from pathlib import Path\n",
    "\n",
    "from nbdev.export import notebook2script"
   ]
  },
  {
   "cell_type": "markdown",
   "metadata": {},
   "source": [
    "Auto-reloading modules is very useful when using `nbdev` as changes to underlying modules are picked up without having to restart the kernel."
   ]
  },
  {
   "cell_type": "code",
   "execution_count": null,
   "metadata": {},
   "outputs": [],
   "source": [
    "%load_ext autoreload\n",
    "%autoreload 2"
   ]
  },
  {
   "cell_type": "markdown",
   "metadata": {},
   "source": [
    "# Export\n",
    "\n",
    "`nbdev` uses comment driven directives to perform or mark explicit actions. Here we use the `export` command to export a function to a companion module. The module is auto-generated and managed by the `nbdev` library. All code in an `export` cell will move into the linked module."
   ]
  },
  {
   "cell_type": "code",
   "execution_count": null,
   "metadata": {},
   "outputs": [],
   "source": [
    "# export\n",
    "\n",
    "\n",
    "def generate_msg(msg):\n",
    "    return f\"Hello nbdev: {msg}\""
   ]
  },
  {
   "cell_type": "markdown",
   "metadata": {},
   "source": [
    "# Tests\n",
    "\n",
    "> A cell which is not exported is considered a test cell. \n",
    "\n",
    "You can use these cells to test your exported code cause you write tests in such proximity to writing the code rather than rewriting code to a python module and then creating a separate test module we find you will write more tests."
   ]
  },
  {
   "cell_type": "code",
   "execution_count": null,
   "metadata": {},
   "outputs": [],
   "source": [
    "print(generate_msg(\"This function call will not be exported\"))\n",
    "assert \"Hello nbdev: 4\" == generate_msg(4)"
   ]
  },
  {
   "cell_type": "markdown",
   "metadata": {},
   "source": [
    "**Note: you can use flags to stop cells being executed as tests.**\n",
    "\n",
    "Flags are set in `settings.ini`"
   ]
  },
  {
   "cell_type": "code",
   "execution_count": null,
   "metadata": {},
   "outputs": [],
   "source": [
    "# slow\n",
    "import time\n",
    "\n",
    "time.sleep(10)"
   ]
  },
  {
   "cell_type": "markdown",
   "metadata": {},
   "source": [
    "# See the results"
   ]
  },
  {
   "cell_type": "code",
   "execution_count": null,
   "metadata": {},
   "outputs": [],
   "source": [
    "# tst\n",
    "nb_path = os.path.join(Path(\".\").resolve(), \"01_hello_nbdev.ipynb\")"
   ]
  },
  {
   "cell_type": "markdown",
   "metadata": {},
   "source": [
    "# 1.1  Convert the notebooks to python modules"
   ]
  },
  {
   "cell_type": "code",
   "execution_count": null,
   "metadata": {},
   "outputs": [],
   "source": [
    "# tst\n",
    "notebook2script(fname=nb_path)"
   ]
  },
  {
   "cell_type": "markdown",
   "metadata": {},
   "source": [
    "# 1.2 See the created module"
   ]
  },
  {
   "cell_type": "code",
   "execution_count": null,
   "metadata": {},
   "outputs": [],
   "source": [
    "with open(\"sciflow_examples/hello_nbdev.py\") as module_file:\n",
    "    contents = module_file.readlines()"
   ]
  },
  {
   "cell_type": "code",
   "execution_count": null,
   "metadata": {},
   "outputs": [],
   "source": [
    "print(\"\\n\".join(contents))"
   ]
  },
  {
   "cell_type": "markdown",
   "metadata": {},
   "source": [
    "# Importing your newly minted module elsewhere"
   ]
  },
  {
   "cell_type": "markdown",
   "metadata": {},
   "source": [
    "Because we used auto-reloading imports we can import modules fropm that companion module without restarting kernel. <br>This is just an illustrative use, it is more usual to import other modules from the nbdev project like this - not the notebook you are working on."
   ]
  },
  {
   "cell_type": "code",
   "execution_count": null,
   "metadata": {},
   "outputs": [],
   "source": [
    "from sciflow_examples.hello_nbdev import generate_msg as module_gen_msg"
   ]
  },
  {
   "cell_type": "code",
   "execution_count": null,
   "metadata": {},
   "outputs": [],
   "source": [
    "module_gen_msg(\"companion module\")"
   ]
  }
 ],
 "metadata": {
  "kernelspec": {
   "display_name": "Python [conda env:sciflow]",
   "language": "python",
   "name": "conda-env-sciflow-py"
  }
 },
 "nbformat": 4,
 "nbformat_minor": 4
}
