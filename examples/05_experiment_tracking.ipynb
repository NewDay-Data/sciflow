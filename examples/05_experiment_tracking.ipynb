{
 "cells": [
  {
   "cell_type": "code",
   "execution_count": null,
   "metadata": {},
   "outputs": [],
   "source": [
    "# hide\n",
    "# default_exp experiment_tracking"
   ]
  },
  {
   "cell_type": "code",
   "execution_count": null,
   "metadata": {},
   "outputs": [],
   "source": [
    "# export\n",
    "\n",
    "import datetime\n",
    "import tempfile\n",
    "from pathlib import Path\n",
    "\n",
    "import pandas as pd\n",
    "\n",
    "from sciflow.experiment.engine import ExperimentEngine\n",
    "from sciflow.experiment.tracking import MockTracker\n",
    "from sciflow.run_flow import check_call_flow"
   ]
  },
  {
   "cell_type": "code",
   "execution_count": null,
   "metadata": {},
   "outputs": [],
   "source": [
    "# export\n",
    "\n",
    "tracker = MockTracker()"
   ]
  },
  {
   "cell_type": "markdown",
   "metadata": {},
   "source": [
    "# Create a flow and annotate it with tracking"
   ]
  },
  {
   "cell_type": "code",
   "execution_count": null,
   "metadata": {},
   "outputs": [],
   "source": [
    "# exportn_step:first\n",
    "\n",
    "\n",
    "def first(tracker):\n",
    "    results = {}\n",
    "    if tracker:\n",
    "        with tempfile.TemporaryDirectory() as temp_dir:\n",
    "            tracker.log_metric(\"auroc\", 0.5, 0)\n",
    "            csv_path = f\"{temp_dir}/first.csv\"\n",
    "            df = pd.DataFrame({\"a\": [1, 2, 3], \"b\": [\"a\", \"b\", \"c\"]})\n",
    "            df.to_csv(csv_path)\n",
    "            tracker.add_artifact(csv_path)\n",
    "    return results"
   ]
  },
  {
   "cell_type": "code",
   "execution_count": null,
   "metadata": {},
   "outputs": [],
   "source": [
    "# exportn_step:last\n",
    "\n",
    "\n",
    "def last(tracker):\n",
    "    results = {}\n",
    "    if tracker:\n",
    "        with tempfile.TemporaryDirectory() as temp_dir:\n",
    "            tracker.log_metric(\"r2\", 0.9, 0)\n",
    "            df = pd.DataFrame({\"a\": [1, 2, 3], \"b\": [\"a\", \"b\", \"c\"]})\n",
    "            fig = df.a.plot.hist().figure\n",
    "            png_path = f\"{temp_dir}/last.png\"\n",
    "            fig.savefig(png_path)\n",
    "            tracker.add_artifact(png_path)\n",
    "    return results"
   ]
  },
  {
   "cell_type": "code",
   "execution_count": null,
   "metadata": {},
   "outputs": [],
   "source": [
    "# tst\n",
    "!sciflow_build_lib"
   ]
  },
  {
   "cell_type": "code",
   "execution_count": null,
   "metadata": {},
   "outputs": [],
   "source": [
    "# tst\n",
    "!sciflow_metaflow --track True"
   ]
  },
  {
   "cell_type": "code",
   "execution_count": null,
   "metadata": {},
   "outputs": [],
   "source": [
    "# tst\n",
    "print(\n",
    "    check_call_flow(\n",
    "        Path(\"flows\", \"metaflow\", \"experiment_tracking.py\"), flow_command=\"run\"\n",
    "    )[1]\n",
    ")"
   ]
  },
  {
   "cell_type": "code",
   "execution_count": null,
   "metadata": {},
   "outputs": [],
   "source": [
    "today = datetime.datetime.utcnow().strftime(\"%Y%m%d\")\n",
    "_base_key = f\"experiment_tracking\""
   ]
  },
  {
   "cell_type": "code",
   "execution_count": null,
   "metadata": {},
   "outputs": [],
   "source": [
    "engine = ExperimentEngine(base_key=_base_key)"
   ]
  },
  {
   "cell_type": "code",
   "execution_count": null,
   "metadata": {},
   "outputs": [],
   "source": [
    "engine.find_latest()[0]"
   ]
  },
  {
   "cell_type": "code",
   "execution_count": null,
   "metadata": {},
   "outputs": [],
   "source": []
  }
 ],
 "metadata": {
  "kernelspec": {
   "display_name": "sciflow (sciflow/3)",
   "language": "python",
   "name": "python3__SAGEMAKER_INTERNAL__arn:aws:sagemaker:eu-west-1:368653567616:image-version/sciflow/3"
  }
 },
 "nbformat": 4,
 "nbformat_minor": 4
}
