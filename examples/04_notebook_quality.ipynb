{
 "cells": [
  {
   "cell_type": "code",
   "execution_count": null,
   "metadata": {},
   "outputs": [],
   "source": [
    "# hide\n",
    "# default_exp tidying_notebooks"
   ]
  },
  {
   "cell_type": "markdown",
   "metadata": {},
   "source": [
    "`sciflow` uses the excellent `nbqa` library [https://github.com/nbQA-dev/nbQA] to clean notebooks during the build cycle. `sciflow` has a default nbqa configuration of using 3 notebook tidying tools `black`, `isort`, `autoflake`. These tools all have sensible defaults and hence require minimal upfront knowledge for Data Scientists to pick up. Like the ethos of `black` we believe that ceding control over this process provides speed & freedom."
   ]
  },
  {
   "cell_type": "markdown",
   "metadata": {},
   "source": [
    "# In-place mutation\n",
    "\n",
    "Any style based amendments are made to the notebooks you are working on. So you sometimes see the Jupyter Cancel/Overwrite/Revert changes dialog. Ideally tidying the notebooks would trigger a Jupyter refresh to immediately see the refreshed content. We are working on making this happen. Until then if you want to keep any unsaved changes say Overwrite and if you want to load from disk say Revert."
   ]
  },
  {
   "cell_type": "markdown",
   "metadata": {},
   "source": [
    "# Autoflake (https://github.com/myint/autoflake)\n",
    "\n",
    "*autoflake removes unused imports and unused variables from Python code. It makes use of pyflakes to do this.*\n",
    "\n",
    "*By default, autoflake only removes unused imports for modules that are part of the standard library. (Other modules may have side effects that make them unsafe to remove automatically.) Removal of unused variables is also disabled by default.*"
   ]
  },
  {
   "cell_type": "markdown",
   "metadata": {},
   "source": [
    "# Isort (https://github.com/PyCQA/isort)\n",
    "\n",
    "\n",
    "*isort your imports, so you don't have to.*\n",
    "\n",
    "*isort is a Python utility / library to sort imports alphabetically, and automatically separated into sections and by type. It provides a command line utility, Python library and plugins for various editors to quickly sort all your imports. It requires Python 3.6+ to run but supports formatting Python 2 code too.\"*"
   ]
  },
  {
   "cell_type": "code",
   "execution_count": null,
   "metadata": {},
   "outputs": [],
   "source": [
    "# export\n",
    "\n",
    "import os\n",
    "from typing import Tuple"
   ]
  },
  {
   "cell_type": "code",
   "execution_count": null,
   "metadata": {
    "tags": [
     "parameters"
    ]
   },
   "outputs": [],
   "source": [
    "# export\n",
    "\n",
    "traffic_percent = 1\n",
    "workers = 8\n",
    "model_level = \"dispatcher\"\n",
    "min_date = \"2021-01-01\""
   ]
  },
  {
   "cell_type": "code",
   "execution_count": null,
   "metadata": {},
   "outputs": [],
   "source": [
    "try:\n",
    "    os.environ[\"HELLO\"]\n",
    "except KeyError:\n",
    "    pass"
   ]
  },
  {
   "cell_type": "code",
   "execution_count": null,
   "metadata": {},
   "outputs": [],
   "source": [
    "# export\n",
    "\n",
    "\n",
    "def some_func(param: Tuple[int, int]) -> int:\n",
    "    return param[0] + param[1]"
   ]
  },
  {
   "cell_type": "code",
   "execution_count": null,
   "metadata": {},
   "outputs": [],
   "source": [
    "some_func((0, 1))"
   ]
  },
  {
   "cell_type": "markdown",
   "metadata": {},
   "source": [
    "# Black (https://github.com/psf/black)\n",
    "\n",
    "*Black is the uncompromising Python code formatter. By using it, you agree to cede control over minutiae of hand-formatting. In return, Black gives you speed, determinism, and freedom from pycodestyle nagging about formatting. You will save time and mental energy for more important matters.*"
   ]
  },
  {
   "cell_type": "code",
   "execution_count": null,
   "metadata": {},
   "outputs": [],
   "source": [
    "# export\n",
    "\n",
    "\n",
    "def get_traffic_text(percent):\n",
    "    return (\n",
    "        str(percent)\n",
    "        if int(percent) >= 10\n",
    "        else \"0\"\n",
    "        + str(percent)\n",
    "        + str(percent)\n",
    "        + str(percent)\n",
    "        + str(percent)\n",
    "        + str(percent)\n",
    "        + str(percent)\n",
    "        + str(percent)\n",
    "        + f\"some other long text {434234234324}\"\n",
    "    )"
   ]
  },
  {
   "cell_type": "markdown",
   "metadata": {},
   "source": [
    "`nbdev` tests are any cells which are not exporting code and do not have flags that say they should be ignored from testing."
   ]
  },
  {
   "cell_type": "code",
   "execution_count": null,
   "metadata": {},
   "outputs": [],
   "source": [
    "get_traffic_text(\"3\") == \"03\""
   ]
  },
  {
   "cell_type": "code",
   "execution_count": null,
   "metadata": {},
   "outputs": [],
   "source": []
  }
 ],
 "metadata": {
  "kernelspec": {
   "display_name": "sciflow (sciflow/3)",
   "language": "python",
   "name": "python3__SAGEMAKER_INTERNAL__arn:aws:sagemaker:eu-west-1:368653567616:image-version/sciflow/3"
  }
 },
 "nbformat": 4,
 "nbformat_minor": 4
}
