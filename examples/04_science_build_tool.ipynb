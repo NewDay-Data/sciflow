{
 "cells": [
  {
   "cell_type": "code",
   "execution_count": null,
   "metadata": {},
   "outputs": [],
   "source": [
    "# hide\n",
    "# default_exp science_build_tool"
   ]
  },
  {
   "cell_type": "markdown",
   "metadata": {},
   "source": [
    "# Make\n",
    "\n",
    "`nbdev` uses [make](https://www.gnu.org/software/make/) to manage chains of commands that benefit from being executed together. When combbined with `SciFlow` make becomes the build tool for Data Science project. This a is a very flexible approach as it allows you to configure what you want in your project and you can edit rules and targets as you see fit to get your desired behaviour.\n",
    "\n",
    "`SciFlow` is bundeled with some core rules that help you: \n",
    "\n",
    "* `build`: build your modules and ensure they meet the quality bar\n",
    "* `convert`: convert from modules to workflows\n",
    "* `run`: run your workflows\n",
    "* `precommit`: ensure that shared code is of high quality and functioning to boost collective productivity"
   ]
  },
  {
   "cell_type": "markdown",
   "metadata": {},
   "source": [
    "Toe execute any of the rules, for example `make build`, run them from the terminal at the root of your project (where your Makefile is)."
   ]
  },
  {
   "cell_type": "markdown",
   "metadata": {},
   "source": [
    "`build`\n",
    "\n",
    "The build rule converts from notebooks to modules using `sciflow_build_lib`, then tests all the notebooks work, tidies them and inspects them for quality."
   ]
  },
  {
   "cell_type": "markdown",
   "metadata": {},
   "source": [
    "```console\n",
    "build:\n",
    "\tsource \"$${HOME}/.sciflow/env\" && \\\n",
    "\tsciflow_build_lib && \\\n",
    "\tnbdev_test_nbs --pause=3 && \\\n",
    "\tsciflow_tidy && \\\n",
    "\tsciflow_lint && \\\n",
    "\techo \"Build completed\"\n",
    "```"
   ]
  },
  {
   "cell_type": "markdown",
   "metadata": {},
   "source": [
    "`convert` \n",
    "\n",
    "builds the project and also converts to your choice of ML workflow framework"
   ]
  },
  {
   "cell_type": "markdown",
   "metadata": {},
   "source": [
    "```console\n",
    "convert: build\n",
    "\tsource \"$${HOME}/.sciflow/env\" && \\\n",
    "\tsciflow_metaflow && \\\n",
    "\tsciflow_sagemaker && \\\n",
    "\tsciflow_check_metaflows && \\\n",
    "\tsciflow_check_sagemaker_flows && \\\n",
    "\techo \"Build completed\"\n",
    "```"
   ]
  },
  {
   "cell_type": "markdown",
   "metadata": {},
   "source": [
    "`run`\n",
    "\n",
    "builds, converts and runs your workflows. "
   ]
  },
  {
   "cell_type": "markdown",
   "metadata": {},
   "source": [
    "```console\n",
    "run: convert\n",
    "\tsource \"$${HOME}/.sciflow/env\" && \\\n",
    "\tsciflow_run_metaflows && \\\n",
    "\techo \"Flow run checks completed\"\n",
    "```"
   ]
  },
  {
   "cell_type": "markdown",
   "metadata": {},
   "source": [
    "`precommit`\n",
    "\n",
    "expected to be used as git precommit hook this ensures that all your notebooks meet your quality standard and that your flows are converting successfully."
   ]
  },
  {
   "cell_type": "markdown",
   "metadata": {},
   "source": [
    "```console\n",
    "precommit:\n",
    "\tsource \"$${HOME}/.sciflow/env\" && \\\n",
    "\tsciflow_build_lib && \\\n",
    "\tnbdev_test_nbs --pause=3 && \\\n",
    "\tsciflow_tidy && \\\n",
    "\tsciflow_clean && \\\n",
    "\tsciflow_lint && \\\n",
    "\tsciflow_metaflow && \\\n",
    "\tsciflow_sagemaker && \\\n",
    "\tsciflow_check_metaflows && \\\n",
    "\tsciflow_check_sagemaker_flows && \\\n",
    "\techo \"Precommit checks completed\"\n",
    "```"
   ]
  },
  {
   "cell_type": "code",
   "execution_count": null,
   "metadata": {},
   "outputs": [],
   "source": []
  }
 ],
 "metadata": {
  "kernelspec": {
   "display_name": "sciflow (sciflow/3)",
   "language": "python",
   "name": "python3__SAGEMAKER_INTERNAL__arn:aws:sagemaker:eu-west-1:368653567616:image-version/sciflow/3"
  }
 },
 "nbformat": 4,
 "nbformat_minor": 4
}
