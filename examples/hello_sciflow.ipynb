{
 "cells": [
  {
   "cell_type": "markdown",
   "metadata": {},
   "source": [
    "# Typical Start\n",
    "\n",
    "`nbdev` needs ot know where to export the module code fomr this notebook. You will typically just export to a module name the same as the notebook but you can rename and add extra directories to create a package structure if you wish"
   ]
  },
  {
   "cell_type": "code",
   "execution_count": 1,
   "metadata": {},
   "outputs": [],
   "source": [
    "# hide\n",
    "# default_exp hello_sciflow"
   ]
  },
  {
   "cell_type": "markdown",
   "metadata": {},
   "source": [
    "The below code is an example of how to define a step. A step is a function we chain together to form a workflow. Typically they will have inputs and return values which can be used in subsequent steps but we start simple here."
   ]
  },
  {
   "cell_type": "markdown",
   "metadata": {},
   "source": [
    "## Breaking down the named step directive:\n",
    "\n",
    "* `exportn_step:first` = export a named step called **first**"
   ]
  },
  {
   "cell_type": "code",
   "execution_count": 2,
   "metadata": {},
   "outputs": [],
   "source": [
    "# exportn_step:first\n",
    "\n",
    "\n",
    "def first():\n",
    "    print(\"The first step\")"
   ]
  },
  {
   "cell_type": "markdown",
   "metadata": {},
   "source": [
    "Auto-reloading modules is very useful when using `nbdev` as changes to underlying modules are picked up without having to restart the kernel."
   ]
  },
  {
   "cell_type": "code",
   "execution_count": 3,
   "metadata": {},
   "outputs": [],
   "source": [
    "%load_ext autoreload\n",
    "%autoreload 2"
   ]
  },
  {
   "cell_type": "markdown",
   "metadata": {},
   "source": [
    "You need to export all code that is gonig to be used in flows - this means things like import statements as well as function definitions."
   ]
  },
  {
   "cell_type": "code",
   "execution_count": 4,
   "metadata": {},
   "outputs": [],
   "source": [
    "# export"
   ]
  },
  {
   "cell_type": "markdown",
   "metadata": {},
   "source": [
    "# Params\n",
    "\n",
    "* `sciflow` uses the papermill format for paramaeterising notebooks. \n",
    "* See here for how to specify papermill params: https://papermill.readthedocs.io/en/latest/usage-parameterize.html. \n",
    "* These parameters will be available to use or edit in your flows."
   ]
  },
  {
   "cell_type": "code",
   "execution_count": 5,
   "metadata": {
    "tags": [
     "parameters"
    ]
   },
   "outputs": [],
   "source": [
    "# export\n",
    "\n",
    "traffic_percent = 1"
   ]
  },
  {
   "cell_type": "code",
   "execution_count": 6,
   "metadata": {},
   "outputs": [],
   "source": [
    "# exportn_step:second\n",
    "\n",
    "\n",
    "def second(traffic_percent):\n",
    "    results = {}\n",
    "    # Currently step functions need to return a dictionary. The keys: artifacts and metrics are reserved for experiment tracking otherwiose any other named keys will be available in future steps.\n",
    "    results[\"traffic_multiplied\"] = traffic_percent * 2\n",
    "    return results"
   ]
  },
  {
   "cell_type": "markdown",
   "metadata": {},
   "source": [
    "# See the results"
   ]
  },
  {
   "cell_type": "markdown",
   "metadata": {},
   "source": [
    "## 1. Command Line Interface"
   ]
  },
  {
   "cell_type": "markdown",
   "metadata": {},
   "source": [
    "# 1.1  Convert the notebooks to sciflow modules"
   ]
  },
  {
   "cell_type": "code",
   "execution_count": 11,
   "metadata": {},
   "outputs": [
    {
     "name": "stdout",
     "output_type": "stream",
     "text": [
      "Converted complete_workflow.ipynb.\n",
      "Converted experiment_tracking.ipynb.\n",
      "Converted hello_sciflow.ipynb.\n",
      "Converted running_metaflows.ipynb.\n",
      "Converted why_make.ipynb.\n"
     ]
    }
   ],
   "source": [
    "# tst\n",
    "!sciflow_build_lib"
   ]
  },
  {
   "cell_type": "markdown",
   "metadata": {},
   "source": [
    "# 1.2 Tests that the notebooks work!"
   ]
  },
  {
   "cell_type": "code",
   "execution_count": 13,
   "metadata": {},
   "outputs": [
    {
     "name": "stdout",
     "output_type": "stream",
     "text": [
      "testing /home/jovyan/git/sciflow/examples/complete_workflow.ipynb\n",
      "testing /home/jovyan/git/sciflow/examples/experiment_tracking.ipynb\n",
      "testing /home/jovyan/git/sciflow/examples/hello_sciflow.ipynb\n",
      "testing /home/jovyan/git/sciflow/examples/running_metaflows.ipynb\n",
      "testing /home/jovyan/git/sciflow/examples/why_make.ipynb\n",
      "All tests are passing!\n"
     ]
    }
   ],
   "source": [
    "# tst\n",
    "!nbdev_test_nbs --pause=1"
   ]
  },
  {
   "cell_type": "markdown",
   "metadata": {},
   "source": [
    "# 1.3 See the created `Flow`"
   ]
  },
  {
   "cell_type": "code",
   "execution_count": 14,
   "metadata": {},
   "outputs": [
    {
     "name": "stdout",
     "output_type": "stream",
     "text": [
      "#!/usr/bin/env python\n",
      "# coding=utf-8\n",
      "# SCIFLOW GENERATED FILE - EDIT COMPANION NOTEBOOK\n",
      "from metaflow import FlowSpec, step, current, Parameter\n",
      "from sciflow_examples.hello_sciflow import first, second\n",
      "from sciflow_examples.hello_sciflow import traffic_percent\n",
      "from sacred import Experiment\n",
      "from sciflow.experiment.lake_observer import AWSLakeObserver\n",
      "import time\n",
      "\n",
      "ex = Experiment(\"hello_sciflow\")\n",
      "# TODO inject observers\n",
      "obs = AWSLakeObserver(project=\"sciflow_examples\", experiment_name=\"hello_sciflow\")\n",
      "ex.observers.append(obs)\n",
      "\n",
      "@ex.config\n",
      "def config():\n",
      "    flow_run_id = None\n",
      "    artifacts = []\n",
      "    metrics = []\n",
      "    \n",
      "\n",
      "class HelloSciflowFlow(FlowSpec):\n",
      "    traffic_percent = Parameter('traffic_percent', default=traffic_percent)\n",
      "    artifacts = []\n",
      "    metrics = []\n",
      "\n",
      "    @step\n",
      "    def start(self):\n",
      "        first()\n",
      "        self.start_time = time.time()\n",
      "        self.next(self.second)\n",
      "\n",
      "    @step\n",
      "    def second(self):\n",
      "        results = second(self.traffic_percent)\n",
      "\n",
      "        for key in results.keys():\n",
      "            if key in self.__dict__:\n",
      "                self.__dict__[key] = self.__dict__[key] + results[key]\n",
      "            else:\n",
      "                self.__dict__[key] = results[key]\n",
      "\n",
      "        self.next(self.end)\n",
      "\n",
      "\n",
      "    @step\n",
      "    def end(self):\n",
      "        flow_info = {\n",
      "            \"flow_name\": current.flow_name,\n",
      "            \"run_id\": current.run_id,\n",
      "            \"pathspec\": current.pathspec,\n",
      "            \"namespace\": current.namespace,\n",
      "            \"username\": current.username,\n",
      "            \"flow_parameters\": str(current.parameter_names),\n",
      "            \"run_time_mins\": round((time.time() - self.__getattr__('start_time')) / 60.0, 1)\n",
      "        }\n",
      "\n",
      "        run = ex.run(config_updates={'artifacts': self.__getattr__('artifacts'),\n",
      "                                    'metrics': self.__getattr__('metrics')},\n",
      "                     meta_info = flow_info)\n",
      "\n",
      "    @ex.main\n",
      "    def track_flow(artifacts, metrics, _run):\n",
      "        for artifact in artifacts:\n",
      "            _run.add_artifact(artifact)\n",
      "        for metric_name, metric_value, step in metrics:\n",
      "            _run.log_scalar(metric_name, metric_value, step)\n",
      "    \n",
      "if __name__ == \"__main__\":\n",
      "    HelloSciflowFlow()"
     ]
    }
   ],
   "source": [
    "# tst\n",
    "!cat hello_sciflow.py"
   ]
  },
  {
   "cell_type": "markdown",
   "metadata": {},
   "source": [
    "# Run a `Flow`, this example uses `metaflow`"
   ]
  },
  {
   "cell_type": "code",
   "execution_count": 15,
   "metadata": {},
   "outputs": [
    {
     "name": "stdout",
     "output_type": "stream",
     "text": [
      "\u001b[35m\u001b[1mMetaflow 2.3.4\u001b[0m\u001b[35m\u001b[22m executing \u001b[0m\u001b[31m\u001b[1mHelloSciflowFlow\u001b[0m\u001b[35m\u001b[22m\u001b[0m\u001b[35m\u001b[22m for \u001b[0m\u001b[31m\u001b[1muser:Donal\u001b[0m\u001b[35m\u001b[22m\u001b[K\u001b[0m\u001b[35m\u001b[22m\u001b[0m\n",
      "\u001b[35m\u001b[22mValidating your flow...\u001b[K\u001b[0m\u001b[35m\u001b[22m\u001b[0m\n",
      "\u001b[32m\u001b[1m    The graph looks good!\u001b[K\u001b[0m\u001b[32m\u001b[1m\u001b[0m\n",
      "\u001b[35m2021-09-08 14:30:18.293 \u001b[0m\u001b[1mWorkflow starting (run-id 1631111418290567):\u001b[0m\n",
      "\u001b[35m2021-09-08 14:30:18.296 \u001b[0m\u001b[32m[1631111418290567/start/1 (pid 15689)] \u001b[0m\u001b[1mTask is starting.\u001b[0m\n",
      "\u001b[35m2021-09-08 14:30:19.319 \u001b[0m\u001b[32m[1631111418290567/start/1 (pid 15689)] \u001b[0m\u001b[22mThe first step\u001b[0m\n",
      "\u001b[35m2021-09-08 14:30:19.444 \u001b[0m\u001b[32m[1631111418290567/start/1 (pid 15689)] \u001b[0m\u001b[1mTask finished successfully.\u001b[0m\n",
      "\u001b[35m2021-09-08 14:30:19.449 \u001b[0m\u001b[32m[1631111418290567/second/2 (pid 15722)] \u001b[0m\u001b[1mTask is starting.\u001b[0m\n",
      "\u001b[35m2021-09-08 14:30:20.612 \u001b[0m\u001b[32m[1631111418290567/second/2 (pid 15722)] \u001b[0m\u001b[1mTask finished successfully.\u001b[0m\n",
      "\u001b[35m2021-09-08 14:30:20.617 \u001b[0m\u001b[32m[1631111418290567/end/3 (pid 15755)] \u001b[0m\u001b[1mTask is starting.\u001b[0m\n",
      "\u001b[35m2021-09-08 14:30:21.646 \u001b[0m\u001b[32m[1631111418290567/end/3 (pid 15755)] \u001b[0m\u001b[22mINFO - hello_sciflow - Running command 'track_flow'\u001b[0m\n",
      "\u001b[35m2021-09-08 14:30:22.078 \u001b[0m\u001b[32m[1631111418290567/end/3 (pid 15755)] \u001b[0m\u001b[22mINFO - hello_sciflow - Started\u001b[0m\n",
      "\u001b[35m2021-09-08 14:30:22.079 \u001b[0m\u001b[32m[1631111418290567/end/3 (pid 15755)] \u001b[0m\u001b[22mINFO - hello_sciflow - Completed after 0:00:00\u001b[0m\n",
      "\u001b[35m2021-09-08 14:30:22.288 \u001b[0m\u001b[32m[1631111418290567/end/3 (pid 15755)] \u001b[0m\u001b[1mTask finished successfully.\u001b[0m\n",
      "\u001b[35m2021-09-08 14:30:22.288 \u001b[0m\u001b[1mDone!\u001b[0m\n"
     ]
    }
   ],
   "source": [
    "##tst\n",
    "!source ~/.sciflow/env && python hello_sciflow.py --no-pylint run"
   ]
  },
  {
   "cell_type": "markdown",
   "metadata": {},
   "source": [
    "# 2. Programmatically\n",
    "\n",
    "TBC.."
   ]
  }
 ],
 "metadata": {
  "kernelspec": {
   "display_name": "Python [conda env:sciflow]",
   "language": "python",
   "name": "conda-env-sciflow-py"
  },
  "language_info": {
   "codemirror_mode": {
    "name": "ipython",
    "version": 3
   },
   "file_extension": ".py",
   "mimetype": "text/x-python",
   "name": "python",
   "nbconvert_exporter": "python",
   "pygments_lexer": "ipython3",
   "version": "3.7.6"
  }
 },
 "nbformat": 4,
 "nbformat_minor": 4
}
