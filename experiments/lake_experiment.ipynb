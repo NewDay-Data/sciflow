{
 "cells": [
  {
   "cell_type": "code",
   "execution_count": 1,
   "metadata": {},
   "outputs": [],
   "source": [
    "# default_exp lake_experiment"
   ]
  },
  {
   "cell_type": "markdown",
   "metadata": {},
   "source": [
    "# `incense` Experiment - adapted for Data Lakes"
   ]
  },
  {
   "cell_type": "code",
   "execution_count": 2,
   "metadata": {},
   "outputs": [],
   "source": [
    "%load_ext autoreload\n",
    "%autoreload 2"
   ]
  },
  {
   "cell_type": "code",
   "execution_count": 8,
   "metadata": {},
   "outputs": [],
   "source": [
    "# export\n",
    "import os\n",
    "from typing import Dict\n",
    "\n",
    "import boto3\n",
    "import pandas as pd\n",
    "from incense.artifact import Artifact, content_type_to_artifact_cls\n",
    "from pyrsistent import freeze, thaw\n",
    "from text_discovery.s3_utils import S3File, s3_join"
   ]
  },
  {
   "cell_type": "code",
   "execution_count": 5,
   "metadata": {},
   "outputs": [],
   "source": [
    "# export\n",
    "file_to_mime_type_map = {\n",
    "    \".txt\": \"text/csv\",\n",
    "    \".csv\": \"text/csv\",\n",
    "    \".png\": \"image/png\",\n",
    "    \".jpg\": \"image/jpeg\",\n",
    "    \".mp4\": \"video/mp4\",\n",
    "    \".pickle\": \"application/octet-stream\",\n",
    "}"
   ]
  },
  {
   "cell_type": "code",
   "execution_count": 7,
   "metadata": {},
   "outputs": [],
   "source": [
    "# export\n",
    "class LakeExperiment:\n",
    "    def __init__(self, bucket_name, experiments_dir, name, experiment_id, data):\n",
    "        self.bucket_name = bucket_name\n",
    "        self.experiments_dir = experiments_dir\n",
    "        self.name = name\n",
    "        self.experiment_id = experiment_id\n",
    "        self.project_name = s3_join(experiments_dir, name)\n",
    "        self.project_dir = s3_join(self.bucket_name, self.project_name)\n",
    "        self.metrics_dir = s3_join(self.project_dir, \"metrics\", str(experiment_id))\n",
    "        self.artifacts_dir = s3_join(self.project_dir, \"artifacts\", str(experiment_id))\n",
    "        self._data = freeze(data)\n",
    "        self.s3 = boto3.client(\"s3\")\n",
    "        self.artifacts = self._load_artifacts()\n",
    "        self.metrics = self._load_metrics()\n",
    "\n",
    "    def __repr__(self):\n",
    "        return f\"{self.__class__.__name__}(id={self.experiment_id}, name={self.name})\"\n",
    "\n",
    "    def __getattr__(self, item):\n",
    "        \"\"\"Try to relay attribute access to easy dict, to allow dotted access.\"\"\"\n",
    "        return getattr(self._data, item)\n",
    "\n",
    "    def to_dict(self) -> dict:\n",
    "        return thaw(self._data)\n",
    "\n",
    "    def _load_artifacts(self) -> Dict[str, Artifact]:\n",
    "        artifacts = {}\n",
    "        s3 = boto3.resource(\"s3\")\n",
    "        bucket = s3.Bucket(self.bucket_name)\n",
    "\n",
    "        artifacts_key_prefix = s3_join(\n",
    "            self.project_name, \"artifacts\", str(self.experiment_id)\n",
    "        )\n",
    "        artifact_keys = [\n",
    "            obj.key for obj in bucket.objects.filter(Prefix=artifacts_key_prefix)\n",
    "        ]\n",
    "\n",
    "        for artifact_key in artifact_keys:\n",
    "            s3_object = s3.Object(bucket_name=self.bucket_name, key=artifact_key)\n",
    "            artifact_file = S3File(s3_object)\n",
    "            name = os.path.basename(artifact_key)\n",
    "\n",
    "            try:\n",
    "                content_type = file_to_mime_type_map[os.path.splitext(name)[-1]]\n",
    "                artifact_type = content_type_to_artifact_cls[content_type]\n",
    "                artifacts[name] = artifact_type(\n",
    "                    name, artifact_file, content_type=content_type\n",
    "                )\n",
    "            except KeyError:\n",
    "                artifact_type = Artifact\n",
    "                artifacts[name] = artifact_type(name, artifact_file)\n",
    "\n",
    "        return artifacts\n",
    "\n",
    "    def _load_metrics(self) -> Dict[str, pd.Series]:\n",
    "        metrics_path = f\"s3://{self.metrics_dir}/metrics.csv\"\n",
    "        return pd.read_csv(metrics_path)\n",
    "\n",
    "    def delete(self, confirmed: bool = False):\n",
    "        raise NotImplementedError\n",
    "\n",
    "    def _delete(self):\n",
    "        raise NotImplementedError\n",
    "\n",
    "    def _delete_metrics(self):\n",
    "        raise NotImplementedError\n",
    "\n",
    "    def _delete_artifacts(self):\n",
    "        raise NotImplementedError"
   ]
  },
  {
   "cell_type": "code",
   "execution_count": null,
   "metadata": {},
   "outputs": [],
   "source": []
  }
 ],
 "metadata": {
  "kernelspec": {
   "display_name": "Python [conda env:jovyan-discovery]",
   "language": "python",
   "name": "conda-env-jovyan-discovery-py"
  },
  "language_info": {
   "codemirror_mode": {
    "name": "ipython",
    "version": 3
   },
   "file_extension": ".py",
   "mimetype": "text/x-python",
   "name": "python",
   "nbconvert_exporter": "python",
   "pygments_lexer": "ipython3",
   "version": "3.7.10"
  }
 },
 "nbformat": 4,
 "nbformat_minor": 4
}
